{
 "cells": [
  {
   "cell_type": "markdown",
   "id": "9a5f1e3c-ca63-455f-9dc3-4153e7d3d3ff",
   "metadata": {},
   "source": [
    "# Heart Disease Prediction\n",
    "\n",
    "- Hannah Dickescheid (50178)\n",
    "- Julia Stieler (56040)\n",
    "- Eva Zinser (53100)\n",
    "- Carlos Ferrufino (53276)\n",
    "- Celina Kollwitz (53676)\n",
    "\n",
    "Heart disease is one of the leading causes of death worldwide, and early detection can be critical for successful treatment. Machine learning has emerged as a powerful tool for predicting the risk of heart disease by analyzing various features such as age, gender, blood pressure, cholesterol level, and smoking habits. In this notebook, we will explore a heart disease dataset and build a machine learning model to predict the likelihood of heart disease based on various patient features."
   ]
  },
  {
   "cell_type": "markdown",
   "id": "1d8f4cda",
   "metadata": {},
   "source": [
    "# Business Problem\n",
    "\n",
    "One of the biggest causes of death is heart disease. The World Health Organization estimates that 17.9 million people worldwide per year die because of cardiovascular disorders (CVD), such as heart disease. By 2030, the WHO expects that there will be 23.6 million fatalities caused by CVD worldwide, with heart disease and stroke being the main contributors.\n",
    "\n",
    "A cardiovascular disease is any condition affecting the heart and blood vessels. A cardiovascular problem affects the main blood vessels that supply the heart muscles. These blood channels develop plaque, which is made up of cholesterol deposits, that restricts blood flow to the heart and other vital organs. If undetected, this can eventually result in a heart attack, stroke, or heart failure. Heart conditions are regarded as silent killers and sometimes aren't discovered until they start to cause life threatening symptoms. Detecting a heart disease is complex and takes many different methods (also in combination) for diagnosis: a variety of blood tests, MRIs and CT scans, ECGs, or Holter monitoring.\n",
    "\n",
    "However, there is not only the huge amount of fatalities caused by this diseases. Additionally, heart disease places a heavy financial cost on society. The estimated global economic cost of cardiovascular diseases between 2010 and 2015 was USD 3.7 trillion. Employees with cardiovascular disease were responsible for 25–35% of a company's annual medical costs. To reduce the financial and physical costs of heart disease for individuals, organizations, and society as a whole, early detection is crucial. It is feasible to develop models that could assist in predicting the probability of who is most likely to suffer from heart disease by utilizing Machine Learning. \n",
    "\n",
    "Machine learning is already important in the field of medicine. It is being utilized for the purposes of diagnosis, detection, and prediction of various diseases. In recent times there has been an increased focus on the use of machine learning techniques to determine the likelihood of developing specific illnesses. Numerous recent studies have been conducted on the topic of developing applications of techniques for predicting diseases.\n",
    "\n",
    "Not only medical information technology is developing. Also, different types of medical data are advancing and support the use of machine learning techniques. Big data in medicine is frequently utilized to raise the standard of healthcare. These data consist of audio files, laboratory results, earlier diagnosis reports, clinical notes, research, and visuals.\n",
    "In recent years, the field of machine learning in the healthcare industry has been improved significantly. These methods have gained widespread acceptance and have proven effective in a variety of healthcare settings, particularly in the area of medical cardiology. The quick accumulation of medical data has given researchers an unexpected chance to create and evaluate new algorithms in this area.\n",
    "\n",
    "In the following are a few relevant business context examples where using machine learning can be extremely beneficial:\n",
    "- **Healthcare providers** can use this data to create individualized prevention and treatment strategies for people who are at risk, which over time can improve health outcomes and save costs.\n",
    "- **Insurance companies** can use this information to assess and manage risk, which will allow them to establish reasonable premiums and prevent needless pay-outs.\n",
    "- **Public health organizations** can use this information to create targeted education and awareness campaigns that will assist people become more aware of the dangers connected with heart disease and motivate them to take precautions to lower their risk.\n",
    "\n",
    "To help predicting the likelihood of developing a heart disease will not only support reducing global fatalities caused by CVD but also support the healthcare industry. \n",
    "\n",
    "**Limitations**\n",
    "However, there are some limitations while working with data regarding heart disease, that have to be addressed. \n",
    "The fact that the data scientists using the algorithm do not have sufficient medical understanding is one factor contributing to a high failure rate of data science applications in healthcare. There is not sufficient domain knowledge to fully understand the data, which is why the people developing the machine learning model ideally work closely together with doctors and cardiologists. \n",
    "\n",
    "An example of this is that it can be observed that quite often there is insufficient data for each patient in a medical dataset, with only one data point listed for each feature. The main issue is that variables like blood pressure, cholesterol, and pulse are not constant. A person's heartbeat and blood pressure change throughout the day and hour. For a patient, it is ideal to have several measurements for each aspect.\n",
    "By developing a machine learning algorithm in this context, it is important to underline, that this will be seen as an approach to help identify patients who are more likely to develop a heart disease. It will not replace a proper diagnosis.\n",
    "\n",
    "**Objective**\n",
    "The objective of the project is to understand how Machine Learning algorithms can be used to support in predicting if a patient has a higher probability of getting a heart disease by building an optimized model that can be used to predict heart diseases.\n",
    "\n",
    "\n"
   ]
  },
  {
   "cell_type": "markdown",
   "id": "72d6e9d6-5028-4884-86cd-cbe318767e45",
   "metadata": {},
   "source": [
    "# About the dataset\n",
    "\n",
    "The US Centers for Disease Control and Prevention (CDC) publishes each year the Behavioral Risk Factor Surveillance System (BRFSS), which is the nation’s premier system of health-related telephone surveys. It collects data about US residents regarding their health-related risk behaviors, chronic health conditions, and use of preventive services. Established in 1984 with 15 states, BRFSS now collects data in all 50 states as well as the District of Columbia and three U.S. territories. BRFSS completes more than 400,000 adult interviews each year, making it the largest continuously conducted health survey system in the world. \n",
    "\n",
    "With technical and methodological assistance from CDC, state health departments use in-house interviewers or contract with telephone call centers or universities to administer the BRFSS surveys continuously through the year. The states use a standardized core questionnaire, optional modules, and state-added questions. The survey is conducted using Random Digit Dialing (RDD) techniques on both landlines and cell phones.\n",
    "\n",
    "For our project we used the 2015 survey data. \n",
    "https://www.cdc.gov/brfss/annual_data/annual_2011.htm\n",
    "\n",
    "The datasat includes 330 columns that refer each column to a queston asked to the participants."
   ]
  },
  {
   "cell_type": "code",
   "execution_count": 73,
   "id": "345a104d-af25-489f-98e6-0c8a1affad6c",
   "metadata": {},
   "outputs": [
    {
     "name": "stderr",
     "output_type": "stream",
     "text": [
      "/opt/anaconda3/lib/python3.9/site-packages/scipy/__init__.py:146: UserWarning: A NumPy version >=1.16.5 and <1.23.0 is required for this version of SciPy (detected version 1.23.5\n",
      "  warnings.warn(f\"A NumPy version >={np_minversion} and <{np_maxversion}\"\n"
     ]
    }
   ],
   "source": [
    "import os\n",
    "import warnings\n",
    "warnings.filterwarnings('ignore')\n",
    "import pandas as pd\n",
    "import numpy as np\n",
    "import seaborn as sns\n",
    "import matplotlib.pyplot as plt\n",
    "from sklearn.model_selection import train_test_split\n",
    "from sklearn.linear_model import LogisticRegression, LogisticRegressionCV\n",
    "from sklearn.preprocessing import StandardScaler, LabelEncoder, OneHotEncoder\n",
    "from sklearn.pipeline import Pipeline\n",
    "from sklearn.base import BaseEstimator, TransformerMixin\n",
    "from sklearn.ensemble import RandomForestClassifier\n",
    "from sklearn.compose import ColumnTransformer\n",
    "from sklearn.tree import DecisionTreeClassifier\n",
    "from sklearn.ensemble import VotingClassifier\n",
    "from sklearn.svm import SVC\n",
    "from sklearn.feature_selection import SelectFromModel\n",
    "from sklearn.cluster import KMeans\n",
    "from sklearn.metrics import accuracy_score, precision_score, recall_score, roc_auc_score, confusion_matrix, silhouette_score\n",
    "from sklearn import set_config\n",
    "from imblearn.over_sampling import SMOTE\n",
    "from sklearn.metrics import classification_report\n",
    "from sklearn.tree import DecisionTreeClassifier\n",
    "from sklearn import tree\n",
    "set_config(display=\"diagram\")"
   ]
  },
  {
   "cell_type": "markdown",
   "id": "c29ee8bb-adbb-416c-aa90-4c4b7d23355f",
   "metadata": {
    "tags": []
   },
   "source": [
    "# Cleaning"
   ]
  },
  {
   "cell_type": "code",
   "execution_count": 2,
   "id": "be926d40-4e90-4912-9a13-1fbeedf632cc",
   "metadata": {
    "tags": []
   },
   "outputs": [
    {
     "data": {
      "text/html": [
       "<div>\n",
       "<style scoped>\n",
       "    .dataframe tbody tr th:only-of-type {\n",
       "        vertical-align: middle;\n",
       "    }\n",
       "\n",
       "    .dataframe tbody tr th {\n",
       "        vertical-align: top;\n",
       "    }\n",
       "\n",
       "    .dataframe thead th {\n",
       "        text-align: right;\n",
       "    }\n",
       "</style>\n",
       "<table border=\"1\" class=\"dataframe\">\n",
       "  <thead>\n",
       "    <tr style=\"text-align: right;\">\n",
       "      <th></th>\n",
       "      <th>_STATE</th>\n",
       "      <th>FMONTH</th>\n",
       "      <th>IDATE</th>\n",
       "      <th>IMONTH</th>\n",
       "      <th>IDAY</th>\n",
       "      <th>IYEAR</th>\n",
       "      <th>DISPCODE</th>\n",
       "      <th>SEQNO</th>\n",
       "      <th>_PSU</th>\n",
       "      <th>CTELENUM</th>\n",
       "      <th>...</th>\n",
       "      <th>_PAREC1</th>\n",
       "      <th>_PASTAE1</th>\n",
       "      <th>_LMTACT1</th>\n",
       "      <th>_LMTWRK1</th>\n",
       "      <th>_LMTSCL1</th>\n",
       "      <th>_RFSEAT2</th>\n",
       "      <th>_RFSEAT3</th>\n",
       "      <th>_FLSHOT6</th>\n",
       "      <th>_PNEUMO2</th>\n",
       "      <th>_AIDTST3</th>\n",
       "    </tr>\n",
       "  </thead>\n",
       "  <tbody>\n",
       "    <tr>\n",
       "      <th>0</th>\n",
       "      <td>1.0</td>\n",
       "      <td>1.0</td>\n",
       "      <td>b'01292015'</td>\n",
       "      <td>b'01'</td>\n",
       "      <td>b'29'</td>\n",
       "      <td>b'2015'</td>\n",
       "      <td>1200.0</td>\n",
       "      <td>2.015000e+09</td>\n",
       "      <td>2.015000e+09</td>\n",
       "      <td>1.0</td>\n",
       "      <td>...</td>\n",
       "      <td>4.0</td>\n",
       "      <td>2.0</td>\n",
       "      <td>1.0</td>\n",
       "      <td>1.0</td>\n",
       "      <td>1.0</td>\n",
       "      <td>1.0</td>\n",
       "      <td>1.0</td>\n",
       "      <td>NaN</td>\n",
       "      <td>NaN</td>\n",
       "      <td>1.0</td>\n",
       "    </tr>\n",
       "    <tr>\n",
       "      <th>1</th>\n",
       "      <td>1.0</td>\n",
       "      <td>1.0</td>\n",
       "      <td>b'01202015'</td>\n",
       "      <td>b'01'</td>\n",
       "      <td>b'20'</td>\n",
       "      <td>b'2015'</td>\n",
       "      <td>1100.0</td>\n",
       "      <td>2.015000e+09</td>\n",
       "      <td>2.015000e+09</td>\n",
       "      <td>1.0</td>\n",
       "      <td>...</td>\n",
       "      <td>2.0</td>\n",
       "      <td>2.0</td>\n",
       "      <td>3.0</td>\n",
       "      <td>3.0</td>\n",
       "      <td>4.0</td>\n",
       "      <td>2.0</td>\n",
       "      <td>2.0</td>\n",
       "      <td>NaN</td>\n",
       "      <td>NaN</td>\n",
       "      <td>2.0</td>\n",
       "    </tr>\n",
       "    <tr>\n",
       "      <th>2</th>\n",
       "      <td>1.0</td>\n",
       "      <td>1.0</td>\n",
       "      <td>b'02012015'</td>\n",
       "      <td>b'02'</td>\n",
       "      <td>b'01'</td>\n",
       "      <td>b'2015'</td>\n",
       "      <td>1200.0</td>\n",
       "      <td>2.015000e+09</td>\n",
       "      <td>2.015000e+09</td>\n",
       "      <td>1.0</td>\n",
       "      <td>...</td>\n",
       "      <td>9.0</td>\n",
       "      <td>9.0</td>\n",
       "      <td>9.0</td>\n",
       "      <td>9.0</td>\n",
       "      <td>9.0</td>\n",
       "      <td>9.0</td>\n",
       "      <td>9.0</td>\n",
       "      <td>9.0</td>\n",
       "      <td>9.0</td>\n",
       "      <td>NaN</td>\n",
       "    </tr>\n",
       "    <tr>\n",
       "      <th>3</th>\n",
       "      <td>1.0</td>\n",
       "      <td>1.0</td>\n",
       "      <td>b'01142015'</td>\n",
       "      <td>b'01'</td>\n",
       "      <td>b'14'</td>\n",
       "      <td>b'2015'</td>\n",
       "      <td>1100.0</td>\n",
       "      <td>2.015000e+09</td>\n",
       "      <td>2.015000e+09</td>\n",
       "      <td>1.0</td>\n",
       "      <td>...</td>\n",
       "      <td>4.0</td>\n",
       "      <td>2.0</td>\n",
       "      <td>1.0</td>\n",
       "      <td>1.0</td>\n",
       "      <td>1.0</td>\n",
       "      <td>1.0</td>\n",
       "      <td>1.0</td>\n",
       "      <td>NaN</td>\n",
       "      <td>NaN</td>\n",
       "      <td>9.0</td>\n",
       "    </tr>\n",
       "    <tr>\n",
       "      <th>4</th>\n",
       "      <td>1.0</td>\n",
       "      <td>1.0</td>\n",
       "      <td>b'01142015'</td>\n",
       "      <td>b'01'</td>\n",
       "      <td>b'14'</td>\n",
       "      <td>b'2015'</td>\n",
       "      <td>1100.0</td>\n",
       "      <td>2.015000e+09</td>\n",
       "      <td>2.015000e+09</td>\n",
       "      <td>1.0</td>\n",
       "      <td>...</td>\n",
       "      <td>4.0</td>\n",
       "      <td>2.0</td>\n",
       "      <td>1.0</td>\n",
       "      <td>1.0</td>\n",
       "      <td>1.0</td>\n",
       "      <td>1.0</td>\n",
       "      <td>1.0</td>\n",
       "      <td>NaN</td>\n",
       "      <td>NaN</td>\n",
       "      <td>1.0</td>\n",
       "    </tr>\n",
       "  </tbody>\n",
       "</table>\n",
       "<p>5 rows × 330 columns</p>\n",
       "</div>"
      ],
      "text/plain": [
       "   _STATE  FMONTH        IDATE IMONTH   IDAY    IYEAR  DISPCODE         SEQNO  \\\n",
       "0     1.0     1.0  b'01292015'  b'01'  b'29'  b'2015'    1200.0  2.015000e+09   \n",
       "1     1.0     1.0  b'01202015'  b'01'  b'20'  b'2015'    1100.0  2.015000e+09   \n",
       "2     1.0     1.0  b'02012015'  b'02'  b'01'  b'2015'    1200.0  2.015000e+09   \n",
       "3     1.0     1.0  b'01142015'  b'01'  b'14'  b'2015'    1100.0  2.015000e+09   \n",
       "4     1.0     1.0  b'01142015'  b'01'  b'14'  b'2015'    1100.0  2.015000e+09   \n",
       "\n",
       "           _PSU  CTELENUM  ...  _PAREC1  _PASTAE1  _LMTACT1  _LMTWRK1  \\\n",
       "0  2.015000e+09       1.0  ...      4.0       2.0       1.0       1.0   \n",
       "1  2.015000e+09       1.0  ...      2.0       2.0       3.0       3.0   \n",
       "2  2.015000e+09       1.0  ...      9.0       9.0       9.0       9.0   \n",
       "3  2.015000e+09       1.0  ...      4.0       2.0       1.0       1.0   \n",
       "4  2.015000e+09       1.0  ...      4.0       2.0       1.0       1.0   \n",
       "\n",
       "   _LMTSCL1  _RFSEAT2  _RFSEAT3  _FLSHOT6  _PNEUMO2  _AIDTST3  \n",
       "0       1.0       1.0       1.0       NaN       NaN       1.0  \n",
       "1       4.0       2.0       2.0       NaN       NaN       2.0  \n",
       "2       9.0       9.0       9.0       9.0       9.0       NaN  \n",
       "3       1.0       1.0       1.0       NaN       NaN       9.0  \n",
       "4       1.0       1.0       1.0       NaN       NaN       1.0  \n",
       "\n",
       "[5 rows x 330 columns]"
      ]
     },
     "execution_count": 2,
     "metadata": {},
     "output_type": "execute_result"
    }
   ],
   "source": [
    "# Loading the dataset\n",
    "data_df = pd.read_csv(\"data/2015.csv\")\n",
    "data_df.head()"
   ]
  },
  {
   "cell_type": "markdown",
   "id": "6f7a2c4f-0998-4c0c-ab7d-af8317053ae6",
   "metadata": {
    "tags": []
   },
   "source": [
    "# Dataset exploration"
   ]
  },
  {
   "cell_type": "code",
   "execution_count": 3,
   "id": "c99ba8c9-7d37-42b0-938f-96194b0989dc",
   "metadata": {},
   "outputs": [
    {
     "data": {
      "text/plain": [
       "(441456, 330)"
      ]
     },
     "execution_count": 3,
     "metadata": {},
     "output_type": "execute_result"
    }
   ],
   "source": [
    "data_df.shape"
   ]
  },
  {
   "cell_type": "markdown",
   "id": "1032b4ff-9184-4ee4-ac10-57ce5218ba6c",
   "metadata": {},
   "source": [
    "The shape tells us that the dataset has 330 columns and 441456 survey participants in 2015."
   ]
  },
  {
   "cell_type": "code",
   "execution_count": 4,
   "id": "5ef30cf3-1129-45d2-97e0-55a188ccab2a",
   "metadata": {},
   "outputs": [
    {
     "data": {
      "text/plain": [
       "Index(['_STATE', 'FMONTH', 'IDATE', 'IMONTH', 'IDAY', 'IYEAR', 'DISPCODE',\n",
       "       'SEQNO', '_PSU', 'CTELENUM',\n",
       "       ...\n",
       "       '_PAREC1', '_PASTAE1', '_LMTACT1', '_LMTWRK1', '_LMTSCL1', '_RFSEAT2',\n",
       "       '_RFSEAT3', '_FLSHOT6', '_PNEUMO2', '_AIDTST3'],\n",
       "      dtype='object', length=330)"
      ]
     },
     "execution_count": 4,
     "metadata": {},
     "output_type": "execute_result"
    }
   ],
   "source": [
    "data_df.columns"
   ]
  },
  {
   "cell_type": "code",
   "execution_count": 5,
   "id": "75d0108b-f829-42c2-8aad-aa560329fc7e",
   "metadata": {},
   "outputs": [
    {
     "data": {
      "text/html": [
       "<div>\n",
       "<style scoped>\n",
       "    .dataframe tbody tr th:only-of-type {\n",
       "        vertical-align: middle;\n",
       "    }\n",
       "\n",
       "    .dataframe tbody tr th {\n",
       "        vertical-align: top;\n",
       "    }\n",
       "\n",
       "    .dataframe thead th {\n",
       "        text-align: right;\n",
       "    }\n",
       "</style>\n",
       "<table border=\"1\" class=\"dataframe\">\n",
       "  <thead>\n",
       "    <tr style=\"text-align: right;\">\n",
       "      <th></th>\n",
       "      <th>_STATE</th>\n",
       "      <th>FMONTH</th>\n",
       "      <th>DISPCODE</th>\n",
       "      <th>SEQNO</th>\n",
       "      <th>_PSU</th>\n",
       "      <th>CTELENUM</th>\n",
       "      <th>PVTRESD1</th>\n",
       "      <th>COLGHOUS</th>\n",
       "      <th>STATERES</th>\n",
       "      <th>CELLFON3</th>\n",
       "      <th>...</th>\n",
       "      <th>_PAREC1</th>\n",
       "      <th>_PASTAE1</th>\n",
       "      <th>_LMTACT1</th>\n",
       "      <th>_LMTWRK1</th>\n",
       "      <th>_LMTSCL1</th>\n",
       "      <th>_RFSEAT2</th>\n",
       "      <th>_RFSEAT3</th>\n",
       "      <th>_FLSHOT6</th>\n",
       "      <th>_PNEUMO2</th>\n",
       "      <th>_AIDTST3</th>\n",
       "    </tr>\n",
       "  </thead>\n",
       "  <tbody>\n",
       "    <tr>\n",
       "      <th>count</th>\n",
       "      <td>441456.000000</td>\n",
       "      <td>441456.000000</td>\n",
       "      <td>441456.000000</td>\n",
       "      <td>4.414560e+05</td>\n",
       "      <td>4.414560e+05</td>\n",
       "      <td>254645.0</td>\n",
       "      <td>254645.000000</td>\n",
       "      <td>45.0</td>\n",
       "      <td>254643.0</td>\n",
       "      <td>254646.000000</td>\n",
       "      <td>...</td>\n",
       "      <td>441456.000000</td>\n",
       "      <td>441456.000000</td>\n",
       "      <td>438657.000000</td>\n",
       "      <td>438657.000000</td>\n",
       "      <td>438657.000000</td>\n",
       "      <td>441456.000000</td>\n",
       "      <td>441456.000000</td>\n",
       "      <td>157954.000000</td>\n",
       "      <td>157954.000000</td>\n",
       "      <td>398069.000000</td>\n",
       "    </tr>\n",
       "    <tr>\n",
       "      <th>mean</th>\n",
       "      <td>29.968715</td>\n",
       "      <td>6.359676</td>\n",
       "      <td>1115.040457</td>\n",
       "      <td>2.015005e+09</td>\n",
       "      <td>2.015005e+09</td>\n",
       "      <td>1.0</td>\n",
       "      <td>1.000177</td>\n",
       "      <td>1.0</td>\n",
       "      <td>1.0</td>\n",
       "      <td>1.545133</td>\n",
       "      <td>...</td>\n",
       "      <td>3.494124</td>\n",
       "      <td>2.742695</td>\n",
       "      <td>2.716879</td>\n",
       "      <td>2.815149</td>\n",
       "      <td>3.652717</td>\n",
       "      <td>1.824624</td>\n",
       "      <td>1.887028</td>\n",
       "      <td>2.290705</td>\n",
       "      <td>2.412259</td>\n",
       "      <td>1.970156</td>\n",
       "    </tr>\n",
       "    <tr>\n",
       "      <th>std</th>\n",
       "      <td>16.034710</td>\n",
       "      <td>3.487131</td>\n",
       "      <td>35.746794</td>\n",
       "      <td>4.113443e+03</td>\n",
       "      <td>4.113443e+03</td>\n",
       "      <td>0.0</td>\n",
       "      <td>0.013292</td>\n",
       "      <td>0.0</td>\n",
       "      <td>0.0</td>\n",
       "      <td>0.497960</td>\n",
       "      <td>...</td>\n",
       "      <td>2.398322</td>\n",
       "      <td>2.449676</td>\n",
       "      <td>1.324145</td>\n",
       "      <td>1.356101</td>\n",
       "      <td>1.266730</td>\n",
       "      <td>2.360812</td>\n",
       "      <td>2.351387</td>\n",
       "      <td>2.518086</td>\n",
       "      <td>2.778032</td>\n",
       "      <td>1.441119</td>\n",
       "    </tr>\n",
       "    <tr>\n",
       "      <th>min</th>\n",
       "      <td>1.000000</td>\n",
       "      <td>1.000000</td>\n",
       "      <td>1100.000000</td>\n",
       "      <td>2.015000e+09</td>\n",
       "      <td>2.015000e+09</td>\n",
       "      <td>1.0</td>\n",
       "      <td>1.000000</td>\n",
       "      <td>1.0</td>\n",
       "      <td>1.0</td>\n",
       "      <td>1.000000</td>\n",
       "      <td>...</td>\n",
       "      <td>1.000000</td>\n",
       "      <td>1.000000</td>\n",
       "      <td>1.000000</td>\n",
       "      <td>1.000000</td>\n",
       "      <td>1.000000</td>\n",
       "      <td>1.000000</td>\n",
       "      <td>1.000000</td>\n",
       "      <td>1.000000</td>\n",
       "      <td>1.000000</td>\n",
       "      <td>1.000000</td>\n",
       "    </tr>\n",
       "    <tr>\n",
       "      <th>25%</th>\n",
       "      <td>19.000000</td>\n",
       "      <td>3.000000</td>\n",
       "      <td>1100.000000</td>\n",
       "      <td>2.015002e+09</td>\n",
       "      <td>2.015002e+09</td>\n",
       "      <td>1.0</td>\n",
       "      <td>1.000000</td>\n",
       "      <td>1.0</td>\n",
       "      <td>1.0</td>\n",
       "      <td>1.000000</td>\n",
       "      <td>...</td>\n",
       "      <td>2.000000</td>\n",
       "      <td>2.000000</td>\n",
       "      <td>2.000000</td>\n",
       "      <td>2.000000</td>\n",
       "      <td>3.000000</td>\n",
       "      <td>1.000000</td>\n",
       "      <td>1.000000</td>\n",
       "      <td>1.000000</td>\n",
       "      <td>1.000000</td>\n",
       "      <td>1.000000</td>\n",
       "    </tr>\n",
       "    <tr>\n",
       "      <th>50%</th>\n",
       "      <td>29.000000</td>\n",
       "      <td>6.000000</td>\n",
       "      <td>1100.000000</td>\n",
       "      <td>2.015004e+09</td>\n",
       "      <td>2.015004e+09</td>\n",
       "      <td>1.0</td>\n",
       "      <td>1.000000</td>\n",
       "      <td>1.0</td>\n",
       "      <td>1.0</td>\n",
       "      <td>2.000000</td>\n",
       "      <td>...</td>\n",
       "      <td>3.000000</td>\n",
       "      <td>2.000000</td>\n",
       "      <td>3.000000</td>\n",
       "      <td>3.000000</td>\n",
       "      <td>4.000000</td>\n",
       "      <td>1.000000</td>\n",
       "      <td>1.000000</td>\n",
       "      <td>1.000000</td>\n",
       "      <td>1.000000</td>\n",
       "      <td>2.000000</td>\n",
       "    </tr>\n",
       "    <tr>\n",
       "      <th>75%</th>\n",
       "      <td>44.000000</td>\n",
       "      <td>9.000000</td>\n",
       "      <td>1100.000000</td>\n",
       "      <td>2.015007e+09</td>\n",
       "      <td>2.015007e+09</td>\n",
       "      <td>1.0</td>\n",
       "      <td>1.000000</td>\n",
       "      <td>1.0</td>\n",
       "      <td>1.0</td>\n",
       "      <td>2.000000</td>\n",
       "      <td>...</td>\n",
       "      <td>4.000000</td>\n",
       "      <td>2.000000</td>\n",
       "      <td>3.000000</td>\n",
       "      <td>3.000000</td>\n",
       "      <td>4.000000</td>\n",
       "      <td>1.000000</td>\n",
       "      <td>1.000000</td>\n",
       "      <td>2.000000</td>\n",
       "      <td>2.000000</td>\n",
       "      <td>2.000000</td>\n",
       "    </tr>\n",
       "    <tr>\n",
       "      <th>max</th>\n",
       "      <td>72.000000</td>\n",
       "      <td>12.000000</td>\n",
       "      <td>1200.000000</td>\n",
       "      <td>2.015023e+09</td>\n",
       "      <td>2.015023e+09</td>\n",
       "      <td>1.0</td>\n",
       "      <td>2.000000</td>\n",
       "      <td>1.0</td>\n",
       "      <td>1.0</td>\n",
       "      <td>2.000000</td>\n",
       "      <td>...</td>\n",
       "      <td>9.000000</td>\n",
       "      <td>9.000000</td>\n",
       "      <td>9.000000</td>\n",
       "      <td>9.000000</td>\n",
       "      <td>9.000000</td>\n",
       "      <td>9.000000</td>\n",
       "      <td>9.000000</td>\n",
       "      <td>9.000000</td>\n",
       "      <td>9.000000</td>\n",
       "      <td>9.000000</td>\n",
       "    </tr>\n",
       "  </tbody>\n",
       "</table>\n",
       "<p>8 rows × 323 columns</p>\n",
       "</div>"
      ],
      "text/plain": [
       "              _STATE         FMONTH       DISPCODE         SEQNO  \\\n",
       "count  441456.000000  441456.000000  441456.000000  4.414560e+05   \n",
       "mean       29.968715       6.359676    1115.040457  2.015005e+09   \n",
       "std        16.034710       3.487131      35.746794  4.113443e+03   \n",
       "min         1.000000       1.000000    1100.000000  2.015000e+09   \n",
       "25%        19.000000       3.000000    1100.000000  2.015002e+09   \n",
       "50%        29.000000       6.000000    1100.000000  2.015004e+09   \n",
       "75%        44.000000       9.000000    1100.000000  2.015007e+09   \n",
       "max        72.000000      12.000000    1200.000000  2.015023e+09   \n",
       "\n",
       "               _PSU  CTELENUM       PVTRESD1  COLGHOUS  STATERES  \\\n",
       "count  4.414560e+05  254645.0  254645.000000      45.0  254643.0   \n",
       "mean   2.015005e+09       1.0       1.000177       1.0       1.0   \n",
       "std    4.113443e+03       0.0       0.013292       0.0       0.0   \n",
       "min    2.015000e+09       1.0       1.000000       1.0       1.0   \n",
       "25%    2.015002e+09       1.0       1.000000       1.0       1.0   \n",
       "50%    2.015004e+09       1.0       1.000000       1.0       1.0   \n",
       "75%    2.015007e+09       1.0       1.000000       1.0       1.0   \n",
       "max    2.015023e+09       1.0       2.000000       1.0       1.0   \n",
       "\n",
       "            CELLFON3  ...        _PAREC1       _PASTAE1       _LMTACT1  \\\n",
       "count  254646.000000  ...  441456.000000  441456.000000  438657.000000   \n",
       "mean        1.545133  ...       3.494124       2.742695       2.716879   \n",
       "std         0.497960  ...       2.398322       2.449676       1.324145   \n",
       "min         1.000000  ...       1.000000       1.000000       1.000000   \n",
       "25%         1.000000  ...       2.000000       2.000000       2.000000   \n",
       "50%         2.000000  ...       3.000000       2.000000       3.000000   \n",
       "75%         2.000000  ...       4.000000       2.000000       3.000000   \n",
       "max         2.000000  ...       9.000000       9.000000       9.000000   \n",
       "\n",
       "            _LMTWRK1       _LMTSCL1       _RFSEAT2       _RFSEAT3  \\\n",
       "count  438657.000000  438657.000000  441456.000000  441456.000000   \n",
       "mean        2.815149       3.652717       1.824624       1.887028   \n",
       "std         1.356101       1.266730       2.360812       2.351387   \n",
       "min         1.000000       1.000000       1.000000       1.000000   \n",
       "25%         2.000000       3.000000       1.000000       1.000000   \n",
       "50%         3.000000       4.000000       1.000000       1.000000   \n",
       "75%         3.000000       4.000000       1.000000       1.000000   \n",
       "max         9.000000       9.000000       9.000000       9.000000   \n",
       "\n",
       "            _FLSHOT6       _PNEUMO2       _AIDTST3  \n",
       "count  157954.000000  157954.000000  398069.000000  \n",
       "mean        2.290705       2.412259       1.970156  \n",
       "std         2.518086       2.778032       1.441119  \n",
       "min         1.000000       1.000000       1.000000  \n",
       "25%         1.000000       1.000000       1.000000  \n",
       "50%         1.000000       1.000000       2.000000  \n",
       "75%         2.000000       2.000000       2.000000  \n",
       "max         9.000000       9.000000       9.000000  \n",
       "\n",
       "[8 rows x 323 columns]"
      ]
     },
     "execution_count": 5,
     "metadata": {},
     "output_type": "execute_result"
    }
   ],
   "source": [
    "data_df.describe()"
   ]
  },
  {
   "cell_type": "code",
   "execution_count": 6,
   "id": "fe8a9e33-70ea-4793-b188-6fd4ed74a8b6",
   "metadata": {},
   "outputs": [
    {
     "data": {
      "text/plain": [
       "['_STATE',\n",
       " 'FMONTH',\n",
       " 'IDATE',\n",
       " 'IMONTH',\n",
       " 'IDAY',\n",
       " 'IYEAR',\n",
       " 'DISPCODE',\n",
       " 'SEQNO',\n",
       " '_PSU',\n",
       " 'CTELENUM',\n",
       " 'PVTRESD1',\n",
       " 'COLGHOUS',\n",
       " 'STATERES',\n",
       " 'CELLFON3',\n",
       " 'LADULT',\n",
       " 'NUMADULT',\n",
       " 'NUMMEN',\n",
       " 'NUMWOMEN',\n",
       " 'CTELNUM1',\n",
       " 'CELLFON2',\n",
       " 'CADULT',\n",
       " 'PVTRESD2',\n",
       " 'CCLGHOUS',\n",
       " 'CSTATE',\n",
       " 'LANDLINE',\n",
       " 'HHADULT',\n",
       " 'GENHLTH',\n",
       " 'PHYSHLTH',\n",
       " 'MENTHLTH',\n",
       " 'POORHLTH',\n",
       " 'HLTHPLN1',\n",
       " 'PERSDOC2',\n",
       " 'MEDCOST',\n",
       " 'CHECKUP1',\n",
       " 'BPHIGH4',\n",
       " 'BPMEDS',\n",
       " 'BLOODCHO',\n",
       " 'CHOLCHK',\n",
       " 'TOLDHI2',\n",
       " 'CVDINFR4',\n",
       " 'CVDCRHD4',\n",
       " 'CVDSTRK3',\n",
       " 'ASTHMA3',\n",
       " 'ASTHNOW',\n",
       " 'CHCSCNCR',\n",
       " 'CHCOCNCR',\n",
       " 'CHCCOPD1',\n",
       " 'HAVARTH3',\n",
       " 'ADDEPEV2',\n",
       " 'CHCKIDNY',\n",
       " 'DIABETE3',\n",
       " 'DIABAGE2',\n",
       " 'SEX',\n",
       " 'MARITAL',\n",
       " 'EDUCA',\n",
       " 'RENTHOM1',\n",
       " 'NUMHHOL2',\n",
       " 'NUMPHON2',\n",
       " 'CPDEMO1',\n",
       " 'VETERAN3',\n",
       " 'EMPLOY1',\n",
       " 'CHILDREN',\n",
       " 'INCOME2',\n",
       " 'INTERNET',\n",
       " 'WEIGHT2',\n",
       " 'HEIGHT3',\n",
       " 'PREGNANT',\n",
       " 'QLACTLM2',\n",
       " 'USEEQUIP',\n",
       " 'BLIND',\n",
       " 'DECIDE',\n",
       " 'DIFFWALK',\n",
       " 'DIFFDRES',\n",
       " 'DIFFALON',\n",
       " 'SMOKE100',\n",
       " 'SMOKDAY2',\n",
       " 'STOPSMK2',\n",
       " 'LASTSMK2',\n",
       " 'USENOW3',\n",
       " 'ALCDAY5',\n",
       " 'AVEDRNK2',\n",
       " 'DRNK3GE5',\n",
       " 'MAXDRNKS',\n",
       " 'FRUITJU1',\n",
       " 'FRUIT1',\n",
       " 'FVBEANS',\n",
       " 'FVGREEN',\n",
       " 'FVORANG',\n",
       " 'VEGETAB1',\n",
       " 'EXERANY2',\n",
       " 'EXRACT11',\n",
       " 'EXEROFT1',\n",
       " 'EXERHMM1',\n",
       " 'EXRACT21',\n",
       " 'EXEROFT2',\n",
       " 'EXERHMM2',\n",
       " 'STRENGTH',\n",
       " 'LMTJOIN3',\n",
       " 'ARTHDIS2',\n",
       " 'ARTHSOCL',\n",
       " 'JOINPAIN',\n",
       " 'SEATBELT',\n",
       " 'FLUSHOT6',\n",
       " 'FLSHTMY2',\n",
       " 'IMFVPLAC',\n",
       " 'PNEUVAC3',\n",
       " 'HIVTST6',\n",
       " 'HIVTSTD3',\n",
       " 'WHRTST10',\n",
       " 'PDIABTST',\n",
       " 'PREDIAB1',\n",
       " 'INSULIN',\n",
       " 'BLDSUGAR',\n",
       " 'FEETCHK2',\n",
       " 'DOCTDIAB',\n",
       " 'CHKHEMO3',\n",
       " 'FEETCHK',\n",
       " 'EYEEXAM',\n",
       " 'DIABEYE',\n",
       " 'DIABEDU',\n",
       " 'PAINACT2',\n",
       " 'QLMENTL2',\n",
       " 'QLSTRES2',\n",
       " 'QLHLTH2',\n",
       " 'CAREGIV1',\n",
       " 'CRGVREL1',\n",
       " 'CRGVLNG1',\n",
       " 'CRGVHRS1',\n",
       " 'CRGVPRB1',\n",
       " 'CRGVPERS',\n",
       " 'CRGVHOUS',\n",
       " 'CRGVMST2',\n",
       " 'CRGVEXPT',\n",
       " 'VIDFCLT2',\n",
       " 'VIREDIF3',\n",
       " 'VIPRFVS2',\n",
       " 'VINOCRE2',\n",
       " 'VIEYEXM2',\n",
       " 'VIINSUR2',\n",
       " 'VICTRCT4',\n",
       " 'VIGLUMA2',\n",
       " 'VIMACDG2',\n",
       " 'CIMEMLOS',\n",
       " 'CDHOUSE',\n",
       " 'CDASSIST',\n",
       " 'CDHELP',\n",
       " 'CDSOCIAL',\n",
       " 'CDDISCUS',\n",
       " 'WTCHSALT',\n",
       " 'LONGWTCH',\n",
       " 'DRADVISE',\n",
       " 'ASTHMAGE',\n",
       " 'ASATTACK',\n",
       " 'ASERVIST',\n",
       " 'ASDRVIST',\n",
       " 'ASRCHKUP',\n",
       " 'ASACTLIM',\n",
       " 'ASYMPTOM',\n",
       " 'ASNOSLEP',\n",
       " 'ASTHMED3',\n",
       " 'ASINHALR',\n",
       " 'HAREHAB1',\n",
       " 'STREHAB1',\n",
       " 'CVDASPRN',\n",
       " 'ASPUNSAF',\n",
       " 'RLIVPAIN',\n",
       " 'RDUCHART',\n",
       " 'RDUCSTRK',\n",
       " 'ARTTODAY',\n",
       " 'ARTHWGT',\n",
       " 'ARTHEXER',\n",
       " 'ARTHEDU',\n",
       " 'TETANUS',\n",
       " 'HPVADVC2',\n",
       " 'HPVADSHT',\n",
       " 'SHINGLE2',\n",
       " 'HADMAM',\n",
       " 'HOWLONG',\n",
       " 'HADPAP2',\n",
       " 'LASTPAP2',\n",
       " 'HPVTEST',\n",
       " 'HPLSTTST',\n",
       " 'HADHYST2',\n",
       " 'PROFEXAM',\n",
       " 'LENGEXAM',\n",
       " 'BLDSTOOL',\n",
       " 'LSTBLDS3',\n",
       " 'HADSIGM3',\n",
       " 'HADSGCO1',\n",
       " 'LASTSIG3',\n",
       " 'PCPSAAD2',\n",
       " 'PCPSADI1',\n",
       " 'PCPSARE1',\n",
       " 'PSATEST1',\n",
       " 'PSATIME',\n",
       " 'PCPSARS1',\n",
       " 'PCPSADE1',\n",
       " 'PCDMDECN',\n",
       " 'SCNTMNY1',\n",
       " 'SCNTMEL1',\n",
       " 'SCNTPAID',\n",
       " 'SCNTWRK1',\n",
       " 'SCNTLPAD',\n",
       " 'SCNTLWK1',\n",
       " 'SXORIENT',\n",
       " 'TRNSGNDR',\n",
       " 'RCSGENDR',\n",
       " 'RCSRLTN2',\n",
       " 'CASTHDX2',\n",
       " 'CASTHNO2',\n",
       " 'EMTSUPRT',\n",
       " 'LSATISFY',\n",
       " 'ADPLEASR',\n",
       " 'ADDOWN',\n",
       " 'ADSLEEP',\n",
       " 'ADENERGY',\n",
       " 'ADEAT1',\n",
       " 'ADFAIL',\n",
       " 'ADTHINK',\n",
       " 'ADMOVE',\n",
       " 'MISTMNT',\n",
       " 'ADANXEV',\n",
       " 'QSTVER',\n",
       " 'QSTLANG',\n",
       " 'EXACTOT1',\n",
       " 'EXACTOT2',\n",
       " 'MSCODE',\n",
       " '_STSTR',\n",
       " '_STRWT',\n",
       " '_RAWRAKE',\n",
       " '_WT2RAKE',\n",
       " '_CHISPNC',\n",
       " '_CRACE1',\n",
       " '_CPRACE',\n",
       " '_CLLCPWT',\n",
       " '_DUALUSE',\n",
       " '_DUALCOR',\n",
       " '_LLCPWT',\n",
       " '_RFHLTH',\n",
       " '_HCVU651',\n",
       " '_RFHYPE5',\n",
       " '_CHOLCHK',\n",
       " '_RFCHOL',\n",
       " '_MICHD',\n",
       " '_LTASTH1',\n",
       " '_CASTHM1',\n",
       " '_ASTHMS1',\n",
       " '_DRDXAR1',\n",
       " '_PRACE1',\n",
       " '_MRACE1',\n",
       " '_HISPANC',\n",
       " '_RACE',\n",
       " '_RACEG21',\n",
       " '_RACEGR3',\n",
       " '_RACE_G1',\n",
       " '_AGEG5YR',\n",
       " '_AGE65YR',\n",
       " '_AGE80',\n",
       " '_AGE_G',\n",
       " 'HTIN4',\n",
       " 'HTM4',\n",
       " 'WTKG3',\n",
       " '_BMI5',\n",
       " '_BMI5CAT',\n",
       " '_RFBMI5',\n",
       " '_CHLDCNT',\n",
       " '_EDUCAG',\n",
       " '_INCOMG',\n",
       " '_SMOKER3',\n",
       " '_RFSMOK3',\n",
       " 'DRNKANY5',\n",
       " 'DROCDY3_',\n",
       " '_RFBING5',\n",
       " '_DRNKWEK',\n",
       " '_RFDRHV5',\n",
       " 'FTJUDA1_',\n",
       " 'FRUTDA1_',\n",
       " 'BEANDAY_',\n",
       " 'GRENDAY_',\n",
       " 'ORNGDAY_',\n",
       " 'VEGEDA1_',\n",
       " '_MISFRTN',\n",
       " '_MISVEGN',\n",
       " '_FRTRESP',\n",
       " '_VEGRESP',\n",
       " '_FRUTSUM',\n",
       " '_VEGESUM',\n",
       " '_FRTLT1',\n",
       " '_VEGLT1',\n",
       " '_FRT16',\n",
       " '_VEG23',\n",
       " '_FRUITEX',\n",
       " '_VEGETEX',\n",
       " '_TOTINDA',\n",
       " 'METVL11_',\n",
       " 'METVL21_',\n",
       " 'MAXVO2_',\n",
       " 'FC60_',\n",
       " 'ACTIN11_',\n",
       " 'ACTIN21_',\n",
       " 'PADUR1_',\n",
       " 'PADUR2_',\n",
       " 'PAFREQ1_',\n",
       " 'PAFREQ2_',\n",
       " '_MINAC11',\n",
       " '_MINAC21',\n",
       " 'STRFREQ_',\n",
       " 'PAMISS1_',\n",
       " 'PAMIN11_',\n",
       " 'PAMIN21_',\n",
       " 'PA1MIN_',\n",
       " 'PAVIG11_',\n",
       " 'PAVIG21_',\n",
       " 'PA1VIGM_',\n",
       " '_PACAT1',\n",
       " '_PAINDX1',\n",
       " '_PA150R2',\n",
       " '_PA300R2',\n",
       " '_PA30021',\n",
       " '_PASTRNG',\n",
       " '_PAREC1',\n",
       " '_PASTAE1',\n",
       " '_LMTACT1',\n",
       " '_LMTWRK1',\n",
       " '_LMTSCL1',\n",
       " '_RFSEAT2',\n",
       " '_RFSEAT3',\n",
       " '_FLSHOT6',\n",
       " '_PNEUMO2',\n",
       " '_AIDTST3']"
      ]
     },
     "execution_count": 6,
     "metadata": {},
     "output_type": "execute_result"
    }
   ],
   "source": [
    "# These are all column names\n",
    "columns = list(data_df)\n",
    "columns"
   ]
  },
  {
   "cell_type": "code",
   "execution_count": 7,
   "id": "ca3f52be-555e-4d93-9273-2d7d0412c1f0",
   "metadata": {},
   "outputs": [
    {
     "data": {
      "text/plain": [
       "QLSTRES2    441456\n",
       "PAINACT2    441456\n",
       "QLHLTH2     441456\n",
       "QLMENTL2    441456\n",
       "LADULT      441411\n",
       "             ...  \n",
       "_RACE            0\n",
       "_HISPANC         0\n",
       "_MRACE1          0\n",
       "_PRACE1          0\n",
       "_STATE           0\n",
       "Length: 330, dtype: int64"
      ]
     },
     "execution_count": 7,
     "metadata": {},
     "output_type": "execute_result"
    }
   ],
   "source": [
    "missing_values = data_df.isna().sum().sort_values(ascending=False)\n",
    "missing_values"
   ]
  },
  {
   "cell_type": "code",
   "execution_count": 8,
   "id": "86cc5ca6-510e-45a5-8992-ad8f2447056c",
   "metadata": {},
   "outputs": [
    {
     "name": "stdout",
     "output_type": "stream",
     "text": [
      "<class 'pandas.core.frame.DataFrame'>\n",
      "RangeIndex: 441456 entries, 0 to 441455\n",
      "Columns: 330 entries, _STATE to _AIDTST3\n",
      "dtypes: float64(323), object(7)\n",
      "memory usage: 1.1+ GB\n"
     ]
    }
   ],
   "source": [
    "data_df.info()"
   ]
  },
  {
   "cell_type": "code",
   "execution_count": 9,
   "id": "e7e6b7b3-3b2a-41d6-8597-b060183a81f0",
   "metadata": {},
   "outputs": [
    {
     "data": {
      "text/plain": [
       "_MICHD      1.000000\n",
       "CVDINFR4    0.628853\n",
       "CVDCRHD4    0.383577\n",
       "CVDASPRN    0.227222\n",
       "LADULT      0.213561\n",
       "BPHIGH4     0.205225\n",
       "_DRDXAR1    0.169966\n",
       "DIABETE3    0.161836\n",
       "DRADVISE    0.149139\n",
       "USEEQUIP    0.135539\n",
       "DIFFWALK    0.134928\n",
       "ASERVIST    0.127937\n",
       "HAVARTH3    0.122691\n",
       "QLACTLM2    0.116613\n",
       "TOLDHI2     0.115541\n",
       "CDASSIST    0.114933\n",
       "ASPUNSAF    0.111376\n",
       "PNEUVAC3    0.102862\n",
       "CVDSTRK3    0.101249\n",
       "VICTRCT4    0.099310\n",
       "CDHOUSE     0.097491\n",
       "PHYSHLTH    0.097020\n",
       "ADMOVE      0.095792\n",
       "_CHLDCNT    0.094976\n",
       "INSULIN     0.092849\n",
       "ARTHSOCL    0.091247\n",
       "VETERAN3    0.091108\n",
       "_LMTSCL1    0.088946\n",
       "ASINHALR    0.087304\n",
       "CHCCOPD1    0.086943\n",
       "Name: _MICHD, dtype: float64"
      ]
     },
     "execution_count": 9,
     "metadata": {},
     "output_type": "execute_result"
    }
   ],
   "source": [
    "corr_all = data_df.corr()['_MICHD']\n",
    "corr_all_sorted = corr_all.sort_values(ascending=False)\n",
    "corr_all_sorted.head(30)"
   ]
  },
  {
   "cell_type": "markdown",
   "id": "6527a986-5a27-4110-ade2-24b3b87c73c6",
   "metadata": {},
   "source": [
    "Here, we wanted to have a look at the top 30 of highest correlated features to the target column. We can see"
   ]
  },
  {
   "cell_type": "markdown",
   "id": "06415edd",
   "metadata": {},
   "source": [
    "## Selection of the relevant columns\n",
    "\n",
    "From the 330 variables in the survey, we chose 27 features in the end because most of the 330 variables are not relevant to our main goal (e.g. information about the cell phone, state, number of orange-colored fruits eaten)\n",
    "Research regarding heart disease has identified different important risk factors. We chose these from the dataset and also those where we have thought, there could be a correlation between those values.\n",
    "\n",
    "**Target Value**\n",
    "- **_MICHD:** having coronary heart disease (CHD) or myocardial infarction (MI); 1: yes, 2: no --> this is our target value\n",
    "\n",
    "**Specific Illnesses**\n",
    "- **_RFHYPE5:** Adults who have been told they have high blood pressure by a doctor, nurse, or other health professional; 1: no, 2: yes\n",
    "- **BPHIGH4:** Have you EVER been told by a doctor, nurse or other health professional that you have high blood pressure? (If \"Yes\" and respondent is female, ask \"Was this only when you were pregnant?\".); 1: yes, 2: yes, but female only told high during pregnancy, 3: no, 4: told borderline high or pre-hypertensive, 7: dont know, 9: refused\n",
    "- **CVDSTRK3:** (Ever told) you had a stroke.; 1: yes, 2: no, 7: dont know, 9: refused\n",
    "- **TOLDHI2:** Have you EVER been told by a doctor, nurse or other health professional that your blood cholesterol is high?; 1: yes, 2: no, 7: dont know, 9: refused\n",
    "- **_CHOLCHK:** Cholesterol check within past five years; 1: Had cholesterol checked in past 5 years; 2: Did not have cholesterol checked in past 5 years, 3: never had cholesterol checked, 9: dont know/refused\n",
    "- **DIABETE3:** (Ever told) you have diabetes (If \"Yes\" and respondent is female, ask \"Was this only when you were pregnant?\". If Respondent says pre-diabetes or borderline diabetes, use response code 4.); 1: yes, 2: Yes, but female only told during pregnancy, 3: no, 4: no, pre-diabetes or borderline-diabetes, 7: dont know, 9: refused\n",
    "- **CVDCRHD4:** (Ever told) you had angina or coronary heart disease?; 1: yes, 2: no 7: dont know, 9: refused\n",
    "- **BPMEDS:** Are you currently taking medicine for your high blood pressure?; 1: yes, 2: no, 7: dont know, 9: refused\n",
    "- **FLUSHOT6:** During the past 12 months, have you had either a flu shot or a flu vaccine that was sprayed in your nose? (A new flu shot came out in 2011 that injects vaccine into the skin with a very small needle. It is called Fluzone Intradermal vaccine. This is also considered a flu shot.); 1: yes, 2: no; 7: dont know, 9: refused\n",
    "- **CHCKIDNY:** (Ever told) you have kidney disease? Do NOT include kidney stones, bladder infection or incontinence.(Incontinence is not being able to control urine flow.); 1: yes, 2: no, 7: dont know, 9: refused\n",
    "\n",
    "\n",
    "**General Health Status**\n",
    "- **SMOKE100:** Have you smoked at least 100 cigarettes in your entire life?; 1: yes, 2: no, 7: dont know, 9: refused\n",
    "- **_BMI5:** Body Mass Index (BMI); WTKG3/(HTM4*HTM4)\n",
    "- **_TOTINDA:** Adults who reported doing physical activity or exercise during the past 30 days other than their regular job; 1: yes, 2: no, 9: dont know/refused\n",
    "- **_FRTLT1:** Consume Fruit 1 or more times per day; 1: yes, 2: no, 9: dont know/refused\n",
    "- **_VEGLT1:** Consume Vegetables 1 or more times per day; 1: yes, 2: no, 9: dont know\n",
    "- **_RFDRHV5:** Heavy drinkers (adult men having more than 14 drinks per week and adult women having more than 7 drinks per week); 1: no, 2: yes, 9: dont know/refused\n",
    "- **GENHLTH:** Would you say that in general your health is:; 1: excellent, 2: very good, 3: good, 4: fair, 5: poor, 7: dont know, 9: refused\n",
    "- **MENTHLTH:** Now thinking about your mental health, which includes stress, depression, and problems with emotions, for how many days during the past 30 days was your mental health not good?; nr. of days, 88: none, 77: dont know, 99: refused\n",
    "- **PHYSHLTH:** Now thinking about your physical health, which includes physical illness and injury, for how many days during the past 30 days was your physical health not good?; nr of days, 88: none, 77: dont know, 99: refused\n",
    "- **DIFFWALK:** Do you have serious difficulty walking or climbing stairs?; 1: yes, 2: no, 7: dont know, 9: refused\n",
    "- **SEX:** 1: male, 2: female\n",
    "\n",
    "**General Information**\n",
    "- **HLTHPLN1:** Do you have any kind of health care coverage, including health insurance, prepaid plans such as HMOs, or government plans such as Medicare, or Indian Health Service?; 1: yes, 2: no, 7: dont know, 9: refused\n",
    "- **MEDCOST:** Was there a time in the past 12 months when you needed to see a doctor but could not because of cost?; 1: yes, 2: no, 7: dont know, 9: refused\n",
    "- **_AGEG5YR:** Fourteen-level age category; 1: 18-24, 2: 25-29, 3: 30-34, 4: 35-39, ..., 13: 80 or older, 14: refused\n",
    "- **EDUCA:** What is the highest grade or year of school you completed?; 1: never attended school or only kindergarden, 2: Grades 1 through 8 (Elementary), 3: Grades 9 through 11 (Some high school), 4: Grade 12 or GED (High school graduate), 5: College 1 year to 3 years (Some college or technical school), 6: College 4 years or more (College graduate), 9: refused\n",
    "- **INCOME2:** Is your annual household income from all sources:; 1: Less than $10,000, 2: Less than $15,000 ($10,000 to less than $15,000), 3: Less than $20,000 ($15,000 to less than $20,000), 4: Less than $25,000 ($20,000 to less than $25,000), 5: Less than $35,000 ($25,000 to less than $35,000), 6: Less than $50,000 ($35,000 to less than $50,000), 7: Less than $75,000 ($50,000 to less than $75,000), 8: $75,000 or more, 77: dont know, 99: refused\n",
    "- **EMPLOY1:** Are you currently...?; 1: Employed for wages, 2: Self-employed, 3: Out of work for 1 year or more, 4: Out of work for less than 1 year, 5: A homemaker, 6: A student, 7: Retired , 8: Unable to work, 9: refused\n",
    "\n",
    "\n"
   ]
  },
  {
   "cell_type": "code",
   "execution_count": 10,
   "id": "edf8145f-620e-48db-8deb-fba9eae70ed4",
   "metadata": {},
   "outputs": [],
   "source": [
    "# select specific columns\n",
    "data_df_selected = data_df[['_MICHD', \n",
    "                                         '_RFHYPE5',  \n",
    "                                         'TOLDHI2', '_CHOLCHK', \n",
    "                                         '_BMI5', \n",
    "                                         'SMOKE100', \n",
    "                                         'CVDSTRK3', 'DIABETE3', \n",
    "                                         '_TOTINDA', \n",
    "                                         '_FRTLT1', '_VEGLT1', \n",
    "                                         '_RFDRHV5', \n",
    "                                         'HLTHPLN1', 'MEDCOST', \n",
    "                                         'GENHLTH', 'MENTHLTH', 'PHYSHLTH', 'DIFFWALK', \n",
    "                                         'SEX', '_AGEG5YR', 'EDUCA', 'INCOME2', 'EMPLOY1',\n",
    "                                         'CVDCRHD4', 'FLUSHOT6', 'CHCKIDNY', 'BPMEDS'\n",
    "                           ]]"
   ]
  },
  {
   "cell_type": "code",
   "execution_count": 11,
   "id": "064a2cfb-e2d4-43ec-9442-aad685e4e2b4",
   "metadata": {},
   "outputs": [
    {
     "data": {
      "text/html": [
       "<div>\n",
       "<style scoped>\n",
       "    .dataframe tbody tr th:only-of-type {\n",
       "        vertical-align: middle;\n",
       "    }\n",
       "\n",
       "    .dataframe tbody tr th {\n",
       "        vertical-align: top;\n",
       "    }\n",
       "\n",
       "    .dataframe thead th {\n",
       "        text-align: right;\n",
       "    }\n",
       "</style>\n",
       "<table border=\"1\" class=\"dataframe\">\n",
       "  <thead>\n",
       "    <tr style=\"text-align: right;\">\n",
       "      <th></th>\n",
       "      <th>_MICHD</th>\n",
       "      <th>_RFHYPE5</th>\n",
       "      <th>TOLDHI2</th>\n",
       "      <th>_CHOLCHK</th>\n",
       "      <th>_BMI5</th>\n",
       "      <th>SMOKE100</th>\n",
       "      <th>CVDSTRK3</th>\n",
       "      <th>DIABETE3</th>\n",
       "      <th>_TOTINDA</th>\n",
       "      <th>_FRTLT1</th>\n",
       "      <th>...</th>\n",
       "      <th>DIFFWALK</th>\n",
       "      <th>SEX</th>\n",
       "      <th>_AGEG5YR</th>\n",
       "      <th>EDUCA</th>\n",
       "      <th>INCOME2</th>\n",
       "      <th>EMPLOY1</th>\n",
       "      <th>CVDCRHD4</th>\n",
       "      <th>FLUSHOT6</th>\n",
       "      <th>CHCKIDNY</th>\n",
       "      <th>BPMEDS</th>\n",
       "    </tr>\n",
       "  </thead>\n",
       "  <tbody>\n",
       "    <tr>\n",
       "      <th>0</th>\n",
       "      <td>2.0</td>\n",
       "      <td>2.0</td>\n",
       "      <td>1.0</td>\n",
       "      <td>1.0</td>\n",
       "      <td>4018.0</td>\n",
       "      <td>1.0</td>\n",
       "      <td>2.0</td>\n",
       "      <td>3.0</td>\n",
       "      <td>2.0</td>\n",
       "      <td>2.0</td>\n",
       "      <td>...</td>\n",
       "      <td>1.0</td>\n",
       "      <td>2.0</td>\n",
       "      <td>9.0</td>\n",
       "      <td>4.0</td>\n",
       "      <td>3.0</td>\n",
       "      <td>8.0</td>\n",
       "      <td>2.0</td>\n",
       "      <td>1.0</td>\n",
       "      <td>2.0</td>\n",
       "      <td>1.0</td>\n",
       "    </tr>\n",
       "    <tr>\n",
       "      <th>1</th>\n",
       "      <td>2.0</td>\n",
       "      <td>1.0</td>\n",
       "      <td>2.0</td>\n",
       "      <td>2.0</td>\n",
       "      <td>2509.0</td>\n",
       "      <td>1.0</td>\n",
       "      <td>2.0</td>\n",
       "      <td>3.0</td>\n",
       "      <td>1.0</td>\n",
       "      <td>2.0</td>\n",
       "      <td>...</td>\n",
       "      <td>2.0</td>\n",
       "      <td>2.0</td>\n",
       "      <td>7.0</td>\n",
       "      <td>6.0</td>\n",
       "      <td>1.0</td>\n",
       "      <td>3.0</td>\n",
       "      <td>2.0</td>\n",
       "      <td>2.0</td>\n",
       "      <td>2.0</td>\n",
       "      <td>NaN</td>\n",
       "    </tr>\n",
       "    <tr>\n",
       "      <th>2</th>\n",
       "      <td>NaN</td>\n",
       "      <td>1.0</td>\n",
       "      <td>1.0</td>\n",
       "      <td>1.0</td>\n",
       "      <td>2204.0</td>\n",
       "      <td>NaN</td>\n",
       "      <td>1.0</td>\n",
       "      <td>3.0</td>\n",
       "      <td>9.0</td>\n",
       "      <td>9.0</td>\n",
       "      <td>...</td>\n",
       "      <td>NaN</td>\n",
       "      <td>2.0</td>\n",
       "      <td>11.0</td>\n",
       "      <td>4.0</td>\n",
       "      <td>99.0</td>\n",
       "      <td>7.0</td>\n",
       "      <td>2.0</td>\n",
       "      <td>NaN</td>\n",
       "      <td>2.0</td>\n",
       "      <td>NaN</td>\n",
       "    </tr>\n",
       "    <tr>\n",
       "      <th>3</th>\n",
       "      <td>2.0</td>\n",
       "      <td>2.0</td>\n",
       "      <td>1.0</td>\n",
       "      <td>1.0</td>\n",
       "      <td>2819.0</td>\n",
       "      <td>2.0</td>\n",
       "      <td>2.0</td>\n",
       "      <td>3.0</td>\n",
       "      <td>2.0</td>\n",
       "      <td>1.0</td>\n",
       "      <td>...</td>\n",
       "      <td>1.0</td>\n",
       "      <td>2.0</td>\n",
       "      <td>9.0</td>\n",
       "      <td>4.0</td>\n",
       "      <td>8.0</td>\n",
       "      <td>8.0</td>\n",
       "      <td>2.0</td>\n",
       "      <td>1.0</td>\n",
       "      <td>2.0</td>\n",
       "      <td>1.0</td>\n",
       "    </tr>\n",
       "    <tr>\n",
       "      <th>4</th>\n",
       "      <td>2.0</td>\n",
       "      <td>1.0</td>\n",
       "      <td>2.0</td>\n",
       "      <td>1.0</td>\n",
       "      <td>2437.0</td>\n",
       "      <td>2.0</td>\n",
       "      <td>2.0</td>\n",
       "      <td>3.0</td>\n",
       "      <td>2.0</td>\n",
       "      <td>9.0</td>\n",
       "      <td>...</td>\n",
       "      <td>2.0</td>\n",
       "      <td>2.0</td>\n",
       "      <td>9.0</td>\n",
       "      <td>5.0</td>\n",
       "      <td>77.0</td>\n",
       "      <td>8.0</td>\n",
       "      <td>2.0</td>\n",
       "      <td>2.0</td>\n",
       "      <td>2.0</td>\n",
       "      <td>NaN</td>\n",
       "    </tr>\n",
       "  </tbody>\n",
       "</table>\n",
       "<p>5 rows × 27 columns</p>\n",
       "</div>"
      ],
      "text/plain": [
       "   _MICHD  _RFHYPE5  TOLDHI2  _CHOLCHK   _BMI5  SMOKE100  CVDSTRK3  DIABETE3  \\\n",
       "0     2.0       2.0      1.0       1.0  4018.0       1.0       2.0       3.0   \n",
       "1     2.0       1.0      2.0       2.0  2509.0       1.0       2.0       3.0   \n",
       "2     NaN       1.0      1.0       1.0  2204.0       NaN       1.0       3.0   \n",
       "3     2.0       2.0      1.0       1.0  2819.0       2.0       2.0       3.0   \n",
       "4     2.0       1.0      2.0       1.0  2437.0       2.0       2.0       3.0   \n",
       "\n",
       "   _TOTINDA  _FRTLT1  ...  DIFFWALK  SEX  _AGEG5YR  EDUCA  INCOME2  EMPLOY1  \\\n",
       "0       2.0      2.0  ...       1.0  2.0       9.0    4.0      3.0      8.0   \n",
       "1       1.0      2.0  ...       2.0  2.0       7.0    6.0      1.0      3.0   \n",
       "2       9.0      9.0  ...       NaN  2.0      11.0    4.0     99.0      7.0   \n",
       "3       2.0      1.0  ...       1.0  2.0       9.0    4.0      8.0      8.0   \n",
       "4       2.0      9.0  ...       2.0  2.0       9.0    5.0     77.0      8.0   \n",
       "\n",
       "   CVDCRHD4  FLUSHOT6  CHCKIDNY  BPMEDS  \n",
       "0       2.0       1.0       2.0     1.0  \n",
       "1       2.0       2.0       2.0     NaN  \n",
       "2       2.0       NaN       2.0     NaN  \n",
       "3       2.0       1.0       2.0     1.0  \n",
       "4       2.0       2.0       2.0     NaN  \n",
       "\n",
       "[5 rows x 27 columns]"
      ]
     },
     "execution_count": 11,
     "metadata": {},
     "output_type": "execute_result"
    }
   ],
   "source": [
    "data_df_selected.head()"
   ]
  },
  {
   "cell_type": "code",
   "execution_count": 12,
   "id": "30c95753-c4f6-4a31-84e6-5293c0caf3b1",
   "metadata": {},
   "outputs": [
    {
     "data": {
      "text/plain": [
       "<AxesSubplot:>"
      ]
     },
     "execution_count": 12,
     "metadata": {},
     "output_type": "execute_result"
    },
    {
     "data": {
      "image/png": "[encoded data removed]",
      "text/plain": [
       "<Figure size 432x288 with 1 Axes>"
      ]
     },
     "metadata": {
      "needs_background": "light"
     },
     "output_type": "display_data"
    }
   ],
   "source": [
    "# explore the missing values\n",
    "missing_values = data_df_selected.isna().sum()\n",
    "missing_values\n",
    "sns.heatmap(data_df_selected.isnull(),cbar=False,cmap='viridis')"
   ]
  },
  {
   "cell_type": "markdown",
   "id": "74fe5eaa-eea9-45fe-a833-8f0a3d1e1335",
   "metadata": {},
   "source": [
    "## Handling missing data\n",
    "\n",
    "In the heatmap it can be seen that we have in some columns a lot of missing data entries. Especially the TOLDHI2 (High blood cholesterol), _BMI5 (BMI), and the FLUSHOT6 (have received flu shot) columns have a lot of missing values.\n",
    "We have thought about the following strategies to deal with the missing values:\n",
    "\n",
    "- **Delete rows or columns:** This is the simplest approach, where you simply remove any rows or columns that contain missing values. However, this approach can lead to loss of valuable information, especially if a large proportion of the data is missing.\n",
    "- **Imputation:** This approach involves filling in the missing values with estimated values. One common method is mean imputation, where the missing values are replaced with the mean value of the feature. Another method is median imputation, where the missing values are replaced with the median value of the feature. There are also more advanced imputation techniques, such as k-nearest neighbors (KNN) imputation and regression imputation, which take into account the relationships between different features.\n",
    "- **Model-based imputation:** This approach involves building a predictive model to estimate the missing values based on the values of other features in the dataset. This can be more accurate than simple imputation methods, but requires more computational resources.\n",
    "- **Flagging:** This approach involves adding a new binary feature that indicates whether a value is missing or not. This can be useful if the missing values are informative in themselves.\n",
    "- **Domain knowledge:** In some cases, missing values can be explained by the nature of the problem or the data collection process. In these cases, domain knowledge can be used to impute or flag missing values in a more meaningful way.\n",
    "\n",
    "As these values are mostly binary values (either yes or no) it is difficult to replace missing values with estimated values. Furthermore, the missing values do not have any meaning the reason is just that the questions was probably not asked in a certain state. However, the amount of missing values is a lot and because it is just caused by very few columns, that not even have a high correlation with the target variable, we decided to delete the whole columns. "
   ]
  },
  {
   "cell_type": "code",
   "execution_count": 13,
   "id": "a95f0f81-85e3-40d5-94de-0a97432d9fbf",
   "metadata": {},
   "outputs": [
    {
     "data": {
      "text/html": [
       "<div>\n",
       "<style scoped>\n",
       "    .dataframe tbody tr th:only-of-type {\n",
       "        vertical-align: middle;\n",
       "    }\n",
       "\n",
       "    .dataframe tbody tr th {\n",
       "        vertical-align: top;\n",
       "    }\n",
       "\n",
       "    .dataframe thead th {\n",
       "        text-align: right;\n",
       "    }\n",
       "</style>\n",
       "<table border=\"1\" class=\"dataframe\">\n",
       "  <thead>\n",
       "    <tr style=\"text-align: right;\">\n",
       "      <th></th>\n",
       "      <th>_MICHD</th>\n",
       "      <th>_RFHYPE5</th>\n",
       "      <th>TOLDHI2</th>\n",
       "      <th>_CHOLCHK</th>\n",
       "      <th>_BMI5</th>\n",
       "      <th>SMOKE100</th>\n",
       "      <th>CVDSTRK3</th>\n",
       "      <th>DIABETE3</th>\n",
       "      <th>_TOTINDA</th>\n",
       "      <th>_FRTLT1</th>\n",
       "      <th>...</th>\n",
       "      <th>DIFFWALK</th>\n",
       "      <th>SEX</th>\n",
       "      <th>_AGEG5YR</th>\n",
       "      <th>EDUCA</th>\n",
       "      <th>INCOME2</th>\n",
       "      <th>EMPLOY1</th>\n",
       "      <th>CVDCRHD4</th>\n",
       "      <th>FLUSHOT6</th>\n",
       "      <th>CHCKIDNY</th>\n",
       "      <th>BPMEDS</th>\n",
       "    </tr>\n",
       "  </thead>\n",
       "  <tbody>\n",
       "    <tr>\n",
       "      <th>count</th>\n",
       "      <td>437514.000000</td>\n",
       "      <td>441456.000000</td>\n",
       "      <td>382302.000000</td>\n",
       "      <td>441456.000000</td>\n",
       "      <td>405058.000000</td>\n",
       "      <td>427201.000000</td>\n",
       "      <td>441456.000000</td>\n",
       "      <td>441449.000000</td>\n",
       "      <td>441456.000000</td>\n",
       "      <td>441456.000000</td>\n",
       "      <td>...</td>\n",
       "      <td>429122.000000</td>\n",
       "      <td>441456.000000</td>\n",
       "      <td>441456.000000</td>\n",
       "      <td>441456.000000</td>\n",
       "      <td>438155.000000</td>\n",
       "      <td>441456.000000</td>\n",
       "      <td>441455.000000</td>\n",
       "      <td>400075.000000</td>\n",
       "      <td>441456.000000</td>\n",
       "      <td>178188.000000</td>\n",
       "    </tr>\n",
       "    <tr>\n",
       "      <th>mean</th>\n",
       "      <td>1.911699</td>\n",
       "      <td>1.428410</td>\n",
       "      <td>1.630876</td>\n",
       "      <td>1.533609</td>\n",
       "      <td>2804.242400</td>\n",
       "      <td>1.613987</td>\n",
       "      <td>1.973880</td>\n",
       "      <td>2.757888</td>\n",
       "      <td>1.931871</td>\n",
       "      <td>2.131746</td>\n",
       "      <td>...</td>\n",
       "      <td>1.856600</td>\n",
       "      <td>1.576542</td>\n",
       "      <td>7.803623</td>\n",
       "      <td>4.920094</td>\n",
       "      <td>20.253013</td>\n",
       "      <td>3.942769</td>\n",
       "      <td>1.986952</td>\n",
       "      <td>1.570316</td>\n",
       "      <td>1.983310</td>\n",
       "      <td>1.173328</td>\n",
       "    </tr>\n",
       "    <tr>\n",
       "      <th>std</th>\n",
       "      <td>0.283733</td>\n",
       "      <td>0.646749</td>\n",
       "      <td>0.740235</td>\n",
       "      <td>1.555462</td>\n",
       "      <td>665.463433</td>\n",
       "      <td>0.746530</td>\n",
       "      <td>0.348689</td>\n",
       "      <td>0.723319</td>\n",
       "      <td>2.209728</td>\n",
       "      <td>2.322882</td>\n",
       "      <td>...</td>\n",
       "      <td>0.579838</td>\n",
       "      <td>0.494107</td>\n",
       "      <td>3.495609</td>\n",
       "      <td>1.076198</td>\n",
       "      <td>31.853507</td>\n",
       "      <td>2.871768</td>\n",
       "      <td>0.534279</td>\n",
       "      <td>0.781987</td>\n",
       "      <td>0.368072</td>\n",
       "      <td>0.454448</td>\n",
       "    </tr>\n",
       "    <tr>\n",
       "      <th>min</th>\n",
       "      <td>1.000000</td>\n",
       "      <td>1.000000</td>\n",
       "      <td>1.000000</td>\n",
       "      <td>1.000000</td>\n",
       "      <td>1202.000000</td>\n",
       "      <td>1.000000</td>\n",
       "      <td>1.000000</td>\n",
       "      <td>1.000000</td>\n",
       "      <td>1.000000</td>\n",
       "      <td>1.000000</td>\n",
       "      <td>...</td>\n",
       "      <td>1.000000</td>\n",
       "      <td>1.000000</td>\n",
       "      <td>1.000000</td>\n",
       "      <td>1.000000</td>\n",
       "      <td>1.000000</td>\n",
       "      <td>1.000000</td>\n",
       "      <td>1.000000</td>\n",
       "      <td>1.000000</td>\n",
       "      <td>1.000000</td>\n",
       "      <td>1.000000</td>\n",
       "    </tr>\n",
       "    <tr>\n",
       "      <th>25%</th>\n",
       "      <td>2.000000</td>\n",
       "      <td>1.000000</td>\n",
       "      <td>1.000000</td>\n",
       "      <td>1.000000</td>\n",
       "      <td>2373.000000</td>\n",
       "      <td>1.000000</td>\n",
       "      <td>2.000000</td>\n",
       "      <td>3.000000</td>\n",
       "      <td>1.000000</td>\n",
       "      <td>1.000000</td>\n",
       "      <td>...</td>\n",
       "      <td>2.000000</td>\n",
       "      <td>1.000000</td>\n",
       "      <td>5.000000</td>\n",
       "      <td>4.000000</td>\n",
       "      <td>5.000000</td>\n",
       "      <td>1.000000</td>\n",
       "      <td>2.000000</td>\n",
       "      <td>1.000000</td>\n",
       "      <td>2.000000</td>\n",
       "      <td>1.000000</td>\n",
       "    </tr>\n",
       "    <tr>\n",
       "      <th>50%</th>\n",
       "      <td>2.000000</td>\n",
       "      <td>1.000000</td>\n",
       "      <td>2.000000</td>\n",
       "      <td>1.000000</td>\n",
       "      <td>2695.000000</td>\n",
       "      <td>2.000000</td>\n",
       "      <td>2.000000</td>\n",
       "      <td>3.000000</td>\n",
       "      <td>1.000000</td>\n",
       "      <td>1.000000</td>\n",
       "      <td>...</td>\n",
       "      <td>2.000000</td>\n",
       "      <td>2.000000</td>\n",
       "      <td>8.000000</td>\n",
       "      <td>5.000000</td>\n",
       "      <td>7.000000</td>\n",
       "      <td>3.000000</td>\n",
       "      <td>2.000000</td>\n",
       "      <td>2.000000</td>\n",
       "      <td>2.000000</td>\n",
       "      <td>1.000000</td>\n",
       "    </tr>\n",
       "    <tr>\n",
       "      <th>75%</th>\n",
       "      <td>2.000000</td>\n",
       "      <td>2.000000</td>\n",
       "      <td>2.000000</td>\n",
       "      <td>1.000000</td>\n",
       "      <td>3090.000000</td>\n",
       "      <td>2.000000</td>\n",
       "      <td>2.000000</td>\n",
       "      <td>3.000000</td>\n",
       "      <td>2.000000</td>\n",
       "      <td>2.000000</td>\n",
       "      <td>...</td>\n",
       "      <td>2.000000</td>\n",
       "      <td>2.000000</td>\n",
       "      <td>10.000000</td>\n",
       "      <td>6.000000</td>\n",
       "      <td>8.000000</td>\n",
       "      <td>7.000000</td>\n",
       "      <td>2.000000</td>\n",
       "      <td>2.000000</td>\n",
       "      <td>2.000000</td>\n",
       "      <td>1.000000</td>\n",
       "    </tr>\n",
       "    <tr>\n",
       "      <th>max</th>\n",
       "      <td>2.000000</td>\n",
       "      <td>9.000000</td>\n",
       "      <td>9.000000</td>\n",
       "      <td>9.000000</td>\n",
       "      <td>9995.000000</td>\n",
       "      <td>9.000000</td>\n",
       "      <td>9.000000</td>\n",
       "      <td>9.000000</td>\n",
       "      <td>9.000000</td>\n",
       "      <td>9.000000</td>\n",
       "      <td>...</td>\n",
       "      <td>9.000000</td>\n",
       "      <td>2.000000</td>\n",
       "      <td>14.000000</td>\n",
       "      <td>9.000000</td>\n",
       "      <td>99.000000</td>\n",
       "      <td>9.000000</td>\n",
       "      <td>9.000000</td>\n",
       "      <td>9.000000</td>\n",
       "      <td>9.000000</td>\n",
       "      <td>9.000000</td>\n",
       "    </tr>\n",
       "  </tbody>\n",
       "</table>\n",
       "<p>8 rows × 27 columns</p>\n",
       "</div>"
      ],
      "text/plain": [
       "              _MICHD       _RFHYPE5        TOLDHI2       _CHOLCHK  \\\n",
       "count  437514.000000  441456.000000  382302.000000  441456.000000   \n",
       "mean        1.911699       1.428410       1.630876       1.533609   \n",
       "std         0.283733       0.646749       0.740235       1.555462   \n",
       "min         1.000000       1.000000       1.000000       1.000000   \n",
       "25%         2.000000       1.000000       1.000000       1.000000   \n",
       "50%         2.000000       1.000000       2.000000       1.000000   \n",
       "75%         2.000000       2.000000       2.000000       1.000000   \n",
       "max         2.000000       9.000000       9.000000       9.000000   \n",
       "\n",
       "               _BMI5       SMOKE100       CVDSTRK3       DIABETE3  \\\n",
       "count  405058.000000  427201.000000  441456.000000  441449.000000   \n",
       "mean     2804.242400       1.613987       1.973880       2.757888   \n",
       "std       665.463433       0.746530       0.348689       0.723319   \n",
       "min      1202.000000       1.000000       1.000000       1.000000   \n",
       "25%      2373.000000       1.000000       2.000000       3.000000   \n",
       "50%      2695.000000       2.000000       2.000000       3.000000   \n",
       "75%      3090.000000       2.000000       2.000000       3.000000   \n",
       "max      9995.000000       9.000000       9.000000       9.000000   \n",
       "\n",
       "            _TOTINDA        _FRTLT1  ...       DIFFWALK            SEX  \\\n",
       "count  441456.000000  441456.000000  ...  429122.000000  441456.000000   \n",
       "mean        1.931871       2.131746  ...       1.856600       1.576542   \n",
       "std         2.209728       2.322882  ...       0.579838       0.494107   \n",
       "min         1.000000       1.000000  ...       1.000000       1.000000   \n",
       "25%         1.000000       1.000000  ...       2.000000       1.000000   \n",
       "50%         1.000000       1.000000  ...       2.000000       2.000000   \n",
       "75%         2.000000       2.000000  ...       2.000000       2.000000   \n",
       "max         9.000000       9.000000  ...       9.000000       2.000000   \n",
       "\n",
       "            _AGEG5YR          EDUCA        INCOME2        EMPLOY1  \\\n",
       "count  441456.000000  441456.000000  438155.000000  441456.000000   \n",
       "mean        7.803623       4.920094      20.253013       3.942769   \n",
       "std         3.495609       1.076198      31.853507       2.871768   \n",
       "min         1.000000       1.000000       1.000000       1.000000   \n",
       "25%         5.000000       4.000000       5.000000       1.000000   \n",
       "50%         8.000000       5.000000       7.000000       3.000000   \n",
       "75%        10.000000       6.000000       8.000000       7.000000   \n",
       "max        14.000000       9.000000      99.000000       9.000000   \n",
       "\n",
       "            CVDCRHD4       FLUSHOT6       CHCKIDNY         BPMEDS  \n",
       "count  441455.000000  400075.000000  441456.000000  178188.000000  \n",
       "mean        1.986952       1.570316       1.983310       1.173328  \n",
       "std         0.534279       0.781987       0.368072       0.454448  \n",
       "min         1.000000       1.000000       1.000000       1.000000  \n",
       "25%         2.000000       1.000000       2.000000       1.000000  \n",
       "50%         2.000000       2.000000       2.000000       1.000000  \n",
       "75%         2.000000       2.000000       2.000000       1.000000  \n",
       "max         9.000000       9.000000       9.000000       9.000000  \n",
       "\n",
       "[8 rows x 27 columns]"
      ]
     },
     "execution_count": 13,
     "metadata": {},
     "output_type": "execute_result"
    }
   ],
   "source": [
    "data_df_selected.describe()"
   ]
  },
  {
   "cell_type": "code",
   "execution_count": 14,
   "id": "760b6cae-d8a3-4dd3-b604-80f0b0aec6fa",
   "metadata": {},
   "outputs": [
    {
     "name": "stdout",
     "output_type": "stream",
     "text": [
      "(441456, 27) (143001, 27)\n",
      "Sum of removed columns with empty values:  298455\n"
     ]
    }
   ],
   "source": [
    "# drop missing values\n",
    "entries_total = data_df_selected.shape\n",
    "data_df_selected = data_df_selected.dropna()\n",
    "entries_after_drop = data_df_selected.shape\n",
    "print(entries_total, entries_after_drop)\n",
    "print(\"Sum of removed columns with empty values: \", entries_total[0] - entries_after_drop[0])"
   ]
  },
  {
   "cell_type": "code",
   "execution_count": 15,
   "id": "f2194eca-4f18-4113-b5de-06537b1a8745",
   "metadata": {},
   "outputs": [],
   "source": [
    "# Rename the columns to make them more readable\n",
    "data_df_selected = data_df_selected.rename(columns = {'_MICHD':'HeartDiseaseorAttack', \n",
    "                                         '_RFHYPE5':'HighBP',  \n",
    "                                         'TOLDHI2':'HighChol', '_CHOLCHK':'CholCheck', \n",
    "                                         '_BMI5':'BMI', \n",
    "                                         'SMOKE100':'Smoker', \n",
    "                                         'CVDSTRK3':'Stroke', 'DIABETE3':'Diabetes', \n",
    "                                         '_TOTINDA':'PhysActivity', \n",
    "                                         '_FRTLT1':'Fruits', '_VEGLT1':\"Vegetables\", \n",
    "                                         '_RFDRHV5':'HvyAlcoholConsump', \n",
    "                                         'HLTHPLN1':'AnyHealthcare', 'MEDCOST':'NoDocbcCost', \n",
    "                                         'GENHLTH':'GenHlth', 'MENTHLTH':'MentHlth', 'PHYSHLTH':'PhysHlth', 'DIFFWALK':'DiffWalk', \n",
    "                                         'SEX':'Sex', '_AGEG5YR':'Age', 'EDUCA':'Education', 'INCOME2':'Income',\n",
    "                                         'EMPLOY1':'Employment', 'CVDCRHD4':'HeartDisease',\n",
    "                                         'FLUSHOT6':'FluShot', 'CHCKIDNY':'KidneyDisease', 'BPMEDS':'MedHighBP'})"
   ]
  },
  {
   "cell_type": "markdown",
   "id": "ac900d88",
   "metadata": {},
   "source": [
    "### Process dataset for a machine learning approach"
   ]
  },
  {
   "cell_type": "markdown",
   "id": "d57ac709-f1b9-412d-82cb-c84f9e754703",
   "metadata": {},
   "source": [
    "Before starting to work with the dataset, we will need to preprocess most columns. First, we needed to transform the values of the \"binary\" columns. With binary columns we mean columns where the answers are e.g. 1 and 2 yes and no and 7 means \"I don't know\" and 9 means \"Refuse to answer\" in the survey. Thus, it was necessary to delete data entries that contain a 7 or a 9. Furthermore, we changed no values to 0 and the yes values to 1. \n",
    "\n",
    "- There were a lot of columns where we needed to delete the 7 and 9 data entries and change 2 to 0 data entries. Therefore, we wrote a function that helps us doing that\n",
    "- The rest where we needed to change different things we did it manually as it was the most efficient way in our opinion"
   ]
  },
  {
   "cell_type": "code",
   "execution_count": 16,
   "id": "8bdd64d1-5a86-4394-a1b5-51ef2809c2d5",
   "metadata": {},
   "outputs": [
    {
     "data": {
      "text/plain": [
       "Index(['HeartDiseaseorAttack', 'HighBP', 'HighChol', 'CholCheck', 'BMI',\n",
       "       'Smoker', 'Stroke', 'Diabetes', 'PhysActivity', 'Fruits', 'Vegetables',\n",
       "       'HvyAlcoholConsump', 'AnyHealthcare', 'NoDocbcCost', 'GenHlth',\n",
       "       'MentHlth', 'PhysHlth', 'DiffWalk', 'Sex', 'Age', 'Education', 'Income',\n",
       "       'Employment', 'HeartDisease', 'FluShot', 'KidneyDisease', 'MedHighBP'],\n",
       "      dtype='object')"
      ]
     },
     "execution_count": 16,
     "metadata": {},
     "output_type": "execute_result"
    }
   ],
   "source": [
    "data_df_selected.columns"
   ]
  },
  {
   "cell_type": "code",
   "execution_count": 17,
   "id": "e90f5401-ce3e-4394-b695-156980ae08f5",
   "metadata": {},
   "outputs": [
    {
     "name": "stdout",
     "output_type": "stream",
     "text": [
      "The unique values for column HeartDiseaseorAttack are:  [0. 1.]\n"
     ]
    },
    {
     "data": {
      "image/png": "[encoded data removed]",
      "text/plain": [
       "<Figure size 432x288 with 1 Axes>"
      ]
     },
     "metadata": {
      "needs_background": "light"
     },
     "output_type": "display_data"
    },
    {
     "name": "stdout",
     "output_type": "stream",
     "text": [
      "The unique values for column HighChol are:  [1. 0.]\n"
     ]
    },
    {
     "data": {
      "image/png": "[encoded data removed]",
      "text/plain": [
       "<Figure size 432x288 with 1 Axes>"
      ]
     },
     "metadata": {
      "needs_background": "light"
     },
     "output_type": "display_data"
    },
    {
     "name": "stdout",
     "output_type": "stream",
     "text": [
      "The unique values for column Smoker are:  [1. 0.]\n"
     ]
    },
    {
     "data": {
      "image/png": "[encoded data removed]",
      "text/plain": [
       "<Figure size 432x288 with 1 Axes>"
      ]
     },
     "metadata": {
      "needs_background": "light"
     },
     "output_type": "display_data"
    },
    {
     "name": "stdout",
     "output_type": "stream",
     "text": [
      "The unique values for column Stroke are:  [0. 1.]\n"
     ]
    },
    {
     "data": {
      "image/png": "[encoded data removed]",
      "text/plain": [
       "<Figure size 432x288 with 1 Axes>"
      ]
     },
     "metadata": {
      "needs_background": "light"
     },
     "output_type": "display_data"
    },
    {
     "name": "stdout",
     "output_type": "stream",
     "text": [
      "The unique values for column PhysActivity are:  [0. 1.]\n"
     ]
    },
    {
     "data": {
      "image/png": "[encoded data removed]",
      "text/plain": [
       "<Figure size 432x288 with 1 Axes>"
      ]
     },
     "metadata": {
      "needs_background": "light"
     },
     "output_type": "display_data"
    },
    {
     "name": "stdout",
     "output_type": "stream",
     "text": [
      "The unique values for column Fruits are:  [0. 1.]\n"
     ]
    },
    {
     "data": {
      "image/png": "[encoded data removed]",
      "text/plain": [
       "<Figure size 432x288 with 1 Axes>"
      ]
     },
     "metadata": {
      "needs_background": "light"
     },
     "output_type": "display_data"
    },
    {
     "name": "stdout",
     "output_type": "stream",
     "text": [
      "The unique values for column Vegetables are:  [1. 0.]\n"
     ]
    },
    {
     "data": {
      "image/png": "[encoded data removed]",
      "text/plain": [
       "<Figure size 432x288 with 1 Axes>"
      ]
     },
     "metadata": {
      "needs_background": "light"
     },
     "output_type": "display_data"
    },
    {
     "name": "stdout",
     "output_type": "stream",
     "text": [
      "The unique values for column AnyHealthcare are:  [1. 0.]\n"
     ]
    },
    {
     "data": {
      "image/png": "[encoded data removed]",
      "text/plain": [
       "<Figure size 432x288 with 1 Axes>"
      ]
     },
     "metadata": {
      "needs_background": "light"
     },
     "output_type": "display_data"
    },
    {
     "name": "stdout",
     "output_type": "stream",
     "text": [
      "The unique values for column NoDocbcCost are:  [0. 1.]\n"
     ]
    },
    {
     "data": {
      "image/png": "[encoded data removed]",
      "text/plain": [
       "<Figure size 432x288 with 1 Axes>"
      ]
     },
     "metadata": {
      "needs_background": "light"
     },
     "output_type": "display_data"
    },
    {
     "name": "stdout",
     "output_type": "stream",
     "text": [
      "The unique values for column DiffWalk are:  [1. 0.]\n"
     ]
    },
    {
     "data": {
      "image/png": "[encoded data removed]",
      "text/plain": [
       "<Figure size 432x288 with 1 Axes>"
      ]
     },
     "metadata": {
      "needs_background": "light"
     },
     "output_type": "display_data"
    },
    {
     "name": "stdout",
     "output_type": "stream",
     "text": [
      "The unique values for column Sex are:  [0. 1.]\n"
     ]
    },
    {
     "data": {
      "image/png": "[encoded data removed]",
      "text/plain": [
       "<Figure size 432x288 with 1 Axes>"
      ]
     },
     "metadata": {
      "needs_background": "light"
     },
     "output_type": "display_data"
    },
    {
     "name": "stdout",
     "output_type": "stream",
     "text": [
      "The unique values for column HeartDisease are:  [0. 1.]\n"
     ]
    },
    {
     "data": {
      "image/png": "[encoded data removed]",
      "text/plain": [
       "<Figure size 432x288 with 1 Axes>"
      ]
     },
     "metadata": {
      "needs_background": "light"
     },
     "output_type": "display_data"
    },
    {
     "name": "stdout",
     "output_type": "stream",
     "text": [
      "The unique values for column FluShot are:  [1. 0.]\n"
     ]
    },
    {
     "data": {
      "image/png": "[encoded data removed]",
      "text/plain": [
       "<Figure size 432x288 with 1 Axes>"
      ]
     },
     "metadata": {
      "needs_background": "light"
     },
     "output_type": "display_data"
    },
    {
     "name": "stdout",
     "output_type": "stream",
     "text": [
      "The unique values for column KidneyDisease are:  [0. 1.]\n"
     ]
    },
    {
     "data": {
      "image/png": "[encoded data removed]",
      "text/plain": [
       "<Figure size 432x288 with 1 Axes>"
      ]
     },
     "metadata": {
      "needs_background": "light"
     },
     "output_type": "display_data"
    },
    {
     "name": "stdout",
     "output_type": "stream",
     "text": [
      "The unique values for column MedHighBP are:  [1. 0.]\n"
     ]
    },
    {
     "data": {
      "image/png": "[encoded data removed]",
      "text/plain": [
       "<Figure size 432x288 with 1 Axes>"
      ]
     },
     "metadata": {
      "needs_background": "light"
     },
     "output_type": "display_data"
    }
   ],
   "source": [
    "change_2_to_0 = ['HeartDiseaseorAttack', 'HighChol', 'Smoker', 'Stroke', 'PhysActivity', 'Fruits', 'Vegetables', 'AnyHealthcare', 'NoDocbcCost',\n",
    "                     'DiffWalk', 'Sex', 'HeartDisease', 'FluShot', 'KidneyDisease', 'MedHighBP']\n",
    "def preprocessing(df, list_a):\n",
    "    # for the columns where a value of 2 is corresponding to 'no' change them to 0\n",
    "    # delete 7 and 9 columns that represent 'I dont know' and 'Refused to answer' answers\n",
    "    for x in list_a:\n",
    "        df = df[df[x] != 7]\n",
    "        df = df[df[x] != 9]\n",
    "        df[x] = df[x].replace({2: 0})\n",
    "        print(f'The unique values for column {x} are: ', df[x].unique())\n",
    "        sns.countplot(x=x, data=df)\n",
    "        plt.show()\n",
    "\n",
    "\n",
    "        \n",
    "\n",
    "preprocessing(data_df_selected, change_2_to_0)"
   ]
  },
  {
   "cell_type": "code",
   "execution_count": 18,
   "id": "1da2ad67",
   "metadata": {},
   "outputs": [],
   "source": [
    "# HeartDiseaseorAttack\n",
    "#Change 2 to 0 because this means did not have MI or CHD\n",
    "# data_df_selected['HeartDiseaseorAttack'] = data_df_selected['HeartDiseaseorAttack'].replace({2: 0})\n",
    "# data_df_selected.HeartDiseaseorAttack.unique()"
   ]
  },
  {
   "cell_type": "code",
   "execution_count": 19,
   "id": "950f083e",
   "metadata": {},
   "outputs": [
    {
     "data": {
      "text/plain": [
       "array([1.])"
      ]
     },
     "execution_count": 19,
     "metadata": {},
     "output_type": "execute_result"
    }
   ],
   "source": [
    "#1 HighBP\n",
    "#Change 1 to 0 so it represents No high blood pressure and 2 to 1 so it represents high blood pressure\n",
    "data_df_selected['HighBP'] = data_df_selected['HighBP'].replace({1:0, 2:1})\n",
    "data_df_selected = data_df_selected[data_df_selected.HighBP != 9]\n",
    "data_df_selected.HighBP.unique()\n",
    "#sns.countplot(x='HighBP', data=data_df_selected)\n",
    "#plt.show()"
   ]
  },
  {
   "cell_type": "code",
   "execution_count": 20,
   "id": "24cd96b8",
   "metadata": {},
   "outputs": [],
   "source": [
    "#2 HighChol\n",
    "# Change 2 to 0 because it is No\n",
    "# Remove all 7 (dont knows)\n",
    "# Remove all 9 (refused)\n",
    "# data_df_selected['HighChol'] = data_df_selected['HighChol'].replace({2:0})\n",
    "# data_df_selected = data_df_selected[data_df_selected.HighChol != 7]\n",
    "# data_df_selected = data_df_selected[data_df_selected.HighChol != 9]\n",
    "# data_df_selected.HighChol.unique()"
   ]
  },
  {
   "cell_type": "code",
   "execution_count": 21,
   "id": "5aed8998",
   "metadata": {},
   "outputs": [
    {
     "data": {
      "text/plain": [
       "array([1., 0.])"
      ]
     },
     "execution_count": 21,
     "metadata": {},
     "output_type": "execute_result"
    }
   ],
   "source": [
    "#3 CholCheck\n",
    "# Change 3 to 0 and 2 to 0 for Not checked cholesterol in past 5 years\n",
    "# Remove 9\n",
    "data_df_selected['CholCheck'] = data_df_selected['CholCheck'].replace({3:0,2:0})\n",
    "data_df_selected = data_df_selected[data_df_selected.CholCheck != 9]\n",
    "data_df_selected.CholCheck.unique()"
   ]
  },
  {
   "cell_type": "code",
   "execution_count": 22,
   "id": "707b17cb",
   "metadata": {},
   "outputs": [
    {
     "name": "stdout",
     "output_type": "stream",
     "text": [
      "Unique values of BMI: [40. 28. 27. 24. 25. 30. 26. 34. 33. 21. 23. 22. 31. 38. 19. 37. 36. 35.\n",
      " 32. 29. 45. 39. 20. 47. 18. 43. 55. 49. 42. 17. 16. 48. 44. 50. 41. 59.\n",
      " 46. 15. 52. 54. 53. 57. 51. 14. 58. 63. 61. 56. 60. 74. 62. 66. 73. 65.\n",
      " 68. 85. 72. 71. 67. 82. 79. 92. 64. 13. 70. 88. 96. 12. 77. 87. 84. 75.\n",
      " 89. 81. 95. 98. 91. 83. 86. 69. 80. 90. 78. 97. 76.]\n"
     ]
    },
    {
     "data": {
      "image/png": "[encoded data removed]",
      "text/plain": [
       "<Figure size 432x288 with 1 Axes>"
      ]
     },
     "metadata": {
      "needs_background": "light"
     },
     "output_type": "display_data"
    }
   ],
   "source": [
    "#4 BMI divde by 100 in order to get the correct measurements of the BMI\n",
    "data_df_selected['BMI'] = data_df_selected['BMI'].div(100).round(0)\n",
    "\n",
    "# Display the unique values of BMI\n",
    "print('Unique values of BMI:', data_df_selected['BMI'].unique())\n",
    "\n",
    "# plot the distribution of the values\n",
    "sns.histplot(data=data_df_selected, x='BMI')\n",
    "plt.show()"
   ]
  },
  {
   "cell_type": "markdown",
   "id": "7551fbef-cb7a-4f1d-841c-d0c22e9df1cc",
   "metadata": {},
   "source": [
    "Here, it becomes visible that obesity is one of the main problems in developed countries like the US. Most of the data entries are according to their BMI already overweight. "
   ]
  },
  {
   "cell_type": "code",
   "execution_count": 23,
   "id": "7d50a501",
   "metadata": {},
   "outputs": [],
   "source": [
    "#5 Smoker\n",
    "# Change 2 to 0 because it is No\n",
    "# Remove all 7 (dont knows)\n",
    "# Remove all 9 (refused)\n",
    "# data_df_selected['Smoker'] = data_df_selected['Smoker'].replace({2:0})\n",
    "# data_df_selected = data_df_selected[data_df_selected.Smoker != 7]\n",
    "# data_df_selected = data_df_selected[data_df_selected.Smoker != 9]\n",
    "# data_df_selected.Smoker.unique()"
   ]
  },
  {
   "cell_type": "code",
   "execution_count": 24,
   "id": "c55ec271",
   "metadata": {},
   "outputs": [],
   "source": [
    "#6 Stroke\n",
    "# Change 2 to 0 because it is No\n",
    "# Remove all 7 (dont knows)\n",
    "# Remove all 9 (refused)\n",
    "# data_df_selected['Stroke'] = data_df_selected['Stroke'].replace({2:0})\n",
    "# data_df_selected = data_df_selected[data_df_selected.Stroke != 7]\n",
    "# data_df_selected = data_df_selected[data_df_selected.Stroke != 9]\n",
    "# data_df_selected.Stroke.unique()"
   ]
  },
  {
   "cell_type": "code",
   "execution_count": 25,
   "id": "28153f2b",
   "metadata": {},
   "outputs": [
    {
     "name": "stdout",
     "output_type": "stream",
     "text": [
      "Unique values of Diabetes: [0. 2. 1.]\n"
     ]
    },
    {
     "data": {
      "image/png": "[encoded data removed]",
      "text/plain": [
       "<Figure size 432x288 with 1 Axes>"
      ]
     },
     "metadata": {
      "needs_background": "light"
     },
     "output_type": "display_data"
    }
   ],
   "source": [
    "#7 Diabetes\n",
    "# going to make this ordinal. 0 is for no diabetes or only during pregnancy, 1 is for pre-diabetes or borderline diabetes, 2 is for yes diabetes\n",
    "# Remove all 7 (dont knows)\n",
    "# Remove all 9 (refused)\n",
    "data_df_selected['Diabetes'] = data_df_selected['Diabetes'].replace({2:0, 3:0, 1:2, 4:1})\n",
    "data_df_selected = data_df_selected[data_df_selected.Diabetes != 7]\n",
    "data_df_selected = data_df_selected[data_df_selected.Diabetes != 9]\n",
    "\n",
    "# Display the unique values of Diabetes\n",
    "print('Unique values of Diabetes:', data_df_selected['Diabetes'].unique())\n",
    "\n",
    "# plot the distribution of the values\n",
    "sns.countplot(data=data_df_selected, x='Diabetes')\n",
    "plt.show()"
   ]
  },
  {
   "cell_type": "code",
   "execution_count": 26,
   "id": "bc876b1a",
   "metadata": {},
   "outputs": [],
   "source": [
    "#8 PhysActivity\n",
    "# 1 for physical activity\n",
    "# change 2 to 0 for no physical activity\n",
    "# Remove all 9 (don't know/refused)\n",
    "# data_df_selected['PhysActivity'] = data_df_selected['PhysActivity'].replace({2:0})\n",
    "# data_df_selected = data_df_selected[data_df_selected.PhysActivity != 9]\n",
    "# data_df_selected.PhysActivity.unique()"
   ]
  },
  {
   "cell_type": "code",
   "execution_count": 27,
   "id": "17a36657",
   "metadata": {},
   "outputs": [],
   "source": [
    "#9 Fruits\n",
    "# Change 2 to 0. this means no fruit consumed per day. 1 will mean consumed 1 or more pieces of fruit per day \n",
    "# remove all dont knows and missing 9\n",
    "# data_df_selected['Fruits'] = data_df_selected['Fruits'].replace({2:0})\n",
    "#data_df_selected = data_df_selected[data_df_selected.Fruits != 9]\n",
    "#data_df_selected.Fruits.unique()"
   ]
  },
  {
   "cell_type": "code",
   "execution_count": 28,
   "id": "b1efc118",
   "metadata": {},
   "outputs": [],
   "source": [
    "#10 Vegetables\n",
    "# Change 2 to 0. this means no vegetables consumed per day. 1 will mean consumed 1 or more pieces of vegetable per day \n",
    "# remove all dont knows and missing 9\n",
    "#data_df_selected['Vegetables'] = data_df_selected['Vegetables'].replace({2:0})\n",
    "#data_df_selected = data_df_selected[data_df_selected.Vegetables != 9]\n",
    "#data_df_selected.Vegetables.unique()"
   ]
  },
  {
   "cell_type": "code",
   "execution_count": 29,
   "id": "a08addc5",
   "metadata": {},
   "outputs": [
    {
     "name": "stdout",
     "output_type": "stream",
     "text": [
      "Unique values of HvyAlcoholConsump: [0. 1.]\n"
     ]
    },
    {
     "data": {
      "image/png": "[encoded data removed]",
      "text/plain": [
       "<Figure size 432x288 with 1 Axes>"
      ]
     },
     "metadata": {
      "needs_background": "light"
     },
     "output_type": "display_data"
    }
   ],
   "source": [
    "#11 HvyAlcoholConsump\n",
    "# Change 1 to 0 (1 was no for heavy drinking). change all 2 to 1 (2 was yes for heavy drinking)\n",
    "# remove all dont knows and missing 9\n",
    "data_df_selected['HvyAlcoholConsump'] = data_df_selected['HvyAlcoholConsump'].replace({1:0, 2:1})\n",
    "data_df_selected = data_df_selected[data_df_selected.HvyAlcoholConsump != 9]\n",
    "\n",
    "# Display the unique values of HvyAlcoholConsump\n",
    "print('Unique values of HvyAlcoholConsump:', data_df_selected['HvyAlcoholConsump'].unique())\n",
    "\n",
    "# plot the distribution of the values\n",
    "sns.countplot(data=data_df_selected, x='Diabetes')\n",
    "plt.show()"
   ]
  },
  {
   "cell_type": "code",
   "execution_count": 30,
   "id": "456f8020",
   "metadata": {},
   "outputs": [],
   "source": [
    "#12 AnyHealthcare\n",
    "# 1 is yes, change 2 to 0 because it is No health care access\n",
    "# remove 7 and 9 for don't know or refused\n",
    "#data_df_selected['AnyHealthcare'] = data_df_selected['AnyHealthcare'].replace({2:0})\n",
    "#data_df_selected = data_df_selected[data_df_selected.AnyHealthcare != 7]\n",
    "#data_df_selected = data_df_selected[data_df_selected.AnyHealthcare != 9]\n",
    "#data_df_selected.AnyHealthcare.unique()"
   ]
  },
  {
   "cell_type": "code",
   "execution_count": 31,
   "id": "3f664ae5",
   "metadata": {},
   "outputs": [],
   "source": [
    "#13 NoDocbcCost\n",
    "# Change 2 to 0 for no, 1 is already yes\n",
    "# remove 7 for don/t know and 9 for refused\n",
    "#data_df_selected['NoDocbcCost'] = data_df_selected['NoDocbcCost'].replace({2:0})\n",
    "#data_df_selected = data_df_selected[data_df_selected.NoDocbcCost != 7]\n",
    "#data_df_selected = data_df_selected[data_df_selected.NoDocbcCost != 9]\n",
    "#data_df_selected.NoDocbcCost.unique()"
   ]
  },
  {
   "cell_type": "code",
   "execution_count": 32,
   "id": "f00c119d",
   "metadata": {},
   "outputs": [
    {
     "name": "stdout",
     "output_type": "stream",
     "text": [
      "Unique values of GenHlth: [5. 2. 3. 4. 1.]\n"
     ]
    },
    {
     "data": {
      "image/png": "[encoded data removed]",
      "text/plain": [
       "<Figure size 432x288 with 1 Axes>"
      ]
     },
     "metadata": {
      "needs_background": "light"
     },
     "output_type": "display_data"
    }
   ],
   "source": [
    "#14 GenHlth\n",
    "# This is an ordinal variable that should be kept (1 is Excellent -> 5 is Poor)\n",
    "# Remove 7 and 9 for don't know and refused\n",
    "data_df_selected = data_df_selected[data_df_selected.GenHlth != 7]\n",
    "data_df_selected = data_df_selected[data_df_selected.GenHlth != 9]\n",
    "\n",
    "# Display the unique values of GenHlth\n",
    "print('Unique values of GenHlth:', data_df_selected['GenHlth'].unique())\n",
    "\n",
    "# Plot a countplot of GenHlth\n",
    "sns.countplot(data=data_df_selected, x='GenHlth')\n",
    "plt.show()"
   ]
  },
  {
   "cell_type": "code",
   "execution_count": 33,
   "id": "ca74aea4",
   "metadata": {},
   "outputs": [
    {
     "name": "stdout",
     "output_type": "stream",
     "text": [
      "Unique values of MentHlth: [18. 30.  0.  3.  2.  5. 15.  1.  6. 20. 25. 10.  4.  8.  7. 21. 14.  9.\n",
      " 29. 16. 28. 11. 12. 23. 24. 17. 13. 19. 26. 27. 22.]\n"
     ]
    },
    {
     "data": {
      "image/png": "[encoded data removed]",
      "text/plain": [
       "<Figure size 432x288 with 1 Axes>"
      ]
     },
     "metadata": {
      "needs_background": "light"
     },
     "output_type": "display_data"
    }
   ],
   "source": [
    "#15 MentHlth\n",
    "# already in days so keep that, scale will be 0-30\n",
    "# change 88 to 0 because it means none (no bad mental health days)\n",
    "# remove 77 and 99 for don't know not sure and refused\n",
    "data_df_selected['MentHlth'] = data_df_selected['MentHlth'].replace({88:0})\n",
    "data_df_selected = data_df_selected[data_df_selected.MentHlth != 77]\n",
    "data_df_selected = data_df_selected[data_df_selected.MentHlth != 99]\n",
    "\n",
    "# Display the unique values of MentHlth\n",
    "print('Unique values of MentHlth:', data_df_selected['MentHlth'].unique())\n",
    "\n",
    "plt.hist(data_df_selected['MentHlth'], bins=31, range=(0, 30), edgecolor='black')\n",
    "plt.xticks(range(0, 31))\n",
    "plt.xlabel('Number of bad mental health days')\n",
    "plt.ylabel('Frequency')\n",
    "plt.title('Distribution of values for MentHlth')\n",
    "plt.show()"
   ]
  },
  {
   "cell_type": "code",
   "execution_count": 34,
   "id": "a0f135b7",
   "metadata": {},
   "outputs": [
    {
     "name": "stdout",
     "output_type": "stream",
     "text": [
      "Unique values of PhysHlth: [15. 30.  0.  2. 14. 20.  7.  3.  5. 17.  1. 10.  4.  6. 12. 28.  8. 25.\n",
      " 27. 21. 22. 29. 24.  9. 16. 13. 23. 18. 26. 11. 19.]\n"
     ]
    },
    {
     "data": {
      "image/png": "[encoded data removed]",
      "text/plain": [
       "<Figure size 432x288 with 1 Axes>"
      ]
     },
     "metadata": {
      "needs_background": "light"
     },
     "output_type": "display_data"
    }
   ],
   "source": [
    "#16 PhysHlth\n",
    "# already in days so keep that, scale will be 0-30\n",
    "# change 88 to 0 because it means none (no bad mental health days)\n",
    "# remove 77 and 99 for don't know not sure and refused\n",
    "data_df_selected['PhysHlth'] = data_df_selected['PhysHlth'].replace({88:0})\n",
    "data_df_selected = data_df_selected[data_df_selected.PhysHlth != 77]\n",
    "data_df_selected = data_df_selected[data_df_selected.PhysHlth != 99]\n",
    "\n",
    "# Display the unique values of PhysHlth\n",
    "print('Unique values of PhysHlth:', data_df_selected['PhysHlth'].unique())\n",
    "\n",
    "plt.hist(data_df_selected['PhysHlth'], bins=31, range=(0, 30), edgecolor='black')\n",
    "plt.xticks(range(0, 31))\n",
    "plt.xlabel('Number of bad physical health days')\n",
    "plt.ylabel('Frequency')\n",
    "plt.title('Distribution of values for PhysHlth')\n",
    "plt.show()"
   ]
  },
  {
   "cell_type": "code",
   "execution_count": 35,
   "id": "cee086b3",
   "metadata": {},
   "outputs": [],
   "source": [
    "#17 DiffWalk\n",
    "# change 2 to 0 for no. 1 is already yes\n",
    "# remove 7 and 9 for don't know not sure and refused\n",
    "#data_df_selected['DiffWalk'] = data_df_selected['DiffWalk'].replace({2:0})\n",
    "#data_df_selected = data_df_selected[data_df_selected.DiffWalk != 7]\n",
    "#data_df_selected = data_df_selected[data_df_selected.DiffWalk != 9]\n",
    "#data_df_selected.DiffWalk.unique()"
   ]
  },
  {
   "cell_type": "code",
   "execution_count": 36,
   "id": "796530f3",
   "metadata": {},
   "outputs": [],
   "source": [
    "#18 Sex\n",
    "# in other words - is respondent male\n",
    "# change 2 to 0 (female as 0). Male is 1\n",
    "#data_df_selected['Sex'] = data_df_selected['Sex'].replace({2:0})\n",
    "#data_df_selected.Sex.unique()"
   ]
  },
  {
   "cell_type": "code",
   "execution_count": 37,
   "id": "9fc8c1b0",
   "metadata": {},
   "outputs": [
    {
     "name": "stdout",
     "output_type": "stream",
     "text": [
      "Unique values of Age: [ 9. 11. 10. 13.  6. 12.  8.  7.  4.  5.  3.  2.  1.]\n"
     ]
    },
    {
     "data": {
      "image/png": "[encoded data removed]",
      "text/plain": [
       "<Figure size 432x288 with 1 Axes>"
      ]
     },
     "metadata": {
      "needs_background": "light"
     },
     "output_type": "display_data"
    }
   ],
   "source": [
    "#19 Age\n",
    "# already ordinal. 1 is 18-24 all the way up to 13 is 80 and older. 5 year increments.\n",
    "# remove 14 because it is don't know or missing\n",
    "data_df_selected = data_df_selected[data_df_selected.Age != 14]\n",
    "\n",
    "# Display the unique values of Age\n",
    "print('Unique values of Age:', data_df_selected['Age'].unique())\n",
    "\n",
    "# plot histogram to show the distribution of values for age\n",
    "plt.hist(data_df_selected['Age'], bins=14, range=(0, 13), edgecolor='black')\n",
    "plt.xticks(range(0, 14))\n",
    "plt.xlabel('Age categories')\n",
    "plt.ylabel('Number of data entries')\n",
    "plt.title('Distribution of age values')\n",
    "plt.show()"
   ]
  },
  {
   "cell_type": "code",
   "execution_count": 38,
   "id": "d6780da2",
   "metadata": {},
   "outputs": [
    {
     "name": "stdout",
     "output_type": "stream",
     "text": [
      "Unique values of Education: [4. 3. 5. 6. 2. 1.]\n"
     ]
    },
    {
     "data": {
      "image/png": "[encoded data removed]",
      "text/plain": [
       "<Figure size 432x288 with 1 Axes>"
      ]
     },
     "metadata": {
      "needs_background": "light"
     },
     "output_type": "display_data"
    }
   ],
   "source": [
    "#20 Education\n",
    "# This is already an ordinal variable with 1 being never attended school or kindergarten only up to 6 being college 4 years or more\n",
    "# Scale here is 1-6\n",
    "# Remove 9 for refused:\n",
    "data_df_selected = data_df_selected[data_df_selected.Education != 9]\n",
    "data_df_selected.Education.unique()\n",
    "\n",
    "# Display the unique values of Education\n",
    "print('Unique values of Education:', data_df_selected['Education'].unique())\n",
    "\n",
    "# plot histogram to show the distribution of values for education\n",
    "plt.hist(data_df_selected['Education'], bins=6, range=(0, 6), edgecolor='black')\n",
    "plt.xticks(range(0, 6))\n",
    "plt.xlabel('Education categories')\n",
    "plt.ylabel('Number of data entries')\n",
    "plt.title('Distribution of education values')\n",
    "plt.show()"
   ]
  },
  {
   "cell_type": "code",
   "execution_count": 39,
   "id": "7e89708c",
   "metadata": {},
   "outputs": [
    {
     "name": "stdout",
     "output_type": "stream",
     "text": [
      "Unique values of Income: [3. 8. 6. 4. 7. 1. 5. 2.]\n"
     ]
    },
    {
     "data": {
      "image/png": "[encoded data removed]",
      "text/plain": [
       "<Figure size 432x288 with 1 Axes>"
      ]
     },
     "metadata": {
      "needs_background": "light"
     },
     "output_type": "display_data"
    }
   ],
   "source": [
    "#21 Income\n",
    "# Variable is already ordinal with 1 being less than $10,000 all the way up to 8 being $75,000 or more\n",
    "# Remove 77 and 99 for don't know and refused\n",
    "data_df_selected = data_df_selected[data_df_selected.Income != 77]\n",
    "data_df_selected = data_df_selected[data_df_selected.Income != 99]\n",
    "\n",
    "# Display the unique values of Income\n",
    "print('Unique values of Income:', data_df_selected['Income'].unique())\n",
    "\n",
    "# plot histogram to show the distribution of values for income\n",
    "plt.hist(data_df_selected['Income'], bins=8, range=(0, 9), edgecolor='black')\n",
    "plt.xticks(range(0, 9))\n",
    "plt.xlabel('Income categories')\n",
    "plt.ylabel('Number of data entries')\n",
    "plt.title('Distribution of income values')\n",
    "plt.show()"
   ]
  },
  {
   "cell_type": "code",
   "execution_count": 40,
   "id": "1ff88f41-c204-41d1-b924-9c7c1ac1bb8d",
   "metadata": {},
   "outputs": [
    {
     "name": "stdout",
     "output_type": "stream",
     "text": [
      "Unique values of Employment: [8. 2. 7. 5. 1. 3. 4. 6.]\n"
     ]
    },
    {
     "data": {
      "image/png": "[encoded data removed]",
      "text/plain": [
       "<Figure size 432x288 with 1 Axes>"
      ]
     },
     "metadata": {
      "needs_background": "light"
     },
     "output_type": "display_data"
    }
   ],
   "source": [
    "#22 Employment\n",
    "# Categorical Variable \n",
    "# remove 9 for refused\n",
    "data_df_selected = data_df_selected[data_df_selected.Employment != 9]\n",
    "data_df_selected.Employment.unique()\n",
    "\n",
    "# Display the unique values of Employment\n",
    "print('Unique values of Employment:', data_df_selected['Employment'].unique())\n",
    "\n",
    "# plot histogram to show the distribution of values for employment\n",
    "plt.hist(data_df_selected['Employment'], bins=8, range=(0, 9), edgecolor='black')\n",
    "plt.xticks(range(0, 9))\n",
    "plt.xlabel('Employment categories')\n",
    "plt.ylabel('Number of data entries')\n",
    "plt.title('Distribution of employment values')\n",
    "plt.show()"
   ]
  },
  {
   "cell_type": "code",
   "execution_count": 41,
   "id": "98f56137-66b3-4c78-9ae1-326a23b7403b",
   "metadata": {},
   "outputs": [
    {
     "data": {
      "text/plain": [
       "(114157, 27)"
      ]
     },
     "execution_count": 41,
     "metadata": {},
     "output_type": "execute_result"
    }
   ],
   "source": [
    "data_df_selected.shape"
   ]
  },
  {
   "cell_type": "markdown",
   "id": "8f1527c1",
   "metadata": {
    "tags": []
   },
   "source": [
    "### Having a closer look on the selected dataset:"
   ]
  },
  {
   "cell_type": "code",
   "execution_count": 42,
   "id": "3f7d336d",
   "metadata": {},
   "outputs": [
    {
     "data": {
      "text/plain": [
       "(114157, 27)"
      ]
     },
     "execution_count": 42,
     "metadata": {},
     "output_type": "execute_result"
    }
   ],
   "source": [
    "data_df_selected.shape"
   ]
  },
  {
   "cell_type": "code",
   "execution_count": 43,
   "id": "6b2fda57",
   "metadata": {
    "scrolled": true
   },
   "outputs": [
    {
     "data": {
      "text/html": [
       "<div>\n",
       "<style scoped>\n",
       "    .dataframe tbody tr th:only-of-type {\n",
       "        vertical-align: middle;\n",
       "    }\n",
       "\n",
       "    .dataframe tbody tr th {\n",
       "        vertical-align: top;\n",
       "    }\n",
       "\n",
       "    .dataframe thead th {\n",
       "        text-align: right;\n",
       "    }\n",
       "</style>\n",
       "<table border=\"1\" class=\"dataframe\">\n",
       "  <thead>\n",
       "    <tr style=\"text-align: right;\">\n",
       "      <th></th>\n",
       "      <th>HeartDiseaseorAttack</th>\n",
       "      <th>HighBP</th>\n",
       "      <th>HighChol</th>\n",
       "      <th>CholCheck</th>\n",
       "      <th>BMI</th>\n",
       "      <th>Smoker</th>\n",
       "      <th>Stroke</th>\n",
       "      <th>Diabetes</th>\n",
       "      <th>PhysActivity</th>\n",
       "      <th>Fruits</th>\n",
       "      <th>...</th>\n",
       "      <th>DiffWalk</th>\n",
       "      <th>Sex</th>\n",
       "      <th>Age</th>\n",
       "      <th>Education</th>\n",
       "      <th>Income</th>\n",
       "      <th>Employment</th>\n",
       "      <th>HeartDisease</th>\n",
       "      <th>FluShot</th>\n",
       "      <th>KidneyDisease</th>\n",
       "      <th>MedHighBP</th>\n",
       "    </tr>\n",
       "  </thead>\n",
       "  <tbody>\n",
       "    <tr>\n",
       "      <th>count</th>\n",
       "      <td>114157.000000</td>\n",
       "      <td>114157.0</td>\n",
       "      <td>114157.000000</td>\n",
       "      <td>114157.000000</td>\n",
       "      <td>114157.000000</td>\n",
       "      <td>114157.000000</td>\n",
       "      <td>114157.000000</td>\n",
       "      <td>114157.000000</td>\n",
       "      <td>114157.000000</td>\n",
       "      <td>114157.000000</td>\n",
       "      <td>...</td>\n",
       "      <td>114157.000000</td>\n",
       "      <td>114157.000000</td>\n",
       "      <td>114157.000000</td>\n",
       "      <td>114157.000000</td>\n",
       "      <td>114157.000000</td>\n",
       "      <td>114157.000000</td>\n",
       "      <td>114157.000000</td>\n",
       "      <td>114157.000000</td>\n",
       "      <td>114157.000000</td>\n",
       "      <td>114157.000000</td>\n",
       "    </tr>\n",
       "    <tr>\n",
       "      <th>mean</th>\n",
       "      <td>1.833063</td>\n",
       "      <td>1.0</td>\n",
       "      <td>1.446193</td>\n",
       "      <td>0.983978</td>\n",
       "      <td>29.971933</td>\n",
       "      <td>1.525539</td>\n",
       "      <td>1.942921</td>\n",
       "      <td>0.517927</td>\n",
       "      <td>1.328626</td>\n",
       "      <td>1.542586</td>\n",
       "      <td>...</td>\n",
       "      <td>1.752096</td>\n",
       "      <td>1.530322</td>\n",
       "      <td>9.301409</td>\n",
       "      <td>4.877441</td>\n",
       "      <td>5.608662</td>\n",
       "      <td>4.698407</td>\n",
       "      <td>1.906252</td>\n",
       "      <td>1.450625</td>\n",
       "      <td>1.955237</td>\n",
       "      <td>1.155969</td>\n",
       "    </tr>\n",
       "    <tr>\n",
       "      <th>std</th>\n",
       "      <td>0.372921</td>\n",
       "      <td>0.0</td>\n",
       "      <td>0.689651</td>\n",
       "      <td>0.125560</td>\n",
       "      <td>6.869780</td>\n",
       "      <td>0.631086</td>\n",
       "      <td>0.376665</td>\n",
       "      <td>0.860564</td>\n",
       "      <td>0.595857</td>\n",
       "      <td>1.181563</td>\n",
       "      <td>...</td>\n",
       "      <td>0.553383</td>\n",
       "      <td>0.499082</td>\n",
       "      <td>2.551054</td>\n",
       "      <td>1.026721</td>\n",
       "      <td>2.160639</td>\n",
       "      <td>2.866653</td>\n",
       "      <td>0.469978</td>\n",
       "      <td>0.625748</td>\n",
       "      <td>0.407058</td>\n",
       "      <td>0.402282</td>\n",
       "    </tr>\n",
       "    <tr>\n",
       "      <th>min</th>\n",
       "      <td>1.000000</td>\n",
       "      <td>1.0</td>\n",
       "      <td>1.000000</td>\n",
       "      <td>0.000000</td>\n",
       "      <td>13.000000</td>\n",
       "      <td>1.000000</td>\n",
       "      <td>1.000000</td>\n",
       "      <td>0.000000</td>\n",
       "      <td>1.000000</td>\n",
       "      <td>1.000000</td>\n",
       "      <td>...</td>\n",
       "      <td>1.000000</td>\n",
       "      <td>1.000000</td>\n",
       "      <td>1.000000</td>\n",
       "      <td>1.000000</td>\n",
       "      <td>1.000000</td>\n",
       "      <td>1.000000</td>\n",
       "      <td>1.000000</td>\n",
       "      <td>1.000000</td>\n",
       "      <td>1.000000</td>\n",
       "      <td>1.000000</td>\n",
       "    </tr>\n",
       "    <tr>\n",
       "      <th>25%</th>\n",
       "      <td>2.000000</td>\n",
       "      <td>1.0</td>\n",
       "      <td>1.000000</td>\n",
       "      <td>1.000000</td>\n",
       "      <td>26.000000</td>\n",
       "      <td>1.000000</td>\n",
       "      <td>2.000000</td>\n",
       "      <td>0.000000</td>\n",
       "      <td>1.000000</td>\n",
       "      <td>1.000000</td>\n",
       "      <td>...</td>\n",
       "      <td>1.000000</td>\n",
       "      <td>1.000000</td>\n",
       "      <td>8.000000</td>\n",
       "      <td>4.000000</td>\n",
       "      <td>4.000000</td>\n",
       "      <td>1.000000</td>\n",
       "      <td>2.000000</td>\n",
       "      <td>1.000000</td>\n",
       "      <td>2.000000</td>\n",
       "      <td>1.000000</td>\n",
       "    </tr>\n",
       "    <tr>\n",
       "      <th>50%</th>\n",
       "      <td>2.000000</td>\n",
       "      <td>1.0</td>\n",
       "      <td>1.000000</td>\n",
       "      <td>1.000000</td>\n",
       "      <td>29.000000</td>\n",
       "      <td>2.000000</td>\n",
       "      <td>2.000000</td>\n",
       "      <td>0.000000</td>\n",
       "      <td>1.000000</td>\n",
       "      <td>1.000000</td>\n",
       "      <td>...</td>\n",
       "      <td>2.000000</td>\n",
       "      <td>2.000000</td>\n",
       "      <td>10.000000</td>\n",
       "      <td>5.000000</td>\n",
       "      <td>6.000000</td>\n",
       "      <td>7.000000</td>\n",
       "      <td>2.000000</td>\n",
       "      <td>1.000000</td>\n",
       "      <td>2.000000</td>\n",
       "      <td>1.000000</td>\n",
       "    </tr>\n",
       "    <tr>\n",
       "      <th>75%</th>\n",
       "      <td>2.000000</td>\n",
       "      <td>1.0</td>\n",
       "      <td>2.000000</td>\n",
       "      <td>1.000000</td>\n",
       "      <td>33.000000</td>\n",
       "      <td>2.000000</td>\n",
       "      <td>2.000000</td>\n",
       "      <td>1.000000</td>\n",
       "      <td>2.000000</td>\n",
       "      <td>2.000000</td>\n",
       "      <td>...</td>\n",
       "      <td>2.000000</td>\n",
       "      <td>2.000000</td>\n",
       "      <td>11.000000</td>\n",
       "      <td>6.000000</td>\n",
       "      <td>8.000000</td>\n",
       "      <td>7.000000</td>\n",
       "      <td>2.000000</td>\n",
       "      <td>2.000000</td>\n",
       "      <td>2.000000</td>\n",
       "      <td>1.000000</td>\n",
       "    </tr>\n",
       "    <tr>\n",
       "      <th>max</th>\n",
       "      <td>2.000000</td>\n",
       "      <td>1.0</td>\n",
       "      <td>9.000000</td>\n",
       "      <td>1.000000</td>\n",
       "      <td>98.000000</td>\n",
       "      <td>9.000000</td>\n",
       "      <td>9.000000</td>\n",
       "      <td>2.000000</td>\n",
       "      <td>9.000000</td>\n",
       "      <td>9.000000</td>\n",
       "      <td>...</td>\n",
       "      <td>9.000000</td>\n",
       "      <td>2.000000</td>\n",
       "      <td>13.000000</td>\n",
       "      <td>6.000000</td>\n",
       "      <td>8.000000</td>\n",
       "      <td>8.000000</td>\n",
       "      <td>9.000000</td>\n",
       "      <td>9.000000</td>\n",
       "      <td>9.000000</td>\n",
       "      <td>9.000000</td>\n",
       "    </tr>\n",
       "  </tbody>\n",
       "</table>\n",
       "<p>8 rows × 27 columns</p>\n",
       "</div>"
      ],
      "text/plain": [
       "       HeartDiseaseorAttack    HighBP       HighChol      CholCheck  \\\n",
       "count         114157.000000  114157.0  114157.000000  114157.000000   \n",
       "mean               1.833063       1.0       1.446193       0.983978   \n",
       "std                0.372921       0.0       0.689651       0.125560   \n",
       "min                1.000000       1.0       1.000000       0.000000   \n",
       "25%                2.000000       1.0       1.000000       1.000000   \n",
       "50%                2.000000       1.0       1.000000       1.000000   \n",
       "75%                2.000000       1.0       2.000000       1.000000   \n",
       "max                2.000000       1.0       9.000000       1.000000   \n",
       "\n",
       "                 BMI         Smoker         Stroke       Diabetes  \\\n",
       "count  114157.000000  114157.000000  114157.000000  114157.000000   \n",
       "mean       29.971933       1.525539       1.942921       0.517927   \n",
       "std         6.869780       0.631086       0.376665       0.860564   \n",
       "min        13.000000       1.000000       1.000000       0.000000   \n",
       "25%        26.000000       1.000000       2.000000       0.000000   \n",
       "50%        29.000000       2.000000       2.000000       0.000000   \n",
       "75%        33.000000       2.000000       2.000000       1.000000   \n",
       "max        98.000000       9.000000       9.000000       2.000000   \n",
       "\n",
       "        PhysActivity         Fruits  ...       DiffWalk            Sex  \\\n",
       "count  114157.000000  114157.000000  ...  114157.000000  114157.000000   \n",
       "mean        1.328626       1.542586  ...       1.752096       1.530322   \n",
       "std         0.595857       1.181563  ...       0.553383       0.499082   \n",
       "min         1.000000       1.000000  ...       1.000000       1.000000   \n",
       "25%         1.000000       1.000000  ...       1.000000       1.000000   \n",
       "50%         1.000000       1.000000  ...       2.000000       2.000000   \n",
       "75%         2.000000       2.000000  ...       2.000000       2.000000   \n",
       "max         9.000000       9.000000  ...       9.000000       2.000000   \n",
       "\n",
       "                 Age      Education         Income     Employment  \\\n",
       "count  114157.000000  114157.000000  114157.000000  114157.000000   \n",
       "mean        9.301409       4.877441       5.608662       4.698407   \n",
       "std         2.551054       1.026721       2.160639       2.866653   \n",
       "min         1.000000       1.000000       1.000000       1.000000   \n",
       "25%         8.000000       4.000000       4.000000       1.000000   \n",
       "50%        10.000000       5.000000       6.000000       7.000000   \n",
       "75%        11.000000       6.000000       8.000000       7.000000   \n",
       "max        13.000000       6.000000       8.000000       8.000000   \n",
       "\n",
       "        HeartDisease        FluShot  KidneyDisease      MedHighBP  \n",
       "count  114157.000000  114157.000000  114157.000000  114157.000000  \n",
       "mean        1.906252       1.450625       1.955237       1.155969  \n",
       "std         0.469978       0.625748       0.407058       0.402282  \n",
       "min         1.000000       1.000000       1.000000       1.000000  \n",
       "25%         2.000000       1.000000       2.000000       1.000000  \n",
       "50%         2.000000       1.000000       2.000000       1.000000  \n",
       "75%         2.000000       2.000000       2.000000       1.000000  \n",
       "max         9.000000       9.000000       9.000000       9.000000  \n",
       "\n",
       "[8 rows x 27 columns]"
      ]
     },
     "execution_count": 43,
     "metadata": {},
     "output_type": "execute_result"
    }
   ],
   "source": [
    "data_df_selected.describe()"
   ]
  },
  {
   "cell_type": "code",
   "execution_count": 44,
   "id": "eaa505c9",
   "metadata": {},
   "outputs": [],
   "source": [
    "# save to csv\n",
    "data_df_selected.to_csv('heart_disease_health_features.csv', sep=\",\", index=False)"
   ]
  },
  {
   "cell_type": "markdown",
   "id": "d6718406-fbcd-404f-a9e2-204287faf71e",
   "metadata": {},
   "source": [
    "# Building models"
   ]
  },
  {
   "cell_type": "code",
   "execution_count": 45,
   "id": "a7a82a79",
   "metadata": {},
   "outputs": [
    {
     "data": {
      "text/html": [
       "<div>\n",
       "<style scoped>\n",
       "    .dataframe tbody tr th:only-of-type {\n",
       "        vertical-align: middle;\n",
       "    }\n",
       "\n",
       "    .dataframe tbody tr th {\n",
       "        vertical-align: top;\n",
       "    }\n",
       "\n",
       "    .dataframe thead th {\n",
       "        text-align: right;\n",
       "    }\n",
       "</style>\n",
       "<table border=\"1\" class=\"dataframe\">\n",
       "  <thead>\n",
       "    <tr style=\"text-align: right;\">\n",
       "      <th></th>\n",
       "      <th>HeartDiseaseorAttack</th>\n",
       "      <th>HighBP</th>\n",
       "      <th>HighChol</th>\n",
       "      <th>CholCheck</th>\n",
       "      <th>BMI</th>\n",
       "      <th>Smoker</th>\n",
       "      <th>Stroke</th>\n",
       "      <th>Diabetes</th>\n",
       "      <th>PhysActivity</th>\n",
       "      <th>Fruits</th>\n",
       "      <th>...</th>\n",
       "      <th>DiffWalk</th>\n",
       "      <th>Sex</th>\n",
       "      <th>Age</th>\n",
       "      <th>Education</th>\n",
       "      <th>Income</th>\n",
       "      <th>Employment</th>\n",
       "      <th>HeartDisease</th>\n",
       "      <th>FluShot</th>\n",
       "      <th>KidneyDisease</th>\n",
       "      <th>MedHighBP</th>\n",
       "    </tr>\n",
       "  </thead>\n",
       "  <tbody>\n",
       "    <tr>\n",
       "      <th>0</th>\n",
       "      <td>2.0</td>\n",
       "      <td>1.0</td>\n",
       "      <td>1.0</td>\n",
       "      <td>1.0</td>\n",
       "      <td>40.0</td>\n",
       "      <td>1.0</td>\n",
       "      <td>2.0</td>\n",
       "      <td>0.0</td>\n",
       "      <td>2.0</td>\n",
       "      <td>2.0</td>\n",
       "      <td>...</td>\n",
       "      <td>1.0</td>\n",
       "      <td>2.0</td>\n",
       "      <td>9.0</td>\n",
       "      <td>4.0</td>\n",
       "      <td>3.0</td>\n",
       "      <td>8.0</td>\n",
       "      <td>2.0</td>\n",
       "      <td>1.0</td>\n",
       "      <td>2.0</td>\n",
       "      <td>1.0</td>\n",
       "    </tr>\n",
       "    <tr>\n",
       "      <th>1</th>\n",
       "      <td>2.0</td>\n",
       "      <td>1.0</td>\n",
       "      <td>1.0</td>\n",
       "      <td>1.0</td>\n",
       "      <td>28.0</td>\n",
       "      <td>2.0</td>\n",
       "      <td>2.0</td>\n",
       "      <td>0.0</td>\n",
       "      <td>2.0</td>\n",
       "      <td>1.0</td>\n",
       "      <td>...</td>\n",
       "      <td>1.0</td>\n",
       "      <td>2.0</td>\n",
       "      <td>9.0</td>\n",
       "      <td>4.0</td>\n",
       "      <td>8.0</td>\n",
       "      <td>8.0</td>\n",
       "      <td>2.0</td>\n",
       "      <td>1.0</td>\n",
       "      <td>2.0</td>\n",
       "      <td>1.0</td>\n",
       "    </tr>\n",
       "    <tr>\n",
       "      <th>2</th>\n",
       "      <td>2.0</td>\n",
       "      <td>1.0</td>\n",
       "      <td>2.0</td>\n",
       "      <td>1.0</td>\n",
       "      <td>27.0</td>\n",
       "      <td>2.0</td>\n",
       "      <td>2.0</td>\n",
       "      <td>0.0</td>\n",
       "      <td>1.0</td>\n",
       "      <td>1.0</td>\n",
       "      <td>...</td>\n",
       "      <td>2.0</td>\n",
       "      <td>2.0</td>\n",
       "      <td>11.0</td>\n",
       "      <td>3.0</td>\n",
       "      <td>6.0</td>\n",
       "      <td>2.0</td>\n",
       "      <td>2.0</td>\n",
       "      <td>1.0</td>\n",
       "      <td>2.0</td>\n",
       "      <td>1.0</td>\n",
       "    </tr>\n",
       "    <tr>\n",
       "      <th>3</th>\n",
       "      <td>2.0</td>\n",
       "      <td>1.0</td>\n",
       "      <td>1.0</td>\n",
       "      <td>1.0</td>\n",
       "      <td>24.0</td>\n",
       "      <td>2.0</td>\n",
       "      <td>2.0</td>\n",
       "      <td>0.0</td>\n",
       "      <td>1.0</td>\n",
       "      <td>1.0</td>\n",
       "      <td>...</td>\n",
       "      <td>2.0</td>\n",
       "      <td>2.0</td>\n",
       "      <td>11.0</td>\n",
       "      <td>5.0</td>\n",
       "      <td>4.0</td>\n",
       "      <td>7.0</td>\n",
       "      <td>2.0</td>\n",
       "      <td>2.0</td>\n",
       "      <td>2.0</td>\n",
       "      <td>1.0</td>\n",
       "    </tr>\n",
       "    <tr>\n",
       "      <th>4</th>\n",
       "      <td>2.0</td>\n",
       "      <td>1.0</td>\n",
       "      <td>1.0</td>\n",
       "      <td>1.0</td>\n",
       "      <td>25.0</td>\n",
       "      <td>1.0</td>\n",
       "      <td>2.0</td>\n",
       "      <td>0.0</td>\n",
       "      <td>1.0</td>\n",
       "      <td>1.0</td>\n",
       "      <td>...</td>\n",
       "      <td>2.0</td>\n",
       "      <td>1.0</td>\n",
       "      <td>10.0</td>\n",
       "      <td>6.0</td>\n",
       "      <td>8.0</td>\n",
       "      <td>7.0</td>\n",
       "      <td>2.0</td>\n",
       "      <td>2.0</td>\n",
       "      <td>2.0</td>\n",
       "      <td>1.0</td>\n",
       "    </tr>\n",
       "    <tr>\n",
       "      <th>...</th>\n",
       "      <td>...</td>\n",
       "      <td>...</td>\n",
       "      <td>...</td>\n",
       "      <td>...</td>\n",
       "      <td>...</td>\n",
       "      <td>...</td>\n",
       "      <td>...</td>\n",
       "      <td>...</td>\n",
       "      <td>...</td>\n",
       "      <td>...</td>\n",
       "      <td>...</td>\n",
       "      <td>...</td>\n",
       "      <td>...</td>\n",
       "      <td>...</td>\n",
       "      <td>...</td>\n",
       "      <td>...</td>\n",
       "      <td>...</td>\n",
       "      <td>...</td>\n",
       "      <td>...</td>\n",
       "      <td>...</td>\n",
       "      <td>...</td>\n",
       "    </tr>\n",
       "    <tr>\n",
       "      <th>114152</th>\n",
       "      <td>2.0</td>\n",
       "      <td>1.0</td>\n",
       "      <td>2.0</td>\n",
       "      <td>1.0</td>\n",
       "      <td>42.0</td>\n",
       "      <td>2.0</td>\n",
       "      <td>2.0</td>\n",
       "      <td>0.0</td>\n",
       "      <td>1.0</td>\n",
       "      <td>1.0</td>\n",
       "      <td>...</td>\n",
       "      <td>2.0</td>\n",
       "      <td>1.0</td>\n",
       "      <td>3.0</td>\n",
       "      <td>6.0</td>\n",
       "      <td>8.0</td>\n",
       "      <td>1.0</td>\n",
       "      <td>2.0</td>\n",
       "      <td>2.0</td>\n",
       "      <td>2.0</td>\n",
       "      <td>1.0</td>\n",
       "    </tr>\n",
       "    <tr>\n",
       "      <th>114153</th>\n",
       "      <td>2.0</td>\n",
       "      <td>1.0</td>\n",
       "      <td>1.0</td>\n",
       "      <td>1.0</td>\n",
       "      <td>45.0</td>\n",
       "      <td>2.0</td>\n",
       "      <td>2.0</td>\n",
       "      <td>0.0</td>\n",
       "      <td>2.0</td>\n",
       "      <td>1.0</td>\n",
       "      <td>...</td>\n",
       "      <td>2.0</td>\n",
       "      <td>1.0</td>\n",
       "      <td>5.0</td>\n",
       "      <td>6.0</td>\n",
       "      <td>7.0</td>\n",
       "      <td>1.0</td>\n",
       "      <td>2.0</td>\n",
       "      <td>2.0</td>\n",
       "      <td>2.0</td>\n",
       "      <td>1.0</td>\n",
       "    </tr>\n",
       "    <tr>\n",
       "      <th>114154</th>\n",
       "      <td>2.0</td>\n",
       "      <td>1.0</td>\n",
       "      <td>1.0</td>\n",
       "      <td>1.0</td>\n",
       "      <td>18.0</td>\n",
       "      <td>2.0</td>\n",
       "      <td>2.0</td>\n",
       "      <td>2.0</td>\n",
       "      <td>2.0</td>\n",
       "      <td>2.0</td>\n",
       "      <td>...</td>\n",
       "      <td>1.0</td>\n",
       "      <td>2.0</td>\n",
       "      <td>11.0</td>\n",
       "      <td>2.0</td>\n",
       "      <td>4.0</td>\n",
       "      <td>7.0</td>\n",
       "      <td>2.0</td>\n",
       "      <td>2.0</td>\n",
       "      <td>2.0</td>\n",
       "      <td>1.0</td>\n",
       "    </tr>\n",
       "    <tr>\n",
       "      <th>114155</th>\n",
       "      <td>2.0</td>\n",
       "      <td>1.0</td>\n",
       "      <td>2.0</td>\n",
       "      <td>1.0</td>\n",
       "      <td>23.0</td>\n",
       "      <td>2.0</td>\n",
       "      <td>2.0</td>\n",
       "      <td>0.0</td>\n",
       "      <td>2.0</td>\n",
       "      <td>1.0</td>\n",
       "      <td>...</td>\n",
       "      <td>2.0</td>\n",
       "      <td>1.0</td>\n",
       "      <td>7.0</td>\n",
       "      <td>5.0</td>\n",
       "      <td>1.0</td>\n",
       "      <td>3.0</td>\n",
       "      <td>2.0</td>\n",
       "      <td>2.0</td>\n",
       "      <td>2.0</td>\n",
       "      <td>1.0</td>\n",
       "    </tr>\n",
       "    <tr>\n",
       "      <th>114156</th>\n",
       "      <td>1.0</td>\n",
       "      <td>1.0</td>\n",
       "      <td>1.0</td>\n",
       "      <td>1.0</td>\n",
       "      <td>25.0</td>\n",
       "      <td>2.0</td>\n",
       "      <td>2.0</td>\n",
       "      <td>2.0</td>\n",
       "      <td>1.0</td>\n",
       "      <td>1.0</td>\n",
       "      <td>...</td>\n",
       "      <td>2.0</td>\n",
       "      <td>2.0</td>\n",
       "      <td>9.0</td>\n",
       "      <td>6.0</td>\n",
       "      <td>2.0</td>\n",
       "      <td>7.0</td>\n",
       "      <td>2.0</td>\n",
       "      <td>2.0</td>\n",
       "      <td>2.0</td>\n",
       "      <td>1.0</td>\n",
       "    </tr>\n",
       "  </tbody>\n",
       "</table>\n",
       "<p>114157 rows × 27 columns</p>\n",
       "</div>"
      ],
      "text/plain": [
       "        HeartDiseaseorAttack  HighBP  HighChol  CholCheck   BMI  Smoker  \\\n",
       "0                        2.0     1.0       1.0        1.0  40.0     1.0   \n",
       "1                        2.0     1.0       1.0        1.0  28.0     2.0   \n",
       "2                        2.0     1.0       2.0        1.0  27.0     2.0   \n",
       "3                        2.0     1.0       1.0        1.0  24.0     2.0   \n",
       "4                        2.0     1.0       1.0        1.0  25.0     1.0   \n",
       "...                      ...     ...       ...        ...   ...     ...   \n",
       "114152                   2.0     1.0       2.0        1.0  42.0     2.0   \n",
       "114153                   2.0     1.0       1.0        1.0  45.0     2.0   \n",
       "114154                   2.0     1.0       1.0        1.0  18.0     2.0   \n",
       "114155                   2.0     1.0       2.0        1.0  23.0     2.0   \n",
       "114156                   1.0     1.0       1.0        1.0  25.0     2.0   \n",
       "\n",
       "        Stroke  Diabetes  PhysActivity  Fruits  ...  DiffWalk  Sex   Age  \\\n",
       "0          2.0       0.0           2.0     2.0  ...       1.0  2.0   9.0   \n",
       "1          2.0       0.0           2.0     1.0  ...       1.0  2.0   9.0   \n",
       "2          2.0       0.0           1.0     1.0  ...       2.0  2.0  11.0   \n",
       "3          2.0       0.0           1.0     1.0  ...       2.0  2.0  11.0   \n",
       "4          2.0       0.0           1.0     1.0  ...       2.0  1.0  10.0   \n",
       "...        ...       ...           ...     ...  ...       ...  ...   ...   \n",
       "114152     2.0       0.0           1.0     1.0  ...       2.0  1.0   3.0   \n",
       "114153     2.0       0.0           2.0     1.0  ...       2.0  1.0   5.0   \n",
       "114154     2.0       2.0           2.0     2.0  ...       1.0  2.0  11.0   \n",
       "114155     2.0       0.0           2.0     1.0  ...       2.0  1.0   7.0   \n",
       "114156     2.0       2.0           1.0     1.0  ...       2.0  2.0   9.0   \n",
       "\n",
       "        Education  Income  Employment  HeartDisease  FluShot  KidneyDisease  \\\n",
       "0             4.0     3.0         8.0           2.0      1.0            2.0   \n",
       "1             4.0     8.0         8.0           2.0      1.0            2.0   \n",
       "2             3.0     6.0         2.0           2.0      1.0            2.0   \n",
       "3             5.0     4.0         7.0           2.0      2.0            2.0   \n",
       "4             6.0     8.0         7.0           2.0      2.0            2.0   \n",
       "...           ...     ...         ...           ...      ...            ...   \n",
       "114152        6.0     8.0         1.0           2.0      2.0            2.0   \n",
       "114153        6.0     7.0         1.0           2.0      2.0            2.0   \n",
       "114154        2.0     4.0         7.0           2.0      2.0            2.0   \n",
       "114155        5.0     1.0         3.0           2.0      2.0            2.0   \n",
       "114156        6.0     2.0         7.0           2.0      2.0            2.0   \n",
       "\n",
       "        MedHighBP  \n",
       "0             1.0  \n",
       "1             1.0  \n",
       "2             1.0  \n",
       "3             1.0  \n",
       "4             1.0  \n",
       "...           ...  \n",
       "114152        1.0  \n",
       "114153        1.0  \n",
       "114154        1.0  \n",
       "114155        1.0  \n",
       "114156        1.0  \n",
       "\n",
       "[114157 rows x 27 columns]"
      ]
     },
     "execution_count": 45,
     "metadata": {},
     "output_type": "execute_result"
    }
   ],
   "source": [
    "heart_df = pd.read_csv(\"heart_disease_health_features.csv\")\n",
    "heart_df"
   ]
  },
  {
   "cell_type": "code",
   "execution_count": 46,
   "id": "5a4f5313",
   "metadata": {},
   "outputs": [
    {
     "name": "stdout",
     "output_type": "stream",
     "text": [
      "The number of columns in the DataFrame is: 27\n"
     ]
    }
   ],
   "source": [
    "num_cols = heart_df.shape[1]\n",
    "print(\"The number of columns in the DataFrame is:\", num_cols)"
   ]
  },
  {
   "cell_type": "markdown",
   "id": "67eda116-4ac0-4007-87a6-9e4011d9a765",
   "metadata": {},
   "source": [
    "### Pre-processing pipeline"
   ]
  },
  {
   "cell_type": "code",
   "execution_count": 47,
   "id": "1a478983-c941-4a2f-aa18-937834e797dd",
   "metadata": {},
   "outputs": [],
   "source": [
    "# Create a class to select numerical or categorical columns \n",
    "class DataFrameSelector(BaseEstimator, TransformerMixin):\n",
    "    def __init__(self, attribute_names):\n",
    "        self.attribute_names = attribute_names\n",
    "    def fit(self, X, y=None):\n",
    "        return self\n",
    "    def transform(self, X):\n",
    "        return X[self.attribute_names].values"
   ]
  },
  {
   "cell_type": "code",
   "execution_count": 48,
   "id": "0667103b-fff6-4e38-b519-160211c196ae",
   "metadata": {},
   "outputs": [
    {
     "data": {
      "text/plain": [
       "array([[ 1.45974263,  1.76876997,  0.89912353, ...,  1.        ,\n",
       "         2.        ,  1.        ],\n",
       "       [-0.28704588,  3.24920466,  2.38211707, ...,  1.        ,\n",
       "         2.        ,  1.        ],\n",
       "       [-0.43261159, -0.45188206, -0.58387   , ...,  1.        ,\n",
       "         2.        ,  1.        ],\n",
       "       ...,\n",
       "       [-1.74270297, -0.45188206, -0.58387   , ...,  2.        ,\n",
       "         2.        ,  1.        ],\n",
       "       [-1.01487443, -0.45188206, -0.58387   , ...,  2.        ,\n",
       "         2.        ,  1.        ],\n",
       "       [-0.72374301, -0.45188206, -0.58387   , ...,  2.        ,\n",
       "         2.        ,  1.        ]])"
      ]
     },
     "execution_count": 48,
     "metadata": {},
     "output_type": "execute_result"
    }
   ],
   "source": [
    "# Create a copy of the original dataframe\n",
    "preprocessed_df = heart_df.copy()\n",
    "\n",
    "seed = 42\n",
    "\n",
    "# define attributes\n",
    "num_attribs = ['BMI', 'MentHlth', 'PhysHlth']\n",
    "cat_attribs = ['Diabetes', 'GenHlth', 'Age', 'Education', 'Income', 'Employment']\n",
    "other_attribs = [col for col in preprocessed_df.columns if col not in num_attribs + cat_attribs]\n",
    "\n",
    "# define pipeline to apply feature scaling to numerical features\n",
    "num_pipeline = Pipeline([\n",
    "        ('selector', DataFrameSelector(num_attribs)),\n",
    "        ('std_scaler', StandardScaler())\n",
    "])\n",
    "\n",
    "# define pipeline to apply one-hot encoding to categorical values\n",
    "cat_pipeline = Pipeline([\n",
    "        ('selector', DataFrameSelector(cat_attribs)),\n",
    "        ('cat_encoder', OneHotEncoder(sparse=False, handle_unknown='ignore')),\n",
    "    ])\n",
    "\n",
    "# define pipeline to keep other columns unchanged\n",
    "other_pipeline = Pipeline([\n",
    "        ('selector', DataFrameSelector(other_attribs)),\n",
    "    ])\n",
    "\n",
    "\n",
    "# apply different operations on num and cat by combining pipelines with ColumnTransformer\n",
    "preprocessing = ColumnTransformer([\n",
    "        (\"num\", num_pipeline, num_attribs),\n",
    "        (\"cat\", cat_pipeline, cat_attribs),\n",
    "        (\"other\", other_pipeline, other_attribs)\n",
    "    ])\n",
    "\n",
    "processed_arr = preprocessing.fit_transform(preprocessed_df)\n",
    "processed_arr"
   ]
  },
  {
   "cell_type": "code",
   "execution_count": 49,
   "id": "52bac0d8-28c3-43b8-b32b-2dee60d068f4",
   "metadata": {},
   "outputs": [
    {
     "data": {
      "text/html": [
       "<style>#sk-0762da34-42bb-4afc-b1d7-86c346e4cbe5 {color: black;background-color: white;}#sk-0762da34-42bb-4afc-b1d7-86c346e4cbe5 pre{padding: 0;}#sk-0762da34-42bb-4afc-b1d7-86c346e4cbe5 div.sk-toggleable {background-color: white;}#sk-0762da34-42bb-4afc-b1d7-86c346e4cbe5 label.sk-toggleable__label {cursor: pointer;display: block;width: 100%;margin-bottom: 0;padding: 0.3em;box-sizing: border-box;text-align: center;}#sk-0762da34-42bb-4afc-b1d7-86c346e4cbe5 label.sk-toggleable__label-arrow:before {content: \"▸\";float: left;margin-right: 0.25em;color: #696969;}#sk-0762da34-42bb-4afc-b1d7-86c346e4cbe5 label.sk-toggleable__label-arrow:hover:before {color: black;}#sk-0762da34-42bb-4afc-b1d7-86c346e4cbe5 div.sk-estimator:hover label.sk-toggleable__label-arrow:before {color: black;}#sk-0762da34-42bb-4afc-b1d7-86c346e4cbe5 div.sk-toggleable__content {max-height: 0;max-width: 0;overflow: hidden;text-align: left;background-color: #f0f8ff;}#sk-0762da34-42bb-4afc-b1d7-86c346e4cbe5 div.sk-toggleable__content pre {margin: 0.2em;color: black;border-radius: 0.25em;background-color: #f0f8ff;}#sk-0762da34-42bb-4afc-b1d7-86c346e4cbe5 input.sk-toggleable__control:checked~div.sk-toggleable__content {max-height: 200px;max-width: 100%;overflow: auto;}#sk-0762da34-42bb-4afc-b1d7-86c346e4cbe5 input.sk-toggleable__control:checked~label.sk-toggleable__label-arrow:before {content: \"▾\";}#sk-0762da34-42bb-4afc-b1d7-86c346e4cbe5 div.sk-estimator input.sk-toggleable__control:checked~label.sk-toggleable__label {background-color: #d4ebff;}#sk-0762da34-42bb-4afc-b1d7-86c346e4cbe5 div.sk-label input.sk-toggleable__control:checked~label.sk-toggleable__label {background-color: #d4ebff;}#sk-0762da34-42bb-4afc-b1d7-86c346e4cbe5 input.sk-hidden--visually {border: 0;clip: rect(1px 1px 1px 1px);clip: rect(1px, 1px, 1px, 1px);height: 1px;margin: -1px;overflow: hidden;padding: 0;position: absolute;width: 1px;}#sk-0762da34-42bb-4afc-b1d7-86c346e4cbe5 div.sk-estimator {font-family: monospace;background-color: #f0f8ff;border: 1px dotted black;border-radius: 0.25em;box-sizing: border-box;margin-bottom: 0.5em;}#sk-0762da34-42bb-4afc-b1d7-86c346e4cbe5 div.sk-estimator:hover {background-color: #d4ebff;}#sk-0762da34-42bb-4afc-b1d7-86c346e4cbe5 div.sk-parallel-item::after {content: \"\";width: 100%;border-bottom: 1px solid gray;flex-grow: 1;}#sk-0762da34-42bb-4afc-b1d7-86c346e4cbe5 div.sk-label:hover label.sk-toggleable__label {background-color: #d4ebff;}#sk-0762da34-42bb-4afc-b1d7-86c346e4cbe5 div.sk-serial::before {content: \"\";position: absolute;border-left: 1px solid gray;box-sizing: border-box;top: 2em;bottom: 0;left: 50%;}#sk-0762da34-42bb-4afc-b1d7-86c346e4cbe5 div.sk-serial {display: flex;flex-direction: column;align-items: center;background-color: white;padding-right: 0.2em;padding-left: 0.2em;}#sk-0762da34-42bb-4afc-b1d7-86c346e4cbe5 div.sk-item {z-index: 1;}#sk-0762da34-42bb-4afc-b1d7-86c346e4cbe5 div.sk-parallel {display: flex;align-items: stretch;justify-content: center;background-color: white;}#sk-0762da34-42bb-4afc-b1d7-86c346e4cbe5 div.sk-parallel::before {content: \"\";position: absolute;border-left: 1px solid gray;box-sizing: border-box;top: 2em;bottom: 0;left: 50%;}#sk-0762da34-42bb-4afc-b1d7-86c346e4cbe5 div.sk-parallel-item {display: flex;flex-direction: column;position: relative;background-color: white;}#sk-0762da34-42bb-4afc-b1d7-86c346e4cbe5 div.sk-parallel-item:first-child::after {align-self: flex-end;width: 50%;}#sk-0762da34-42bb-4afc-b1d7-86c346e4cbe5 div.sk-parallel-item:last-child::after {align-self: flex-start;width: 50%;}#sk-0762da34-42bb-4afc-b1d7-86c346e4cbe5 div.sk-parallel-item:only-child::after {width: 0;}#sk-0762da34-42bb-4afc-b1d7-86c346e4cbe5 div.sk-dashed-wrapped {border: 1px dashed gray;margin: 0 0.4em 0.5em 0.4em;box-sizing: border-box;padding-bottom: 0.4em;background-color: white;position: relative;}#sk-0762da34-42bb-4afc-b1d7-86c346e4cbe5 div.sk-label label {font-family: monospace;font-weight: bold;background-color: white;display: inline-block;line-height: 1.2em;}#sk-0762da34-42bb-4afc-b1d7-86c346e4cbe5 div.sk-label-container {position: relative;z-index: 2;text-align: center;}#sk-0762da34-42bb-4afc-b1d7-86c346e4cbe5 div.sk-container {/* jupyter's `normalize.less` sets `[hidden] { display: none; }` but bootstrap.min.css set `[hidden] { display: none !important; }` so we also need the `!important` here to be able to override the default hidden behavior on the sphinx rendered scikit-learn.org. See: https://github.com/scikit-learn/scikit-learn/issues/21755 */display: inline-block !important;position: relative;}#sk-0762da34-42bb-4afc-b1d7-86c346e4cbe5 div.sk-text-repr-fallback {display: none;}</style><div id=\"sk-0762da34-42bb-4afc-b1d7-86c346e4cbe5\" class=\"sk-top-container\"><div class=\"sk-text-repr-fallback\"><pre>ColumnTransformer(transformers=[(&#x27;num&#x27;,\n",
       "                                 Pipeline(steps=[(&#x27;selector&#x27;,\n",
       "                                                  DataFrameSelector(attribute_names=[&#x27;BMI&#x27;,\n",
       "                                                                                     &#x27;MentHlth&#x27;,\n",
       "                                                                                     &#x27;PhysHlth&#x27;])),\n",
       "                                                 (&#x27;std_scaler&#x27;,\n",
       "                                                  StandardScaler())]),\n",
       "                                 [&#x27;BMI&#x27;, &#x27;MentHlth&#x27;, &#x27;PhysHlth&#x27;]),\n",
       "                                (&#x27;cat&#x27;,\n",
       "                                 Pipeline(steps=[(&#x27;selector&#x27;,\n",
       "                                                  DataFrameSelector(attribute_names=[&#x27;Diabetes&#x27;,\n",
       "                                                                                     &#x27;GenHlth&#x27;,\n",
       "                                                                                     &#x27;Age&#x27;,\n",
       "                                                                                     &#x27;Education&#x27;,\n",
       "                                                                                     &#x27;Income&#x27;])),\n",
       "                                                 (&#x27;cat_encoder&#x27;,\n",
       "                                                  OneHotEncoder(ha...\n",
       "                                                                                     &#x27;AnyHealthcare&#x27;,\n",
       "                                                                                     &#x27;NoDocbcCost&#x27;,\n",
       "                                                                                     &#x27;DiffWalk&#x27;,\n",
       "                                                                                     &#x27;Sex&#x27;,\n",
       "                                                                                     &#x27;Employment&#x27;,\n",
       "                                                                                     &#x27;HeartDisease&#x27;,\n",
       "                                                                                     &#x27;FluShot&#x27;,\n",
       "                                                                                     &#x27;KidneyDisease&#x27;,\n",
       "                                                                                     &#x27;MedHighBP&#x27;]))]),\n",
       "                                 [&#x27;HeartDiseaseorAttack&#x27;, &#x27;HighBP&#x27;, &#x27;HighChol&#x27;,\n",
       "                                  &#x27;CholCheck&#x27;, &#x27;Smoker&#x27;, &#x27;Stroke&#x27;,\n",
       "                                  &#x27;PhysActivity&#x27;, &#x27;Fruits&#x27;, &#x27;Vegetables&#x27;,\n",
       "                                  &#x27;HvyAlcoholConsump&#x27;, &#x27;AnyHealthcare&#x27;,\n",
       "                                  &#x27;NoDocbcCost&#x27;, &#x27;DiffWalk&#x27;, &#x27;Sex&#x27;,\n",
       "                                  &#x27;Employment&#x27;, &#x27;HeartDisease&#x27;, &#x27;FluShot&#x27;,\n",
       "                                  &#x27;KidneyDisease&#x27;, &#x27;MedHighBP&#x27;])])</pre><b>Please rerun this cell to show the HTML repr or trust the notebook.</b></div><div class=\"sk-container\" hidden><div class=\"sk-item sk-dashed-wrapped\"><div class=\"sk-label-container\"><div class=\"sk-label sk-toggleable\"><input class=\"sk-toggleable__control sk-hidden--visually\" id=\"295c3784-333d-4885-b2db-1490b2b0ab7a\" type=\"checkbox\" ><label for=\"295c3784-333d-4885-b2db-1490b2b0ab7a\" class=\"sk-toggleable__label sk-toggleable__label-arrow\">ColumnTransformer</label><div class=\"sk-toggleable__content\"><pre>ColumnTransformer(transformers=[(&#x27;num&#x27;,\n",
       "                                 Pipeline(steps=[(&#x27;selector&#x27;,\n",
       "                                                  DataFrameSelector(attribute_names=[&#x27;BMI&#x27;,\n",
       "                                                                                     &#x27;MentHlth&#x27;,\n",
       "                                                                                     &#x27;PhysHlth&#x27;])),\n",
       "                                                 (&#x27;std_scaler&#x27;,\n",
       "                                                  StandardScaler())]),\n",
       "                                 [&#x27;BMI&#x27;, &#x27;MentHlth&#x27;, &#x27;PhysHlth&#x27;]),\n",
       "                                (&#x27;cat&#x27;,\n",
       "                                 Pipeline(steps=[(&#x27;selector&#x27;,\n",
       "                                                  DataFrameSelector(attribute_names=[&#x27;Diabetes&#x27;,\n",
       "                                                                                     &#x27;GenHlth&#x27;,\n",
       "                                                                                     &#x27;Age&#x27;,\n",
       "                                                                                     &#x27;Education&#x27;,\n",
       "                                                                                     &#x27;Income&#x27;])),\n",
       "                                                 (&#x27;cat_encoder&#x27;,\n",
       "                                                  OneHotEncoder(ha...\n",
       "                                                                                     &#x27;AnyHealthcare&#x27;,\n",
       "                                                                                     &#x27;NoDocbcCost&#x27;,\n",
       "                                                                                     &#x27;DiffWalk&#x27;,\n",
       "                                                                                     &#x27;Sex&#x27;,\n",
       "                                                                                     &#x27;Employment&#x27;,\n",
       "                                                                                     &#x27;HeartDisease&#x27;,\n",
       "                                                                                     &#x27;FluShot&#x27;,\n",
       "                                                                                     &#x27;KidneyDisease&#x27;,\n",
       "                                                                                     &#x27;MedHighBP&#x27;]))]),\n",
       "                                 [&#x27;HeartDiseaseorAttack&#x27;, &#x27;HighBP&#x27;, &#x27;HighChol&#x27;,\n",
       "                                  &#x27;CholCheck&#x27;, &#x27;Smoker&#x27;, &#x27;Stroke&#x27;,\n",
       "                                  &#x27;PhysActivity&#x27;, &#x27;Fruits&#x27;, &#x27;Vegetables&#x27;,\n",
       "                                  &#x27;HvyAlcoholConsump&#x27;, &#x27;AnyHealthcare&#x27;,\n",
       "                                  &#x27;NoDocbcCost&#x27;, &#x27;DiffWalk&#x27;, &#x27;Sex&#x27;,\n",
       "                                  &#x27;Employment&#x27;, &#x27;HeartDisease&#x27;, &#x27;FluShot&#x27;,\n",
       "                                  &#x27;KidneyDisease&#x27;, &#x27;MedHighBP&#x27;])])</pre></div></div></div><div class=\"sk-parallel\"><div class=\"sk-parallel-item\"><div class=\"sk-item\"><div class=\"sk-label-container\"><div class=\"sk-label sk-toggleable\"><input class=\"sk-toggleable__control sk-hidden--visually\" id=\"8bd13cca-e76d-46f5-8ea8-0d169d3940b8\" type=\"checkbox\" ><label for=\"8bd13cca-e76d-46f5-8ea8-0d169d3940b8\" class=\"sk-toggleable__label sk-toggleable__label-arrow\">num</label><div class=\"sk-toggleable__content\"><pre>[&#x27;BMI&#x27;, &#x27;MentHlth&#x27;, &#x27;PhysHlth&#x27;]</pre></div></div></div><div class=\"sk-serial\"><div class=\"sk-item\"><div class=\"sk-serial\"><div class=\"sk-item\"><div class=\"sk-estimator sk-toggleable\"><input class=\"sk-toggleable__control sk-hidden--visually\" id=\"3d1d1220-d0dc-48a9-af5e-a29506db5b99\" type=\"checkbox\" ><label for=\"3d1d1220-d0dc-48a9-af5e-a29506db5b99\" class=\"sk-toggleable__label sk-toggleable__label-arrow\">DataFrameSelector</label><div class=\"sk-toggleable__content\"><pre>DataFrameSelector(attribute_names=[&#x27;BMI&#x27;, &#x27;MentHlth&#x27;, &#x27;PhysHlth&#x27;])</pre></div></div></div><div class=\"sk-item\"><div class=\"sk-estimator sk-toggleable\"><input class=\"sk-toggleable__control sk-hidden--visually\" id=\"4f5d5399-66e1-4692-a5cd-5a732b54a4d8\" type=\"checkbox\" ><label for=\"4f5d5399-66e1-4692-a5cd-5a732b54a4d8\" class=\"sk-toggleable__label sk-toggleable__label-arrow\">StandardScaler</label><div class=\"sk-toggleable__content\"><pre>StandardScaler()</pre></div></div></div></div></div></div></div></div><div class=\"sk-parallel-item\"><div class=\"sk-item\"><div class=\"sk-label-container\"><div class=\"sk-label sk-toggleable\"><input class=\"sk-toggleable__control sk-hidden--visually\" id=\"a9bde3bf-0510-4e93-8b88-03a760e6ce5d\" type=\"checkbox\" ><label for=\"a9bde3bf-0510-4e93-8b88-03a760e6ce5d\" class=\"sk-toggleable__label sk-toggleable__label-arrow\">cat</label><div class=\"sk-toggleable__content\"><pre>[&#x27;Diabetes&#x27;, &#x27;GenHlth&#x27;, &#x27;Age&#x27;, &#x27;Education&#x27;, &#x27;Income&#x27;]</pre></div></div></div><div class=\"sk-serial\"><div class=\"sk-item\"><div class=\"sk-serial\"><div class=\"sk-item\"><div class=\"sk-estimator sk-toggleable\"><input class=\"sk-toggleable__control sk-hidden--visually\" id=\"b39ffa59-b199-453b-9340-17d0ca22b259\" type=\"checkbox\" ><label for=\"b39ffa59-b199-453b-9340-17d0ca22b259\" class=\"sk-toggleable__label sk-toggleable__label-arrow\">DataFrameSelector</label><div class=\"sk-toggleable__content\"><pre>DataFrameSelector(attribute_names=[&#x27;Diabetes&#x27;, &#x27;GenHlth&#x27;, &#x27;Age&#x27;, &#x27;Education&#x27;,\n",
       "                                   &#x27;Income&#x27;])</pre></div></div></div><div class=\"sk-item\"><div class=\"sk-estimator sk-toggleable\"><input class=\"sk-toggleable__control sk-hidden--visually\" id=\"5ad8a389-7db5-4c62-8624-40ddb785977a\" type=\"checkbox\" ><label for=\"5ad8a389-7db5-4c62-8624-40ddb785977a\" class=\"sk-toggleable__label sk-toggleable__label-arrow\">OneHotEncoder</label><div class=\"sk-toggleable__content\"><pre>OneHotEncoder(handle_unknown=&#x27;ignore&#x27;, sparse=False)</pre></div></div></div></div></div></div></div></div><div class=\"sk-parallel-item\"><div class=\"sk-item\"><div class=\"sk-label-container\"><div class=\"sk-label sk-toggleable\"><input class=\"sk-toggleable__control sk-hidden--visually\" id=\"63f98291-0907-435e-bc15-216d5e90f921\" type=\"checkbox\" ><label for=\"63f98291-0907-435e-bc15-216d5e90f921\" class=\"sk-toggleable__label sk-toggleable__label-arrow\">other</label><div class=\"sk-toggleable__content\"><pre>[&#x27;HeartDiseaseorAttack&#x27;, &#x27;HighBP&#x27;, &#x27;HighChol&#x27;, &#x27;CholCheck&#x27;, &#x27;Smoker&#x27;, &#x27;Stroke&#x27;, &#x27;PhysActivity&#x27;, &#x27;Fruits&#x27;, &#x27;Vegetables&#x27;, &#x27;HvyAlcoholConsump&#x27;, &#x27;AnyHealthcare&#x27;, &#x27;NoDocbcCost&#x27;, &#x27;DiffWalk&#x27;, &#x27;Sex&#x27;, &#x27;Employment&#x27;, &#x27;HeartDisease&#x27;, &#x27;FluShot&#x27;, &#x27;KidneyDisease&#x27;, &#x27;MedHighBP&#x27;]</pre></div></div></div><div class=\"sk-serial\"><div class=\"sk-item\"><div class=\"sk-serial\"><div class=\"sk-item\"><div class=\"sk-estimator sk-toggleable\"><input class=\"sk-toggleable__control sk-hidden--visually\" id=\"20e8ce7a-05fa-4523-804a-3ca9acf54b10\" type=\"checkbox\" ><label for=\"20e8ce7a-05fa-4523-804a-3ca9acf54b10\" class=\"sk-toggleable__label sk-toggleable__label-arrow\">DataFrameSelector</label><div class=\"sk-toggleable__content\"><pre>DataFrameSelector(attribute_names=[&#x27;HeartDiseaseorAttack&#x27;, &#x27;HighBP&#x27;, &#x27;HighChol&#x27;,\n",
       "                                   &#x27;CholCheck&#x27;, &#x27;Smoker&#x27;, &#x27;Stroke&#x27;,\n",
       "                                   &#x27;PhysActivity&#x27;, &#x27;Fruits&#x27;, &#x27;Vegetables&#x27;,\n",
       "                                   &#x27;HvyAlcoholConsump&#x27;, &#x27;AnyHealthcare&#x27;,\n",
       "                                   &#x27;NoDocbcCost&#x27;, &#x27;DiffWalk&#x27;, &#x27;Sex&#x27;,\n",
       "                                   &#x27;Employment&#x27;, &#x27;HeartDisease&#x27;, &#x27;FluShot&#x27;,\n",
       "                                   &#x27;KidneyDisease&#x27;, &#x27;MedHighBP&#x27;])</pre></div></div></div></div></div></div></div></div></div></div></div></div>"
      ],
      "text/plain": [
       "ColumnTransformer(transformers=[('num',\n",
       "                                 Pipeline(steps=[('selector',\n",
       "                                                  DataFrameSelector(attribute_names=['BMI',\n",
       "                                                                                     'MentHlth',\n",
       "                                                                                     'PhysHlth'])),\n",
       "                                                 ('std_scaler',\n",
       "                                                  StandardScaler())]),\n",
       "                                 ['BMI', 'MentHlth', 'PhysHlth']),\n",
       "                                ('cat',\n",
       "                                 Pipeline(steps=[('selector',\n",
       "                                                  DataFrameSelector(attribute_names=['Diabetes',\n",
       "                                                                                     'GenHlth',\n",
       "                                                                                     'Age',\n",
       "                                                                                     'Education',\n",
       "                                                                                     'Income'])),\n",
       "                                                 ('cat_encoder',\n",
       "                                                  OneHotEncoder(ha...\n",
       "                                                                                     'AnyHealthcare',\n",
       "                                                                                     'NoDocbcCost',\n",
       "                                                                                     'DiffWalk',\n",
       "                                                                                     'Sex',\n",
       "                                                                                     'Employment',\n",
       "                                                                                     'HeartDisease',\n",
       "                                                                                     'FluShot',\n",
       "                                                                                     'KidneyDisease',\n",
       "                                                                                     'MedHighBP']))]),\n",
       "                                 ['HeartDiseaseorAttack', 'HighBP', 'HighChol',\n",
       "                                  'CholCheck', 'Smoker', 'Stroke',\n",
       "                                  'PhysActivity', 'Fruits', 'Vegetables',\n",
       "                                  'HvyAlcoholConsump', 'AnyHealthcare',\n",
       "                                  'NoDocbcCost', 'DiffWalk', 'Sex',\n",
       "                                  'Employment', 'HeartDisease', 'FluShot',\n",
       "                                  'KidneyDisease', 'MedHighBP'])])"
      ]
     },
     "execution_count": 49,
     "metadata": {},
     "output_type": "execute_result"
    }
   ],
   "source": [
    "preprocessing"
   ]
  },
  {
   "cell_type": "code",
   "execution_count": 50,
   "id": "721a3e4b-bd44-495d-8366-52638be287af",
   "metadata": {},
   "outputs": [
    {
     "data": {
      "text/plain": [
       "array(['BMI', 'MentHlth', 'PhysHlth', 'Diabetes_0.0', 'Diabetes_1.0',\n",
       "       'Diabetes_2.0', 'GenHlth_1.0', 'GenHlth_2.0', 'GenHlth_3.0',\n",
       "       'GenHlth_4.0', 'GenHlth_5.0', 'Age_1.0', 'Age_2.0', 'Age_3.0',\n",
       "       'Age_4.0', 'Age_5.0', 'Age_6.0', 'Age_7.0', 'Age_8.0', 'Age_9.0',\n",
       "       'Age_10.0', 'Age_11.0', 'Age_12.0', 'Age_13.0', 'Education_1.0',\n",
       "       'Education_2.0', 'Education_3.0', 'Education_4.0', 'Education_5.0',\n",
       "       'Education_6.0', 'Income_1.0', 'Income_2.0', 'Income_3.0',\n",
       "       'Income_4.0', 'Income_5.0', 'Income_6.0', 'Income_7.0',\n",
       "       'Income_8.0', 'HeartDiseaseorAttack', 'HighBP', 'HighChol',\n",
       "       'CholCheck', 'Smoker', 'Stroke', 'PhysActivity', 'Fruits',\n",
       "       'Vegetables', 'HvyAlcoholConsump', 'AnyHealthcare', 'NoDocbcCost',\n",
       "       'DiffWalk', 'Sex', 'Employment', 'HeartDisease', 'FluShot',\n",
       "       'KidneyDisease', 'MedHighBP'], dtype=object)"
      ]
     },
     "execution_count": 50,
     "metadata": {},
     "output_type": "execute_result"
    }
   ],
   "source": [
    "# get feature names for numerical attributes\n",
    "num_features = np.array(num_attribs)\n",
    "\n",
    "# get feature names for categorical attributes\n",
    "cat_encoder = preprocessing.named_transformers_['cat'].named_steps['cat_encoder']\n",
    "cat_features = cat_encoder.get_feature_names_out(cat_attribs)\n",
    "\n",
    "# get feature names for other attributes\n",
    "other_features = np.array(other_attribs)\n",
    "\n",
    "# concatenate all feature names\n",
    "feature_names = np.concatenate((num_features, cat_features, other_features), axis=0)\n",
    "feature_names"
   ]
  },
  {
   "cell_type": "code",
   "execution_count": 51,
   "id": "1f2cd9e3-b8b4-4ac4-856b-8158e482d1fc",
   "metadata": {},
   "outputs": [
    {
     "data": {
      "text/html": [
       "<div>\n",
       "<style scoped>\n",
       "    .dataframe tbody tr th:only-of-type {\n",
       "        vertical-align: middle;\n",
       "    }\n",
       "\n",
       "    .dataframe tbody tr th {\n",
       "        vertical-align: top;\n",
       "    }\n",
       "\n",
       "    .dataframe thead th {\n",
       "        text-align: right;\n",
       "    }\n",
       "</style>\n",
       "<table border=\"1\" class=\"dataframe\">\n",
       "  <thead>\n",
       "    <tr style=\"text-align: right;\">\n",
       "      <th></th>\n",
       "      <th>BMI</th>\n",
       "      <th>MentHlth</th>\n",
       "      <th>PhysHlth</th>\n",
       "      <th>Diabetes_0.0</th>\n",
       "      <th>Diabetes_1.0</th>\n",
       "      <th>Diabetes_2.0</th>\n",
       "      <th>GenHlth_1.0</th>\n",
       "      <th>GenHlth_2.0</th>\n",
       "      <th>GenHlth_3.0</th>\n",
       "      <th>GenHlth_4.0</th>\n",
       "      <th>...</th>\n",
       "      <th>HvyAlcoholConsump</th>\n",
       "      <th>AnyHealthcare</th>\n",
       "      <th>NoDocbcCost</th>\n",
       "      <th>DiffWalk</th>\n",
       "      <th>Sex</th>\n",
       "      <th>Employment</th>\n",
       "      <th>HeartDisease</th>\n",
       "      <th>FluShot</th>\n",
       "      <th>KidneyDisease</th>\n",
       "      <th>MedHighBP</th>\n",
       "    </tr>\n",
       "  </thead>\n",
       "  <tbody>\n",
       "    <tr>\n",
       "      <th>0</th>\n",
       "      <td>1.459743</td>\n",
       "      <td>1.768770</td>\n",
       "      <td>0.899124</td>\n",
       "      <td>1.0</td>\n",
       "      <td>0.0</td>\n",
       "      <td>0.0</td>\n",
       "      <td>0.0</td>\n",
       "      <td>0.0</td>\n",
       "      <td>0.0</td>\n",
       "      <td>0.0</td>\n",
       "      <td>...</td>\n",
       "      <td>0.0</td>\n",
       "      <td>1.0</td>\n",
       "      <td>2.0</td>\n",
       "      <td>1.0</td>\n",
       "      <td>2.0</td>\n",
       "      <td>8.0</td>\n",
       "      <td>2.0</td>\n",
       "      <td>1.0</td>\n",
       "      <td>2.0</td>\n",
       "      <td>1.0</td>\n",
       "    </tr>\n",
       "    <tr>\n",
       "      <th>1</th>\n",
       "      <td>-0.287046</td>\n",
       "      <td>3.249205</td>\n",
       "      <td>2.382117</td>\n",
       "      <td>1.0</td>\n",
       "      <td>0.0</td>\n",
       "      <td>0.0</td>\n",
       "      <td>0.0</td>\n",
       "      <td>0.0</td>\n",
       "      <td>0.0</td>\n",
       "      <td>0.0</td>\n",
       "      <td>...</td>\n",
       "      <td>0.0</td>\n",
       "      <td>1.0</td>\n",
       "      <td>1.0</td>\n",
       "      <td>1.0</td>\n",
       "      <td>2.0</td>\n",
       "      <td>8.0</td>\n",
       "      <td>2.0</td>\n",
       "      <td>1.0</td>\n",
       "      <td>2.0</td>\n",
       "      <td>1.0</td>\n",
       "    </tr>\n",
       "    <tr>\n",
       "      <th>2</th>\n",
       "      <td>-0.432612</td>\n",
       "      <td>-0.451882</td>\n",
       "      <td>-0.583870</td>\n",
       "      <td>1.0</td>\n",
       "      <td>0.0</td>\n",
       "      <td>0.0</td>\n",
       "      <td>0.0</td>\n",
       "      <td>1.0</td>\n",
       "      <td>0.0</td>\n",
       "      <td>0.0</td>\n",
       "      <td>...</td>\n",
       "      <td>0.0</td>\n",
       "      <td>1.0</td>\n",
       "      <td>2.0</td>\n",
       "      <td>2.0</td>\n",
       "      <td>2.0</td>\n",
       "      <td>2.0</td>\n",
       "      <td>2.0</td>\n",
       "      <td>1.0</td>\n",
       "      <td>2.0</td>\n",
       "      <td>1.0</td>\n",
       "    </tr>\n",
       "    <tr>\n",
       "      <th>3</th>\n",
       "      <td>-0.869309</td>\n",
       "      <td>-0.081773</td>\n",
       "      <td>-0.583870</td>\n",
       "      <td>1.0</td>\n",
       "      <td>0.0</td>\n",
       "      <td>0.0</td>\n",
       "      <td>0.0</td>\n",
       "      <td>1.0</td>\n",
       "      <td>0.0</td>\n",
       "      <td>0.0</td>\n",
       "      <td>...</td>\n",
       "      <td>0.0</td>\n",
       "      <td>1.0</td>\n",
       "      <td>2.0</td>\n",
       "      <td>2.0</td>\n",
       "      <td>2.0</td>\n",
       "      <td>7.0</td>\n",
       "      <td>2.0</td>\n",
       "      <td>2.0</td>\n",
       "      <td>2.0</td>\n",
       "      <td>1.0</td>\n",
       "    </tr>\n",
       "    <tr>\n",
       "      <th>4</th>\n",
       "      <td>-0.723743</td>\n",
       "      <td>-0.451882</td>\n",
       "      <td>-0.386138</td>\n",
       "      <td>1.0</td>\n",
       "      <td>0.0</td>\n",
       "      <td>0.0</td>\n",
       "      <td>0.0</td>\n",
       "      <td>1.0</td>\n",
       "      <td>0.0</td>\n",
       "      <td>0.0</td>\n",
       "      <td>...</td>\n",
       "      <td>0.0</td>\n",
       "      <td>1.0</td>\n",
       "      <td>2.0</td>\n",
       "      <td>2.0</td>\n",
       "      <td>1.0</td>\n",
       "      <td>7.0</td>\n",
       "      <td>2.0</td>\n",
       "      <td>2.0</td>\n",
       "      <td>2.0</td>\n",
       "      <td>1.0</td>\n",
       "    </tr>\n",
       "    <tr>\n",
       "      <th>...</th>\n",
       "      <td>...</td>\n",
       "      <td>...</td>\n",
       "      <td>...</td>\n",
       "      <td>...</td>\n",
       "      <td>...</td>\n",
       "      <td>...</td>\n",
       "      <td>...</td>\n",
       "      <td>...</td>\n",
       "      <td>...</td>\n",
       "      <td>...</td>\n",
       "      <td>...</td>\n",
       "      <td>...</td>\n",
       "      <td>...</td>\n",
       "      <td>...</td>\n",
       "      <td>...</td>\n",
       "      <td>...</td>\n",
       "      <td>...</td>\n",
       "      <td>...</td>\n",
       "      <td>...</td>\n",
       "      <td>...</td>\n",
       "      <td>...</td>\n",
       "    </tr>\n",
       "    <tr>\n",
       "      <th>114152</th>\n",
       "      <td>1.750874</td>\n",
       "      <td>1.275292</td>\n",
       "      <td>-0.188405</td>\n",
       "      <td>1.0</td>\n",
       "      <td>0.0</td>\n",
       "      <td>0.0</td>\n",
       "      <td>0.0</td>\n",
       "      <td>0.0</td>\n",
       "      <td>1.0</td>\n",
       "      <td>0.0</td>\n",
       "      <td>...</td>\n",
       "      <td>0.0</td>\n",
       "      <td>1.0</td>\n",
       "      <td>2.0</td>\n",
       "      <td>2.0</td>\n",
       "      <td>1.0</td>\n",
       "      <td>1.0</td>\n",
       "      <td>2.0</td>\n",
       "      <td>2.0</td>\n",
       "      <td>2.0</td>\n",
       "      <td>1.0</td>\n",
       "    </tr>\n",
       "    <tr>\n",
       "      <th>114153</th>\n",
       "      <td>2.187571</td>\n",
       "      <td>-0.451882</td>\n",
       "      <td>-0.089539</td>\n",
       "      <td>1.0</td>\n",
       "      <td>0.0</td>\n",
       "      <td>0.0</td>\n",
       "      <td>0.0</td>\n",
       "      <td>0.0</td>\n",
       "      <td>1.0</td>\n",
       "      <td>0.0</td>\n",
       "      <td>...</td>\n",
       "      <td>0.0</td>\n",
       "      <td>1.0</td>\n",
       "      <td>2.0</td>\n",
       "      <td>2.0</td>\n",
       "      <td>1.0</td>\n",
       "      <td>1.0</td>\n",
       "      <td>2.0</td>\n",
       "      <td>2.0</td>\n",
       "      <td>2.0</td>\n",
       "      <td>1.0</td>\n",
       "    </tr>\n",
       "    <tr>\n",
       "      <th>114154</th>\n",
       "      <td>-1.742703</td>\n",
       "      <td>-0.451882</td>\n",
       "      <td>-0.583870</td>\n",
       "      <td>0.0</td>\n",
       "      <td>0.0</td>\n",
       "      <td>1.0</td>\n",
       "      <td>0.0</td>\n",
       "      <td>0.0</td>\n",
       "      <td>0.0</td>\n",
       "      <td>1.0</td>\n",
       "      <td>...</td>\n",
       "      <td>0.0</td>\n",
       "      <td>1.0</td>\n",
       "      <td>2.0</td>\n",
       "      <td>1.0</td>\n",
       "      <td>2.0</td>\n",
       "      <td>7.0</td>\n",
       "      <td>2.0</td>\n",
       "      <td>2.0</td>\n",
       "      <td>2.0</td>\n",
       "      <td>1.0</td>\n",
       "    </tr>\n",
       "    <tr>\n",
       "      <th>114155</th>\n",
       "      <td>-1.014874</td>\n",
       "      <td>-0.451882</td>\n",
       "      <td>-0.583870</td>\n",
       "      <td>1.0</td>\n",
       "      <td>0.0</td>\n",
       "      <td>0.0</td>\n",
       "      <td>0.0</td>\n",
       "      <td>0.0</td>\n",
       "      <td>1.0</td>\n",
       "      <td>0.0</td>\n",
       "      <td>...</td>\n",
       "      <td>0.0</td>\n",
       "      <td>1.0</td>\n",
       "      <td>2.0</td>\n",
       "      <td>2.0</td>\n",
       "      <td>1.0</td>\n",
       "      <td>3.0</td>\n",
       "      <td>2.0</td>\n",
       "      <td>2.0</td>\n",
       "      <td>2.0</td>\n",
       "      <td>1.0</td>\n",
       "    </tr>\n",
       "    <tr>\n",
       "      <th>114156</th>\n",
       "      <td>-0.723743</td>\n",
       "      <td>-0.451882</td>\n",
       "      <td>-0.583870</td>\n",
       "      <td>0.0</td>\n",
       "      <td>0.0</td>\n",
       "      <td>1.0</td>\n",
       "      <td>0.0</td>\n",
       "      <td>1.0</td>\n",
       "      <td>0.0</td>\n",
       "      <td>0.0</td>\n",
       "      <td>...</td>\n",
       "      <td>0.0</td>\n",
       "      <td>1.0</td>\n",
       "      <td>2.0</td>\n",
       "      <td>2.0</td>\n",
       "      <td>2.0</td>\n",
       "      <td>7.0</td>\n",
       "      <td>2.0</td>\n",
       "      <td>2.0</td>\n",
       "      <td>2.0</td>\n",
       "      <td>1.0</td>\n",
       "    </tr>\n",
       "  </tbody>\n",
       "</table>\n",
       "<p>114157 rows × 57 columns</p>\n",
       "</div>"
      ],
      "text/plain": [
       "             BMI  MentHlth  PhysHlth  Diabetes_0.0  Diabetes_1.0  \\\n",
       "0       1.459743  1.768770  0.899124           1.0           0.0   \n",
       "1      -0.287046  3.249205  2.382117           1.0           0.0   \n",
       "2      -0.432612 -0.451882 -0.583870           1.0           0.0   \n",
       "3      -0.869309 -0.081773 -0.583870           1.0           0.0   \n",
       "4      -0.723743 -0.451882 -0.386138           1.0           0.0   \n",
       "...          ...       ...       ...           ...           ...   \n",
       "114152  1.750874  1.275292 -0.188405           1.0           0.0   \n",
       "114153  2.187571 -0.451882 -0.089539           1.0           0.0   \n",
       "114154 -1.742703 -0.451882 -0.583870           0.0           0.0   \n",
       "114155 -1.014874 -0.451882 -0.583870           1.0           0.0   \n",
       "114156 -0.723743 -0.451882 -0.583870           0.0           0.0   \n",
       "\n",
       "        Diabetes_2.0  GenHlth_1.0  GenHlth_2.0  GenHlth_3.0  GenHlth_4.0  ...  \\\n",
       "0                0.0          0.0          0.0          0.0          0.0  ...   \n",
       "1                0.0          0.0          0.0          0.0          0.0  ...   \n",
       "2                0.0          0.0          1.0          0.0          0.0  ...   \n",
       "3                0.0          0.0          1.0          0.0          0.0  ...   \n",
       "4                0.0          0.0          1.0          0.0          0.0  ...   \n",
       "...              ...          ...          ...          ...          ...  ...   \n",
       "114152           0.0          0.0          0.0          1.0          0.0  ...   \n",
       "114153           0.0          0.0          0.0          1.0          0.0  ...   \n",
       "114154           1.0          0.0          0.0          0.0          1.0  ...   \n",
       "114155           0.0          0.0          0.0          1.0          0.0  ...   \n",
       "114156           1.0          0.0          1.0          0.0          0.0  ...   \n",
       "\n",
       "        HvyAlcoholConsump  AnyHealthcare  NoDocbcCost  DiffWalk  Sex  \\\n",
       "0                     0.0            1.0          2.0       1.0  2.0   \n",
       "1                     0.0            1.0          1.0       1.0  2.0   \n",
       "2                     0.0            1.0          2.0       2.0  2.0   \n",
       "3                     0.0            1.0          2.0       2.0  2.0   \n",
       "4                     0.0            1.0          2.0       2.0  1.0   \n",
       "...                   ...            ...          ...       ...  ...   \n",
       "114152                0.0            1.0          2.0       2.0  1.0   \n",
       "114153                0.0            1.0          2.0       2.0  1.0   \n",
       "114154                0.0            1.0          2.0       1.0  2.0   \n",
       "114155                0.0            1.0          2.0       2.0  1.0   \n",
       "114156                0.0            1.0          2.0       2.0  2.0   \n",
       "\n",
       "        Employment  HeartDisease  FluShot  KidneyDisease  MedHighBP  \n",
       "0              8.0           2.0      1.0            2.0        1.0  \n",
       "1              8.0           2.0      1.0            2.0        1.0  \n",
       "2              2.0           2.0      1.0            2.0        1.0  \n",
       "3              7.0           2.0      2.0            2.0        1.0  \n",
       "4              7.0           2.0      2.0            2.0        1.0  \n",
       "...            ...           ...      ...            ...        ...  \n",
       "114152         1.0           2.0      2.0            2.0        1.0  \n",
       "114153         1.0           2.0      2.0            2.0        1.0  \n",
       "114154         7.0           2.0      2.0            2.0        1.0  \n",
       "114155         3.0           2.0      2.0            2.0        1.0  \n",
       "114156         7.0           2.0      2.0            2.0        1.0  \n",
       "\n",
       "[114157 rows x 57 columns]"
      ]
     },
     "execution_count": 51,
     "metadata": {},
     "output_type": "execute_result"
    }
   ],
   "source": [
    "preprocessed_df = pd.DataFrame(processed_arr, columns = feature_names)\n",
    "preprocessed_df"
   ]
  },
  {
   "cell_type": "code",
   "execution_count": 52,
   "id": "80129a2e-1b87-44d1-b778-f86455a8e61e",
   "metadata": {},
   "outputs": [],
   "source": [
    "X_processed = preprocessed_df.drop('HeartDiseaseorAttack', axis=1)\n",
    "y = preprocessed_df['HeartDiseaseorAttack']"
   ]
  },
  {
   "cell_type": "markdown",
   "id": "d44d7be7",
   "metadata": {},
   "source": [
    "### Feature selection"
   ]
  },
  {
   "cell_type": "code",
   "execution_count": 53,
   "id": "0c3a1565",
   "metadata": {},
   "outputs": [
    {
     "data": {
      "text/plain": [
       "Index(['BMI', 'MentHlth', 'PhysHlth', 'Employment', 'HeartDisease'], dtype='object')"
      ]
     },
     "execution_count": 53,
     "metadata": {},
     "output_type": "execute_result"
    }
   ],
   "source": [
    "rf = RandomForestClassifier()\n",
    "selector = SelectFromModel(rf, threshold='mean')\n",
    "selector.fit(X_processed, y)\n",
    "\n",
    "X_new = selector.transform(X_processed)\n",
    "selected_features = X_processed.columns[selector.get_support()]\n",
    "selected_features"
   ]
  },
  {
   "cell_type": "code",
   "execution_count": 54,
   "id": "a2a2a3d3-c7cb-48c5-8fc2-97263cc6a510",
   "metadata": {},
   "outputs": [
    {
     "data": {
      "image/png": "[encoded data removed]",
      "text/plain": [
       "<Figure size 864x720 with 2 Axes>"
      ]
     },
     "metadata": {
      "needs_background": "light"
     },
     "output_type": "display_data"
    }
   ],
   "source": [
    "selected_columns = selected_features.tolist() + ['HeartDiseaseorAttack']\n",
    "\n",
    "# define the mask to set the values in the upper triangle to True\n",
    "mask = np.triu(np.ones_like(preprocessed_df[selected_columns].corr()))\n",
    "plt.figure(figsize=(12, 10))\n",
    "heatmap = sns.heatmap(preprocessed_df[selected_columns].corr(), mask=mask, vmin=-1, vmax=1, annot=True, cmap='BrBG')\n",
    "heatmap.set_title('Triangle Correlation Heatmap', fontdict={'fontsize':18}, pad=16);"
   ]
  },
  {
   "cell_type": "markdown",
   "id": "c6349827-b7e1-40ce-8436-0e00a779fedb",
   "metadata": {},
   "source": [
    "The selected_features variable contains a pandas Index object that represents the column labels of the selected features after applying feature selection with the Random Forest Classifier model.\n",
    "\n",
    "In this case, the selected features are 'BMI', 'GenHlth', 'MentHlth', 'PhysHlth', 'Age', 'Education', and 'Income'. These are the columns that had importance scores greater than or equal to the mean importance score of all features.\n",
    "\n",
    "The importance score is a metric that measures the relative importance of each feature in a machine learning model. The score indicates how much a feature contributes to the prediction of the target variable. In other words, it helps to identify which features are most relevant or informative for making accurate predictions."
   ]
  },
  {
   "cell_type": "markdown",
   "id": "6d02a9c0",
   "metadata": {},
   "source": [
    "### Inspect the balance of the dataset"
   ]
  },
  {
   "cell_type": "code",
   "execution_count": 55,
   "id": "834f9346-d14c-481d-8185-bac220d9c54f",
   "metadata": {},
   "outputs": [
    {
     "name": "stdout",
     "output_type": "stream",
     "text": [
      "2.0    95100\n",
      "1.0    19057\n",
      "Name: HeartDiseaseorAttack, dtype: int64\n"
     ]
    }
   ],
   "source": [
    "print(preprocessed_df['HeartDiseaseorAttack'].value_counts())"
   ]
  },
  {
   "cell_type": "code",
   "execution_count": 56,
   "id": "f684c85e-3440-4def-8400-0d6012d43246",
   "metadata": {},
   "outputs": [
    {
     "data": {
      "text/plain": [
       "<AxesSubplot:xlabel='HeartDiseaseorAttack', ylabel='count'>"
      ]
     },
     "execution_count": 56,
     "metadata": {},
     "output_type": "execute_result"
    },
    {
     "data": {
      "image/png": "[encoded data removed]",
      "text/plain": [
       "<Figure size 432x288 with 1 Axes>"
      ]
     },
     "metadata": {
      "needs_background": "light"
     },
     "output_type": "display_data"
    }
   ],
   "source": [
    "sns.countplot(x='HeartDiseaseorAttack', data=preprocessed_df)\n"
   ]
  },
  {
   "cell_type": "markdown",
   "id": "97c334c8-3b42-4456-bd34-7725e3b82fbc",
   "metadata": {},
   "source": [
    "**Implications of an unbalanced dataset**\n",
    "\n",
    "An unbalanced dataset refers to a situation where the distribution of classes in the dataset is not equal or nearly equal. The dataset at hand is unbalanced, as it contains significantly more cases with people without a heart disease: the target-variable ‘HeartDiseaseorAttack‘ contains 229.787 entries without (0) and only 23.893 people with a heart disease (1). \n",
    "\n",
    "This causes several challenges:\n",
    "1.\t**Bias:** The model may be biased towards the majority class. This is because the model is optimized to minimize the overall error rate, which means it will focus more on the majority class (people without heart disease) at the expense of the minority class (people with heart disease).\n",
    "2.\t**Poor generalization:** The model may not generalize well to new data. This is because the model has not learned enough about the minority class (people with heart disease) to make accurate predictions.\n",
    "3.\t**Scoring metrics:** Some scoring metrics may not be a good choice for evaluating the classification of the unbalanced dataset. For example, precision can be high even when a model performs poorly on the minority class. This is because precision only takes into account the positive predictions made by the model, regardless of whether they belong to the majority or minority class. Additionally, accuracy is not a reliable metric to evaluate the performance of a classifier on unbalanced datasets. For example, a classifier that always predicts ‘no heart disease’ would have a high accurary but fail to identify the minority class. \n",
    "\n",
    "We address these issues the following way:\n",
    "1.\tWe use the scoring metric recall because it takes into account the performance of the model on the minority class and because is particularly useful when the minority class (people with heart disease) is of greater importance than the majority class, as it reflects the ability of the model to correctly identify positive examples, regardless of their frequency. However, recall alone may not be sufficient to evaluate the performance of a model on an unbalanced dataset. The recall might be very low because the model is biased towards the majority class. Thus, we will also use the F1 score (harmonic mean of precision and recall) as it is also a frequently used metric to evaluate models trained on unbalanced datasets to provide a more complete evaluation of the model’s performance. \n",
    "\n",
    "2.\tWe will use class weighting to rebalance the dataset to give more importance to the minority class (people with heart disease) in the dataset set. The goal of the class weighting is to improve the performance of the model on the minority class for people with a heart disease. \n"
   ]
  },
  {
   "cell_type": "markdown",
   "id": "0bbe962d-42b6-43f6-b4be-435e387f13f0",
   "metadata": {},
   "source": [
    "# Setting up the different train and test sets to be used"
   ]
  },
  {
   "cell_type": "code",
   "execution_count": 57,
   "id": "da3438fe-01b6-49aa-acb5-6de88400f4d9",
   "metadata": {},
   "outputs": [],
   "source": [
    "# split data into training and testing data sets, use processed X\n",
    "# use all of the features\n",
    "X_train_all, X_test_all, y_train_all, y_test_all = train_test_split(X_processed, y, test_size = 0.2, random_state=seed)\n",
    "\n",
    "# use the features identified by feature selection\n",
    "X_train_sel, X_test_sel, y_train_sel, y_test_sel = train_test_split(X_processed[selected_features], y, test_size = 0.2, random_state=seed)\n",
    "\n",
    "# set different class weights\n",
    "wt1 = {0:1, 1:2}\n",
    "wt2 = {0:1, 1:5}\n",
    "wt3 = {0:1, 1:10}"
   ]
  },
  {
   "cell_type": "markdown",
   "id": "87f682a8-8181-488e-89c8-2e3bc1cdc113",
   "metadata": {},
   "source": [
    "# Logistic Regression"
   ]
  },
  {
   "cell_type": "markdown",
   "id": "e40e9e85-60cc-41f0-9e43-119ba97e8903",
   "metadata": {},
   "source": [
    "### Logistic regression using all features"
   ]
  },
  {
   "cell_type": "markdown",
   "id": "5ace153f-135f-45d9-abf8-296e276942dc",
   "metadata": {},
   "source": [
    "Using all features and no class weights"
   ]
  },
  {
   "cell_type": "code",
   "execution_count": 59,
   "id": "52f3536f-e5bf-41db-b210-124e820bfe4e",
   "metadata": {},
   "outputs": [
    {
     "name": "stdout",
     "output_type": "stream",
     "text": [
      "Accuracy: 0.9470480028030834\n",
      "Precision: 0.9976275207591934\n",
      "Recall: 0.677133655394525\n",
      "ROC AUC: 0.8384098089596932\n"
     ]
    }
   ],
   "source": [
    "# logistic regression with all features\n",
    "logreg_all = LogisticRegression(max_iter=10000)\n",
    "logreg_all.fit(X_train_all, y_train_all)\n",
    "y_pred_all = logreg_all.predict(X_test_all)\n",
    "\n",
    "print('Accuracy:', accuracy_score(y_test_all, y_pred_all))\n",
    "print('Precision:', precision_score(y_test_all, y_pred_all))\n",
    "print('Recall:', recall_score(y_test_all, y_pred_all))\n",
    "print('ROC AUC:', roc_auc_score(y_test_all, y_pred_all))"
   ]
  },
  {
   "cell_type": "markdown",
   "id": "c497fff6-7449-42ca-bf27-10189c4f9791",
   "metadata": {},
   "source": [
    "Using all features and 2:1 class weight"
   ]
  },
  {
   "cell_type": "code",
   "execution_count": 60,
   "id": "cc63e82f-90f7-4cba-b823-40dee500d9c7",
   "metadata": {},
   "outputs": [
    {
     "ename": "ValueError",
     "evalue": "y contains previously unseen labels: [0]",
     "output_type": "error",
     "traceback": [
      "\u001b[0;31m---------------------------------------------------------------------------\u001b[0m",
      "\u001b[0;31mValueError\u001b[0m                                Traceback (most recent call last)",
      "Input \u001b[0;32mIn [60]\u001b[0m, in \u001b[0;36m<cell line: 5>\u001b[0;34m()\u001b[0m\n\u001b[1;32m      2\u001b[0m logreg_all_wt1 \u001b[38;5;241m=\u001b[39m LogisticRegressionCV(class_weight\u001b[38;5;241m=\u001b[39mwt1, cv\u001b[38;5;241m=\u001b[39m\u001b[38;5;241m10\u001b[39m, max_iter\u001b[38;5;241m=\u001b[39m\u001b[38;5;241m10000\u001b[39m)\n\u001b[1;32m      4\u001b[0m \u001b[38;5;66;03m# train model with 2:1 class weight ratio and evaluate model on test set\u001b[39;00m\n\u001b[0;32m----> 5\u001b[0m \u001b[43mlogreg_all_wt1\u001b[49m\u001b[38;5;241;43m.\u001b[39;49m\u001b[43mfit\u001b[49m\u001b[43m(\u001b[49m\u001b[43mX_train_all\u001b[49m\u001b[43m,\u001b[49m\u001b[43m \u001b[49m\u001b[43my_train_all\u001b[49m\u001b[43m)\u001b[49m\n\u001b[1;32m      6\u001b[0m y_pred_all_wt1 \u001b[38;5;241m=\u001b[39m logreg_all_wt1\u001b[38;5;241m.\u001b[39mpredict(X_test_all)\n\u001b[1;32m      8\u001b[0m \u001b[38;5;28mprint\u001b[39m(\u001b[38;5;124m'\u001b[39m\u001b[38;5;124mAccuracy:\u001b[39m\u001b[38;5;124m'\u001b[39m, accuracy_score(y_test_all, y_pred_all_wt1))\n",
      "File \u001b[0;32m/opt/anaconda3/lib/python3.9/site-packages/sklearn/linear_model/_logistic.py:2093\u001b[0m, in \u001b[0;36mLogisticRegressionCV.fit\u001b[0;34m(self, X, y, sample_weight)\u001b[0m\n\u001b[1;32m   2091\u001b[0m y \u001b[38;5;241m=\u001b[39m label_encoder\u001b[38;5;241m.\u001b[39mtransform(y)\n\u001b[1;32m   2092\u001b[0m \u001b[38;5;28;01mif\u001b[39;00m \u001b[38;5;28misinstance\u001b[39m(class_weight, \u001b[38;5;28mdict\u001b[39m):\n\u001b[0;32m-> 2093\u001b[0m     class_weight \u001b[38;5;241m=\u001b[39m {\n\u001b[1;32m   2094\u001b[0m         label_encoder\u001b[38;5;241m.\u001b[39mtransform([\u001b[38;5;28mcls\u001b[39m])[\u001b[38;5;241m0\u001b[39m]: v \u001b[38;5;28;01mfor\u001b[39;00m \u001b[38;5;28mcls\u001b[39m, v \u001b[38;5;129;01min\u001b[39;00m class_weight\u001b[38;5;241m.\u001b[39mitems()\n\u001b[1;32m   2095\u001b[0m     }\n\u001b[1;32m   2097\u001b[0m \u001b[38;5;66;03m# The original class labels\u001b[39;00m\n\u001b[1;32m   2098\u001b[0m classes \u001b[38;5;241m=\u001b[39m \u001b[38;5;28mself\u001b[39m\u001b[38;5;241m.\u001b[39mclasses_ \u001b[38;5;241m=\u001b[39m label_encoder\u001b[38;5;241m.\u001b[39mclasses_\n",
      "File \u001b[0;32m/opt/anaconda3/lib/python3.9/site-packages/sklearn/linear_model/_logistic.py:2094\u001b[0m, in \u001b[0;36m<dictcomp>\u001b[0;34m(.0)\u001b[0m\n\u001b[1;32m   2091\u001b[0m y \u001b[38;5;241m=\u001b[39m label_encoder\u001b[38;5;241m.\u001b[39mtransform(y)\n\u001b[1;32m   2092\u001b[0m \u001b[38;5;28;01mif\u001b[39;00m \u001b[38;5;28misinstance\u001b[39m(class_weight, \u001b[38;5;28mdict\u001b[39m):\n\u001b[1;32m   2093\u001b[0m     class_weight \u001b[38;5;241m=\u001b[39m {\n\u001b[0;32m-> 2094\u001b[0m         \u001b[43mlabel_encoder\u001b[49m\u001b[38;5;241;43m.\u001b[39;49m\u001b[43mtransform\u001b[49m\u001b[43m(\u001b[49m\u001b[43m[\u001b[49m\u001b[38;5;28;43mcls\u001b[39;49m\u001b[43m]\u001b[49m\u001b[43m)\u001b[49m[\u001b[38;5;241m0\u001b[39m]: v \u001b[38;5;28;01mfor\u001b[39;00m \u001b[38;5;28mcls\u001b[39m, v \u001b[38;5;129;01min\u001b[39;00m class_weight\u001b[38;5;241m.\u001b[39mitems()\n\u001b[1;32m   2095\u001b[0m     }\n\u001b[1;32m   2097\u001b[0m \u001b[38;5;66;03m# The original class labels\u001b[39;00m\n\u001b[1;32m   2098\u001b[0m classes \u001b[38;5;241m=\u001b[39m \u001b[38;5;28mself\u001b[39m\u001b[38;5;241m.\u001b[39mclasses_ \u001b[38;5;241m=\u001b[39m label_encoder\u001b[38;5;241m.\u001b[39mclasses_\n",
      "File \u001b[0;32m/opt/anaconda3/lib/python3.9/site-packages/sklearn/preprocessing/_label.py:138\u001b[0m, in \u001b[0;36mLabelEncoder.transform\u001b[0;34m(self, y)\u001b[0m\n\u001b[1;32m    135\u001b[0m \u001b[38;5;28;01mif\u001b[39;00m _num_samples(y) \u001b[38;5;241m==\u001b[39m \u001b[38;5;241m0\u001b[39m:\n\u001b[1;32m    136\u001b[0m     \u001b[38;5;28;01mreturn\u001b[39;00m np\u001b[38;5;241m.\u001b[39marray([])\n\u001b[0;32m--> 138\u001b[0m \u001b[38;5;28;01mreturn\u001b[39;00m \u001b[43m_encode\u001b[49m\u001b[43m(\u001b[49m\u001b[43my\u001b[49m\u001b[43m,\u001b[49m\u001b[43m \u001b[49m\u001b[43muniques\u001b[49m\u001b[38;5;241;43m=\u001b[39;49m\u001b[38;5;28;43mself\u001b[39;49m\u001b[38;5;241;43m.\u001b[39;49m\u001b[43mclasses_\u001b[49m\u001b[43m)\u001b[49m\n",
      "File \u001b[0;32m/opt/anaconda3/lib/python3.9/site-packages/sklearn/utils/_encode.py:189\u001b[0m, in \u001b[0;36m_encode\u001b[0;34m(values, uniques, check_unknown)\u001b[0m\n\u001b[1;32m    187\u001b[0m     diff \u001b[38;5;241m=\u001b[39m _check_unknown(values, uniques)\n\u001b[1;32m    188\u001b[0m     \u001b[38;5;28;01mif\u001b[39;00m diff:\n\u001b[0;32m--> 189\u001b[0m         \u001b[38;5;28;01mraise\u001b[39;00m \u001b[38;5;167;01mValueError\u001b[39;00m(\u001b[38;5;124mf\u001b[39m\u001b[38;5;124m\"\u001b[39m\u001b[38;5;124my contains previously unseen labels: \u001b[39m\u001b[38;5;132;01m{\u001b[39;00m\u001b[38;5;28mstr\u001b[39m(diff)\u001b[38;5;132;01m}\u001b[39;00m\u001b[38;5;124m\"\u001b[39m)\n\u001b[1;32m    190\u001b[0m \u001b[38;5;28;01mreturn\u001b[39;00m np\u001b[38;5;241m.\u001b[39msearchsorted(uniques, values)\n",
      "\u001b[0;31mValueError\u001b[0m: y contains previously unseen labels: [0]"
     ]
    }
   ],
   "source": [
    "# logistic regression with the class weight\n",
    "logreg_all_wt1 = LogisticRegressionCV(class_weight=wt1, cv=10, max_iter=10000)\n",
    "\n",
    "# train model with 2:1 class weight ratio and evaluate model on test set\n",
    "logreg_all_wt1.fit(X_train_all, y_train_all)\n",
    "y_pred_all_wt1 = logreg_all_wt1.predict(X_test_all)\n",
    "\n",
    "print('Accuracy:', accuracy_score(y_test_all, y_pred_all_wt1))\n",
    "print('Precision:', precision_score(y_test_all, y_pred_all_wt1))\n",
    "print('Recall:', recall_score(y_test_all, y_pred_all_wt1))\n",
    "print('ROC AUC:', roc_auc_score(y_test_all, y_pred_all_wt1))"
   ]
  },
  {
   "cell_type": "markdown",
   "id": "5e18e113-1f6f-464c-90ce-54163cad46c0",
   "metadata": {},
   "source": [
    "Using all features and 5:1 class weight"
   ]
  },
  {
   "cell_type": "code",
   "execution_count": null,
   "id": "2dbb11bd-32b3-48a8-a9eb-4d2df1edf040",
   "metadata": {},
   "outputs": [],
   "source": [
    "# logistic regression with the class weight\n",
    "logreg_all_wt2 = LogisticRegressionCV(class_weight=wt2, cv=10, max_iter=10000)\n",
    "\n",
    "# train model with 5:1 class weight ratio and evaluate model on test set\n",
    "logreg_all_wt2.fit(X_train_all, y_train_all)\n",
    "y_pred_all_wt2 = logreg_all_wt2.predict(X_test_all)\n",
    "\n",
    "print('Accuracy:', accuracy_score(y_test_all, y_pred_all_wt2))\n",
    "print('Precision:', precision_score(y_test_all, y_pred_all_wt2))\n",
    "print('Recall:', recall_score(y_test_all, y_pred_all_wt2))\n",
    "print('ROC AUC:', roc_auc_score(y_test_all, y_pred_all_wt2))"
   ]
  },
  {
   "cell_type": "markdown",
   "id": "3d06de90-304f-4810-a9c1-2cfbd53d1656",
   "metadata": {},
   "source": [
    "Using all features and 10:1 class weight"
   ]
  },
  {
   "cell_type": "code",
   "execution_count": null,
   "id": "345ef7aa-4fcd-4199-b358-5de89183b417",
   "metadata": {},
   "outputs": [],
   "source": [
    "# logistic regression with the class weight\n",
    "logreg_all_wt3 = LogisticRegressionCV(class_weight=wt3, cv=10, max_iter=10000)\n",
    "\n",
    "# train model with 10:1 class weight ratio and evaluate model on test set\n",
    "logreg_all_wt3.fit(X_train_all, y_train_all)\n",
    "y_pred_all_wt3 = logreg_all_wt3.predict(X_test_all)\n",
    "\n",
    "print('Accuracy:', accuracy_score(y_test_all, y_pred_all_wt3))\n",
    "print('Precision:', precision_score(y_test_all, y_pred_all_wt3))\n",
    "print('Recall:', recall_score(y_test_all, y_pred_all_wt3))\n",
    "print('ROC AUC:', roc_auc_score(y_test_all, y_pred_all_wt3))"
   ]
  },
  {
   "cell_type": "markdown",
   "id": "a9c8d1b3-bbe3-4a23-b1eb-3565a1c5f112",
   "metadata": {},
   "source": [
    "### Logistic regression using selected features"
   ]
  },
  {
   "cell_type": "markdown",
   "id": "49135c6f-5045-43fb-aacc-cb832bf4f899",
   "metadata": {},
   "source": [
    "Using selected features and no class weights"
   ]
  },
  {
   "cell_type": "code",
   "execution_count": null,
   "id": "6f788cce-bbfe-4a8b-8014-a363a183e6a8",
   "metadata": {},
   "outputs": [],
   "source": [
    "# logistic regression with selected features\n",
    "logreg_sel = LogisticRegression(max_iter=10000)\n",
    "logreg_sel.fit(X_train_sel, y_train_sel)\n",
    "y_pred_sel = logreg_sel.predict(X_test_sel)\n",
    "\n",
    "print('Accuracy:', accuracy_score(y_test_sel, y_pred_sel))\n",
    "print('Precision:', precision_score(y_test_sel, y_pred_sel))\n",
    "print('Recall:', recall_score(y_test_sel, y_pred_sel))\n",
    "print('ROC AUC:', roc_auc_score(y_test_sel, y_pred_sel))"
   ]
  },
  {
   "cell_type": "markdown",
   "id": "01f95ec7-dfde-4d92-8269-e558177306d1",
   "metadata": {},
   "source": [
    "Using selected features and 2:1 class weight"
   ]
  },
  {
   "cell_type": "code",
   "execution_count": null,
   "id": "c72eca4f-b804-4088-b853-9210bdd981e2",
   "metadata": {},
   "outputs": [
    {
     "name": "stdout",
     "output_type": "stream",
     "text": [
      "Accuracy: 0.9469604064470918\n",
      "Precision: 0.9976256430550059\n",
      "Recall: 0.6765968867418143\n",
      "ROC AUC: 0.8381414246333377\n"
     ]
    }
   ],
   "source": [
    "# logistic regression with the class weight\n",
    "logreg_sel_wt1 = LogisticRegressionCV(class_weight=wt1, cv=10, max_iter=10000)\n",
    "\n",
    "# train model with 2:1 class weight ratio and evaluate model on test set\n",
    "logreg_sel_wt1.fit(X_train_sel, y_train_sel)\n",
    "y_pred_sel_wt1 = logreg_sel_wt1.predict(X_test_sel)\n",
    "\n",
    "print('Accuracy:', accuracy_score(y_test_sel, y_pred_sel_wt1))\n",
    "print('Precision:', precision_score(y_test_sel, y_pred_sel_wt1))\n",
    "print('Recall:', recall_score(y_test_sel, y_pred_sel_wt1))\n",
    "print('ROC AUC:', roc_auc_score(y_test_sel, y_pred_sel_wt1))"
   ]
  },
  {
   "cell_type": "markdown",
   "id": "3e2d7658-de82-4d29-b540-56ee1b59f565",
   "metadata": {},
   "source": [
    "Using selected features and 5:1 class weight"
   ]
  },
  {
   "cell_type": "code",
   "execution_count": null,
   "id": "2960bf55-0307-4f68-8a9a-ec1eed5f5c7d",
   "metadata": {},
   "outputs": [],
   "source": [
    "# logistic regression with the class weight\n",
    "logreg_sel_wt2 = LogisticRegressionCV(class_weight=wt2, cv=10, max_iter=10000)\n",
    "\n",
    "# train model with 2:1 class weight ratio and evaluate model on test set\n",
    "logreg_sel_wt2.fit(X_train_sel, y_train_sel)\n",
    "y_pred_sel_wt2 = logreg_sel_wt2.predict(X_test_sel)\n",
    "\n",
    "print('Accuracy:', accuracy_score(y_test_sel, y_pred_sel_wt2))\n",
    "print('Precision:', precision_score(y_test_sel, y_pred_sel_wt2))\n",
    "print('Recall:', recall_score(y_test_sel, y_pred_sel_wt2))\n",
    "print('ROC AUC:', roc_auc_score(y_test_sel, y_pred_sel_wt2))"
   ]
  },
  {
   "cell_type": "markdown",
   "id": "42114c69-ee28-40e1-b99d-eeb38d17c8c1",
   "metadata": {},
   "source": [
    "Using selected features and 10:1 class weight"
   ]
  },
  {
   "cell_type": "code",
   "execution_count": null,
   "id": "d4a8feaf-2c8f-425b-9ca8-44662c33ae93",
   "metadata": {},
   "outputs": [],
   "source": [
    "# logistic regression with the class weight\n",
    "logreg_sel_wt3 = LogisticRegressionCV(class_weight=wt3, cv=10, max_iter=10000)\n",
    "\n",
    "# train model with 2:1 class weight ratio and evaluate model on test set\n",
    "logreg_sel_wt3.fit(X_train_sel, y_train_sel)\n",
    "y_pred_sel_wt3 = logreg_sel_wt3.predict(X_test_sel)\n",
    "\n",
    "print('Accuracy:', accuracy_score(y_test_sel, y_pred_sel_wt3))\n",
    "print('Precision:', precision_score(y_test_sel, y_pred_sel_wt3))\n",
    "print('Recall:', recall_score(y_test_sel, y_pred_sel_wt3))\n",
    "print('ROC AUC:', roc_auc_score(y_test_sel, y_pred_sel_wt3))"
   ]
  },
  {
   "cell_type": "markdown",
   "id": "03ad78a3-aaab-45f3-84c5-08927dac573a",
   "metadata": {},
   "source": [
    "Accuracy measures the number of correct predictions made by the model compared to all predictions. However, the high accuracy score can be misleading in imbalanced datasets where one class is much more frequent than the others. This is the case in this dataset (229,787 no heart-disease, 23,893 heart-disease). If the model would always predict the majority class (no heart-disease) can have a high accuracy but still fail to capture the minority class (heart-disease).\n",
    "\n",
    "Precision measures how well a model can predict positive examples. It is a useful metric when the cost of false positives is high.\n",
    "\n",
    "The recall measures how well a model can identify positive examples. It is a useful metric when the cost of false negatives is high.\n",
    "\n",
    "AUC is a metric suited for imbalanced datasets. AUC measures the overall performance of a binary classifier by computing the area under the ROC curve, which plots the true positive rate against the false positive rate for different classification thresholds. A high AUC score indicates that the classifier is able to distinguish between the positive and negative classes effectively, regardless of the class distribution. This makes the AUC an important mectric in this case. Measuring the AUC, the model is performing very badly. It has a AUC score of 0.5, which is the same as it would be randomly guessing."
   ]
  },
  {
   "cell_type": "markdown",
   "id": "2c274d8c-61bc-49c8-9d94-95d698799b00",
   "metadata": {},
   "source": [
    "The ROC AUC is still very low, even after altering the weight. Therefore, we will continue building the model including all features."
   ]
  },
  {
   "cell_type": "markdown",
   "id": "53025ee1-c00e-4720-8b75-76d68ae52f47",
   "metadata": {},
   "source": [
    "# Clustering"
   ]
  },
  {
   "cell_type": "markdown",
   "id": "ce1acbe1-7b7d-44b8-a198-4ccb7a4ad928",
   "metadata": {},
   "source": [
    "Using all features"
   ]
  },
  {
   "cell_type": "code",
   "execution_count": null,
   "id": "e5c0899a-0464-4068-90d4-248c8d7b2609",
   "metadata": {},
   "outputs": [],
   "source": [
    "# Create k-mean object\n",
    "clt = KMeans(n_clusters=3, random_state=0) #, n_jobs=-1)\n",
    "\n",
    "# Train model\n",
    "model = clt.fit(X_processed)\n",
    "labels = model.predict(X_processed)"
   ]
  },
  {
   "cell_type": "code",
   "execution_count": null,
   "id": "ffe2a0dd-5eaa-4506-aa3e-c03a5bf3f691",
   "metadata": {},
   "outputs": [],
   "source": [
    "silhouette = silhouette_score(X_processed, labels)\n",
    "silhouette"
   ]
  },
  {
   "cell_type": "code",
   "execution_count": null,
   "id": "a1a47f7d-6fd3-491f-b0b4-3776d5e1b3c0",
   "metadata": {},
   "outputs": [],
   "source": [
    "# Define a range of possible number of clusters\n",
    "range_n_clusters = [2, 3, 4, 5, 6, 7, 8]\n",
    "\n",
    "# Initialize the silhouette scores list\n",
    "silhouette_scores = []\n",
    "\n",
    "# Loop over the range of possible number of clusters\n",
    "for n_clusters in range_n_clusters:\n",
    "    # Initialize the KMeans model\n",
    "    model = KMeans(n_clusters=n_clusters, random_state=0)\n",
    "    \n",
    "    # Fit the model to the data\n",
    "    model.fit(X_processed)\n",
    "    \n",
    "    # Predict the cluster labels for each data point\n",
    "    labels = model.predict(X_processed)\n",
    "    \n",
    "    # Calculate the silhouette score\n",
    "    silhouette_score_ = silhouette_score(X_processed, labels)\n",
    "    \n",
    "    # Append the silhouette score to the list\n",
    "    silhouette_scores.append(silhouette_score_)\n",
    "\n",
    "# Find the number of clusters with the highest silhouette score\n",
    "best_n_clusters = range_n_clusters[np.argmax(silhouette_scores)]\n",
    "\n",
    "print(\"The optimal number of clusters is:\", best_n_clusters)"
   ]
  },
  {
   "cell_type": "code",
   "execution_count": null,
   "id": "8b0cb8ae-9eaf-4654-95d0-7323e2af0130",
   "metadata": {},
   "outputs": [],
   "source": [
    "# Initialize the KMeans model with best number of clusters\n",
    "model = KMeans(n_clusters=best_n_clusters, random_state=0)\n",
    "\n",
    "# Fit the model to the data\n",
    "model.fit(X_processed)\n",
    "\n",
    "# Predict the cluster labels for each data point\n",
    "labels = model.predict(X_processed)\n",
    "\n",
    "# Plot the data points with different colors representing different clusters\n",
    "for label in np.unique(labels):\n",
    "    data = X_processed[labels == label]\n",
    "    plt.scatter(data[:, 0], data[:, 1], label=f\"Cluster {label}\")\n",
    "\n",
    "plt.legend()\n",
    "plt.show()"
   ]
  },
  {
   "cell_type": "markdown",
   "id": "708453e1-7ebc-4b89-a6bc-0f1e9a61ff64",
   "metadata": {},
   "source": [
    "# Decision Tree Using All Features"
   ]
  },
  {
   "cell_type": "code",
   "execution_count": null,
   "id": "4be6010d-6558-4d39-9c55-662f5a896f43",
   "metadata": {},
   "outputs": [
    {
     "ename": "ValueError",
     "evalue": "y contains previously unseen labels: [0]",
     "output_type": "error",
     "traceback": [
      "\u001b[1;31m---------------------------------------------------------------------------\u001b[0m",
      "\u001b[1;31mValueError\u001b[0m                                Traceback (most recent call last)",
      "\u001b[1;32m~\\AppData\\Local\\Temp\\ipykernel_20516\\3167136288.py\u001b[0m in \u001b[0;36m<module>\u001b[1;34m\u001b[0m\n\u001b[0;32m      3\u001b[0m \u001b[1;33m\u001b[0m\u001b[0m\n\u001b[0;32m      4\u001b[0m \u001b[1;31m# fit the model\u001b[0m\u001b[1;33m\u001b[0m\u001b[1;33m\u001b[0m\u001b[0m\n\u001b[1;32m----> 5\u001b[1;33m \u001b[0mlogist_reg\u001b[0m\u001b[1;33m.\u001b[0m\u001b[0mfit\u001b[0m\u001b[1;33m(\u001b[0m\u001b[0mX\u001b[0m\u001b[1;33m,\u001b[0m \u001b[0my\u001b[0m\u001b[1;33m)\u001b[0m\u001b[1;33m\u001b[0m\u001b[1;33m\u001b[0m\u001b[0m\n\u001b[0m\u001b[0;32m      6\u001b[0m \u001b[1;33m\u001b[0m\u001b[0m\n\u001b[0;32m      7\u001b[0m \u001b[1;31m# report the mean score on train and test set\u001b[0m\u001b[1;33m\u001b[0m\u001b[1;33m\u001b[0m\u001b[0m\n",
      "\u001b[1;32m~\\anaconda3\\lib\\site-packages\\sklearn\\linear_model\\_logistic.py\u001b[0m in \u001b[0;36mfit\u001b[1;34m(self, X, y, sample_weight)\u001b[0m\n\u001b[0;32m   1732\u001b[0m         \u001b[0my\u001b[0m \u001b[1;33m=\u001b[0m \u001b[0mlabel_encoder\u001b[0m\u001b[1;33m.\u001b[0m\u001b[0mtransform\u001b[0m\u001b[1;33m(\u001b[0m\u001b[0my\u001b[0m\u001b[1;33m)\u001b[0m\u001b[1;33m\u001b[0m\u001b[1;33m\u001b[0m\u001b[0m\n\u001b[0;32m   1733\u001b[0m         \u001b[1;32mif\u001b[0m \u001b[0misinstance\u001b[0m\u001b[1;33m(\u001b[0m\u001b[0mclass_weight\u001b[0m\u001b[1;33m,\u001b[0m \u001b[0mdict\u001b[0m\u001b[1;33m)\u001b[0m\u001b[1;33m:\u001b[0m\u001b[1;33m\u001b[0m\u001b[1;33m\u001b[0m\u001b[0m\n\u001b[1;32m-> 1734\u001b[1;33m             class_weight = {\n\u001b[0m\u001b[0;32m   1735\u001b[0m                 \u001b[0mlabel_encoder\u001b[0m\u001b[1;33m.\u001b[0m\u001b[0mtransform\u001b[0m\u001b[1;33m(\u001b[0m\u001b[1;33m[\u001b[0m\u001b[0mcls\u001b[0m\u001b[1;33m]\u001b[0m\u001b[1;33m)\u001b[0m\u001b[1;33m[\u001b[0m\u001b[1;36m0\u001b[0m\u001b[1;33m]\u001b[0m\u001b[1;33m:\u001b[0m \u001b[0mv\u001b[0m \u001b[1;32mfor\u001b[0m \u001b[0mcls\u001b[0m\u001b[1;33m,\u001b[0m \u001b[0mv\u001b[0m \u001b[1;32min\u001b[0m \u001b[0mclass_weight\u001b[0m\u001b[1;33m.\u001b[0m\u001b[0mitems\u001b[0m\u001b[1;33m(\u001b[0m\u001b[1;33m)\u001b[0m\u001b[1;33m\u001b[0m\u001b[1;33m\u001b[0m\u001b[0m\n\u001b[0;32m   1736\u001b[0m             }\n",
      "\u001b[1;32m~\\anaconda3\\lib\\site-packages\\sklearn\\linear_model\\_logistic.py\u001b[0m in \u001b[0;36m<dictcomp>\u001b[1;34m(.0)\u001b[0m\n\u001b[0;32m   1733\u001b[0m         \u001b[1;32mif\u001b[0m \u001b[0misinstance\u001b[0m\u001b[1;33m(\u001b[0m\u001b[0mclass_weight\u001b[0m\u001b[1;33m,\u001b[0m \u001b[0mdict\u001b[0m\u001b[1;33m)\u001b[0m\u001b[1;33m:\u001b[0m\u001b[1;33m\u001b[0m\u001b[1;33m\u001b[0m\u001b[0m\n\u001b[0;32m   1734\u001b[0m             class_weight = {\n\u001b[1;32m-> 1735\u001b[1;33m                 \u001b[0mlabel_encoder\u001b[0m\u001b[1;33m.\u001b[0m\u001b[0mtransform\u001b[0m\u001b[1;33m(\u001b[0m\u001b[1;33m[\u001b[0m\u001b[0mcls\u001b[0m\u001b[1;33m]\u001b[0m\u001b[1;33m)\u001b[0m\u001b[1;33m[\u001b[0m\u001b[1;36m0\u001b[0m\u001b[1;33m]\u001b[0m\u001b[1;33m:\u001b[0m \u001b[0mv\u001b[0m \u001b[1;32mfor\u001b[0m \u001b[0mcls\u001b[0m\u001b[1;33m,\u001b[0m \u001b[0mv\u001b[0m \u001b[1;32min\u001b[0m \u001b[0mclass_weight\u001b[0m\u001b[1;33m.\u001b[0m\u001b[0mitems\u001b[0m\u001b[1;33m(\u001b[0m\u001b[1;33m)\u001b[0m\u001b[1;33m\u001b[0m\u001b[1;33m\u001b[0m\u001b[0m\n\u001b[0m\u001b[0;32m   1736\u001b[0m             }\n\u001b[0;32m   1737\u001b[0m \u001b[1;33m\u001b[0m\u001b[0m\n",
      "\u001b[1;32m~\\anaconda3\\lib\\site-packages\\sklearn\\preprocessing\\_label.py\u001b[0m in \u001b[0;36mtransform\u001b[1;34m(self, y)\u001b[0m\n\u001b[0;32m    136\u001b[0m             \u001b[1;32mreturn\u001b[0m \u001b[0mnp\u001b[0m\u001b[1;33m.\u001b[0m\u001b[0marray\u001b[0m\u001b[1;33m(\u001b[0m\u001b[1;33m[\u001b[0m\u001b[1;33m]\u001b[0m\u001b[1;33m)\u001b[0m\u001b[1;33m\u001b[0m\u001b[1;33m\u001b[0m\u001b[0m\n\u001b[0;32m    137\u001b[0m \u001b[1;33m\u001b[0m\u001b[0m\n\u001b[1;32m--> 138\u001b[1;33m         \u001b[1;32mreturn\u001b[0m \u001b[0m_encode\u001b[0m\u001b[1;33m(\u001b[0m\u001b[0my\u001b[0m\u001b[1;33m,\u001b[0m \u001b[0muniques\u001b[0m\u001b[1;33m=\u001b[0m\u001b[0mself\u001b[0m\u001b[1;33m.\u001b[0m\u001b[0mclasses_\u001b[0m\u001b[1;33m)\u001b[0m\u001b[1;33m\u001b[0m\u001b[1;33m\u001b[0m\u001b[0m\n\u001b[0m\u001b[0;32m    139\u001b[0m \u001b[1;33m\u001b[0m\u001b[0m\n\u001b[0;32m    140\u001b[0m     \u001b[1;32mdef\u001b[0m \u001b[0minverse_transform\u001b[0m\u001b[1;33m(\u001b[0m\u001b[0mself\u001b[0m\u001b[1;33m,\u001b[0m \u001b[0my\u001b[0m\u001b[1;33m)\u001b[0m\u001b[1;33m:\u001b[0m\u001b[1;33m\u001b[0m\u001b[1;33m\u001b[0m\u001b[0m\n",
      "\u001b[1;32m~\\anaconda3\\lib\\site-packages\\sklearn\\utils\\_encode.py\u001b[0m in \u001b[0;36m_encode\u001b[1;34m(values, uniques, check_unknown)\u001b[0m\n\u001b[0;32m    229\u001b[0m             \u001b[0mdiff\u001b[0m \u001b[1;33m=\u001b[0m \u001b[0m_check_unknown\u001b[0m\u001b[1;33m(\u001b[0m\u001b[0mvalues\u001b[0m\u001b[1;33m,\u001b[0m \u001b[0muniques\u001b[0m\u001b[1;33m)\u001b[0m\u001b[1;33m\u001b[0m\u001b[1;33m\u001b[0m\u001b[0m\n\u001b[0;32m    230\u001b[0m             \u001b[1;32mif\u001b[0m \u001b[0mdiff\u001b[0m\u001b[1;33m:\u001b[0m\u001b[1;33m\u001b[0m\u001b[1;33m\u001b[0m\u001b[0m\n\u001b[1;32m--> 231\u001b[1;33m                 \u001b[1;32mraise\u001b[0m \u001b[0mValueError\u001b[0m\u001b[1;33m(\u001b[0m\u001b[1;34mf\"y contains previously unseen labels: {str(diff)}\"\u001b[0m\u001b[1;33m)\u001b[0m\u001b[1;33m\u001b[0m\u001b[1;33m\u001b[0m\u001b[0m\n\u001b[0m\u001b[0;32m    232\u001b[0m         \u001b[1;32mreturn\u001b[0m \u001b[0mnp\u001b[0m\u001b[1;33m.\u001b[0m\u001b[0msearchsorted\u001b[0m\u001b[1;33m(\u001b[0m\u001b[0muniques\u001b[0m\u001b[1;33m,\u001b[0m \u001b[0mvalues\u001b[0m\u001b[1;33m)\u001b[0m\u001b[1;33m\u001b[0m\u001b[1;33m\u001b[0m\u001b[0m\n\u001b[0;32m    233\u001b[0m \u001b[1;33m\u001b[0m\u001b[0m\n",
      "\u001b[1;31mValueError\u001b[0m: y contains previously unseen labels: [0]"
     ]
    }
   ],
   "source": [
    "X = heart_df.drop('HeartDiseaseorAttack', axis=1) # features\n",
    "y = heart_df['HeartDiseaseorAttack'] # target variable\n",
    "\n",
    "# splitting data to understand model performance\n",
    "X_train, X_test, y_train, y_test = train_test_split(X, y, test_size=0.3, random_state=1) # 70% training and 30% test\n",
    "\n",
    "# create decision tree classifier object\n",
    "tree_clf = DecisionTreeClassifier(max_depth=10, random_state=42)\n",
    "\n",
    "# train decision tree with training data\n",
    "tree_clf.fit(X_train, y_train)\n",
    "\n",
    "# predict y for test set\n",
    "y_pred = tree_clf.predict(X_test)"
   ]
  },
  {
   "cell_type": "markdown",
   "id": "a45604f7-363a-4b2f-ba1e-2c21474f26ea",
   "metadata": {},
   "source": [
    "evaluating the model performance"
   ]
  },
  {
   "cell_type": "code",
   "execution_count": null,
   "id": "d6a0f2ed-6b6a-4166-98fd-4ed2ef25173e",
   "metadata": {},
   "outputs": [],
   "source": [
    "# Model Accuracy, how often is the classifier correct?\n",
    "print(\"Accuracy:\", accuracy_score(y_test, y_pred))\n",
    "print('Precision:', precision_score(y_test, y_pred))\n",
    "print('Recall:', recall_score(y_test, y_pred))\n",
    "print('ROC AUC:', roc_auc_score(y_test, y_pred))"
   ]
  },
  {
   "cell_type": "code",
   "execution_count": null,
   "id": "0c8b669c-b8e4-4a1c-9885-7f066787dd64",
   "metadata": {},
   "outputs": [],
   "source": [
    "fig = plt.figure(figsize=(25,20))\n",
    "_ = tree.plot_tree(tree_clf, \n",
    "                   feature_names=list(X.columns),  \n",
    "                   class_names=['0','1'],\n",
    "                   filled=True)"
   ]
  },
  {
   "cell_type": "code",
   "execution_count": null,
   "id": "93a480c5-770f-4205-a9f7-17bf5815e492",
   "metadata": {},
   "outputs": [],
   "source": [
    "cf_matrix = confusion_matrix(y_test, y_pred)\n",
    "\n",
    "group_names = [\"True Neg\",\"False Pos\",\"False Neg\",\"True Pos\"]\n",
    "group_counts = [\"{0:0.0f}\".format(value) for value in cf_matrix.flatten()]\n",
    "group_percentages = [\"{0:.2%}\".format(value) for value in cf_matrix.flatten()/np.sum(cf_matrix)]\n",
    "labels = [f\"{v1}\\n{v2}\\n{v3}\" for v1, v2, v3 in\n",
    "          zip(group_names,group_counts,group_percentages)]\n",
    "labels = np.asarray(labels).reshape(2,2)\n",
    "\n",
    "sns.heatmap(cf_matrix, annot=labels, fmt=\"\", cmap='Blues')\n",
    "plt.xlabel('Predicted Labels')\n",
    "plt.ylabel('Actual Labels')\n",
    "plt.show()"
   ]
  },
  {
   "cell_type": "markdown",
   "id": "db20d1ee-a6d6-4e92-b95c-0379871a1655",
   "metadata": {},
   "source": [
    "# Decision Tree using selected features"
   ]
  },
  {
   "cell_type": "code",
   "execution_count": null,
   "id": "448a18da-f599-4f10-add5-af4b7f751f7b",
   "metadata": {},
   "outputs": [
    {
     "ename": "ValueError",
     "evalue": "The classes, [2.0], are not in class_weight",
     "output_type": "error",
     "traceback": [
      "\u001b[1;31m---------------------------------------------------------------------------\u001b[0m",
      "\u001b[1;31mValueError\u001b[0m                                Traceback (most recent call last)",
      "\u001b[1;32m~\\AppData\\Local\\Temp\\ipykernel_19204\\3719899004.py\u001b[0m in \u001b[0;36m<module>\u001b[1;34m\u001b[0m\n\u001b[0;32m      8\u001b[0m \u001b[1;33m\u001b[0m\u001b[0m\n\u001b[0;32m      9\u001b[0m \u001b[0mlogreg\u001b[0m \u001b[1;33m=\u001b[0m \u001b[0mLogisticRegression\u001b[0m\u001b[1;33m(\u001b[0m\u001b[0mclass_weight\u001b[0m\u001b[1;33m=\u001b[0m\u001b[1;33m{\u001b[0m\u001b[1;36m0\u001b[0m\u001b[1;33m:\u001b[0m\u001b[1;36m1\u001b[0m\u001b[1;33m,\u001b[0m \u001b[1;36m1\u001b[0m\u001b[1;33m:\u001b[0m\u001b[1;36m10\u001b[0m\u001b[1;33m}\u001b[0m\u001b[1;33m,\u001b[0m \u001b[0mmax_iter\u001b[0m\u001b[1;33m=\u001b[0m\u001b[1;36m10000\u001b[0m\u001b[1;33m)\u001b[0m\u001b[1;33m\u001b[0m\u001b[1;33m\u001b[0m\u001b[0m\n\u001b[1;32m---> 10\u001b[1;33m \u001b[0mlogreg\u001b[0m\u001b[1;33m.\u001b[0m\u001b[0mfit\u001b[0m\u001b[1;33m(\u001b[0m\u001b[0mX_train\u001b[0m\u001b[1;33m,\u001b[0m \u001b[0my_train\u001b[0m\u001b[1;33m)\u001b[0m\u001b[1;33m\u001b[0m\u001b[1;33m\u001b[0m\u001b[0m\n\u001b[0m\u001b[0;32m     11\u001b[0m \u001b[1;33m\u001b[0m\u001b[0m\n\u001b[0;32m     12\u001b[0m \u001b[0my_pred\u001b[0m \u001b[1;33m=\u001b[0m \u001b[0mlogreg\u001b[0m\u001b[1;33m.\u001b[0m\u001b[0mpredict\u001b[0m\u001b[1;33m(\u001b[0m\u001b[0mX_test\u001b[0m\u001b[1;33m)\u001b[0m\u001b[1;33m\u001b[0m\u001b[1;33m\u001b[0m\u001b[0m\n",
      "\u001b[1;32m~\\anaconda3\\lib\\site-packages\\sklearn\\linear_model\\_logistic.py\u001b[0m in \u001b[0;36mfit\u001b[1;34m(self, X, y, sample_weight)\u001b[0m\n\u001b[0;32m   1231\u001b[0m             \u001b[0mn_threads\u001b[0m \u001b[1;33m=\u001b[0m \u001b[1;36m1\u001b[0m\u001b[1;33m\u001b[0m\u001b[1;33m\u001b[0m\u001b[0m\n\u001b[0;32m   1232\u001b[0m \u001b[1;33m\u001b[0m\u001b[0m\n\u001b[1;32m-> 1233\u001b[1;33m         fold_coefs_ = Parallel(n_jobs=self.n_jobs, verbose=self.verbose, prefer=prefer)(\n\u001b[0m\u001b[0;32m   1234\u001b[0m             path_func(\n\u001b[0;32m   1235\u001b[0m                 \u001b[0mX\u001b[0m\u001b[1;33m,\u001b[0m\u001b[1;33m\u001b[0m\u001b[1;33m\u001b[0m\u001b[0m\n",
      "\u001b[1;32m~\\anaconda3\\lib\\site-packages\\joblib\\parallel.py\u001b[0m in \u001b[0;36m__call__\u001b[1;34m(self, iterable)\u001b[0m\n\u001b[0;32m   1041\u001b[0m             \u001b[1;31m# remaining jobs.\u001b[0m\u001b[1;33m\u001b[0m\u001b[1;33m\u001b[0m\u001b[0m\n\u001b[0;32m   1042\u001b[0m             \u001b[0mself\u001b[0m\u001b[1;33m.\u001b[0m\u001b[0m_iterating\u001b[0m \u001b[1;33m=\u001b[0m \u001b[1;32mFalse\u001b[0m\u001b[1;33m\u001b[0m\u001b[1;33m\u001b[0m\u001b[0m\n\u001b[1;32m-> 1043\u001b[1;33m             \u001b[1;32mif\u001b[0m \u001b[0mself\u001b[0m\u001b[1;33m.\u001b[0m\u001b[0mdispatch_one_batch\u001b[0m\u001b[1;33m(\u001b[0m\u001b[0miterator\u001b[0m\u001b[1;33m)\u001b[0m\u001b[1;33m:\u001b[0m\u001b[1;33m\u001b[0m\u001b[1;33m\u001b[0m\u001b[0m\n\u001b[0m\u001b[0;32m   1044\u001b[0m                 \u001b[0mself\u001b[0m\u001b[1;33m.\u001b[0m\u001b[0m_iterating\u001b[0m \u001b[1;33m=\u001b[0m \u001b[0mself\u001b[0m\u001b[1;33m.\u001b[0m\u001b[0m_original_iterator\u001b[0m \u001b[1;32mis\u001b[0m \u001b[1;32mnot\u001b[0m \u001b[1;32mNone\u001b[0m\u001b[1;33m\u001b[0m\u001b[1;33m\u001b[0m\u001b[0m\n\u001b[0;32m   1045\u001b[0m \u001b[1;33m\u001b[0m\u001b[0m\n",
      "\u001b[1;32m~\\anaconda3\\lib\\site-packages\\joblib\\parallel.py\u001b[0m in \u001b[0;36mdispatch_one_batch\u001b[1;34m(self, iterator)\u001b[0m\n\u001b[0;32m    859\u001b[0m                 \u001b[1;32mreturn\u001b[0m \u001b[1;32mFalse\u001b[0m\u001b[1;33m\u001b[0m\u001b[1;33m\u001b[0m\u001b[0m\n\u001b[0;32m    860\u001b[0m             \u001b[1;32melse\u001b[0m\u001b[1;33m:\u001b[0m\u001b[1;33m\u001b[0m\u001b[1;33m\u001b[0m\u001b[0m\n\u001b[1;32m--> 861\u001b[1;33m                 \u001b[0mself\u001b[0m\u001b[1;33m.\u001b[0m\u001b[0m_dispatch\u001b[0m\u001b[1;33m(\u001b[0m\u001b[0mtasks\u001b[0m\u001b[1;33m)\u001b[0m\u001b[1;33m\u001b[0m\u001b[1;33m\u001b[0m\u001b[0m\n\u001b[0m\u001b[0;32m    862\u001b[0m                 \u001b[1;32mreturn\u001b[0m \u001b[1;32mTrue\u001b[0m\u001b[1;33m\u001b[0m\u001b[1;33m\u001b[0m\u001b[0m\n\u001b[0;32m    863\u001b[0m \u001b[1;33m\u001b[0m\u001b[0m\n",
      "\u001b[1;32m~\\anaconda3\\lib\\site-packages\\joblib\\parallel.py\u001b[0m in \u001b[0;36m_dispatch\u001b[1;34m(self, batch)\u001b[0m\n\u001b[0;32m    777\u001b[0m         \u001b[1;32mwith\u001b[0m \u001b[0mself\u001b[0m\u001b[1;33m.\u001b[0m\u001b[0m_lock\u001b[0m\u001b[1;33m:\u001b[0m\u001b[1;33m\u001b[0m\u001b[1;33m\u001b[0m\u001b[0m\n\u001b[0;32m    778\u001b[0m             \u001b[0mjob_idx\u001b[0m \u001b[1;33m=\u001b[0m \u001b[0mlen\u001b[0m\u001b[1;33m(\u001b[0m\u001b[0mself\u001b[0m\u001b[1;33m.\u001b[0m\u001b[0m_jobs\u001b[0m\u001b[1;33m)\u001b[0m\u001b[1;33m\u001b[0m\u001b[1;33m\u001b[0m\u001b[0m\n\u001b[1;32m--> 779\u001b[1;33m             \u001b[0mjob\u001b[0m \u001b[1;33m=\u001b[0m \u001b[0mself\u001b[0m\u001b[1;33m.\u001b[0m\u001b[0m_backend\u001b[0m\u001b[1;33m.\u001b[0m\u001b[0mapply_async\u001b[0m\u001b[1;33m(\u001b[0m\u001b[0mbatch\u001b[0m\u001b[1;33m,\u001b[0m \u001b[0mcallback\u001b[0m\u001b[1;33m=\u001b[0m\u001b[0mcb\u001b[0m\u001b[1;33m)\u001b[0m\u001b[1;33m\u001b[0m\u001b[1;33m\u001b[0m\u001b[0m\n\u001b[0m\u001b[0;32m    780\u001b[0m             \u001b[1;31m# A job can complete so quickly than its callback is\u001b[0m\u001b[1;33m\u001b[0m\u001b[1;33m\u001b[0m\u001b[0m\n\u001b[0;32m    781\u001b[0m             \u001b[1;31m# called before we get here, causing self._jobs to\u001b[0m\u001b[1;33m\u001b[0m\u001b[1;33m\u001b[0m\u001b[0m\n",
      "\u001b[1;32m~\\anaconda3\\lib\\site-packages\\joblib\\_parallel_backends.py\u001b[0m in \u001b[0;36mapply_async\u001b[1;34m(self, func, callback)\u001b[0m\n\u001b[0;32m    206\u001b[0m     \u001b[1;32mdef\u001b[0m \u001b[0mapply_async\u001b[0m\u001b[1;33m(\u001b[0m\u001b[0mself\u001b[0m\u001b[1;33m,\u001b[0m \u001b[0mfunc\u001b[0m\u001b[1;33m,\u001b[0m \u001b[0mcallback\u001b[0m\u001b[1;33m=\u001b[0m\u001b[1;32mNone\u001b[0m\u001b[1;33m)\u001b[0m\u001b[1;33m:\u001b[0m\u001b[1;33m\u001b[0m\u001b[1;33m\u001b[0m\u001b[0m\n\u001b[0;32m    207\u001b[0m         \u001b[1;34m\"\"\"Schedule a func to be run\"\"\"\u001b[0m\u001b[1;33m\u001b[0m\u001b[1;33m\u001b[0m\u001b[0m\n\u001b[1;32m--> 208\u001b[1;33m         \u001b[0mresult\u001b[0m \u001b[1;33m=\u001b[0m \u001b[0mImmediateResult\u001b[0m\u001b[1;33m(\u001b[0m\u001b[0mfunc\u001b[0m\u001b[1;33m)\u001b[0m\u001b[1;33m\u001b[0m\u001b[1;33m\u001b[0m\u001b[0m\n\u001b[0m\u001b[0;32m    209\u001b[0m         \u001b[1;32mif\u001b[0m \u001b[0mcallback\u001b[0m\u001b[1;33m:\u001b[0m\u001b[1;33m\u001b[0m\u001b[1;33m\u001b[0m\u001b[0m\n\u001b[0;32m    210\u001b[0m             \u001b[0mcallback\u001b[0m\u001b[1;33m(\u001b[0m\u001b[0mresult\u001b[0m\u001b[1;33m)\u001b[0m\u001b[1;33m\u001b[0m\u001b[1;33m\u001b[0m\u001b[0m\n",
      "\u001b[1;32m~\\anaconda3\\lib\\site-packages\\joblib\\_parallel_backends.py\u001b[0m in \u001b[0;36m__init__\u001b[1;34m(self, batch)\u001b[0m\n\u001b[0;32m    570\u001b[0m         \u001b[1;31m# Don't delay the application, to avoid keeping the input\u001b[0m\u001b[1;33m\u001b[0m\u001b[1;33m\u001b[0m\u001b[0m\n\u001b[0;32m    571\u001b[0m         \u001b[1;31m# arguments in memory\u001b[0m\u001b[1;33m\u001b[0m\u001b[1;33m\u001b[0m\u001b[0m\n\u001b[1;32m--> 572\u001b[1;33m         \u001b[0mself\u001b[0m\u001b[1;33m.\u001b[0m\u001b[0mresults\u001b[0m \u001b[1;33m=\u001b[0m \u001b[0mbatch\u001b[0m\u001b[1;33m(\u001b[0m\u001b[1;33m)\u001b[0m\u001b[1;33m\u001b[0m\u001b[1;33m\u001b[0m\u001b[0m\n\u001b[0m\u001b[0;32m    573\u001b[0m \u001b[1;33m\u001b[0m\u001b[0m\n\u001b[0;32m    574\u001b[0m     \u001b[1;32mdef\u001b[0m \u001b[0mget\u001b[0m\u001b[1;33m(\u001b[0m\u001b[0mself\u001b[0m\u001b[1;33m)\u001b[0m\u001b[1;33m:\u001b[0m\u001b[1;33m\u001b[0m\u001b[1;33m\u001b[0m\u001b[0m\n",
      "\u001b[1;32m~\\anaconda3\\lib\\site-packages\\joblib\\parallel.py\u001b[0m in \u001b[0;36m__call__\u001b[1;34m(self)\u001b[0m\n\u001b[0;32m    260\u001b[0m         \u001b[1;31m# change the default number of processes to -1\u001b[0m\u001b[1;33m\u001b[0m\u001b[1;33m\u001b[0m\u001b[0m\n\u001b[0;32m    261\u001b[0m         \u001b[1;32mwith\u001b[0m \u001b[0mparallel_backend\u001b[0m\u001b[1;33m(\u001b[0m\u001b[0mself\u001b[0m\u001b[1;33m.\u001b[0m\u001b[0m_backend\u001b[0m\u001b[1;33m,\u001b[0m \u001b[0mn_jobs\u001b[0m\u001b[1;33m=\u001b[0m\u001b[0mself\u001b[0m\u001b[1;33m.\u001b[0m\u001b[0m_n_jobs\u001b[0m\u001b[1;33m)\u001b[0m\u001b[1;33m:\u001b[0m\u001b[1;33m\u001b[0m\u001b[1;33m\u001b[0m\u001b[0m\n\u001b[1;32m--> 262\u001b[1;33m             return [func(*args, **kwargs)\n\u001b[0m\u001b[0;32m    263\u001b[0m                     for func, args, kwargs in self.items]\n\u001b[0;32m    264\u001b[0m \u001b[1;33m\u001b[0m\u001b[0m\n",
      "\u001b[1;32m~\\anaconda3\\lib\\site-packages\\joblib\\parallel.py\u001b[0m in \u001b[0;36m<listcomp>\u001b[1;34m(.0)\u001b[0m\n\u001b[0;32m    260\u001b[0m         \u001b[1;31m# change the default number of processes to -1\u001b[0m\u001b[1;33m\u001b[0m\u001b[1;33m\u001b[0m\u001b[0m\n\u001b[0;32m    261\u001b[0m         \u001b[1;32mwith\u001b[0m \u001b[0mparallel_backend\u001b[0m\u001b[1;33m(\u001b[0m\u001b[0mself\u001b[0m\u001b[1;33m.\u001b[0m\u001b[0m_backend\u001b[0m\u001b[1;33m,\u001b[0m \u001b[0mn_jobs\u001b[0m\u001b[1;33m=\u001b[0m\u001b[0mself\u001b[0m\u001b[1;33m.\u001b[0m\u001b[0m_n_jobs\u001b[0m\u001b[1;33m)\u001b[0m\u001b[1;33m:\u001b[0m\u001b[1;33m\u001b[0m\u001b[1;33m\u001b[0m\u001b[0m\n\u001b[1;32m--> 262\u001b[1;33m             return [func(*args, **kwargs)\n\u001b[0m\u001b[0;32m    263\u001b[0m                     for func, args, kwargs in self.items]\n\u001b[0;32m    264\u001b[0m \u001b[1;33m\u001b[0m\u001b[0m\n",
      "\u001b[1;32m~\\anaconda3\\lib\\site-packages\\sklearn\\utils\\fixes.py\u001b[0m in \u001b[0;36m__call__\u001b[1;34m(self, *args, **kwargs)\u001b[0m\n\u001b[0;32m    115\u001b[0m     \u001b[1;32mdef\u001b[0m \u001b[0m__call__\u001b[0m\u001b[1;33m(\u001b[0m\u001b[0mself\u001b[0m\u001b[1;33m,\u001b[0m \u001b[1;33m*\u001b[0m\u001b[0margs\u001b[0m\u001b[1;33m,\u001b[0m \u001b[1;33m**\u001b[0m\u001b[0mkwargs\u001b[0m\u001b[1;33m)\u001b[0m\u001b[1;33m:\u001b[0m\u001b[1;33m\u001b[0m\u001b[1;33m\u001b[0m\u001b[0m\n\u001b[0;32m    116\u001b[0m         \u001b[1;32mwith\u001b[0m \u001b[0mconfig_context\u001b[0m\u001b[1;33m(\u001b[0m\u001b[1;33m**\u001b[0m\u001b[0mself\u001b[0m\u001b[1;33m.\u001b[0m\u001b[0mconfig\u001b[0m\u001b[1;33m)\u001b[0m\u001b[1;33m:\u001b[0m\u001b[1;33m\u001b[0m\u001b[1;33m\u001b[0m\u001b[0m\n\u001b[1;32m--> 117\u001b[1;33m             \u001b[1;32mreturn\u001b[0m \u001b[0mself\u001b[0m\u001b[1;33m.\u001b[0m\u001b[0mfunction\u001b[0m\u001b[1;33m(\u001b[0m\u001b[1;33m*\u001b[0m\u001b[0margs\u001b[0m\u001b[1;33m,\u001b[0m \u001b[1;33m**\u001b[0m\u001b[0mkwargs\u001b[0m\u001b[1;33m)\u001b[0m\u001b[1;33m\u001b[0m\u001b[1;33m\u001b[0m\u001b[0m\n\u001b[0m\u001b[0;32m    118\u001b[0m \u001b[1;33m\u001b[0m\u001b[0m\n\u001b[0;32m    119\u001b[0m \u001b[1;33m\u001b[0m\u001b[0m\n",
      "\u001b[1;32m~\\anaconda3\\lib\\site-packages\\sklearn\\linear_model\\_logistic.py\u001b[0m in \u001b[0;36m_logistic_regression_path\u001b[1;34m(X, y, pos_class, Cs, fit_intercept, max_iter, tol, verbose, solver, coef, class_weight, dual, penalty, intercept_scaling, multi_class, random_state, check_input, max_squared_sum, sample_weight, l1_ratio, n_threads)\u001b[0m\n\u001b[0;32m    308\u001b[0m     \u001b[0mle\u001b[0m \u001b[1;33m=\u001b[0m \u001b[0mLabelEncoder\u001b[0m\u001b[1;33m(\u001b[0m\u001b[1;33m)\u001b[0m\u001b[1;33m\u001b[0m\u001b[1;33m\u001b[0m\u001b[0m\n\u001b[0;32m    309\u001b[0m     \u001b[1;32mif\u001b[0m \u001b[0misinstance\u001b[0m\u001b[1;33m(\u001b[0m\u001b[0mclass_weight\u001b[0m\u001b[1;33m,\u001b[0m \u001b[0mdict\u001b[0m\u001b[1;33m)\u001b[0m \u001b[1;32mor\u001b[0m \u001b[0mmulti_class\u001b[0m \u001b[1;33m==\u001b[0m \u001b[1;34m\"multinomial\"\u001b[0m\u001b[1;33m:\u001b[0m\u001b[1;33m\u001b[0m\u001b[1;33m\u001b[0m\u001b[0m\n\u001b[1;32m--> 310\u001b[1;33m         \u001b[0mclass_weight_\u001b[0m \u001b[1;33m=\u001b[0m \u001b[0mcompute_class_weight\u001b[0m\u001b[1;33m(\u001b[0m\u001b[0mclass_weight\u001b[0m\u001b[1;33m,\u001b[0m \u001b[0mclasses\u001b[0m\u001b[1;33m=\u001b[0m\u001b[0mclasses\u001b[0m\u001b[1;33m,\u001b[0m \u001b[0my\u001b[0m\u001b[1;33m=\u001b[0m\u001b[0my\u001b[0m\u001b[1;33m)\u001b[0m\u001b[1;33m\u001b[0m\u001b[1;33m\u001b[0m\u001b[0m\n\u001b[0m\u001b[0;32m    311\u001b[0m         \u001b[0msample_weight\u001b[0m \u001b[1;33m*=\u001b[0m \u001b[0mclass_weight_\u001b[0m\u001b[1;33m[\u001b[0m\u001b[0mle\u001b[0m\u001b[1;33m.\u001b[0m\u001b[0mfit_transform\u001b[0m\u001b[1;33m(\u001b[0m\u001b[0my\u001b[0m\u001b[1;33m)\u001b[0m\u001b[1;33m]\u001b[0m\u001b[1;33m\u001b[0m\u001b[1;33m\u001b[0m\u001b[0m\n\u001b[0;32m    312\u001b[0m \u001b[1;33m\u001b[0m\u001b[0m\n",
      "\u001b[1;32m~\\anaconda3\\lib\\site-packages\\sklearn\\utils\\class_weight.py\u001b[0m in \u001b[0;36mcompute_class_weight\u001b[1;34m(class_weight, classes, y)\u001b[0m\n\u001b[0;32m     70\u001b[0m         \u001b[0mn_weighted_classes\u001b[0m \u001b[1;33m=\u001b[0m \u001b[0mlen\u001b[0m\u001b[1;33m(\u001b[0m\u001b[0mclasses\u001b[0m\u001b[1;33m)\u001b[0m \u001b[1;33m-\u001b[0m \u001b[0mlen\u001b[0m\u001b[1;33m(\u001b[0m\u001b[0munweighted_classes\u001b[0m\u001b[1;33m)\u001b[0m\u001b[1;33m\u001b[0m\u001b[1;33m\u001b[0m\u001b[0m\n\u001b[0;32m     71\u001b[0m         \u001b[1;32mif\u001b[0m \u001b[0munweighted_classes\u001b[0m \u001b[1;32mand\u001b[0m \u001b[0mn_weighted_classes\u001b[0m \u001b[1;33m!=\u001b[0m \u001b[0mlen\u001b[0m\u001b[1;33m(\u001b[0m\u001b[0mclass_weight\u001b[0m\u001b[1;33m)\u001b[0m\u001b[1;33m:\u001b[0m\u001b[1;33m\u001b[0m\u001b[1;33m\u001b[0m\u001b[0m\n\u001b[1;32m---> 72\u001b[1;33m             raise ValueError(\n\u001b[0m\u001b[0;32m     73\u001b[0m                 \u001b[1;34mf\"The classes, {unweighted_classes}, are not in class_weight\"\u001b[0m\u001b[1;33m\u001b[0m\u001b[1;33m\u001b[0m\u001b[0m\n\u001b[0;32m     74\u001b[0m             )\n",
      "\u001b[1;31mValueError\u001b[0m: The classes, [2.0], are not in class_weight"
     ]
    }
   ],
   "source": [
    "X = heart_df.drop('HeartDiseaseorAttack', axis=1)\n",
    "X_sel = selected_df = X[selected_features].copy()\n",
    "\n",
    "y = heart_df['HeartDiseaseorAttack']\n",
    "\n",
    "# splitting data to understand model performance\n",
    "X_train, X_test, y_train, y_test = train_test_split(X_sel, y, test_size=0.3, random_state=1) # 70% training and 30% test\n",
    "\n",
    "# create decision tree classifier object\n",
    "tree_clf_sel = DecisionTreeClassifier(max_depth=10, min_samples_split=5, random_state=42)\n",
    "\n",
    "# train decision tree with training data\n",
    "tree_clf_sel.fit(X_train, y_train)\n",
    "\n",
    "# predict y for test set\n",
    "y_pred = tree_clf_sel.predict(X_test)"
   ]
  },
  {
   "cell_type": "code",
   "execution_count": null,
   "id": "458f9bc0-cfee-4eaa-a561-429cbbafd673",
   "metadata": {},
   "outputs": [],
   "source": [
    "# Model Accuracy, how often is the classifier correct?\n",
    "print(\"Accuracy:\", accuracy_score(y_test, y_pred))\n",
    "print('Precision:', precision_score(y_test, y_pred))\n",
    "print('Recall:', recall_score(y_test, y_pred))\n",
    "print('ROC AUC:', roc_auc_score(y_test, y_pred))"
   ]
  },
  {
   "cell_type": "code",
   "execution_count": null,
   "id": "2c29e1b6-bcf6-4aa5-aef7-6d5c5dfe49f0",
   "metadata": {},
   "outputs": [],
   "source": [
    "fig = plt.figure(figsize=(25,20))\n",
    "_ = tree.plot_tree(tree_clf_sel, \n",
    "                   feature_names=list(X.columns),  \n",
    "                   class_names=['0','1'],\n",
    "                   filled=True)"
   ]
  },
  {
   "cell_type": "code",
   "execution_count": null,
   "id": "e83d59b0-5642-4fe7-8de2-29e775ac58d3",
   "metadata": {},
   "outputs": [],
   "source": [
    "cf_matrix = confusion_matrix(y_test, y_pred)\n",
    "\n",
    "group_names = [\"True Neg\",\"False Pos\",\"False Neg\",\"True Pos\"]\n",
    "group_counts = [\"{0:0.0f}\".format(value) for value in cf_matrix.flatten()]\n",
    "group_percentages = [\"{0:.2%}\".format(value) for value in cf_matrix.flatten()/np.sum(cf_matrix)]\n",
    "labels = [f\"{v1}\\n{v2}\\n{v3}\" for v1, v2, v3 in\n",
    "          zip(group_names,group_counts,group_percentages)]\n",
    "labels = np.asarray(labels).reshape(2,2)\n",
    "\n",
    "sns.heatmap(cf_matrix, annot=labels, fmt=\"\", cmap='Blues')\n",
    "plt.xlabel('Predicted Labels')\n",
    "plt.ylabel('Actual Labels')\n",
    "plt.show()"
   ]
  },
  {
   "cell_type": "code",
   "execution_count": null,
   "id": "84ff0f40-2c45-425e-ab0e-7cb9c534d6b2",
   "metadata": {},
   "outputs": [],
   "source": [
    "# Split the data into training and testing sets\n",
    "X_train, X_test, y_train, y_test = train_test_split(X, y, test_size=0.3)\n",
    "\n",
    "# Apply SMOTE to oversample the minority class\n",
    "smote = SMOTE(random_state=42)\n",
    "X_train_resampled, y_train_resampled = smote.fit_resample(X_train, y_train)\n",
    "\n",
    "# Train a decision tree classifier with tuned hyperparameters\n",
    "tree_clf = DecisionTreeClassifier(max_depth=5, min_samples_split=5, random_state=42)\n",
    "tree_clf.fit(X_train_resampled, y_train_resampled)\n",
    "\n",
    "# Evaluate the model on the testing set\n",
    "y_pred = tree_clf.predict(X_test)\n",
    "print(classification_report(y_test, y_pred))"
   ]
  },
  {
   "cell_type": "code",
   "execution_count": null,
   "id": "78eccfd4-a282-4192-bfe0-3fd98dc53a04",
   "metadata": {},
   "outputs": [],
   "source": []
  },
  {
   "cell_type": "code",
   "execution_count": null,
   "id": "773aa71a-e660-43c5-b71e-329e6a3223fa",
   "metadata": {},
   "outputs": [],
   "source": []
  },
  {
   "cell_type": "markdown",
   "id": "03e023c9",
   "metadata": {},
   "source": [
    "### Testing different models on the defined datasets\n",
    "\n",
    "To compare the performance of the tested models we define a dataframe. This dataframe contains the scores of the models with each dataset. The scores are added to the dataframe by the scoring function defined below."
   ]
  },
  {
   "cell_type": "code",
   "execution_count": 85,
   "id": "43cd97ec",
   "metadata": {},
   "outputs": [],
   "source": [
    "scoring_df = pd.DataFrame(columns = [\"Model\", \"Dataset\", \"Accuracy\", \"Precision\", \"Recall\", \"ROC AUC\"])"
   ]
  },
  {
   "cell_type": "code",
   "execution_count": 44,
   "id": "ce8d2874",
   "metadata": {},
   "outputs": [],
   "source": [
    "def scoring(model, dataset, test, pred):\n",
    "    global scoring_df\n",
    "    accuracy = accuracy_score(test, pred)\n",
    "    precision = precision_score(test, pred)\n",
    "    recall = recall_score(test, pred)\n",
    "    roc_auc = roc_auc_score(test, pred)\n",
    "\n",
    "    print('Accuracy:', accuracy)\n",
    "    print('Precision:', precision)\n",
    "    print('Recall:', recall)\n",
    "    print('ROC AUC:', roc_auc)\n",
    "    \n",
    "    scoring_df = scoring_df.append({\"Model\" : model, \"Dataset\" : dataset, \"Accuracy\" : accuracy, \"Precision\": precision,\n",
    "                                    \"Recall\" : recall, \"ROC AUC\" : roc_auc}, ignore_index = True)"
   ]
  },
  {
   "cell_type": "markdown",
   "id": "d0d4ae0c",
   "metadata": {},
   "source": [
    "#### The random forest model\n",
    "Random forest builds multiple decision trees and merges them together to get a more accurate and stable prediction which is why we decided to focus on building a random forest model rather than a decision tree."
   ]
  },
  {
   "cell_type": "code",
   "execution_count": 86,
   "id": "7472f48a",
   "metadata": {},
   "outputs": [
    {
     "name": "stdout",
     "output_type": "stream",
     "text": [
      "Accuracy: 0.954886394744046\n",
      "Precision: 0.997764863656683\n",
      "Recall: 0.7315634218289085\n",
      "ROC AUC: 0.8656173885797627\n"
     ]
    }
   ],
   "source": [
    "# Random Forest Model with weighted all parameters\n",
    "rf_model = RandomForestClassifier(random_state=42, class_weight={2:1, 1:10})\n",
    "rf_model.fit(X_train, y_train)\n",
    "y_pred = rf_model.predict(X_test)\n",
    "\n",
    "scoring(\"Random Forest\", \"Weighted All Parameters\", y_test, y_pred)"
   ]
  },
  {
   "cell_type": "code",
   "execution_count": 87,
   "id": "e8559cf8",
   "metadata": {},
   "outputs": [
    {
     "name": "stdout",
     "output_type": "stream",
     "text": [
      "Accuracy: 0.9551601423487545\n",
      "Precision: 1.0\n",
      "Recall: 0.7315634218289085\n",
      "ROC AUC: 0.8657817109144543\n"
     ]
    }
   ],
   "source": [
    "# Random Forest Model with all parameters\n",
    "rf_model = RandomForestClassifier(random_state=42)\n",
    "rf_model.fit(X_train, y_train)\n",
    "y_pred = rf_model.predict(X_test)\n",
    "\n",
    "scoring(\"Random Forest\", \"All Parameters\", y_test, y_pred)"
   ]
  },
  {
   "cell_type": "markdown",
   "id": "3ba8fb6a",
   "metadata": {},
   "source": [
    "#### Support Vector Machine\n"
   ]
  },
  {
   "cell_type": "code",
   "execution_count": 88,
   "id": "ef192e93",
   "metadata": {},
   "outputs": [
    {
     "name": "stdout",
     "output_type": "stream",
     "text": [
      "Accuracy: 0.9551601423487545\n",
      "Precision: 1.0\n",
      "Recall: 0.7315634218289085\n",
      "ROC AUC: 0.8657817109144543\n"
     ]
    }
   ],
   "source": [
    "# Support Vector Machine\n",
    "svm_model = SVC(random_state=42)\n",
    "svm_model.fit(X_train, y_train)\n",
    "y_pred = svm_model.predict(X_test)\n",
    "\n",
    "scoring(\"SVM\", \"All Parameters\", y_test, y_pred)"
   ]
  },
  {
   "cell_type": "code",
   "execution_count": 89,
   "id": "d181d61b",
   "metadata": {},
   "outputs": [
    {
     "data": {
      "text/html": [
       "<div>\n",
       "<style scoped>\n",
       "    .dataframe tbody tr th:only-of-type {\n",
       "        vertical-align: middle;\n",
       "    }\n",
       "\n",
       "    .dataframe tbody tr th {\n",
       "        vertical-align: top;\n",
       "    }\n",
       "\n",
       "    .dataframe thead th {\n",
       "        text-align: right;\n",
       "    }\n",
       "</style>\n",
       "<table border=\"1\" class=\"dataframe\">\n",
       "  <thead>\n",
       "    <tr style=\"text-align: right;\">\n",
       "      <th></th>\n",
       "      <th>Model</th>\n",
       "      <th>Dataset</th>\n",
       "      <th>Accuracy</th>\n",
       "      <th>Precision</th>\n",
       "      <th>Recall</th>\n",
       "      <th>ROC AUC</th>\n",
       "    </tr>\n",
       "  </thead>\n",
       "  <tbody>\n",
       "    <tr>\n",
       "      <th>0</th>\n",
       "      <td>Random Forest</td>\n",
       "      <td>Weighted All Parameters</td>\n",
       "      <td>0.954886</td>\n",
       "      <td>0.997765</td>\n",
       "      <td>0.731563</td>\n",
       "      <td>0.865617</td>\n",
       "    </tr>\n",
       "    <tr>\n",
       "      <th>1</th>\n",
       "      <td>Random Forest</td>\n",
       "      <td>All Parameters</td>\n",
       "      <td>0.955160</td>\n",
       "      <td>1.000000</td>\n",
       "      <td>0.731563</td>\n",
       "      <td>0.865782</td>\n",
       "    </tr>\n",
       "    <tr>\n",
       "      <th>2</th>\n",
       "      <td>SVM</td>\n",
       "      <td>All Parameters</td>\n",
       "      <td>0.955160</td>\n",
       "      <td>1.000000</td>\n",
       "      <td>0.731563</td>\n",
       "      <td>0.865782</td>\n",
       "    </tr>\n",
       "  </tbody>\n",
       "</table>\n",
       "</div>"
      ],
      "text/plain": [
       "           Model                  Dataset  Accuracy  Precision    Recall  \\\n",
       "0  Random Forest  Weighted All Parameters  0.954886   0.997765  0.731563   \n",
       "1  Random Forest           All Parameters  0.955160   1.000000  0.731563   \n",
       "2            SVM           All Parameters  0.955160   1.000000  0.731563   \n",
       "\n",
       "    ROC AUC  \n",
       "0  0.865617  \n",
       "1  0.865782  \n",
       "2  0.865782  "
      ]
     },
     "metadata": {},
     "output_type": "display_data"
    }
   ],
   "source": [
    "display(scoring_df)"
   ]
  },
  {
   "cell_type": "markdown",
   "id": "0a7aa4a8",
   "metadata": {},
   "source": [
    "#### Voting Classifier\n",
    "As we can see in our scoring_df the different models are performing in a very similar way regarding their scores. That is why we are developing a voting classifier to see if we can achieve a better result combining the classifiers.\n",
    "\n",
    "- what Classifiers included are we using\n",
    "- hard or soft depending on Classifiers"
   ]
  },
  {
   "cell_type": "code",
   "execution_count": 90,
   "id": "057ddf4f",
   "metadata": {},
   "outputs": [
    {
     "name": "stdout",
     "output_type": "stream",
     "text": [
      "Accuracy: 0.9551601423487545\n",
      "Precision: 1.0\n",
      "Recall: 0.7315634218289085\n",
      "ROC AUC: 0.8657817109144543\n"
     ]
    }
   ],
   "source": [
    "log_clf = LogisticRegression(solver=\"liblinear\", random_state=42)\n",
    "rnd_clf = RandomForestClassifier(n_estimators=10, random_state=42)\n",
    "svm_clf = SVC(gamma=\"auto\", random_state=42)\n",
    "\n",
    "voting_clf = VotingClassifier(\n",
    "    estimators=[('lr', log_clf), ('rf', rnd_clf), ('svc', svm_clf)],\n",
    "    voting='hard')\n",
    "\n",
    "\n",
    "voting_clf.fit(X_train, y_train)\n",
    "\n",
    "y_pred = voting_clf.predict(X_test)\n",
    "    \n",
    "scoring(\"Voting Classifier\", \"All Parameters\", y_test, y_pred)"
   ]
  },
  {
   "cell_type": "code",
   "execution_count": 91,
   "id": "d6e47259",
   "metadata": {},
   "outputs": [
    {
     "data": {
      "text/html": [
       "<div>\n",
       "<style scoped>\n",
       "    .dataframe tbody tr th:only-of-type {\n",
       "        vertical-align: middle;\n",
       "    }\n",
       "\n",
       "    .dataframe tbody tr th {\n",
       "        vertical-align: top;\n",
       "    }\n",
       "\n",
       "    .dataframe thead th {\n",
       "        text-align: right;\n",
       "    }\n",
       "</style>\n",
       "<table border=\"1\" class=\"dataframe\">\n",
       "  <thead>\n",
       "    <tr style=\"text-align: right;\">\n",
       "      <th></th>\n",
       "      <th>Model</th>\n",
       "      <th>Dataset</th>\n",
       "      <th>Accuracy</th>\n",
       "      <th>Precision</th>\n",
       "      <th>Recall</th>\n",
       "      <th>ROC AUC</th>\n",
       "    </tr>\n",
       "  </thead>\n",
       "  <tbody>\n",
       "    <tr>\n",
       "      <th>0</th>\n",
       "      <td>Random Forest</td>\n",
       "      <td>Weighted All Parameters</td>\n",
       "      <td>0.954886</td>\n",
       "      <td>0.997765</td>\n",
       "      <td>0.731563</td>\n",
       "      <td>0.865617</td>\n",
       "    </tr>\n",
       "    <tr>\n",
       "      <th>1</th>\n",
       "      <td>Random Forest</td>\n",
       "      <td>All Parameters</td>\n",
       "      <td>0.955160</td>\n",
       "      <td>1.000000</td>\n",
       "      <td>0.731563</td>\n",
       "      <td>0.865782</td>\n",
       "    </tr>\n",
       "    <tr>\n",
       "      <th>2</th>\n",
       "      <td>SVM</td>\n",
       "      <td>All Parameters</td>\n",
       "      <td>0.955160</td>\n",
       "      <td>1.000000</td>\n",
       "      <td>0.731563</td>\n",
       "      <td>0.865782</td>\n",
       "    </tr>\n",
       "    <tr>\n",
       "      <th>3</th>\n",
       "      <td>Voting Classifier</td>\n",
       "      <td>All Parameters</td>\n",
       "      <td>0.955160</td>\n",
       "      <td>1.000000</td>\n",
       "      <td>0.731563</td>\n",
       "      <td>0.865782</td>\n",
       "    </tr>\n",
       "  </tbody>\n",
       "</table>\n",
       "</div>"
      ],
      "text/plain": [
       "               Model                  Dataset  Accuracy  Precision    Recall  \\\n",
       "0      Random Forest  Weighted All Parameters  0.954886   0.997765  0.731563   \n",
       "1      Random Forest           All Parameters  0.955160   1.000000  0.731563   \n",
       "2                SVM           All Parameters  0.955160   1.000000  0.731563   \n",
       "3  Voting Classifier           All Parameters  0.955160   1.000000  0.731563   \n",
       "\n",
       "    ROC AUC  \n",
       "0  0.865617  \n",
       "1  0.865782  \n",
       "2  0.865782  \n",
       "3  0.865782  "
      ]
     },
     "execution_count": 91,
     "metadata": {},
     "output_type": "execute_result"
    }
   ],
   "source": [
    "scoring_df"
   ]
  }
 ],
 "metadata": {
  "kernelspec": {
   "display_name": "Python 3 (ipykernel)",
   "language": "python",
   "name": "python3"
  },
  "language_info": {
   "codemirror_mode": {
    "name": "ipython",
    "version": 3
   },
   "file_extension": ".py",
   "mimetype": "text/x-python",
   "name": "python",
   "nbconvert_exporter": "python",
   "pygments_lexer": "ipython3",
   "version": "3.9.12"
  }
 },
 "nbformat": 4,
 "nbformat_minor": 5
}
