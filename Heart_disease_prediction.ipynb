{
 "cells": [
  {
   "cell_type": "markdown",
   "id": "9a5f1e3c-ca63-455f-9dc3-4153e7d3d3ff",
   "metadata": {},
   "source": [
    "# Heart Disease Prediction\n",
    "\n",
    "- Hannah Dickescheid (50178)\n",
    "- Julia Stieler (56040)\n",
    "- Eva Zinser (53100)\n",
    "- Carlos Ferrufino (53276)\n",
    "- Celina Kollwitz (53676)\n",
    "\n",
    "Heart disease is one of the leading causes of death worldwide, and early detection can be critical for successful treatment. Machine learning has emerged as a powerful tool for predicting the risk of heart disease by analyzing various features such as age, gender, blood pressure, cholesterol level, and smoking habits. In this notebook, we will explore a heart disease dataset and build a machine learning model to predict the likelihood of heart disease based on various patient features."
   ]
  },
  {
   "cell_type": "markdown",
   "id": "1d8f4cda",
   "metadata": {},
   "source": [
    "**_STATE** State FIPS Code\\\n",
    "**FMONTH** File Month\\\n",
    "**IDATE** Interview Date\\\n",
    "**IMONTH** Interview Month\\\n",
    "**IDAY** Interview Day\\\n",
    "**IYEAR** Interview Year\\\n",
    "**DISPCODE** Final Disposition\\\n",
    "**SEQNO** Annual Sequence Number\\\n",
    "**_PSU** Primary Sampling Unit (Equal to Annual Sequence Number)\\\n",
    "**CTELENUM** Correct Telephone Number\\\n",
    "**PVTRESD1** Is it a private residence?\\\n",
    "**COLGHOUS** Do you live in a college housing?\\\n",
    "**STATERES** Do you reside in (state)?\n",
    "**CELLFON3**  Is this a cellular telephone? (Telephone service over the internet counts as landline service (includes Vonage, Magic \n",
    "Jack and other home-based phone services)\\\n",
    "**LADULT** Are you 18 years of age or older?\\\n",
    "**NUMADULT** Number of Adults in Household\\\n",
    "**NUMMEN** Number of Adult Men in Household\\\n",
    "**NUMWOMEN** Number of Adult Women in Household\\\n",
    "**CTELNUM1**  Is this (phone number) ?\\\n",
    "**CELLFON2** Is this a cellular telephone?\\\n",
    "**CADULT** Are you 18 years of age or older\\\n",
    "**PVTRESD2** Do you live in a private residence, that is, not in a dormitory or other type of group living situation?\\\n",
    "**CCLGHOUS**  Do you live in college housing?\\\n",
    "\n"
   ]
  },
  {
   "cell_type": "code",
   "execution_count": 2,
   "id": "345a104d-af25-489f-98e6-0c8a1affad6c",
   "metadata": {},
   "outputs": [],
   "source": [
    "import os\n",
    "import pandas as pd\n",
    "import seaborn as sns\n",
    "from sklearn.model_selection import train_test_split\n",
    "from sklearn.linear_model import LogisticRegression\n",
    "from sklearn.linear_model import LogisticRegressionCV\n",
    "from sklearn.preprocessing import StandardScaler\n",
    "from sklearn.preprocessing import LabelEncoder\n",
    "from sklearn.pipeline import Pipeline\n",
    "from sklearn.ensemble import RandomForestClassifier\n",
    "from sklearn.feature_selection import SelectFromModel\n",
    "from sklearn.metrics import accuracy_score, precision_score, recall_score, roc_auc_score"
   ]
  },
  {
   "cell_type": "code",
   "execution_count": 3,
   "id": "be926d40-4e90-4912-9a13-1fbeedf632cc",
   "metadata": {
    "tags": []
   },
   "outputs": [
    {
     "data": {
      "text/html": [
       "<div>\n",
       "<style scoped>\n",
       "    .dataframe tbody tr th:only-of-type {\n",
       "        vertical-align: middle;\n",
       "    }\n",
       "\n",
       "    .dataframe tbody tr th {\n",
       "        vertical-align: top;\n",
       "    }\n",
       "\n",
       "    .dataframe thead th {\n",
       "        text-align: right;\n",
       "    }\n",
       "</style>\n",
       "<table border=\"1\" class=\"dataframe\">\n",
       "  <thead>\n",
       "    <tr style=\"text-align: right;\">\n",
       "      <th></th>\n",
       "      <th>_STATE</th>\n",
       "      <th>FMONTH</th>\n",
       "      <th>IDATE</th>\n",
       "      <th>IMONTH</th>\n",
       "      <th>IDAY</th>\n",
       "      <th>IYEAR</th>\n",
       "      <th>DISPCODE</th>\n",
       "      <th>SEQNO</th>\n",
       "      <th>_PSU</th>\n",
       "      <th>CTELENUM</th>\n",
       "      <th>...</th>\n",
       "      <th>_PAREC1</th>\n",
       "      <th>_PASTAE1</th>\n",
       "      <th>_LMTACT1</th>\n",
       "      <th>_LMTWRK1</th>\n",
       "      <th>_LMTSCL1</th>\n",
       "      <th>_RFSEAT2</th>\n",
       "      <th>_RFSEAT3</th>\n",
       "      <th>_FLSHOT6</th>\n",
       "      <th>_PNEUMO2</th>\n",
       "      <th>_AIDTST3</th>\n",
       "    </tr>\n",
       "  </thead>\n",
       "  <tbody>\n",
       "    <tr>\n",
       "      <th>0</th>\n",
       "      <td>1.0</td>\n",
       "      <td>1.0</td>\n",
       "      <td>b'01292015'</td>\n",
       "      <td>b'01'</td>\n",
       "      <td>b'29'</td>\n",
       "      <td>b'2015'</td>\n",
       "      <td>1200.0</td>\n",
       "      <td>2.015000e+09</td>\n",
       "      <td>2.015000e+09</td>\n",
       "      <td>1.0</td>\n",
       "      <td>...</td>\n",
       "      <td>4.0</td>\n",
       "      <td>2.0</td>\n",
       "      <td>1.0</td>\n",
       "      <td>1.0</td>\n",
       "      <td>1.0</td>\n",
       "      <td>1.0</td>\n",
       "      <td>1.0</td>\n",
       "      <td>NaN</td>\n",
       "      <td>NaN</td>\n",
       "      <td>1.0</td>\n",
       "    </tr>\n",
       "    <tr>\n",
       "      <th>1</th>\n",
       "      <td>1.0</td>\n",
       "      <td>1.0</td>\n",
       "      <td>b'01202015'</td>\n",
       "      <td>b'01'</td>\n",
       "      <td>b'20'</td>\n",
       "      <td>b'2015'</td>\n",
       "      <td>1100.0</td>\n",
       "      <td>2.015000e+09</td>\n",
       "      <td>2.015000e+09</td>\n",
       "      <td>1.0</td>\n",
       "      <td>...</td>\n",
       "      <td>2.0</td>\n",
       "      <td>2.0</td>\n",
       "      <td>3.0</td>\n",
       "      <td>3.0</td>\n",
       "      <td>4.0</td>\n",
       "      <td>2.0</td>\n",
       "      <td>2.0</td>\n",
       "      <td>NaN</td>\n",
       "      <td>NaN</td>\n",
       "      <td>2.0</td>\n",
       "    </tr>\n",
       "    <tr>\n",
       "      <th>2</th>\n",
       "      <td>1.0</td>\n",
       "      <td>1.0</td>\n",
       "      <td>b'02012015'</td>\n",
       "      <td>b'02'</td>\n",
       "      <td>b'01'</td>\n",
       "      <td>b'2015'</td>\n",
       "      <td>1200.0</td>\n",
       "      <td>2.015000e+09</td>\n",
       "      <td>2.015000e+09</td>\n",
       "      <td>1.0</td>\n",
       "      <td>...</td>\n",
       "      <td>9.0</td>\n",
       "      <td>9.0</td>\n",
       "      <td>9.0</td>\n",
       "      <td>9.0</td>\n",
       "      <td>9.0</td>\n",
       "      <td>9.0</td>\n",
       "      <td>9.0</td>\n",
       "      <td>9.0</td>\n",
       "      <td>9.0</td>\n",
       "      <td>NaN</td>\n",
       "    </tr>\n",
       "    <tr>\n",
       "      <th>3</th>\n",
       "      <td>1.0</td>\n",
       "      <td>1.0</td>\n",
       "      <td>b'01142015'</td>\n",
       "      <td>b'01'</td>\n",
       "      <td>b'14'</td>\n",
       "      <td>b'2015'</td>\n",
       "      <td>1100.0</td>\n",
       "      <td>2.015000e+09</td>\n",
       "      <td>2.015000e+09</td>\n",
       "      <td>1.0</td>\n",
       "      <td>...</td>\n",
       "      <td>4.0</td>\n",
       "      <td>2.0</td>\n",
       "      <td>1.0</td>\n",
       "      <td>1.0</td>\n",
       "      <td>1.0</td>\n",
       "      <td>1.0</td>\n",
       "      <td>1.0</td>\n",
       "      <td>NaN</td>\n",
       "      <td>NaN</td>\n",
       "      <td>9.0</td>\n",
       "    </tr>\n",
       "    <tr>\n",
       "      <th>4</th>\n",
       "      <td>1.0</td>\n",
       "      <td>1.0</td>\n",
       "      <td>b'01142015'</td>\n",
       "      <td>b'01'</td>\n",
       "      <td>b'14'</td>\n",
       "      <td>b'2015'</td>\n",
       "      <td>1100.0</td>\n",
       "      <td>2.015000e+09</td>\n",
       "      <td>2.015000e+09</td>\n",
       "      <td>1.0</td>\n",
       "      <td>...</td>\n",
       "      <td>4.0</td>\n",
       "      <td>2.0</td>\n",
       "      <td>1.0</td>\n",
       "      <td>1.0</td>\n",
       "      <td>1.0</td>\n",
       "      <td>1.0</td>\n",
       "      <td>1.0</td>\n",
       "      <td>NaN</td>\n",
       "      <td>NaN</td>\n",
       "      <td>1.0</td>\n",
       "    </tr>\n",
       "  </tbody>\n",
       "</table>\n",
       "<p>5 rows × 330 columns</p>\n",
       "</div>"
      ],
      "text/plain": [
       "   _STATE  FMONTH        IDATE IMONTH   IDAY    IYEAR  DISPCODE         SEQNO   \n",
       "0     1.0     1.0  b'01292015'  b'01'  b'29'  b'2015'    1200.0  2.015000e+09  \\\n",
       "1     1.0     1.0  b'01202015'  b'01'  b'20'  b'2015'    1100.0  2.015000e+09   \n",
       "2     1.0     1.0  b'02012015'  b'02'  b'01'  b'2015'    1200.0  2.015000e+09   \n",
       "3     1.0     1.0  b'01142015'  b'01'  b'14'  b'2015'    1100.0  2.015000e+09   \n",
       "4     1.0     1.0  b'01142015'  b'01'  b'14'  b'2015'    1100.0  2.015000e+09   \n",
       "\n",
       "           _PSU  CTELENUM  ...  _PAREC1  _PASTAE1  _LMTACT1  _LMTWRK1   \n",
       "0  2.015000e+09       1.0  ...      4.0       2.0       1.0       1.0  \\\n",
       "1  2.015000e+09       1.0  ...      2.0       2.0       3.0       3.0   \n",
       "2  2.015000e+09       1.0  ...      9.0       9.0       9.0       9.0   \n",
       "3  2.015000e+09       1.0  ...      4.0       2.0       1.0       1.0   \n",
       "4  2.015000e+09       1.0  ...      4.0       2.0       1.0       1.0   \n",
       "\n",
       "   _LMTSCL1  _RFSEAT2  _RFSEAT3  _FLSHOT6  _PNEUMO2  _AIDTST3  \n",
       "0       1.0       1.0       1.0       NaN       NaN       1.0  \n",
       "1       4.0       2.0       2.0       NaN       NaN       2.0  \n",
       "2       9.0       9.0       9.0       9.0       9.0       NaN  \n",
       "3       1.0       1.0       1.0       NaN       NaN       9.0  \n",
       "4       1.0       1.0       1.0       NaN       NaN       1.0  \n",
       "\n",
       "[5 rows x 330 columns]"
      ]
     },
     "execution_count": 3,
     "metadata": {},
     "output_type": "execute_result"
    }
   ],
   "source": [
    "data_df = pd.read_csv(\"data/2015.csv\")\n",
    "data_df.head()"
   ]
  },
  {
   "cell_type": "code",
   "execution_count": 4,
   "id": "c99ba8c9-7d37-42b0-938f-96194b0989dc",
   "metadata": {},
   "outputs": [
    {
     "data": {
      "text/plain": [
       "(441456, 330)"
      ]
     },
     "execution_count": 4,
     "metadata": {},
     "output_type": "execute_result"
    }
   ],
   "source": [
    "data_df.shape"
   ]
  },
  {
   "cell_type": "code",
   "execution_count": 5,
   "id": "5ef30cf3-1129-45d2-97e0-55a188ccab2a",
   "metadata": {},
   "outputs": [
    {
     "data": {
      "text/plain": [
       "Index(['_STATE', 'FMONTH', 'IDATE', 'IMONTH', 'IDAY', 'IYEAR', 'DISPCODE',\n",
       "       'SEQNO', '_PSU', 'CTELENUM',\n",
       "       ...\n",
       "       '_PAREC1', '_PASTAE1', '_LMTACT1', '_LMTWRK1', '_LMTSCL1', '_RFSEAT2',\n",
       "       '_RFSEAT3', '_FLSHOT6', '_PNEUMO2', '_AIDTST3'],\n",
       "      dtype='object', length=330)"
      ]
     },
     "execution_count": 5,
     "metadata": {},
     "output_type": "execute_result"
    }
   ],
   "source": [
    "data_df.columns"
   ]
  },
  {
   "cell_type": "code",
   "execution_count": 6,
   "id": "fe8a9e33-70ea-4793-b188-6fd4ed74a8b6",
   "metadata": {},
   "outputs": [
    {
     "data": {
      "text/plain": [
       "['_STATE',\n",
       " 'FMONTH',\n",
       " 'IDATE',\n",
       " 'IMONTH',\n",
       " 'IDAY',\n",
       " 'IYEAR',\n",
       " 'DISPCODE',\n",
       " 'SEQNO',\n",
       " '_PSU',\n",
       " 'CTELENUM',\n",
       " 'PVTRESD1',\n",
       " 'COLGHOUS',\n",
       " 'STATERES',\n",
       " 'CELLFON3',\n",
       " 'LADULT',\n",
       " 'NUMADULT',\n",
       " 'NUMMEN',\n",
       " 'NUMWOMEN',\n",
       " 'CTELNUM1',\n",
       " 'CELLFON2',\n",
       " 'CADULT',\n",
       " 'PVTRESD2',\n",
       " 'CCLGHOUS',\n",
       " 'CSTATE',\n",
       " 'LANDLINE',\n",
       " 'HHADULT',\n",
       " 'GENHLTH',\n",
       " 'PHYSHLTH',\n",
       " 'MENTHLTH',\n",
       " 'POORHLTH',\n",
       " 'HLTHPLN1',\n",
       " 'PERSDOC2',\n",
       " 'MEDCOST',\n",
       " 'CHECKUP1',\n",
       " 'BPHIGH4',\n",
       " 'BPMEDS',\n",
       " 'BLOODCHO',\n",
       " 'CHOLCHK',\n",
       " 'TOLDHI2',\n",
       " 'CVDINFR4',\n",
       " 'CVDCRHD4',\n",
       " 'CVDSTRK3',\n",
       " 'ASTHMA3',\n",
       " 'ASTHNOW',\n",
       " 'CHCSCNCR',\n",
       " 'CHCOCNCR',\n",
       " 'CHCCOPD1',\n",
       " 'HAVARTH3',\n",
       " 'ADDEPEV2',\n",
       " 'CHCKIDNY',\n",
       " 'DIABETE3',\n",
       " 'DIABAGE2',\n",
       " 'SEX',\n",
       " 'MARITAL',\n",
       " 'EDUCA',\n",
       " 'RENTHOM1',\n",
       " 'NUMHHOL2',\n",
       " 'NUMPHON2',\n",
       " 'CPDEMO1',\n",
       " 'VETERAN3',\n",
       " 'EMPLOY1',\n",
       " 'CHILDREN',\n",
       " 'INCOME2',\n",
       " 'INTERNET',\n",
       " 'WEIGHT2',\n",
       " 'HEIGHT3',\n",
       " 'PREGNANT',\n",
       " 'QLACTLM2',\n",
       " 'USEEQUIP',\n",
       " 'BLIND',\n",
       " 'DECIDE',\n",
       " 'DIFFWALK',\n",
       " 'DIFFDRES',\n",
       " 'DIFFALON',\n",
       " 'SMOKE100',\n",
       " 'SMOKDAY2',\n",
       " 'STOPSMK2',\n",
       " 'LASTSMK2',\n",
       " 'USENOW3',\n",
       " 'ALCDAY5',\n",
       " 'AVEDRNK2',\n",
       " 'DRNK3GE5',\n",
       " 'MAXDRNKS',\n",
       " 'FRUITJU1',\n",
       " 'FRUIT1',\n",
       " 'FVBEANS',\n",
       " 'FVGREEN',\n",
       " 'FVORANG',\n",
       " 'VEGETAB1',\n",
       " 'EXERANY2',\n",
       " 'EXRACT11',\n",
       " 'EXEROFT1',\n",
       " 'EXERHMM1',\n",
       " 'EXRACT21',\n",
       " 'EXEROFT2',\n",
       " 'EXERHMM2',\n",
       " 'STRENGTH',\n",
       " 'LMTJOIN3',\n",
       " 'ARTHDIS2',\n",
       " 'ARTHSOCL',\n",
       " 'JOINPAIN',\n",
       " 'SEATBELT',\n",
       " 'FLUSHOT6',\n",
       " 'FLSHTMY2',\n",
       " 'IMFVPLAC',\n",
       " 'PNEUVAC3',\n",
       " 'HIVTST6',\n",
       " 'HIVTSTD3',\n",
       " 'WHRTST10',\n",
       " 'PDIABTST',\n",
       " 'PREDIAB1',\n",
       " 'INSULIN',\n",
       " 'BLDSUGAR',\n",
       " 'FEETCHK2',\n",
       " 'DOCTDIAB',\n",
       " 'CHKHEMO3',\n",
       " 'FEETCHK',\n",
       " 'EYEEXAM',\n",
       " 'DIABEYE',\n",
       " 'DIABEDU',\n",
       " 'PAINACT2',\n",
       " 'QLMENTL2',\n",
       " 'QLSTRES2',\n",
       " 'QLHLTH2',\n",
       " 'CAREGIV1',\n",
       " 'CRGVREL1',\n",
       " 'CRGVLNG1',\n",
       " 'CRGVHRS1',\n",
       " 'CRGVPRB1',\n",
       " 'CRGVPERS',\n",
       " 'CRGVHOUS',\n",
       " 'CRGVMST2',\n",
       " 'CRGVEXPT',\n",
       " 'VIDFCLT2',\n",
       " 'VIREDIF3',\n",
       " 'VIPRFVS2',\n",
       " 'VINOCRE2',\n",
       " 'VIEYEXM2',\n",
       " 'VIINSUR2',\n",
       " 'VICTRCT4',\n",
       " 'VIGLUMA2',\n",
       " 'VIMACDG2',\n",
       " 'CIMEMLOS',\n",
       " 'CDHOUSE',\n",
       " 'CDASSIST',\n",
       " 'CDHELP',\n",
       " 'CDSOCIAL',\n",
       " 'CDDISCUS',\n",
       " 'WTCHSALT',\n",
       " 'LONGWTCH',\n",
       " 'DRADVISE',\n",
       " 'ASTHMAGE',\n",
       " 'ASATTACK',\n",
       " 'ASERVIST',\n",
       " 'ASDRVIST',\n",
       " 'ASRCHKUP',\n",
       " 'ASACTLIM',\n",
       " 'ASYMPTOM',\n",
       " 'ASNOSLEP',\n",
       " 'ASTHMED3',\n",
       " 'ASINHALR',\n",
       " 'HAREHAB1',\n",
       " 'STREHAB1',\n",
       " 'CVDASPRN',\n",
       " 'ASPUNSAF',\n",
       " 'RLIVPAIN',\n",
       " 'RDUCHART',\n",
       " 'RDUCSTRK',\n",
       " 'ARTTODAY',\n",
       " 'ARTHWGT',\n",
       " 'ARTHEXER',\n",
       " 'ARTHEDU',\n",
       " 'TETANUS',\n",
       " 'HPVADVC2',\n",
       " 'HPVADSHT',\n",
       " 'SHINGLE2',\n",
       " 'HADMAM',\n",
       " 'HOWLONG',\n",
       " 'HADPAP2',\n",
       " 'LASTPAP2',\n",
       " 'HPVTEST',\n",
       " 'HPLSTTST',\n",
       " 'HADHYST2',\n",
       " 'PROFEXAM',\n",
       " 'LENGEXAM',\n",
       " 'BLDSTOOL',\n",
       " 'LSTBLDS3',\n",
       " 'HADSIGM3',\n",
       " 'HADSGCO1',\n",
       " 'LASTSIG3',\n",
       " 'PCPSAAD2',\n",
       " 'PCPSADI1',\n",
       " 'PCPSARE1',\n",
       " 'PSATEST1',\n",
       " 'PSATIME',\n",
       " 'PCPSARS1',\n",
       " 'PCPSADE1',\n",
       " 'PCDMDECN',\n",
       " 'SCNTMNY1',\n",
       " 'SCNTMEL1',\n",
       " 'SCNTPAID',\n",
       " 'SCNTWRK1',\n",
       " 'SCNTLPAD',\n",
       " 'SCNTLWK1',\n",
       " 'SXORIENT',\n",
       " 'TRNSGNDR',\n",
       " 'RCSGENDR',\n",
       " 'RCSRLTN2',\n",
       " 'CASTHDX2',\n",
       " 'CASTHNO2',\n",
       " 'EMTSUPRT',\n",
       " 'LSATISFY',\n",
       " 'ADPLEASR',\n",
       " 'ADDOWN',\n",
       " 'ADSLEEP',\n",
       " 'ADENERGY',\n",
       " 'ADEAT1',\n",
       " 'ADFAIL',\n",
       " 'ADTHINK',\n",
       " 'ADMOVE',\n",
       " 'MISTMNT',\n",
       " 'ADANXEV',\n",
       " 'QSTVER',\n",
       " 'QSTLANG',\n",
       " 'EXACTOT1',\n",
       " 'EXACTOT2',\n",
       " 'MSCODE',\n",
       " '_STSTR',\n",
       " '_STRWT',\n",
       " '_RAWRAKE',\n",
       " '_WT2RAKE',\n",
       " '_CHISPNC',\n",
       " '_CRACE1',\n",
       " '_CPRACE',\n",
       " '_CLLCPWT',\n",
       " '_DUALUSE',\n",
       " '_DUALCOR',\n",
       " '_LLCPWT',\n",
       " '_RFHLTH',\n",
       " '_HCVU651',\n",
       " '_RFHYPE5',\n",
       " '_CHOLCHK',\n",
       " '_RFCHOL',\n",
       " '_MICHD',\n",
       " '_LTASTH1',\n",
       " '_CASTHM1',\n",
       " '_ASTHMS1',\n",
       " '_DRDXAR1',\n",
       " '_PRACE1',\n",
       " '_MRACE1',\n",
       " '_HISPANC',\n",
       " '_RACE',\n",
       " '_RACEG21',\n",
       " '_RACEGR3',\n",
       " '_RACE_G1',\n",
       " '_AGEG5YR',\n",
       " '_AGE65YR',\n",
       " '_AGE80',\n",
       " '_AGE_G',\n",
       " 'HTIN4',\n",
       " 'HTM4',\n",
       " 'WTKG3',\n",
       " '_BMI5',\n",
       " '_BMI5CAT',\n",
       " '_RFBMI5',\n",
       " '_CHLDCNT',\n",
       " '_EDUCAG',\n",
       " '_INCOMG',\n",
       " '_SMOKER3',\n",
       " '_RFSMOK3',\n",
       " 'DRNKANY5',\n",
       " 'DROCDY3_',\n",
       " '_RFBING5',\n",
       " '_DRNKWEK',\n",
       " '_RFDRHV5',\n",
       " 'FTJUDA1_',\n",
       " 'FRUTDA1_',\n",
       " 'BEANDAY_',\n",
       " 'GRENDAY_',\n",
       " 'ORNGDAY_',\n",
       " 'VEGEDA1_',\n",
       " '_MISFRTN',\n",
       " '_MISVEGN',\n",
       " '_FRTRESP',\n",
       " '_VEGRESP',\n",
       " '_FRUTSUM',\n",
       " '_VEGESUM',\n",
       " '_FRTLT1',\n",
       " '_VEGLT1',\n",
       " '_FRT16',\n",
       " '_VEG23',\n",
       " '_FRUITEX',\n",
       " '_VEGETEX',\n",
       " '_TOTINDA',\n",
       " 'METVL11_',\n",
       " 'METVL21_',\n",
       " 'MAXVO2_',\n",
       " 'FC60_',\n",
       " 'ACTIN11_',\n",
       " 'ACTIN21_',\n",
       " 'PADUR1_',\n",
       " 'PADUR2_',\n",
       " 'PAFREQ1_',\n",
       " 'PAFREQ2_',\n",
       " '_MINAC11',\n",
       " '_MINAC21',\n",
       " 'STRFREQ_',\n",
       " 'PAMISS1_',\n",
       " 'PAMIN11_',\n",
       " 'PAMIN21_',\n",
       " 'PA1MIN_',\n",
       " 'PAVIG11_',\n",
       " 'PAVIG21_',\n",
       " 'PA1VIGM_',\n",
       " '_PACAT1',\n",
       " '_PAINDX1',\n",
       " '_PA150R2',\n",
       " '_PA300R2',\n",
       " '_PA30021',\n",
       " '_PASTRNG',\n",
       " '_PAREC1',\n",
       " '_PASTAE1',\n",
       " '_LMTACT1',\n",
       " '_LMTWRK1',\n",
       " '_LMTSCL1',\n",
       " '_RFSEAT2',\n",
       " '_RFSEAT3',\n",
       " '_FLSHOT6',\n",
       " '_PNEUMO2',\n",
       " '_AIDTST3']"
      ]
     },
     "execution_count": 6,
     "metadata": {},
     "output_type": "execute_result"
    }
   ],
   "source": [
    "columns = list(data_df)\n",
    "columns"
   ]
  },
  {
   "cell_type": "code",
   "execution_count": 7,
   "id": "ca3f52be-555e-4d93-9273-2d7d0412c1f0",
   "metadata": {},
   "outputs": [
    {
     "data": {
      "text/plain": [
       "_STATE           0\n",
       "FMONTH           0\n",
       "IDATE            0\n",
       "IMONTH           0\n",
       "IDAY             0\n",
       "             ...  \n",
       "_RFSEAT2         0\n",
       "_RFSEAT3         0\n",
       "_FLSHOT6    283502\n",
       "_PNEUMO2    283502\n",
       "_AIDTST3     43387\n",
       "Length: 330, dtype: int64"
      ]
     },
     "execution_count": 7,
     "metadata": {},
     "output_type": "execute_result"
    }
   ],
   "source": [
    "missing_values = data_df.isna().sum()\n",
    "missing_values"
   ]
  },
  {
   "cell_type": "code",
   "execution_count": 8,
   "id": "86cc5ca6-510e-45a5-8992-ad8f2447056c",
   "metadata": {},
   "outputs": [
    {
     "name": "stdout",
     "output_type": "stream",
     "text": [
      "<class 'pandas.core.frame.DataFrame'>\n",
      "RangeIndex: 441456 entries, 0 to 441455\n",
      "Columns: 330 entries, _STATE to _AIDTST3\n",
      "dtypes: float64(323), object(7)\n",
      "memory usage: 1.1+ GB\n"
     ]
    }
   ],
   "source": [
    "data_df.info()"
   ]
  },
  {
   "cell_type": "markdown",
   "id": "06415edd",
   "metadata": {},
   "source": [
    "### Selection of the relevant columns\n",
    "Research regarding heart disease has identified different important risk factors. We chose these from the dataset. \n"
   ]
  },
  {
   "cell_type": "code",
   "execution_count": 9,
   "id": "edf8145f-620e-48db-8deb-fba9eae70ed4",
   "metadata": {},
   "outputs": [],
   "source": [
    "# select specific columns\n",
    "data_df_selected = data_df[['IDATE',\n",
    "                                         '_MICHD', \n",
    "                                         '_RFHYPE5',  \n",
    "                                         'TOLDHI2', '_CHOLCHK', \n",
    "                                         '_BMI5', \n",
    "                                         'SMOKE100', \n",
    "                                         'CVDSTRK3', 'DIABETE3', \n",
    "                                         '_TOTINDA', \n",
    "                                         '_FRTLT1', '_VEGLT1', \n",
    "                                         '_RFDRHV5', \n",
    "                                         'HLTHPLN1', 'MEDCOST', \n",
    "                                         'GENHLTH', 'MENTHLTH', 'PHYSHLTH', 'DIFFWALK', \n",
    "                                         'SEX', '_AGEG5YR', 'EDUCA', 'INCOME2' \n",
    "                           ]]"
   ]
  },
  {
   "cell_type": "code",
   "execution_count": 10,
   "id": "064a2cfb-e2d4-43ec-9442-aad685e4e2b4",
   "metadata": {},
   "outputs": [
    {
     "data": {
      "text/html": [
       "<div>\n",
       "<style scoped>\n",
       "    .dataframe tbody tr th:only-of-type {\n",
       "        vertical-align: middle;\n",
       "    }\n",
       "\n",
       "    .dataframe tbody tr th {\n",
       "        vertical-align: top;\n",
       "    }\n",
       "\n",
       "    .dataframe thead th {\n",
       "        text-align: right;\n",
       "    }\n",
       "</style>\n",
       "<table border=\"1\" class=\"dataframe\">\n",
       "  <thead>\n",
       "    <tr style=\"text-align: right;\">\n",
       "      <th></th>\n",
       "      <th>IDATE</th>\n",
       "      <th>_MICHD</th>\n",
       "      <th>_RFHYPE5</th>\n",
       "      <th>TOLDHI2</th>\n",
       "      <th>_CHOLCHK</th>\n",
       "      <th>_BMI5</th>\n",
       "      <th>SMOKE100</th>\n",
       "      <th>CVDSTRK3</th>\n",
       "      <th>DIABETE3</th>\n",
       "      <th>_TOTINDA</th>\n",
       "      <th>...</th>\n",
       "      <th>HLTHPLN1</th>\n",
       "      <th>MEDCOST</th>\n",
       "      <th>GENHLTH</th>\n",
       "      <th>MENTHLTH</th>\n",
       "      <th>PHYSHLTH</th>\n",
       "      <th>DIFFWALK</th>\n",
       "      <th>SEX</th>\n",
       "      <th>_AGEG5YR</th>\n",
       "      <th>EDUCA</th>\n",
       "      <th>INCOME2</th>\n",
       "    </tr>\n",
       "  </thead>\n",
       "  <tbody>\n",
       "    <tr>\n",
       "      <th>0</th>\n",
       "      <td>b'01292015'</td>\n",
       "      <td>2.0</td>\n",
       "      <td>2.0</td>\n",
       "      <td>1.0</td>\n",
       "      <td>1.0</td>\n",
       "      <td>4018.0</td>\n",
       "      <td>1.0</td>\n",
       "      <td>2.0</td>\n",
       "      <td>3.0</td>\n",
       "      <td>2.0</td>\n",
       "      <td>...</td>\n",
       "      <td>1.0</td>\n",
       "      <td>2.0</td>\n",
       "      <td>5.0</td>\n",
       "      <td>18.0</td>\n",
       "      <td>15.0</td>\n",
       "      <td>1.0</td>\n",
       "      <td>2.0</td>\n",
       "      <td>9.0</td>\n",
       "      <td>4.0</td>\n",
       "      <td>3.0</td>\n",
       "    </tr>\n",
       "    <tr>\n",
       "      <th>1</th>\n",
       "      <td>b'01202015'</td>\n",
       "      <td>2.0</td>\n",
       "      <td>1.0</td>\n",
       "      <td>2.0</td>\n",
       "      <td>2.0</td>\n",
       "      <td>2509.0</td>\n",
       "      <td>1.0</td>\n",
       "      <td>2.0</td>\n",
       "      <td>3.0</td>\n",
       "      <td>1.0</td>\n",
       "      <td>...</td>\n",
       "      <td>2.0</td>\n",
       "      <td>1.0</td>\n",
       "      <td>3.0</td>\n",
       "      <td>88.0</td>\n",
       "      <td>88.0</td>\n",
       "      <td>2.0</td>\n",
       "      <td>2.0</td>\n",
       "      <td>7.0</td>\n",
       "      <td>6.0</td>\n",
       "      <td>1.0</td>\n",
       "    </tr>\n",
       "    <tr>\n",
       "      <th>2</th>\n",
       "      <td>b'02012015'</td>\n",
       "      <td>NaN</td>\n",
       "      <td>1.0</td>\n",
       "      <td>1.0</td>\n",
       "      <td>1.0</td>\n",
       "      <td>2204.0</td>\n",
       "      <td>NaN</td>\n",
       "      <td>1.0</td>\n",
       "      <td>3.0</td>\n",
       "      <td>9.0</td>\n",
       "      <td>...</td>\n",
       "      <td>1.0</td>\n",
       "      <td>2.0</td>\n",
       "      <td>4.0</td>\n",
       "      <td>88.0</td>\n",
       "      <td>15.0</td>\n",
       "      <td>NaN</td>\n",
       "      <td>2.0</td>\n",
       "      <td>11.0</td>\n",
       "      <td>4.0</td>\n",
       "      <td>99.0</td>\n",
       "    </tr>\n",
       "    <tr>\n",
       "      <th>3</th>\n",
       "      <td>b'01142015'</td>\n",
       "      <td>2.0</td>\n",
       "      <td>2.0</td>\n",
       "      <td>1.0</td>\n",
       "      <td>1.0</td>\n",
       "      <td>2819.0</td>\n",
       "      <td>2.0</td>\n",
       "      <td>2.0</td>\n",
       "      <td>3.0</td>\n",
       "      <td>2.0</td>\n",
       "      <td>...</td>\n",
       "      <td>1.0</td>\n",
       "      <td>1.0</td>\n",
       "      <td>5.0</td>\n",
       "      <td>30.0</td>\n",
       "      <td>30.0</td>\n",
       "      <td>1.0</td>\n",
       "      <td>2.0</td>\n",
       "      <td>9.0</td>\n",
       "      <td>4.0</td>\n",
       "      <td>8.0</td>\n",
       "    </tr>\n",
       "    <tr>\n",
       "      <th>4</th>\n",
       "      <td>b'01142015'</td>\n",
       "      <td>2.0</td>\n",
       "      <td>1.0</td>\n",
       "      <td>2.0</td>\n",
       "      <td>1.0</td>\n",
       "      <td>2437.0</td>\n",
       "      <td>2.0</td>\n",
       "      <td>2.0</td>\n",
       "      <td>3.0</td>\n",
       "      <td>2.0</td>\n",
       "      <td>...</td>\n",
       "      <td>1.0</td>\n",
       "      <td>2.0</td>\n",
       "      <td>5.0</td>\n",
       "      <td>88.0</td>\n",
       "      <td>20.0</td>\n",
       "      <td>2.0</td>\n",
       "      <td>2.0</td>\n",
       "      <td>9.0</td>\n",
       "      <td>5.0</td>\n",
       "      <td>77.0</td>\n",
       "    </tr>\n",
       "  </tbody>\n",
       "</table>\n",
       "<p>5 rows × 23 columns</p>\n",
       "</div>"
      ],
      "text/plain": [
       "         IDATE  _MICHD  _RFHYPE5  TOLDHI2  _CHOLCHK   _BMI5  SMOKE100   \n",
       "0  b'01292015'     2.0       2.0      1.0       1.0  4018.0       1.0  \\\n",
       "1  b'01202015'     2.0       1.0      2.0       2.0  2509.0       1.0   \n",
       "2  b'02012015'     NaN       1.0      1.0       1.0  2204.0       NaN   \n",
       "3  b'01142015'     2.0       2.0      1.0       1.0  2819.0       2.0   \n",
       "4  b'01142015'     2.0       1.0      2.0       1.0  2437.0       2.0   \n",
       "\n",
       "   CVDSTRK3  DIABETE3  _TOTINDA  ...  HLTHPLN1  MEDCOST  GENHLTH  MENTHLTH   \n",
       "0       2.0       3.0       2.0  ...       1.0      2.0      5.0      18.0  \\\n",
       "1       2.0       3.0       1.0  ...       2.0      1.0      3.0      88.0   \n",
       "2       1.0       3.0       9.0  ...       1.0      2.0      4.0      88.0   \n",
       "3       2.0       3.0       2.0  ...       1.0      1.0      5.0      30.0   \n",
       "4       2.0       3.0       2.0  ...       1.0      2.0      5.0      88.0   \n",
       "\n",
       "   PHYSHLTH  DIFFWALK  SEX  _AGEG5YR  EDUCA  INCOME2  \n",
       "0      15.0       1.0  2.0       9.0    4.0      3.0  \n",
       "1      88.0       2.0  2.0       7.0    6.0      1.0  \n",
       "2      15.0       NaN  2.0      11.0    4.0     99.0  \n",
       "3      30.0       1.0  2.0       9.0    4.0      8.0  \n",
       "4      20.0       2.0  2.0       9.0    5.0     77.0  \n",
       "\n",
       "[5 rows x 23 columns]"
      ]
     },
     "execution_count": 10,
     "metadata": {},
     "output_type": "execute_result"
    }
   ],
   "source": [
    "data_df_selected.head()"
   ]
  },
  {
   "cell_type": "code",
   "execution_count": 11,
   "id": "760b6cae-d8a3-4dd3-b604-80f0b0aec6fa",
   "metadata": {},
   "outputs": [
    {
     "data": {
      "text/plain": [
       "(343606, 23)"
      ]
     },
     "execution_count": 11,
     "metadata": {},
     "output_type": "execute_result"
    }
   ],
   "source": [
    "# drop missing values\n",
    "data_df_selected = data_df_selected.dropna()\n",
    "data_df_selected.shape"
   ]
  },
  {
   "cell_type": "code",
   "execution_count": 12,
   "id": "f2194eca-4f18-4113-b5de-06537b1a8745",
   "metadata": {},
   "outputs": [],
   "source": [
    "#Rename the columns to make them more readable\n",
    "data_df_selected = data_df_selected.rename(columns = {'_MICHD':'HeartDiseaseorAttack', \n",
    "                                         '_RFHYPE5':'HighBP',  \n",
    "                                         'TOLDHI2':'HighChol', '_CHOLCHK':'CholCheck', \n",
    "                                         '_BMI5':'BMI', \n",
    "                                         'SMOKE100':'Smoker', \n",
    "                                         'CVDSTRK3':'Stroke', 'DIABETE3':'Diabetes', \n",
    "                                         '_TOTINDA':'PhysActivity', \n",
    "                                         '_FRTLT1':'Fruits', '_VEGLT1':\"Vegetables\", \n",
    "                                         '_RFDRHV5':'HvyAlcoholConsump', \n",
    "                                         'HLTHPLN1':'AnyHealthcare', 'MEDCOST':'NoDocbcCost', \n",
    "                                         'GENHLTH':'GenHlth', 'MENTHLTH':'MentHlth', 'PHYSHLTH':'PhysHlth', 'DIFFWALK':'DiffWalk', \n",
    "                                         'SEX':'Sex', '_AGEG5YR':'Age', 'EDUCA':'Education', 'INCOME2':'Income' })"
   ]
  },
  {
   "cell_type": "markdown",
   "id": "ac900d88",
   "metadata": {},
   "source": [
    "### Process dataset for a machine learning approach"
   ]
  },
  {
   "cell_type": "code",
   "execution_count": 13,
   "id": "1da2ad67",
   "metadata": {},
   "outputs": [
    {
     "data": {
      "text/plain": [
       "array([0., 1.])"
      ]
     },
     "execution_count": 13,
     "metadata": {},
     "output_type": "execute_result"
    }
   ],
   "source": [
    "# HeartDiseaseorAttack\n",
    "#Change 2 to 0 because this means did not have MI or CHD\n",
    "data_df_selected['HeartDiseaseorAttack'] = data_df_selected['HeartDiseaseorAttack'].replace({2: 0})\n",
    "data_df_selected.HeartDiseaseorAttack.unique()"
   ]
  },
  {
   "cell_type": "code",
   "execution_count": 14,
   "id": "950f083e",
   "metadata": {},
   "outputs": [
    {
     "data": {
      "text/plain": [
       "array([1., 0.])"
      ]
     },
     "execution_count": 14,
     "metadata": {},
     "output_type": "execute_result"
    }
   ],
   "source": [
    "#1 HighBP\n",
    "#Change 1 to 0 so it represetnts No high blood pressure and 2 to 1 so it represents high blood pressure\n",
    "data_df_selected['HighBP'] = data_df_selected['HighBP'].replace({1:0, 2:1})\n",
    "data_df_selected = data_df_selected[data_df_selected.HighBP != 9]\n",
    "data_df_selected.HighBP.unique()"
   ]
  },
  {
   "cell_type": "code",
   "execution_count": 15,
   "id": "24cd96b8",
   "metadata": {},
   "outputs": [
    {
     "data": {
      "text/plain": [
       "array([1., 0.])"
      ]
     },
     "execution_count": 15,
     "metadata": {},
     "output_type": "execute_result"
    }
   ],
   "source": [
    "#2 HighChol\n",
    "# Change 2 to 0 because it is No\n",
    "# Remove all 7 (dont knows)\n",
    "# Remove all 9 (refused)\n",
    "data_df_selected['HighChol'] = data_df_selected['HighChol'].replace({2:0})\n",
    "data_df_selected = data_df_selected[data_df_selected.HighChol != 7]\n",
    "data_df_selected = data_df_selected[data_df_selected.HighChol != 9]\n",
    "data_df_selected.HighChol.unique()"
   ]
  },
  {
   "cell_type": "code",
   "execution_count": 16,
   "id": "5aed8998",
   "metadata": {},
   "outputs": [
    {
     "data": {
      "text/plain": [
       "array([1., 0.])"
      ]
     },
     "execution_count": 16,
     "metadata": {},
     "output_type": "execute_result"
    }
   ],
   "source": [
    "#3 CholCheck\n",
    "# Change 3 to 0 and 2 to 0 for Not checked cholesterol in past 5 years\n",
    "# Remove 9\n",
    "data_df_selected['CholCheck'] = data_df_selected['CholCheck'].replace({3:0,2:0})\n",
    "data_df_selected = data_df_selected[data_df_selected.CholCheck != 9]\n",
    "data_df_selected.CholCheck.unique()"
   ]
  },
  {
   "cell_type": "code",
   "execution_count": 17,
   "id": "707b17cb",
   "metadata": {},
   "outputs": [
    {
     "data": {
      "text/plain": [
       "array([40., 25., 28., 24., 27., 30., 26., 23., 34., 33., 21., 22., 31.,\n",
       "       38., 20., 19., 32., 46., 41., 37., 36., 29., 35., 18., 54., 45.,\n",
       "       39., 47., 43., 55., 49., 42., 17., 16., 48., 44., 50., 59., 15.,\n",
       "       52., 53., 57., 51., 14., 58., 63., 61., 56., 60., 74., 62., 64.,\n",
       "       13., 66., 73., 65., 68., 85., 71., 84., 67., 70., 82., 79., 92.,\n",
       "       72., 88., 96., 81., 12., 77., 95., 75., 91., 69., 76., 87., 89.,\n",
       "       83., 98., 86., 80., 90., 78., 97.])"
      ]
     },
     "execution_count": 17,
     "metadata": {},
     "output_type": "execute_result"
    }
   ],
   "source": [
    "#4 BMI (no changes, just note that these are BMI * 100. So for example a BMI of 4018 is really 40.18)\n",
    "data_df_selected['BMI'] = data_df_selected['BMI'].div(100).round(0)\n",
    "data_df_selected.BMI.unique()"
   ]
  },
  {
   "cell_type": "code",
   "execution_count": 18,
   "id": "7d50a501",
   "metadata": {},
   "outputs": [
    {
     "data": {
      "text/plain": [
       "array([1., 0.])"
      ]
     },
     "execution_count": 18,
     "metadata": {},
     "output_type": "execute_result"
    }
   ],
   "source": [
    "#5 Smoker\n",
    "# Change 2 to 0 because it is No\n",
    "# Remove all 7 (dont knows)\n",
    "# Remove all 9 (refused)\n",
    "data_df_selected['Smoker'] = data_df_selected['Smoker'].replace({2:0})\n",
    "data_df_selected = data_df_selected[data_df_selected.Smoker != 7]\n",
    "data_df_selected = data_df_selected[data_df_selected.Smoker != 9]\n",
    "data_df_selected.Smoker.unique()"
   ]
  },
  {
   "cell_type": "code",
   "execution_count": 19,
   "id": "c55ec271",
   "metadata": {},
   "outputs": [
    {
     "data": {
      "text/plain": [
       "array([0., 1.])"
      ]
     },
     "execution_count": 19,
     "metadata": {},
     "output_type": "execute_result"
    }
   ],
   "source": [
    "#6 Stroke\n",
    "# Change 2 to 0 because it is No\n",
    "# Remove all 7 (dont knows)\n",
    "# Remove all 9 (refused)\n",
    "data_df_selected['Stroke'] = data_df_selected['Stroke'].replace({2:0})\n",
    "data_df_selected = data_df_selected[data_df_selected.Stroke != 7]\n",
    "data_df_selected = data_df_selected[data_df_selected.Stroke != 9]\n",
    "data_df_selected.Stroke.unique()"
   ]
  },
  {
   "cell_type": "code",
   "execution_count": 20,
   "id": "28153f2b",
   "metadata": {},
   "outputs": [
    {
     "data": {
      "text/plain": [
       "array([0., 2., 1.])"
      ]
     },
     "execution_count": 20,
     "metadata": {},
     "output_type": "execute_result"
    }
   ],
   "source": [
    "#7 Diabetes\n",
    "# going to make this ordinal. 0 is for no diabetes or only during pregnancy, 1 is for pre-diabetes or borderline diabetes, 2 is for yes diabetes\n",
    "# Remove all 7 (dont knows)\n",
    "# Remove all 9 (refused)\n",
    "data_df_selected['Diabetes'] = data_df_selected['Diabetes'].replace({2:0, 3:0, 1:2, 4:1})\n",
    "data_df_selected = data_df_selected[data_df_selected.Diabetes != 7]\n",
    "data_df_selected = data_df_selected[data_df_selected.Diabetes != 9]\n",
    "data_df_selected.Diabetes.unique()"
   ]
  },
  {
   "cell_type": "code",
   "execution_count": 21,
   "id": "bc876b1a",
   "metadata": {},
   "outputs": [
    {
     "data": {
      "text/plain": [
       "array([0., 1.])"
      ]
     },
     "execution_count": 21,
     "metadata": {},
     "output_type": "execute_result"
    }
   ],
   "source": [
    "#8 PhysActivity\n",
    "# 1 for physical activity\n",
    "# change 2 to 0 for no physical activity\n",
    "# Remove all 9 (don't know/refused)\n",
    "data_df_selected['PhysActivity'] = data_df_selected['PhysActivity'].replace({2:0})\n",
    "data_df_selected = data_df_selected[data_df_selected.PhysActivity != 9]\n",
    "data_df_selected.PhysActivity.unique()"
   ]
  },
  {
   "cell_type": "code",
   "execution_count": 22,
   "id": "17a36657",
   "metadata": {},
   "outputs": [
    {
     "data": {
      "text/plain": [
       "array([0., 1.])"
      ]
     },
     "execution_count": 22,
     "metadata": {},
     "output_type": "execute_result"
    }
   ],
   "source": [
    "#9 Fruits\n",
    "# Change 2 to 0. this means no fruit consumed per day. 1 will mean consumed 1 or more pieces of fruit per day \n",
    "# remove all dont knows and missing 9\n",
    "data_df_selected['Fruits'] = data_df_selected['Fruits'].replace({2:0})\n",
    "data_df_selected = data_df_selected[data_df_selected.Fruits != 9]\n",
    "data_df_selected.Fruits.unique()"
   ]
  },
  {
   "cell_type": "code",
   "execution_count": 23,
   "id": "b1efc118",
   "metadata": {},
   "outputs": [
    {
     "data": {
      "text/plain": [
       "array([1., 0.])"
      ]
     },
     "execution_count": 23,
     "metadata": {},
     "output_type": "execute_result"
    }
   ],
   "source": [
    "#10 Vegetables\n",
    "# Change 2 to 0. this means no vegetables consumed per day. 1 will mean consumed 1 or more pieces of vegetable per day \n",
    "# remove all dont knows and missing 9\n",
    "data_df_selected['Vegetables'] = data_df_selected['Vegetables'].replace({2:0})\n",
    "data_df_selected = data_df_selected[data_df_selected.Vegetables != 9]\n",
    "data_df_selected.Vegetables.unique()"
   ]
  },
  {
   "cell_type": "code",
   "execution_count": 24,
   "id": "a08addc5",
   "metadata": {},
   "outputs": [
    {
     "data": {
      "text/plain": [
       "array([0., 1.])"
      ]
     },
     "execution_count": 24,
     "metadata": {},
     "output_type": "execute_result"
    }
   ],
   "source": [
    "#11 HvyAlcoholConsump\n",
    "# Change 1 to 0 (1 was no for heavy drinking). change all 2 to 1 (2 was yes for heavy drinking)\n",
    "# remove all dont knows and missing 9\n",
    "data_df_selected['HvyAlcoholConsump'] = data_df_selected['HvyAlcoholConsump'].replace({1:0, 2:1})\n",
    "data_df_selected = data_df_selected[data_df_selected.HvyAlcoholConsump != 9]\n",
    "data_df_selected.HvyAlcoholConsump.unique()"
   ]
  },
  {
   "cell_type": "code",
   "execution_count": 25,
   "id": "456f8020",
   "metadata": {},
   "outputs": [
    {
     "data": {
      "text/plain": [
       "array([1., 0.])"
      ]
     },
     "execution_count": 25,
     "metadata": {},
     "output_type": "execute_result"
    }
   ],
   "source": [
    "#12 AnyHealthcare\n",
    "# 1 is yes, change 2 to 0 because it is No health care access\n",
    "# remove 7 and 9 for don't know or refused\n",
    "data_df_selected['AnyHealthcare'] = data_df_selected['AnyHealthcare'].replace({2:0})\n",
    "data_df_selected = data_df_selected[data_df_selected.AnyHealthcare != 7]\n",
    "data_df_selected = data_df_selected[data_df_selected.AnyHealthcare != 9]\n",
    "data_df_selected.AnyHealthcare.unique()"
   ]
  },
  {
   "cell_type": "code",
   "execution_count": 26,
   "id": "3f664ae5",
   "metadata": {},
   "outputs": [
    {
     "data": {
      "text/plain": [
       "array([0., 1.])"
      ]
     },
     "execution_count": 26,
     "metadata": {},
     "output_type": "execute_result"
    }
   ],
   "source": [
    "#13 NoDocbcCost\n",
    "# Change 2 to 0 for no, 1 is already yes\n",
    "# remove 7 for don/t know and 9 for refused\n",
    "data_df_selected['NoDocbcCost'] = data_df_selected['NoDocbcCost'].replace({2:0})\n",
    "data_df_selected = data_df_selected[data_df_selected.NoDocbcCost != 7]\n",
    "data_df_selected = data_df_selected[data_df_selected.NoDocbcCost != 9]\n",
    "data_df_selected.NoDocbcCost.unique()"
   ]
  },
  {
   "cell_type": "code",
   "execution_count": 27,
   "id": "f00c119d",
   "metadata": {},
   "outputs": [
    {
     "data": {
      "text/plain": [
       "array([5., 3., 2., 4., 1.])"
      ]
     },
     "execution_count": 27,
     "metadata": {},
     "output_type": "execute_result"
    }
   ],
   "source": [
    "#14 GenHlth\n",
    "# This is an ordinal variable that I want to keep (1 is Excellent -> 5 is Poor)\n",
    "# Remove 7 and 9 for don't know and refused\n",
    "data_df_selected = data_df_selected[data_df_selected.GenHlth != 7]\n",
    "data_df_selected = data_df_selected[data_df_selected.GenHlth != 9]\n",
    "data_df_selected.GenHlth.unique()"
   ]
  },
  {
   "cell_type": "code",
   "execution_count": 28,
   "id": "ca74aea4",
   "metadata": {},
   "outputs": [
    {
     "data": {
      "text/plain": [
       "array([18.,  0., 30.,  3.,  5., 15., 10.,  6., 20.,  2., 25.,  1., 29.,\n",
       "        4.,  7.,  8., 21., 14., 26.,  9., 16., 28., 11., 12., 24., 17.,\n",
       "       13., 23., 27., 19., 22.])"
      ]
     },
     "execution_count": 28,
     "metadata": {},
     "output_type": "execute_result"
    }
   ],
   "source": [
    "#15 MentHlth\n",
    "# already in days so keep that, scale will be 0-30\n",
    "# change 88 to 0 because it means none (no bad mental health days)\n",
    "# remove 77 and 99 for don't know not sure and refused\n",
    "data_df_selected['MentHlth'] = data_df_selected['MentHlth'].replace({88:0})\n",
    "data_df_selected = data_df_selected[data_df_selected.MentHlth != 77]\n",
    "data_df_selected = data_df_selected[data_df_selected.MentHlth != 99]\n",
    "data_df_selected.MentHlth.unique()"
   ]
  },
  {
   "cell_type": "code",
   "execution_count": 29,
   "id": "a0f135b7",
   "metadata": {},
   "outputs": [
    {
     "data": {
      "text/plain": [
       "array([15.,  0., 30.,  2., 14., 28.,  7., 20.,  3., 10.,  1.,  5., 17.,\n",
       "        4., 19.,  6., 21., 12.,  8., 25., 27., 22., 29., 24.,  9., 16.,\n",
       "       18., 23., 13., 26., 11.])"
      ]
     },
     "execution_count": 29,
     "metadata": {},
     "output_type": "execute_result"
    }
   ],
   "source": [
    "#16 PhysHlth\n",
    "# already in days so keep that, scale will be 0-30\n",
    "# change 88 to 0 because it means none (no bad mental health days)\n",
    "# remove 77 and 99 for don't know not sure and refused\n",
    "data_df_selected['PhysHlth'] = data_df_selected['PhysHlth'].replace({88:0})\n",
    "data_df_selected = data_df_selected[data_df_selected.PhysHlth != 77]\n",
    "data_df_selected = data_df_selected[data_df_selected.PhysHlth != 99]\n",
    "data_df_selected.PhysHlth.unique()"
   ]
  },
  {
   "cell_type": "code",
   "execution_count": 30,
   "id": "cee086b3",
   "metadata": {},
   "outputs": [
    {
     "data": {
      "text/plain": [
       "array([1., 0.])"
      ]
     },
     "execution_count": 30,
     "metadata": {},
     "output_type": "execute_result"
    }
   ],
   "source": [
    "#17 DiffWalk\n",
    "# change 2 to 0 for no. 1 is already yes\n",
    "# remove 7 and 9 for don't know not sure and refused\n",
    "data_df_selected['DiffWalk'] = data_df_selected['DiffWalk'].replace({2:0})\n",
    "data_df_selected = data_df_selected[data_df_selected.DiffWalk != 7]\n",
    "data_df_selected = data_df_selected[data_df_selected.DiffWalk != 9]\n",
    "data_df_selected.DiffWalk.unique()"
   ]
  },
  {
   "cell_type": "code",
   "execution_count": 31,
   "id": "796530f3",
   "metadata": {},
   "outputs": [
    {
     "data": {
      "text/plain": [
       "array([0., 1.])"
      ]
     },
     "execution_count": 31,
     "metadata": {},
     "output_type": "execute_result"
    }
   ],
   "source": [
    "#18 Sex\n",
    "# in other words - is respondent male (somewhat arbitrarily chose this change because men are at higher risk for heart disease)\n",
    "# change 2 to 0 (female as 0). Male is 1\n",
    "data_df_selected['Sex'] = data_df_selected['Sex'].replace({2:0})\n",
    "data_df_selected.Sex.unique()"
   ]
  },
  {
   "cell_type": "code",
   "execution_count": 32,
   "id": "9fc8c1b0",
   "metadata": {},
   "outputs": [
    {
     "data": {
      "text/plain": [
       "array([ 9.,  7., 11., 10., 13.,  8.,  4.,  6.,  2., 12.,  5.,  1.,  3.])"
      ]
     },
     "execution_count": 32,
     "metadata": {},
     "output_type": "execute_result"
    }
   ],
   "source": [
    "#19 Age\n",
    "# already ordinal. 1 is 18-24 all the way up to 13 wis 80 and older. 5 year increments.\n",
    "# remove 14 because it is don't know or missing\n",
    "data_df_selected = data_df_selected[data_df_selected.Age != 14]\n",
    "data_df_selected.Age.unique()"
   ]
  },
  {
   "cell_type": "code",
   "execution_count": 33,
   "id": "d6780da2",
   "metadata": {},
   "outputs": [
    {
     "data": {
      "text/plain": [
       "array([4., 6., 3., 5., 2., 1.])"
      ]
     },
     "execution_count": 33,
     "metadata": {},
     "output_type": "execute_result"
    }
   ],
   "source": [
    "#20 Education\n",
    "# This is already an ordinal variable with 1 being never attended school or kindergarten only up to 6 being college 4 years or more\n",
    "# Scale here is 1-6\n",
    "# Remove 9 for refused:\n",
    "data_df_selected = data_df_selected[data_df_selected.Education != 9]\n",
    "data_df_selected.Education.unique()"
   ]
  },
  {
   "cell_type": "code",
   "execution_count": 34,
   "id": "7e89708c",
   "metadata": {},
   "outputs": [
    {
     "data": {
      "text/plain": [
       "array([3., 1., 8., 6., 4., 7., 2., 5.])"
      ]
     },
     "execution_count": 34,
     "metadata": {},
     "output_type": "execute_result"
    }
   ],
   "source": [
    "#21 Income\n",
    "# Variable is already ordinal with 1 being less than $10,000 all the way up to 8 being $75,000 or more\n",
    "# Remove 77 and 99 for don't know and refused\n",
    "data_df_selected = data_df_selected[data_df_selected.Income != 77]\n",
    "data_df_selected = data_df_selected[data_df_selected.Income != 99]\n",
    "data_df_selected.Income.unique()"
   ]
  },
  {
   "cell_type": "code",
   "execution_count": 35,
   "id": "742acd7d",
   "metadata": {},
   "outputs": [
    {
     "data": {
      "text/plain": [
       "HeartDiseaseorAttack\n",
       "0.0    229787\n",
       "1.0     23893\n",
       "dtype: int64"
      ]
     },
     "execution_count": 35,
     "metadata": {},
     "output_type": "execute_result"
    }
   ],
   "source": [
    "#Notice the imbalance in the two classes\n",
    "data_df_selected.groupby(['HeartDiseaseorAttack']).size()"
   ]
  },
  {
   "cell_type": "markdown",
   "id": "8f1527c1",
   "metadata": {},
   "source": [
    "### Having a closer look on the selected dataset:"
   ]
  },
  {
   "cell_type": "code",
   "execution_count": 36,
   "id": "3f7d336d",
   "metadata": {},
   "outputs": [
    {
     "data": {
      "text/plain": [
       "(253680, 23)"
      ]
     },
     "execution_count": 36,
     "metadata": {},
     "output_type": "execute_result"
    }
   ],
   "source": [
    "data_df_selected.shape"
   ]
  },
  {
   "cell_type": "code",
   "execution_count": 37,
   "id": "6b2fda57",
   "metadata": {
    "scrolled": true
   },
   "outputs": [
    {
     "data": {
      "text/html": [
       "<div>\n",
       "<style scoped>\n",
       "    .dataframe tbody tr th:only-of-type {\n",
       "        vertical-align: middle;\n",
       "    }\n",
       "\n",
       "    .dataframe tbody tr th {\n",
       "        vertical-align: top;\n",
       "    }\n",
       "\n",
       "    .dataframe thead th {\n",
       "        text-align: right;\n",
       "    }\n",
       "</style>\n",
       "<table border=\"1\" class=\"dataframe\">\n",
       "  <thead>\n",
       "    <tr style=\"text-align: right;\">\n",
       "      <th></th>\n",
       "      <th>HeartDiseaseorAttack</th>\n",
       "      <th>HighBP</th>\n",
       "      <th>HighChol</th>\n",
       "      <th>CholCheck</th>\n",
       "      <th>BMI</th>\n",
       "      <th>Smoker</th>\n",
       "      <th>Stroke</th>\n",
       "      <th>Diabetes</th>\n",
       "      <th>PhysActivity</th>\n",
       "      <th>Fruits</th>\n",
       "      <th>...</th>\n",
       "      <th>AnyHealthcare</th>\n",
       "      <th>NoDocbcCost</th>\n",
       "      <th>GenHlth</th>\n",
       "      <th>MentHlth</th>\n",
       "      <th>PhysHlth</th>\n",
       "      <th>DiffWalk</th>\n",
       "      <th>Sex</th>\n",
       "      <th>Age</th>\n",
       "      <th>Education</th>\n",
       "      <th>Income</th>\n",
       "    </tr>\n",
       "  </thead>\n",
       "  <tbody>\n",
       "    <tr>\n",
       "      <th>count</th>\n",
       "      <td>253680.000000</td>\n",
       "      <td>253680.000000</td>\n",
       "      <td>253680.000000</td>\n",
       "      <td>253680.000000</td>\n",
       "      <td>253680.000000</td>\n",
       "      <td>253680.000000</td>\n",
       "      <td>253680.000000</td>\n",
       "      <td>253680.000000</td>\n",
       "      <td>253680.000000</td>\n",
       "      <td>253680.000000</td>\n",
       "      <td>...</td>\n",
       "      <td>253680.000000</td>\n",
       "      <td>253680.000000</td>\n",
       "      <td>253680.000000</td>\n",
       "      <td>253680.000000</td>\n",
       "      <td>253680.000000</td>\n",
       "      <td>253680.000000</td>\n",
       "      <td>253680.000000</td>\n",
       "      <td>253680.000000</td>\n",
       "      <td>253680.000000</td>\n",
       "      <td>253680.000000</td>\n",
       "    </tr>\n",
       "    <tr>\n",
       "      <th>mean</th>\n",
       "      <td>0.094186</td>\n",
       "      <td>0.429001</td>\n",
       "      <td>0.424121</td>\n",
       "      <td>0.962670</td>\n",
       "      <td>28.382364</td>\n",
       "      <td>0.443169</td>\n",
       "      <td>0.040571</td>\n",
       "      <td>0.296921</td>\n",
       "      <td>0.756544</td>\n",
       "      <td>0.634256</td>\n",
       "      <td>...</td>\n",
       "      <td>0.951053</td>\n",
       "      <td>0.084177</td>\n",
       "      <td>2.511392</td>\n",
       "      <td>3.184772</td>\n",
       "      <td>4.242081</td>\n",
       "      <td>0.168224</td>\n",
       "      <td>0.440342</td>\n",
       "      <td>8.032119</td>\n",
       "      <td>5.050434</td>\n",
       "      <td>6.053875</td>\n",
       "    </tr>\n",
       "    <tr>\n",
       "      <th>std</th>\n",
       "      <td>0.292087</td>\n",
       "      <td>0.494934</td>\n",
       "      <td>0.494210</td>\n",
       "      <td>0.189571</td>\n",
       "      <td>6.608694</td>\n",
       "      <td>0.496761</td>\n",
       "      <td>0.197294</td>\n",
       "      <td>0.698160</td>\n",
       "      <td>0.429169</td>\n",
       "      <td>0.481639</td>\n",
       "      <td>...</td>\n",
       "      <td>0.215759</td>\n",
       "      <td>0.277654</td>\n",
       "      <td>1.068477</td>\n",
       "      <td>7.412847</td>\n",
       "      <td>8.717951</td>\n",
       "      <td>0.374066</td>\n",
       "      <td>0.496429</td>\n",
       "      <td>3.054220</td>\n",
       "      <td>0.985774</td>\n",
       "      <td>2.071148</td>\n",
       "    </tr>\n",
       "    <tr>\n",
       "      <th>min</th>\n",
       "      <td>0.000000</td>\n",
       "      <td>0.000000</td>\n",
       "      <td>0.000000</td>\n",
       "      <td>0.000000</td>\n",
       "      <td>12.000000</td>\n",
       "      <td>0.000000</td>\n",
       "      <td>0.000000</td>\n",
       "      <td>0.000000</td>\n",
       "      <td>0.000000</td>\n",
       "      <td>0.000000</td>\n",
       "      <td>...</td>\n",
       "      <td>0.000000</td>\n",
       "      <td>0.000000</td>\n",
       "      <td>1.000000</td>\n",
       "      <td>0.000000</td>\n",
       "      <td>0.000000</td>\n",
       "      <td>0.000000</td>\n",
       "      <td>0.000000</td>\n",
       "      <td>1.000000</td>\n",
       "      <td>1.000000</td>\n",
       "      <td>1.000000</td>\n",
       "    </tr>\n",
       "    <tr>\n",
       "      <th>25%</th>\n",
       "      <td>0.000000</td>\n",
       "      <td>0.000000</td>\n",
       "      <td>0.000000</td>\n",
       "      <td>1.000000</td>\n",
       "      <td>24.000000</td>\n",
       "      <td>0.000000</td>\n",
       "      <td>0.000000</td>\n",
       "      <td>0.000000</td>\n",
       "      <td>1.000000</td>\n",
       "      <td>0.000000</td>\n",
       "      <td>...</td>\n",
       "      <td>1.000000</td>\n",
       "      <td>0.000000</td>\n",
       "      <td>2.000000</td>\n",
       "      <td>0.000000</td>\n",
       "      <td>0.000000</td>\n",
       "      <td>0.000000</td>\n",
       "      <td>0.000000</td>\n",
       "      <td>6.000000</td>\n",
       "      <td>4.000000</td>\n",
       "      <td>5.000000</td>\n",
       "    </tr>\n",
       "    <tr>\n",
       "      <th>50%</th>\n",
       "      <td>0.000000</td>\n",
       "      <td>0.000000</td>\n",
       "      <td>0.000000</td>\n",
       "      <td>1.000000</td>\n",
       "      <td>27.000000</td>\n",
       "      <td>0.000000</td>\n",
       "      <td>0.000000</td>\n",
       "      <td>0.000000</td>\n",
       "      <td>1.000000</td>\n",
       "      <td>1.000000</td>\n",
       "      <td>...</td>\n",
       "      <td>1.000000</td>\n",
       "      <td>0.000000</td>\n",
       "      <td>2.000000</td>\n",
       "      <td>0.000000</td>\n",
       "      <td>0.000000</td>\n",
       "      <td>0.000000</td>\n",
       "      <td>0.000000</td>\n",
       "      <td>8.000000</td>\n",
       "      <td>5.000000</td>\n",
       "      <td>7.000000</td>\n",
       "    </tr>\n",
       "    <tr>\n",
       "      <th>75%</th>\n",
       "      <td>0.000000</td>\n",
       "      <td>1.000000</td>\n",
       "      <td>1.000000</td>\n",
       "      <td>1.000000</td>\n",
       "      <td>31.000000</td>\n",
       "      <td>1.000000</td>\n",
       "      <td>0.000000</td>\n",
       "      <td>0.000000</td>\n",
       "      <td>1.000000</td>\n",
       "      <td>1.000000</td>\n",
       "      <td>...</td>\n",
       "      <td>1.000000</td>\n",
       "      <td>0.000000</td>\n",
       "      <td>3.000000</td>\n",
       "      <td>2.000000</td>\n",
       "      <td>3.000000</td>\n",
       "      <td>0.000000</td>\n",
       "      <td>1.000000</td>\n",
       "      <td>10.000000</td>\n",
       "      <td>6.000000</td>\n",
       "      <td>8.000000</td>\n",
       "    </tr>\n",
       "    <tr>\n",
       "      <th>max</th>\n",
       "      <td>1.000000</td>\n",
       "      <td>1.000000</td>\n",
       "      <td>1.000000</td>\n",
       "      <td>1.000000</td>\n",
       "      <td>98.000000</td>\n",
       "      <td>1.000000</td>\n",
       "      <td>1.000000</td>\n",
       "      <td>2.000000</td>\n",
       "      <td>1.000000</td>\n",
       "      <td>1.000000</td>\n",
       "      <td>...</td>\n",
       "      <td>1.000000</td>\n",
       "      <td>1.000000</td>\n",
       "      <td>5.000000</td>\n",
       "      <td>30.000000</td>\n",
       "      <td>30.000000</td>\n",
       "      <td>1.000000</td>\n",
       "      <td>1.000000</td>\n",
       "      <td>13.000000</td>\n",
       "      <td>6.000000</td>\n",
       "      <td>8.000000</td>\n",
       "    </tr>\n",
       "  </tbody>\n",
       "</table>\n",
       "<p>8 rows × 22 columns</p>\n",
       "</div>"
      ],
      "text/plain": [
       "       HeartDiseaseorAttack         HighBP       HighChol      CholCheck   \n",
       "count         253680.000000  253680.000000  253680.000000  253680.000000  \\\n",
       "mean               0.094186       0.429001       0.424121       0.962670   \n",
       "std                0.292087       0.494934       0.494210       0.189571   \n",
       "min                0.000000       0.000000       0.000000       0.000000   \n",
       "25%                0.000000       0.000000       0.000000       1.000000   \n",
       "50%                0.000000       0.000000       0.000000       1.000000   \n",
       "75%                0.000000       1.000000       1.000000       1.000000   \n",
       "max                1.000000       1.000000       1.000000       1.000000   \n",
       "\n",
       "                 BMI         Smoker         Stroke       Diabetes   \n",
       "count  253680.000000  253680.000000  253680.000000  253680.000000  \\\n",
       "mean       28.382364       0.443169       0.040571       0.296921   \n",
       "std         6.608694       0.496761       0.197294       0.698160   \n",
       "min        12.000000       0.000000       0.000000       0.000000   \n",
       "25%        24.000000       0.000000       0.000000       0.000000   \n",
       "50%        27.000000       0.000000       0.000000       0.000000   \n",
       "75%        31.000000       1.000000       0.000000       0.000000   \n",
       "max        98.000000       1.000000       1.000000       2.000000   \n",
       "\n",
       "        PhysActivity         Fruits  ...  AnyHealthcare    NoDocbcCost   \n",
       "count  253680.000000  253680.000000  ...  253680.000000  253680.000000  \\\n",
       "mean        0.756544       0.634256  ...       0.951053       0.084177   \n",
       "std         0.429169       0.481639  ...       0.215759       0.277654   \n",
       "min         0.000000       0.000000  ...       0.000000       0.000000   \n",
       "25%         1.000000       0.000000  ...       1.000000       0.000000   \n",
       "50%         1.000000       1.000000  ...       1.000000       0.000000   \n",
       "75%         1.000000       1.000000  ...       1.000000       0.000000   \n",
       "max         1.000000       1.000000  ...       1.000000       1.000000   \n",
       "\n",
       "             GenHlth       MentHlth       PhysHlth       DiffWalk   \n",
       "count  253680.000000  253680.000000  253680.000000  253680.000000  \\\n",
       "mean        2.511392       3.184772       4.242081       0.168224   \n",
       "std         1.068477       7.412847       8.717951       0.374066   \n",
       "min         1.000000       0.000000       0.000000       0.000000   \n",
       "25%         2.000000       0.000000       0.000000       0.000000   \n",
       "50%         2.000000       0.000000       0.000000       0.000000   \n",
       "75%         3.000000       2.000000       3.000000       0.000000   \n",
       "max         5.000000      30.000000      30.000000       1.000000   \n",
       "\n",
       "                 Sex            Age      Education         Income  \n",
       "count  253680.000000  253680.000000  253680.000000  253680.000000  \n",
       "mean        0.440342       8.032119       5.050434       6.053875  \n",
       "std         0.496429       3.054220       0.985774       2.071148  \n",
       "min         0.000000       1.000000       1.000000       1.000000  \n",
       "25%         0.000000       6.000000       4.000000       5.000000  \n",
       "50%         0.000000       8.000000       5.000000       7.000000  \n",
       "75%         1.000000      10.000000       6.000000       8.000000  \n",
       "max         1.000000      13.000000       6.000000       8.000000  \n",
       "\n",
       "[8 rows x 22 columns]"
      ]
     },
     "execution_count": 37,
     "metadata": {},
     "output_type": "execute_result"
    }
   ],
   "source": [
    "data_df_selected.describe()"
   ]
  },
  {
   "cell_type": "code",
   "execution_count": null,
   "id": "eaa505c9",
   "metadata": {},
   "outputs": [],
   "source": [
    "# save to csv\n",
    "#data_df_selected.to_csv('heart_disease_health_features.csv', sep=\",\", index=False)"
   ]
  },
  {
   "cell_type": "code",
   "execution_count": 2,
   "id": "a7a82a79",
   "metadata": {},
   "outputs": [
    {
     "data": {
      "text/html": [
       "<div>\n",
       "<style scoped>\n",
       "    .dataframe tbody tr th:only-of-type {\n",
       "        vertical-align: middle;\n",
       "    }\n",
       "\n",
       "    .dataframe tbody tr th {\n",
       "        vertical-align: top;\n",
       "    }\n",
       "\n",
       "    .dataframe thead th {\n",
       "        text-align: right;\n",
       "    }\n",
       "</style>\n",
       "<table border=\"1\" class=\"dataframe\">\n",
       "  <thead>\n",
       "    <tr style=\"text-align: right;\">\n",
       "      <th></th>\n",
       "      <th>HeartDiseaseorAttack</th>\n",
       "      <th>HighBP</th>\n",
       "      <th>HighChol</th>\n",
       "      <th>CholCheck</th>\n",
       "      <th>BMI</th>\n",
       "      <th>Smoker</th>\n",
       "      <th>Stroke</th>\n",
       "      <th>Diabetes</th>\n",
       "      <th>PhysActivity</th>\n",
       "      <th>Fruits</th>\n",
       "      <th>...</th>\n",
       "      <th>AnyHealthcare</th>\n",
       "      <th>NoDocbcCost</th>\n",
       "      <th>GenHlth</th>\n",
       "      <th>MentHlth</th>\n",
       "      <th>PhysHlth</th>\n",
       "      <th>DiffWalk</th>\n",
       "      <th>Sex</th>\n",
       "      <th>Age</th>\n",
       "      <th>Education</th>\n",
       "      <th>Income</th>\n",
       "    </tr>\n",
       "  </thead>\n",
       "  <tbody>\n",
       "    <tr>\n",
       "      <th>0</th>\n",
       "      <td>0.0</td>\n",
       "      <td>1.0</td>\n",
       "      <td>1.0</td>\n",
       "      <td>1.0</td>\n",
       "      <td>40.0</td>\n",
       "      <td>1.0</td>\n",
       "      <td>0.0</td>\n",
       "      <td>0.0</td>\n",
       "      <td>0.0</td>\n",
       "      <td>0.0</td>\n",
       "      <td>...</td>\n",
       "      <td>1.0</td>\n",
       "      <td>0.0</td>\n",
       "      <td>5.0</td>\n",
       "      <td>18.0</td>\n",
       "      <td>15.0</td>\n",
       "      <td>1.0</td>\n",
       "      <td>0.0</td>\n",
       "      <td>9.0</td>\n",
       "      <td>4.0</td>\n",
       "      <td>3.0</td>\n",
       "    </tr>\n",
       "    <tr>\n",
       "      <th>1</th>\n",
       "      <td>0.0</td>\n",
       "      <td>0.0</td>\n",
       "      <td>0.0</td>\n",
       "      <td>0.0</td>\n",
       "      <td>25.0</td>\n",
       "      <td>1.0</td>\n",
       "      <td>0.0</td>\n",
       "      <td>0.0</td>\n",
       "      <td>1.0</td>\n",
       "      <td>0.0</td>\n",
       "      <td>...</td>\n",
       "      <td>0.0</td>\n",
       "      <td>1.0</td>\n",
       "      <td>3.0</td>\n",
       "      <td>0.0</td>\n",
       "      <td>0.0</td>\n",
       "      <td>0.0</td>\n",
       "      <td>0.0</td>\n",
       "      <td>7.0</td>\n",
       "      <td>6.0</td>\n",
       "      <td>1.0</td>\n",
       "    </tr>\n",
       "    <tr>\n",
       "      <th>2</th>\n",
       "      <td>0.0</td>\n",
       "      <td>1.0</td>\n",
       "      <td>1.0</td>\n",
       "      <td>1.0</td>\n",
       "      <td>28.0</td>\n",
       "      <td>0.0</td>\n",
       "      <td>0.0</td>\n",
       "      <td>0.0</td>\n",
       "      <td>0.0</td>\n",
       "      <td>1.0</td>\n",
       "      <td>...</td>\n",
       "      <td>1.0</td>\n",
       "      <td>1.0</td>\n",
       "      <td>5.0</td>\n",
       "      <td>30.0</td>\n",
       "      <td>30.0</td>\n",
       "      <td>1.0</td>\n",
       "      <td>0.0</td>\n",
       "      <td>9.0</td>\n",
       "      <td>4.0</td>\n",
       "      <td>8.0</td>\n",
       "    </tr>\n",
       "    <tr>\n",
       "      <th>3</th>\n",
       "      <td>0.0</td>\n",
       "      <td>1.0</td>\n",
       "      <td>0.0</td>\n",
       "      <td>1.0</td>\n",
       "      <td>27.0</td>\n",
       "      <td>0.0</td>\n",
       "      <td>0.0</td>\n",
       "      <td>0.0</td>\n",
       "      <td>1.0</td>\n",
       "      <td>1.0</td>\n",
       "      <td>...</td>\n",
       "      <td>1.0</td>\n",
       "      <td>0.0</td>\n",
       "      <td>2.0</td>\n",
       "      <td>0.0</td>\n",
       "      <td>0.0</td>\n",
       "      <td>0.0</td>\n",
       "      <td>0.0</td>\n",
       "      <td>11.0</td>\n",
       "      <td>3.0</td>\n",
       "      <td>6.0</td>\n",
       "    </tr>\n",
       "    <tr>\n",
       "      <th>4</th>\n",
       "      <td>0.0</td>\n",
       "      <td>1.0</td>\n",
       "      <td>1.0</td>\n",
       "      <td>1.0</td>\n",
       "      <td>24.0</td>\n",
       "      <td>0.0</td>\n",
       "      <td>0.0</td>\n",
       "      <td>0.0</td>\n",
       "      <td>1.0</td>\n",
       "      <td>1.0</td>\n",
       "      <td>...</td>\n",
       "      <td>1.0</td>\n",
       "      <td>0.0</td>\n",
       "      <td>2.0</td>\n",
       "      <td>3.0</td>\n",
       "      <td>0.0</td>\n",
       "      <td>0.0</td>\n",
       "      <td>0.0</td>\n",
       "      <td>11.0</td>\n",
       "      <td>5.0</td>\n",
       "      <td>4.0</td>\n",
       "    </tr>\n",
       "    <tr>\n",
       "      <th>...</th>\n",
       "      <td>...</td>\n",
       "      <td>...</td>\n",
       "      <td>...</td>\n",
       "      <td>...</td>\n",
       "      <td>...</td>\n",
       "      <td>...</td>\n",
       "      <td>...</td>\n",
       "      <td>...</td>\n",
       "      <td>...</td>\n",
       "      <td>...</td>\n",
       "      <td>...</td>\n",
       "      <td>...</td>\n",
       "      <td>...</td>\n",
       "      <td>...</td>\n",
       "      <td>...</td>\n",
       "      <td>...</td>\n",
       "      <td>...</td>\n",
       "      <td>...</td>\n",
       "      <td>...</td>\n",
       "      <td>...</td>\n",
       "      <td>...</td>\n",
       "    </tr>\n",
       "    <tr>\n",
       "      <th>253675</th>\n",
       "      <td>0.0</td>\n",
       "      <td>1.0</td>\n",
       "      <td>1.0</td>\n",
       "      <td>1.0</td>\n",
       "      <td>45.0</td>\n",
       "      <td>0.0</td>\n",
       "      <td>0.0</td>\n",
       "      <td>0.0</td>\n",
       "      <td>0.0</td>\n",
       "      <td>1.0</td>\n",
       "      <td>...</td>\n",
       "      <td>1.0</td>\n",
       "      <td>0.0</td>\n",
       "      <td>3.0</td>\n",
       "      <td>0.0</td>\n",
       "      <td>5.0</td>\n",
       "      <td>0.0</td>\n",
       "      <td>1.0</td>\n",
       "      <td>5.0</td>\n",
       "      <td>6.0</td>\n",
       "      <td>7.0</td>\n",
       "    </tr>\n",
       "    <tr>\n",
       "      <th>253676</th>\n",
       "      <td>0.0</td>\n",
       "      <td>1.0</td>\n",
       "      <td>1.0</td>\n",
       "      <td>1.0</td>\n",
       "      <td>18.0</td>\n",
       "      <td>0.0</td>\n",
       "      <td>0.0</td>\n",
       "      <td>2.0</td>\n",
       "      <td>0.0</td>\n",
       "      <td>0.0</td>\n",
       "      <td>...</td>\n",
       "      <td>1.0</td>\n",
       "      <td>0.0</td>\n",
       "      <td>4.0</td>\n",
       "      <td>0.0</td>\n",
       "      <td>0.0</td>\n",
       "      <td>1.0</td>\n",
       "      <td>0.0</td>\n",
       "      <td>11.0</td>\n",
       "      <td>2.0</td>\n",
       "      <td>4.0</td>\n",
       "    </tr>\n",
       "    <tr>\n",
       "      <th>253677</th>\n",
       "      <td>0.0</td>\n",
       "      <td>0.0</td>\n",
       "      <td>0.0</td>\n",
       "      <td>1.0</td>\n",
       "      <td>28.0</td>\n",
       "      <td>0.0</td>\n",
       "      <td>0.0</td>\n",
       "      <td>0.0</td>\n",
       "      <td>1.0</td>\n",
       "      <td>1.0</td>\n",
       "      <td>...</td>\n",
       "      <td>1.0</td>\n",
       "      <td>0.0</td>\n",
       "      <td>1.0</td>\n",
       "      <td>0.0</td>\n",
       "      <td>0.0</td>\n",
       "      <td>0.0</td>\n",
       "      <td>0.0</td>\n",
       "      <td>2.0</td>\n",
       "      <td>5.0</td>\n",
       "      <td>2.0</td>\n",
       "    </tr>\n",
       "    <tr>\n",
       "      <th>253678</th>\n",
       "      <td>0.0</td>\n",
       "      <td>1.0</td>\n",
       "      <td>0.0</td>\n",
       "      <td>1.0</td>\n",
       "      <td>23.0</td>\n",
       "      <td>0.0</td>\n",
       "      <td>0.0</td>\n",
       "      <td>0.0</td>\n",
       "      <td>0.0</td>\n",
       "      <td>1.0</td>\n",
       "      <td>...</td>\n",
       "      <td>1.0</td>\n",
       "      <td>0.0</td>\n",
       "      <td>3.0</td>\n",
       "      <td>0.0</td>\n",
       "      <td>0.0</td>\n",
       "      <td>0.0</td>\n",
       "      <td>1.0</td>\n",
       "      <td>7.0</td>\n",
       "      <td>5.0</td>\n",
       "      <td>1.0</td>\n",
       "    </tr>\n",
       "    <tr>\n",
       "      <th>253679</th>\n",
       "      <td>1.0</td>\n",
       "      <td>1.0</td>\n",
       "      <td>1.0</td>\n",
       "      <td>1.0</td>\n",
       "      <td>25.0</td>\n",
       "      <td>0.0</td>\n",
       "      <td>0.0</td>\n",
       "      <td>2.0</td>\n",
       "      <td>1.0</td>\n",
       "      <td>1.0</td>\n",
       "      <td>...</td>\n",
       "      <td>1.0</td>\n",
       "      <td>0.0</td>\n",
       "      <td>2.0</td>\n",
       "      <td>0.0</td>\n",
       "      <td>0.0</td>\n",
       "      <td>0.0</td>\n",
       "      <td>0.0</td>\n",
       "      <td>9.0</td>\n",
       "      <td>6.0</td>\n",
       "      <td>2.0</td>\n",
       "    </tr>\n",
       "  </tbody>\n",
       "</table>\n",
       "<p>253680 rows × 22 columns</p>\n",
       "</div>"
      ],
      "text/plain": [
       "        HeartDiseaseorAttack  HighBP  HighChol  CholCheck   BMI  Smoker  \\\n",
       "0                        0.0     1.0       1.0        1.0  40.0     1.0   \n",
       "1                        0.0     0.0       0.0        0.0  25.0     1.0   \n",
       "2                        0.0     1.0       1.0        1.0  28.0     0.0   \n",
       "3                        0.0     1.0       0.0        1.0  27.0     0.0   \n",
       "4                        0.0     1.0       1.0        1.0  24.0     0.0   \n",
       "...                      ...     ...       ...        ...   ...     ...   \n",
       "253675                   0.0     1.0       1.0        1.0  45.0     0.0   \n",
       "253676                   0.0     1.0       1.0        1.0  18.0     0.0   \n",
       "253677                   0.0     0.0       0.0        1.0  28.0     0.0   \n",
       "253678                   0.0     1.0       0.0        1.0  23.0     0.0   \n",
       "253679                   1.0     1.0       1.0        1.0  25.0     0.0   \n",
       "\n",
       "        Stroke  Diabetes  PhysActivity  Fruits  ...  AnyHealthcare  \\\n",
       "0          0.0       0.0           0.0     0.0  ...            1.0   \n",
       "1          0.0       0.0           1.0     0.0  ...            0.0   \n",
       "2          0.0       0.0           0.0     1.0  ...            1.0   \n",
       "3          0.0       0.0           1.0     1.0  ...            1.0   \n",
       "4          0.0       0.0           1.0     1.0  ...            1.0   \n",
       "...        ...       ...           ...     ...  ...            ...   \n",
       "253675     0.0       0.0           0.0     1.0  ...            1.0   \n",
       "253676     0.0       2.0           0.0     0.0  ...            1.0   \n",
       "253677     0.0       0.0           1.0     1.0  ...            1.0   \n",
       "253678     0.0       0.0           0.0     1.0  ...            1.0   \n",
       "253679     0.0       2.0           1.0     1.0  ...            1.0   \n",
       "\n",
       "        NoDocbcCost  GenHlth  MentHlth  PhysHlth  DiffWalk  Sex   Age  \\\n",
       "0               0.0      5.0      18.0      15.0       1.0  0.0   9.0   \n",
       "1               1.0      3.0       0.0       0.0       0.0  0.0   7.0   \n",
       "2               1.0      5.0      30.0      30.0       1.0  0.0   9.0   \n",
       "3               0.0      2.0       0.0       0.0       0.0  0.0  11.0   \n",
       "4               0.0      2.0       3.0       0.0       0.0  0.0  11.0   \n",
       "...             ...      ...       ...       ...       ...  ...   ...   \n",
       "253675          0.0      3.0       0.0       5.0       0.0  1.0   5.0   \n",
       "253676          0.0      4.0       0.0       0.0       1.0  0.0  11.0   \n",
       "253677          0.0      1.0       0.0       0.0       0.0  0.0   2.0   \n",
       "253678          0.0      3.0       0.0       0.0       0.0  1.0   7.0   \n",
       "253679          0.0      2.0       0.0       0.0       0.0  0.0   9.0   \n",
       "\n",
       "        Education  Income  \n",
       "0             4.0     3.0  \n",
       "1             6.0     1.0  \n",
       "2             4.0     8.0  \n",
       "3             3.0     6.0  \n",
       "4             5.0     4.0  \n",
       "...           ...     ...  \n",
       "253675        6.0     7.0  \n",
       "253676        2.0     4.0  \n",
       "253677        5.0     2.0  \n",
       "253678        5.0     1.0  \n",
       "253679        6.0     2.0  \n",
       "\n",
       "[253680 rows x 22 columns]"
      ]
     },
     "execution_count": 2,
     "metadata": {},
     "output_type": "execute_result"
    }
   ],
   "source": [
    "heart_df = pd.read_csv(\"heart_disease_health_features.csv\")\n",
    "heart_df.drop('IDATE', axis=1, inplace=True)\n",
    "heart_df"
   ]
  },
  {
   "cell_type": "code",
   "execution_count": 3,
   "id": "5a4f5313",
   "metadata": {},
   "outputs": [
    {
     "name": "stdout",
     "output_type": "stream",
     "text": [
      "The number of columns in the DataFrame is: 22\n"
     ]
    }
   ],
   "source": [
    "num_cols = heart_df.shape[1]\n",
    "print(\"The number of columns in the DataFrame is:\", num_cols)"
   ]
  },
  {
   "cell_type": "code",
   "execution_count": 4,
   "id": "3944802a-e0d9-4f4e-8063-78e6480511ac",
   "metadata": {},
   "outputs": [],
   "source": [
    "# Create a copy of the original dataframe\n",
    "preprocessed_df = heart_df.copy()\n",
    "\n",
    "# Preprocess numerical features\n",
    "num_features = ['BMI', 'MentHlth', 'PhysHlth']\n",
    "num_pipeline = Pipeline([('std_scaler', StandardScaler())])\n",
    "preprocessed_df[num_features] = num_pipeline.fit_transform(preprocessed_df[num_features])\n",
    "\n",
    "# Preprocess ordinal features\n",
    "ordinal_features = ['Diabetes', 'GenHlth', 'Age', 'Education', 'Income']\n",
    "label_encoder = LabelEncoder()\n",
    "preprocessed_df[ordinal_features] = preprocessed_df[ordinal_features].apply(label_encoder.fit_transform)\n",
    "\n",
    "# Split into train and test sets\n",
    "X = preprocessed_df.drop('HeartDiseaseorAttack', axis=1)\n",
    "y = preprocessed_df['HeartDiseaseorAttack']\n",
    "X_train, X_test, y_train, y_test = train_test_split(X, y, test_size=0.2, random_state=42)"
   ]
  },
  {
   "cell_type": "markdown",
   "id": "d44d7be7",
   "metadata": {},
   "source": [
    "**Feature selection with grid search**"
   ]
  },
  {
   "cell_type": "code",
   "execution_count": 5,
   "id": "0c3a1565",
   "metadata": {},
   "outputs": [],
   "source": [
    "#Feature Selection\n",
    "X = preprocessed_df.drop('HeartDiseaseorAttack', axis=1)\n",
    "y = preprocessed_df['HeartDiseaseorAttack']\n",
    "\n",
    "rf = RandomForestClassifier()\n",
    "selector = SelectFromModel(rf, threshold='mean')\n",
    "selector.fit(X, y)\n",
    "\n",
    "X_new = selector.transform(X)\n",
    "selected_features = X.columns[selector.get_support()]"
   ]
  },
  {
   "cell_type": "code",
   "execution_count": 6,
   "id": "a2a2a3d3-c7cb-48c5-8fc2-97263cc6a510",
   "metadata": {},
   "outputs": [
    {
     "data": {
      "text/plain": [
       "Index(['BMI', 'GenHlth', 'MentHlth', 'PhysHlth', 'Age', 'Education', 'Income'], dtype='object')"
      ]
     },
     "execution_count": 6,
     "metadata": {},
     "output_type": "execute_result"
    }
   ],
   "source": [
    "selected_features"
   ]
  },
  {
   "cell_type": "code",
   "execution_count": 7,
   "id": "1bef4eab-2613-4522-9601-1b1c3b72d17d",
   "metadata": {},
   "outputs": [
    {
     "data": {
      "text/html": [
       "<div>\n",
       "<style scoped>\n",
       "    .dataframe tbody tr th:only-of-type {\n",
       "        vertical-align: middle;\n",
       "    }\n",
       "\n",
       "    .dataframe tbody tr th {\n",
       "        vertical-align: top;\n",
       "    }\n",
       "\n",
       "    .dataframe thead th {\n",
       "        text-align: right;\n",
       "    }\n",
       "</style>\n",
       "<table border=\"1\" class=\"dataframe\">\n",
       "  <thead>\n",
       "    <tr style=\"text-align: right;\">\n",
       "      <th></th>\n",
       "      <th>BMI</th>\n",
       "      <th>GenHlth</th>\n",
       "      <th>MentHlth</th>\n",
       "      <th>PhysHlth</th>\n",
       "      <th>Age</th>\n",
       "      <th>Education</th>\n",
       "      <th>Income</th>\n",
       "      <th>HeartDiseaseorAttack</th>\n",
       "    </tr>\n",
       "  </thead>\n",
       "  <tbody>\n",
       "    <tr>\n",
       "      <th>BMI</th>\n",
       "      <td>1.000000</td>\n",
       "      <td>0.238185</td>\n",
       "      <td>0.084380</td>\n",
       "      <td>0.120842</td>\n",
       "      <td>-0.035868</td>\n",
       "      <td>-0.103956</td>\n",
       "      <td>-0.098316</td>\n",
       "      <td>0.053729</td>\n",
       "    </tr>\n",
       "    <tr>\n",
       "      <th>GenHlth</th>\n",
       "      <td>0.238185</td>\n",
       "      <td>1.000000</td>\n",
       "      <td>0.301809</td>\n",
       "      <td>0.522862</td>\n",
       "      <td>0.152890</td>\n",
       "      <td>-0.285083</td>\n",
       "      <td>-0.368927</td>\n",
       "      <td>0.258901</td>\n",
       "    </tr>\n",
       "    <tr>\n",
       "      <th>MentHlth</th>\n",
       "      <td>0.084380</td>\n",
       "      <td>0.301809</td>\n",
       "      <td>1.000000</td>\n",
       "      <td>0.353238</td>\n",
       "      <td>-0.090808</td>\n",
       "      <td>-0.101267</td>\n",
       "      <td>-0.209172</td>\n",
       "      <td>0.065559</td>\n",
       "    </tr>\n",
       "    <tr>\n",
       "      <th>PhysHlth</th>\n",
       "      <td>0.120842</td>\n",
       "      <td>0.522862</td>\n",
       "      <td>0.353238</td>\n",
       "      <td>1.000000</td>\n",
       "      <td>0.099219</td>\n",
       "      <td>-0.154440</td>\n",
       "      <td>-0.265670</td>\n",
       "      <td>0.181748</td>\n",
       "    </tr>\n",
       "    <tr>\n",
       "      <th>Age</th>\n",
       "      <td>-0.035868</td>\n",
       "      <td>0.152890</td>\n",
       "      <td>-0.090808</td>\n",
       "      <td>0.099219</td>\n",
       "      <td>1.000000</td>\n",
       "      <td>-0.101264</td>\n",
       "      <td>-0.127922</td>\n",
       "      <td>0.220205</td>\n",
       "    </tr>\n",
       "    <tr>\n",
       "      <th>Education</th>\n",
       "      <td>-0.103956</td>\n",
       "      <td>-0.285083</td>\n",
       "      <td>-0.101267</td>\n",
       "      <td>-0.154440</td>\n",
       "      <td>-0.101264</td>\n",
       "      <td>1.000000</td>\n",
       "      <td>0.448634</td>\n",
       "      <td>-0.099756</td>\n",
       "    </tr>\n",
       "    <tr>\n",
       "      <th>Income</th>\n",
       "      <td>-0.098316</td>\n",
       "      <td>-0.368927</td>\n",
       "      <td>-0.209172</td>\n",
       "      <td>-0.265670</td>\n",
       "      <td>-0.127922</td>\n",
       "      <td>0.448634</td>\n",
       "      <td>1.000000</td>\n",
       "      <td>-0.142173</td>\n",
       "    </tr>\n",
       "    <tr>\n",
       "      <th>HeartDiseaseorAttack</th>\n",
       "      <td>0.053729</td>\n",
       "      <td>0.258901</td>\n",
       "      <td>0.065559</td>\n",
       "      <td>0.181748</td>\n",
       "      <td>0.220205</td>\n",
       "      <td>-0.099756</td>\n",
       "      <td>-0.142173</td>\n",
       "      <td>1.000000</td>\n",
       "    </tr>\n",
       "  </tbody>\n",
       "</table>\n",
       "</div>"
      ],
      "text/plain": [
       "                           BMI   GenHlth  MentHlth  PhysHlth       Age  \\\n",
       "BMI                   1.000000  0.238185  0.084380  0.120842 -0.035868   \n",
       "GenHlth               0.238185  1.000000  0.301809  0.522862  0.152890   \n",
       "MentHlth              0.084380  0.301809  1.000000  0.353238 -0.090808   \n",
       "PhysHlth              0.120842  0.522862  0.353238  1.000000  0.099219   \n",
       "Age                  -0.035868  0.152890 -0.090808  0.099219  1.000000   \n",
       "Education            -0.103956 -0.285083 -0.101267 -0.154440 -0.101264   \n",
       "Income               -0.098316 -0.368927 -0.209172 -0.265670 -0.127922   \n",
       "HeartDiseaseorAttack  0.053729  0.258901  0.065559  0.181748  0.220205   \n",
       "\n",
       "                      Education    Income  HeartDiseaseorAttack  \n",
       "BMI                   -0.103956 -0.098316              0.053729  \n",
       "GenHlth               -0.285083 -0.368927              0.258901  \n",
       "MentHlth              -0.101267 -0.209172              0.065559  \n",
       "PhysHlth              -0.154440 -0.265670              0.181748  \n",
       "Age                   -0.101264 -0.127922              0.220205  \n",
       "Education              1.000000  0.448634             -0.099756  \n",
       "Income                 0.448634  1.000000             -0.142173  \n",
       "HeartDiseaseorAttack  -0.099756 -0.142173              1.000000  "
      ]
     },
     "execution_count": 7,
     "metadata": {},
     "output_type": "execute_result"
    }
   ],
   "source": [
    "# Create a new dataframe with only the selected features and target variable\n",
    "selected_df = X_train[selected_features].copy()\n",
    "selected_df['HeartDiseaseorAttack'] = y_train\n",
    "\n",
    "# Calculate the correlation coefficients\n",
    "corr_matrix = selected_df.corr()\n",
    "corr_matrix"
   ]
  },
  {
   "cell_type": "markdown",
   "id": "f11b121c-dc4a-4b15-96cf-32a2b7fe33c5",
   "metadata": {},
   "source": [
    "The selected_features variable contains a pandas Index object that represents the column labels of the selected features after applying feature selection with the Random Forest Classifier model.\n",
    "\n",
    "In this case, the selected features are 'BMI', 'GenHlth', 'MentHlth', 'PhysHlth', 'Age', 'Education', and 'Income'. These are the columns that had importance scores greater than or equal to the mean importance score of all features."
   ]
  },
  {
   "cell_type": "markdown",
   "id": "620552a9-9473-4b16-b03f-5c0f122ffdae",
   "metadata": {},
   "source": [
    "The importance score is a metric that measures the relative importance of each feature in a machine learning model. The score indicates how much a feature contributes to the prediction of the target variable. In other words, it helps to identify which features are most relevant or informative for making accurate predictions."
   ]
  },
  {
   "cell_type": "markdown",
   "id": "6d02a9c0",
   "metadata": {},
   "source": [
    "**Inspect the balance of the dataset**"
   ]
  },
  {
   "cell_type": "code",
   "execution_count": 8,
   "id": "834f9346-d14c-481d-8185-bac220d9c54f",
   "metadata": {},
   "outputs": [
    {
     "name": "stdout",
     "output_type": "stream",
     "text": [
      "0.0    229787\n",
      "1.0     23893\n",
      "Name: HeartDiseaseorAttack, dtype: int64\n"
     ]
    }
   ],
   "source": [
    "print(preprocessed_df['HeartDiseaseorAttack'].value_counts())"
   ]
  },
  {
   "cell_type": "code",
   "execution_count": 9,
   "id": "f684c85e-3440-4def-8400-0d6012d43246",
   "metadata": {},
   "outputs": [
    {
     "data": {
      "text/plain": [
       "<AxesSubplot:xlabel='HeartDiseaseorAttack', ylabel='count'>"
      ]
     },
     "execution_count": 9,
     "metadata": {},
     "output_type": "execute_result"
    },
    {
     "data": {
      "image/png": "[encoded data removed]",
      "text/plain": [
       "<Figure size 432x288 with 1 Axes>"
      ]
     },
     "metadata": {
      "needs_background": "light"
     },
     "output_type": "display_data"
    }
   ],
   "source": [
    "sns.countplot(x='HeartDiseaseorAttack', data=preprocessed_df)\n"
   ]
  },
  {
   "cell_type": "markdown",
   "id": "87f682a8-8181-488e-89c8-2e3bc1cdc113",
   "metadata": {},
   "source": [
    "**Logistic Regression using all features**"
   ]
  },
  {
   "cell_type": "code",
   "execution_count": 10,
   "id": "52f3536f-e5bf-41db-b210-124e820bfe4e",
   "metadata": {},
   "outputs": [
    {
     "name": "stdout",
     "output_type": "stream",
     "text": [
      "Accuracy: 0.9084279407127089\n",
      "Precision: 0.5536028119507909\n",
      "Recall: 0.13213087248322147\n",
      "ROC AUC: 0.5605398532273399\n"
     ]
    }
   ],
   "source": [
    "X = preprocessed_df.drop('HeartDiseaseorAttack', axis=1)\n",
    "y = preprocessed_df['HeartDiseaseorAttack']\n",
    "\n",
    "scaler = StandardScaler()\n",
    "X_scaled = scaler.fit_transform(X)\n",
    "\n",
    "X_train, X_test, y_train, y_test = train_test_split(X_scaled, y, test_size=0.2, random_state=42)\n",
    "\n",
    "logreg = LogisticRegression(max_iter=10000)\n",
    "logreg.fit(X_train, y_train)\n",
    "\n",
    "y_pred = logreg.predict(X_test)\n",
    "\n",
    "accuracy = accuracy_score(y_test, y_pred)\n",
    "precision = precision_score(y_test, y_pred)\n",
    "recall = recall_score(y_test, y_pred)\n",
    "roc_auc = roc_auc_score(y_test, y_pred)\n",
    "\n",
    "print('Accuracy:', accuracy)\n",
    "print('Precision:', precision)\n",
    "print('Recall:', recall)\n",
    "print('ROC AUC:', roc_auc)"
   ]
  },
  {
   "cell_type": "markdown",
   "id": "03ad78a3-aaab-45f3-84c5-08927dac573a",
   "metadata": {},
   "source": [
    "Accuracy measures the number of correct predictions made by the model compared to all predictions. However, the high accuracy score can be misleading in imbalanced datasets where one class is much more frequent than the others. This is the case in this dataset (229,787 no heart-disease, 23,893 heart-disease). If the model would always predict the majority class (no heart-disease) can have a high accuracy but still fail to capture the minority class (heart-disease).\n",
    "\n",
    "Precision measures how well a model can predict positive examples. It is a useful metric when the cost of false positives is high.\n",
    "\n",
    "The recall measures how well a model can identify positive examples. It is a useful metric when the cost of false negatives is high.\n",
    "\n",
    "AUC is a metric suited for imbalanced datasets. AUC measures the overall performance of a binary classifier by computing the area under the ROC curve, which plots the true positive rate against the false positive rate for different classification thresholds. A high AUC score indicates that the classifier is able to distinguish between the positive and negative classes effectively, regardless of the class distribution. This makes the AUC an important mectric in this case. Measuring the AUC, the model is performing very badly. It has a AUC score of 0.5, which is the same as it would be randomly guessing."
   ]
  },
  {
   "cell_type": "markdown",
   "id": "deec8150-8a82-499d-9b66-523ae0cbfd70",
   "metadata": {},
   "source": [
    "**Logistic Regression using selected features**"
   ]
  },
  {
   "cell_type": "code",
   "execution_count": 13,
   "id": "218d8429-b895-4bf0-982e-796bea9c624a",
   "metadata": {
    "scrolled": true
   },
   "outputs": [
    {
     "name": "stdout",
     "output_type": "stream",
     "text": [
      "Accuracy: 0.9064524871270542\n",
      "Precision: 0.4560975609756098\n",
      "Recall: 0.049720818931135335\n",
      "ROC AUC: 0.5218328217605607\n"
     ]
    }
   ],
   "source": [
    "X = selected_df.drop('HeartDiseaseorAttack', axis=1)\n",
    "y = selected_df['HeartDiseaseorAttack']\n",
    "\n",
    "scaler = StandardScaler()\n",
    "X_scaled = scaler.fit_transform(X)\n",
    "\n",
    "X_train, X_test, y_train, y_test = train_test_split(X_scaled, y, test_size=0.2, random_state=42)\n",
    "\n",
    "logreg = LogisticRegression(max_iter=10000)\n",
    "logreg.fit(X_train, y_train)\n",
    "\n",
    "y_pred = logreg.predict(X_test)\n",
    "\n",
    "accuracy = accuracy_score(y_test, y_pred)\n",
    "precision = precision_score(y_test, y_pred)\n",
    "recall = recall_score(y_test, y_pred)\n",
    "roc_auc = roc_auc_score(y_test, y_pred)\n",
    "\n",
    "print('Accuracy:', accuracy)\n",
    "print('Precision:', precision)\n",
    "print('Recall:', recall)\n",
    "print('ROC AUC:', roc_auc)"
   ]
  },
  {
   "cell_type": "markdown",
   "id": "8768e2da",
   "metadata": {},
   "source": [
    "**Altering the weight of the dataset**"
   ]
  },
  {
   "cell_type": "code",
   "execution_count": 14,
   "id": "39007fbe",
   "metadata": {},
   "outputs": [
    {
     "name": "stdout",
     "output_type": "stream",
     "text": [
      "Train AUC: 0.8079823490228254\n",
      "Test AUC: 0.8091220133648788\n"
     ]
    }
   ],
   "source": [
    "# logistic regression with the class weight\n",
    "logist_reg = LogisticRegressionCV(class_weight={0:1, 1:2}, cv=5, max_iter=10000, scoring='roc_auc')\n",
    "\n",
    "# fit the model\n",
    "logist_reg.fit(X, y)\n",
    "\n",
    "# report the mean score on train and test set\n",
    "print(f\"Train AUC: {logist_reg.scores_[1].mean(axis=0).max()}\")\n",
    "print(f\"Test AUC: {logist_reg.scores_[1].mean(axis=1).max()}\")"
   ]
  },
  {
   "cell_type": "code",
   "execution_count": 15,
   "id": "ade53362",
   "metadata": {},
   "outputs": [
    {
     "name": "stdout",
     "output_type": "stream",
     "text": [
      "Train AUC: 0.8079898075507843\n",
      "Test AUC: 0.8092759839655589\n"
     ]
    }
   ],
   "source": [
    "# logistic regression with the class weight\n",
    "logist_reg = LogisticRegressionCV(class_weight={0:1, 1:5}, cv=5, max_iter=10000, scoring='roc_auc')\n",
    "\n",
    "# fit the model\n",
    "logist_reg.fit(X, y)\n",
    "\n",
    "# report the mean score on train and test set\n",
    "print(f\"Train AUC: {logist_reg.scores_[1].mean(axis=0).max()}\")\n",
    "print(f\"Test AUC: {logist_reg.scores_[1].mean(axis=1).max()}\")"
   ]
  },
  {
   "cell_type": "code",
   "execution_count": 16,
   "id": "731fb514",
   "metadata": {
    "scrolled": true
   },
   "outputs": [
    {
     "name": "stdout",
     "output_type": "stream",
     "text": [
      "Train AUC: 0.8079594179880474\n",
      "Test AUC: 0.8092974777115721\n"
     ]
    }
   ],
   "source": [
    "# logistic regression with the class weight\n",
    "logist_reg = LogisticRegressionCV(class_weight={0:1, 1:10}, cv=5, max_iter=10000, scoring='roc_auc')\n",
    "\n",
    "# fit the model\n",
    "logist_reg.fit(X, y)\n",
    "\n",
    "# report the mean score on train and test set\n",
    "print(f\"Train AUC: {logist_reg.scores_[1].mean(axis=0).max()}\")\n",
    "print(f\"Test AUC: {logist_reg.scores_[1].mean(axis=1).max()}\")"
   ]
  },
  {
   "cell_type": "markdown",
   "id": "1101d088",
   "metadata": {},
   "source": [
    "**Logistic Regression using all features with new class weights**"
   ]
  },
  {
   "cell_type": "code",
   "execution_count": 17,
   "id": "f6c3574e",
   "metadata": {},
   "outputs": [
    {
     "name": "stdout",
     "output_type": "stream",
     "text": [
      "Accuracy: 0.7487582781456954\n",
      "Precision: 0.24532397063517394\n",
      "Recall: 0.805998322147651\n",
      "ROC AUC: 0.7744097075409331\n"
     ]
    }
   ],
   "source": [
    "X = preprocessed_df.drop('HeartDiseaseorAttack', axis=1)\n",
    "y = preprocessed_df['HeartDiseaseorAttack']\n",
    "\n",
    "scaler = StandardScaler()\n",
    "X_scaled = scaler.fit_transform(X)\n",
    "\n",
    "X_train, X_test, y_train, y_test = train_test_split(X_scaled, y, test_size=0.2, random_state=42)\n",
    "\n",
    "logreg = LogisticRegression(class_weight={0:1, 1:10}, max_iter=10000)\n",
    "logreg.fit(X_train, y_train)\n",
    "\n",
    "y_pred = logreg.predict(X_test)\n",
    "\n",
    "accuracy = accuracy_score(y_test, y_pred)\n",
    "precision = precision_score(y_test, y_pred)\n",
    "recall = recall_score(y_test, y_pred)\n",
    "roc_auc = roc_auc_score(y_test, y_pred)\n",
    "\n",
    "print('Accuracy:', accuracy)\n",
    "print('Precision:', precision)\n",
    "print('Recall:', recall)\n",
    "print('ROC AUC:', roc_auc)"
   ]
  },
  {
   "cell_type": "markdown",
   "id": "a13f8602",
   "metadata": {},
   "source": [
    "**Logistic Regression using selected features with new class weights**"
   ]
  },
  {
   "cell_type": "code",
   "execution_count": 18,
   "id": "12bc17e5",
   "metadata": {},
   "outputs": [
    {
     "name": "stdout",
     "output_type": "stream",
     "text": [
      "Accuracy: 0.9064524871270542\n",
      "Precision: 0.4560975609756098\n",
      "Recall: 0.049720818931135335\n",
      "ROC AUC: 0.5218328217605607\n"
     ]
    }
   ],
   "source": [
    "X = selected_df.drop('HeartDiseaseorAttack', axis=1)\n",
    "y = selected_df['HeartDiseaseorAttack']\n",
    "\n",
    "scaler = StandardScaler()\n",
    "X_scaled = scaler.fit_transform(X)\n",
    "\n",
    "X_train, X_test, y_train, y_test = train_test_split(X_scaled, y, test_size=0.2, random_state=42)\n",
    "\n",
    "logreg = LogisticRegression(max_iter=10000)\n",
    "logreg.fit(X_train, y_train)\n",
    "\n",
    "y_pred = logreg.predict(X_test)\n",
    "\n",
    "accuracy = accuracy_score(y_test, y_pred)\n",
    "precision = precision_score(y_test, y_pred)\n",
    "recall = recall_score(y_test, y_pred)\n",
    "roc_auc = roc_auc_score(y_test, y_pred)\n",
    "\n",
    "print('Accuracy:', accuracy)\n",
    "print('Precision:', precision)\n",
    "print('Recall:', recall)\n",
    "print('ROC AUC:', roc_auc)"
   ]
  },
  {
   "cell_type": "markdown",
   "id": "b87e98c1",
   "metadata": {},
   "source": [
    "The ROC AUC is still very low, even after altering the weight. Therefore, we will continue building the model including all features. "
   ]
  },
  {
   "cell_type": "code",
   "execution_count": null,
   "id": "7472f48a",
   "metadata": {},
   "outputs": [],
   "source": []
  }
 ],
 "metadata": {
  "kernelspec": {
   "display_name": "Python 3 (ipykernel)",
   "language": "python",
   "name": "python3"
  },
  "language_info": {
   "codemirror_mode": {
    "name": "ipython",
    "version": 3
   },
   "file_extension": ".py",
   "mimetype": "text/x-python",
   "name": "python",
   "nbconvert_exporter": "python",
   "pygments_lexer": "ipython3",
   "version": "3.9.12"
  }
 },
 "nbformat": 4,
 "nbformat_minor": 5
}
