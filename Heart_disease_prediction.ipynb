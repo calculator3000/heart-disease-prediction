{
 "cells": [
  {
   "cell_type": "markdown",
   "id": "9a5f1e3c-ca63-455f-9dc3-4153e7d3d3ff",
   "metadata": {},
   "source": [
    "# Heart Disease Prediction\n",
    "\n",
    "- Hannah Dickescheid (50178)\n",
    "- Julia Stieler (56040)\n",
    "- Eva Zinser (53100)\n",
    "- Carlos Ferrufino (53276)\n",
    "- Celina Kollwitz (53676)\n",
    "\n",
    "Heart disease is one of the leading causes of death worldwide, and early detection can be critical for successful treatment. Machine learning has emerged as a powerful tool for predicting the risk of heart disease by analyzing various features such as age, gender, blood pressure, cholesterol level, and smoking habits. In this notebook, we will explore a heart disease dataset and build a machine learning model to predict the likelihood of heart disease based on various patient features."
   ]
  },
  {
   "cell_type": "markdown",
   "id": "1d8f4cda",
   "metadata": {},
   "source": [
    "# Business Problem\n",
    "\n",
    "One of the biggest causes of death is heart disease. The World Health Organization estimates that 17.9 million people worldwide per year die because of cardiovascular disorders (CVD), such as heart disease. By 2030, the WHO expects that there will be 23.6 million fatalities caused by CVD worldwide, with heart disease and stroke being the main contributors.\n",
    "\n",
    "A cardiovascular disease is any condition affecting the heart and blood vessels. A cardiovascular problem affects the main blood vessels that supply the heart muscles. These blood channels develop plaque, which is made up of cholesterol deposits, that restricts blood flow to the heart and other vital organs. If undetected, this can eventually result in a heart attack, stroke, or heart failure. Heart conditions are regarded as silent killers and sometimes aren't discovered until they start to cause life threatening symptoms. Detecting a heart disease is complex and takes many different methods (also in combination) for diagnosis: a variety of blood tests, MRIs and CT scans, ECGs, or Holter monitoring.\n",
    "\n",
    "However, there is not only the huge amount of fatalities caused by this diseases. Additionally, heart disease places a heavy financial cost on society. The estimated global economic cost of cardiovascular diseases between 2010 and 2015 was USD 3.7 trillion. Employees with cardiovascular disease were responsible for 25–35% of a company's annual medical costs. To reduce the financial and physical costs of heart disease for individuals, organizations, and society as a whole, early detection is crucial. It is feasible to develop models that could assist in predicting the probability of who is most likely to suffer from heart disease by utilizing Machine Learning. \n",
    "\n",
    "Machine learning is already important in the field of medicine. It is being utilized for the purposes of diagnosis, detection, and prediction of various diseases. In recent times there has been an increased focus on the use of machine learning techniques to determine the likelihood of developing specific illnesses. Numerous recent studies have been conducted on the topic of developing applications of techniques for predicting diseases.\n",
    "\n",
    "Not only medical information technology is developing. Also, different types of medical data are advancing and support the use of machine learning techniques. Big data in medicine is frequently utilized to raise the standard of healthcare. These data consist of audio files, laboratory results, earlier diagnosis reports, clinical notes, research, and visuals.\n",
    "In recent years, the field of machine learning in the healthcare industry has been improved significantly. These methods have gained widespread acceptance and have proven effective in a variety of healthcare settings, particularly in the area of medical cardiology. The quick accumulation of medical data has given researchers an unexpected chance to create and evaluate new algorithms in this area.\n",
    "\n",
    "In the following are a few relevant business context examples where using machine learning can be extremely beneficial:\n",
    "- **Healthcare providers** can use this data to create individualized prevention and treatment strategies for people who are at risk, which over time can improve health outcomes and save costs.\n",
    "- **Insurance companies** can use this information to assess and manage risk, which will allow them to establish reasonable premiums and prevent needless pay-outs.\n",
    "- **Public health organizations** can use this information to create targeted education and awareness campaigns that will assist people become more aware of the dangers connected with heart disease and motivate them to take precautions to lower their risk.\n",
    "\n",
    "To help predicting the likelihood of developing a heart disease will not only support reducing global fatalities caused by CVD but also support the healthcare industry. \n",
    "\n",
    "**Limitations**\n",
    "However, there are some limitations while working with data regarding heart disease, that have to be addressed. \n",
    "The fact that the data scientists using the algorithm do not have sufficient medical understanding is one factor contributing to a high failure rate of data science applications in healthcare. There is not sufficient domain knowledge to fully understand the data, which is why the people developing the machine learning model ideally work closely together with doctors and cardiologists. \n",
    "\n",
    "An example of this is that it can be observed that quite often there is insufficient data for each patient in a medical dataset, with only one data point listed for each feature. The main issue is that variables like blood pressure, cholesterol, and pulse are not constant. A person's heartbeat and blood pressure change throughout the day and hour. For a patient, it is ideal to have several measurements for each aspect.\n",
    "By developing a machine learning algorithm in this context, it is important to underline, that this will be seen as an approach to help identify patients who are more likely to develop a heart disease. It will not replace a proper diagnosis.\n",
    "\n",
    "**Objective**\n",
    "The objective of the project is to understand how Machine Learning algorithms can be used to support in predicting if a patient has a higher probability of getting a heart disease by building an optimized model that can be used to predict heart diseases.\n",
    "\n",
    "**Approach**\n",
    "We are using supervised learning for this task because it is a well-suited approach for predicting outcomes based on labeled input data. In this case, we have a dataset with information about patients, including various features such as blood pressure, cholesterol levels, and age, along with a label indicating whether the patient has heart disease or not. Supervised learning allows us to use this labeled dataset to train a model that can then predict whether a new patient is at risk of developing heart disease based on their features.\n",
    "\n",
    "The specific supervised learning algorithms we are using are logistic regression, decision tree, random forest, support vector machine, and neural network. By comparing the performance of these algorithms, we can identify the most suitable one for our task and optimize it through hyperparameter tuning. "
   ]
  },
  {
   "cell_type": "markdown",
   "id": "72d6e9d6-5028-4884-86cd-cbe318767e45",
   "metadata": {},
   "source": [
    "# About the dataset\n",
    "\n",
    "The US Centers for Disease Control and Prevention (CDC) publishes each year the Behavioral Risk Factor Surveillance System (BRFSS), which is the nation’s premier system of health-related telephone surveys. It collects data about US residents regarding their health-related risk behaviors, chronic health conditions, and use of preventive services. Established in 1984 with 15 states, BRFSS now collects data in all 50 states as well as the District of Columbia and three U.S. territories. BRFSS completes more than 400,000 adult interviews each year, making it the largest continuously conducted health survey system in the world. \n",
    "\n",
    "With technical and methodological assistance from CDC, state health departments use in-house interviewers or contract with telephone call centers or universities to administer the BRFSS surveys continuously through the year. The states use a standardized core questionnaire, optional modules, and state-added questions. The survey is conducted using Random Digit Dialing (RDD) techniques on both landlines and cell phones.\n",
    "\n",
    "For our project we used the 2015 survey data. \n",
    "https://www.cdc.gov/brfss/annual_data/annual_2011.htm\n",
    "\n",
    "The datasat includes 330 columns that refer each column to a queston asked to the participants."
   ]
  },
  {
   "cell_type": "code",
   "execution_count": 39,
   "id": "345a104d-af25-489f-98e6-0c8a1affad6c",
   "metadata": {},
   "outputs": [],
   "source": [
    "import os\n",
    "import warnings\n",
    "warnings.filterwarnings('ignore')\n",
    "import pandas as pd\n",
    "import numpy as np\n",
    "import seaborn as sns\n",
    "import matplotlib.pyplot as plt\n",
    "#from keras.models import Sequential\n",
    "#from keras.layers import Dense, Dropout\n",
    "#from keras import metrics\n",
    "from sklearn.model_selection import train_test_split\n",
    "from sklearn.linear_model import LogisticRegression, LogisticRegressionCV\n",
    "from sklearn.preprocessing import StandardScaler, LabelEncoder, OneHotEncoder, OrdinalEncoder\n",
    "from sklearn.pipeline import Pipeline\n",
    "from sklearn.base import BaseEstimator, TransformerMixin\n",
    "from sklearn.ensemble import BaggingClassifier\n",
    "from sklearn.ensemble import RandomForestClassifier\n",
    "from sklearn.ensemble import GradientBoostingClassifier\n",
    "from sklearn.compose import ColumnTransformer\n",
    "from sklearn.naive_bayes import GaussianNB\n",
    "from sklearn.tree import DecisionTreeClassifier\n",
    "from sklearn.ensemble import VotingClassifier\n",
    "from sklearn.svm import SVC\n",
    "from sklearn.feature_selection import SelectFromModel\n",
    "from sklearn.cluster import KMeans\n",
    "from sklearn.metrics import accuracy_score, precision_score, recall_score, roc_auc_score, confusion_matrix, silhouette_score\n",
    "from sklearn import set_config\n",
    "from imblearn.over_sampling import SMOTE\n",
    "from sklearn.metrics import classification_report\n",
    "from sklearn.tree import DecisionTreeClassifier\n",
    "from sklearn import tree\n",
    "from sklearn.neighbors import KNeighborsClassifier\n",
    "from xgboost import XGBClassifier\n",
    "set_config(display=\"diagram\")"
   ]
  },
  {
   "cell_type": "markdown",
   "id": "c29ee8bb-adbb-416c-aa90-4c4b7d23355f",
   "metadata": {
    "tags": []
   },
   "source": [
    "# Dataset Exploration"
   ]
  },
  {
   "cell_type": "markdown",
   "id": "896985a9-1f2a-4c4f-b914-992dfa972801",
   "metadata": {},
   "source": [
    "Let's start the project by loading the survey data."
   ]
  },
  {
   "cell_type": "code",
   "execution_count": 176,
   "id": "be926d40-4e90-4912-9a13-1fbeedf632cc",
   "metadata": {
    "tags": []
   },
   "outputs": [
    {
     "data": {
      "text/html": [
       "<div>\n",
       "<style scoped>\n",
       "    .dataframe tbody tr th:only-of-type {\n",
       "        vertical-align: middle;\n",
       "    }\n",
       "\n",
       "    .dataframe tbody tr th {\n",
       "        vertical-align: top;\n",
       "    }\n",
       "\n",
       "    .dataframe thead th {\n",
       "        text-align: right;\n",
       "    }\n",
       "</style>\n",
       "<table border=\"1\" class=\"dataframe\">\n",
       "  <thead>\n",
       "    <tr style=\"text-align: right;\">\n",
       "      <th></th>\n",
       "      <th>_STATE</th>\n",
       "      <th>FMONTH</th>\n",
       "      <th>IDATE</th>\n",
       "      <th>IMONTH</th>\n",
       "      <th>IDAY</th>\n",
       "      <th>IYEAR</th>\n",
       "      <th>DISPCODE</th>\n",
       "      <th>SEQNO</th>\n",
       "      <th>_PSU</th>\n",
       "      <th>CTELENUM</th>\n",
       "      <th>...</th>\n",
       "      <th>_PAREC1</th>\n",
       "      <th>_PASTAE1</th>\n",
       "      <th>_LMTACT1</th>\n",
       "      <th>_LMTWRK1</th>\n",
       "      <th>_LMTSCL1</th>\n",
       "      <th>_RFSEAT2</th>\n",
       "      <th>_RFSEAT3</th>\n",
       "      <th>_FLSHOT6</th>\n",
       "      <th>_PNEUMO2</th>\n",
       "      <th>_AIDTST3</th>\n",
       "    </tr>\n",
       "  </thead>\n",
       "  <tbody>\n",
       "    <tr>\n",
       "      <th>0</th>\n",
       "      <td>1.0</td>\n",
       "      <td>1.0</td>\n",
       "      <td>b'01292015'</td>\n",
       "      <td>b'01'</td>\n",
       "      <td>b'29'</td>\n",
       "      <td>b'2015'</td>\n",
       "      <td>1200.0</td>\n",
       "      <td>2.015000e+09</td>\n",
       "      <td>2.015000e+09</td>\n",
       "      <td>1.0</td>\n",
       "      <td>...</td>\n",
       "      <td>4.0</td>\n",
       "      <td>2.0</td>\n",
       "      <td>1.0</td>\n",
       "      <td>1.0</td>\n",
       "      <td>1.0</td>\n",
       "      <td>1.0</td>\n",
       "      <td>1.0</td>\n",
       "      <td>NaN</td>\n",
       "      <td>NaN</td>\n",
       "      <td>1.0</td>\n",
       "    </tr>\n",
       "    <tr>\n",
       "      <th>1</th>\n",
       "      <td>1.0</td>\n",
       "      <td>1.0</td>\n",
       "      <td>b'01202015'</td>\n",
       "      <td>b'01'</td>\n",
       "      <td>b'20'</td>\n",
       "      <td>b'2015'</td>\n",
       "      <td>1100.0</td>\n",
       "      <td>2.015000e+09</td>\n",
       "      <td>2.015000e+09</td>\n",
       "      <td>1.0</td>\n",
       "      <td>...</td>\n",
       "      <td>2.0</td>\n",
       "      <td>2.0</td>\n",
       "      <td>3.0</td>\n",
       "      <td>3.0</td>\n",
       "      <td>4.0</td>\n",
       "      <td>2.0</td>\n",
       "      <td>2.0</td>\n",
       "      <td>NaN</td>\n",
       "      <td>NaN</td>\n",
       "      <td>2.0</td>\n",
       "    </tr>\n",
       "    <tr>\n",
       "      <th>2</th>\n",
       "      <td>1.0</td>\n",
       "      <td>1.0</td>\n",
       "      <td>b'02012015'</td>\n",
       "      <td>b'02'</td>\n",
       "      <td>b'01'</td>\n",
       "      <td>b'2015'</td>\n",
       "      <td>1200.0</td>\n",
       "      <td>2.015000e+09</td>\n",
       "      <td>2.015000e+09</td>\n",
       "      <td>1.0</td>\n",
       "      <td>...</td>\n",
       "      <td>9.0</td>\n",
       "      <td>9.0</td>\n",
       "      <td>9.0</td>\n",
       "      <td>9.0</td>\n",
       "      <td>9.0</td>\n",
       "      <td>9.0</td>\n",
       "      <td>9.0</td>\n",
       "      <td>9.0</td>\n",
       "      <td>9.0</td>\n",
       "      <td>NaN</td>\n",
       "    </tr>\n",
       "    <tr>\n",
       "      <th>3</th>\n",
       "      <td>1.0</td>\n",
       "      <td>1.0</td>\n",
       "      <td>b'01142015'</td>\n",
       "      <td>b'01'</td>\n",
       "      <td>b'14'</td>\n",
       "      <td>b'2015'</td>\n",
       "      <td>1100.0</td>\n",
       "      <td>2.015000e+09</td>\n",
       "      <td>2.015000e+09</td>\n",
       "      <td>1.0</td>\n",
       "      <td>...</td>\n",
       "      <td>4.0</td>\n",
       "      <td>2.0</td>\n",
       "      <td>1.0</td>\n",
       "      <td>1.0</td>\n",
       "      <td>1.0</td>\n",
       "      <td>1.0</td>\n",
       "      <td>1.0</td>\n",
       "      <td>NaN</td>\n",
       "      <td>NaN</td>\n",
       "      <td>9.0</td>\n",
       "    </tr>\n",
       "    <tr>\n",
       "      <th>4</th>\n",
       "      <td>1.0</td>\n",
       "      <td>1.0</td>\n",
       "      <td>b'01142015'</td>\n",
       "      <td>b'01'</td>\n",
       "      <td>b'14'</td>\n",
       "      <td>b'2015'</td>\n",
       "      <td>1100.0</td>\n",
       "      <td>2.015000e+09</td>\n",
       "      <td>2.015000e+09</td>\n",
       "      <td>1.0</td>\n",
       "      <td>...</td>\n",
       "      <td>4.0</td>\n",
       "      <td>2.0</td>\n",
       "      <td>1.0</td>\n",
       "      <td>1.0</td>\n",
       "      <td>1.0</td>\n",
       "      <td>1.0</td>\n",
       "      <td>1.0</td>\n",
       "      <td>NaN</td>\n",
       "      <td>NaN</td>\n",
       "      <td>1.0</td>\n",
       "    </tr>\n",
       "  </tbody>\n",
       "</table>\n",
       "<p>5 rows × 330 columns</p>\n",
       "</div>"
      ],
      "text/plain": [
       "   _STATE  FMONTH        IDATE IMONTH   IDAY    IYEAR  DISPCODE         SEQNO  \\\n",
       "0     1.0     1.0  b'01292015'  b'01'  b'29'  b'2015'    1200.0  2.015000e+09   \n",
       "1     1.0     1.0  b'01202015'  b'01'  b'20'  b'2015'    1100.0  2.015000e+09   \n",
       "2     1.0     1.0  b'02012015'  b'02'  b'01'  b'2015'    1200.0  2.015000e+09   \n",
       "3     1.0     1.0  b'01142015'  b'01'  b'14'  b'2015'    1100.0  2.015000e+09   \n",
       "4     1.0     1.0  b'01142015'  b'01'  b'14'  b'2015'    1100.0  2.015000e+09   \n",
       "\n",
       "           _PSU  CTELENUM  ...  _PAREC1  _PASTAE1  _LMTACT1  _LMTWRK1  \\\n",
       "0  2.015000e+09       1.0  ...      4.0       2.0       1.0       1.0   \n",
       "1  2.015000e+09       1.0  ...      2.0       2.0       3.0       3.0   \n",
       "2  2.015000e+09       1.0  ...      9.0       9.0       9.0       9.0   \n",
       "3  2.015000e+09       1.0  ...      4.0       2.0       1.0       1.0   \n",
       "4  2.015000e+09       1.0  ...      4.0       2.0       1.0       1.0   \n",
       "\n",
       "   _LMTSCL1  _RFSEAT2  _RFSEAT3  _FLSHOT6  _PNEUMO2  _AIDTST3  \n",
       "0       1.0       1.0       1.0       NaN       NaN       1.0  \n",
       "1       4.0       2.0       2.0       NaN       NaN       2.0  \n",
       "2       9.0       9.0       9.0       9.0       9.0       NaN  \n",
       "3       1.0       1.0       1.0       NaN       NaN       9.0  \n",
       "4       1.0       1.0       1.0       NaN       NaN       1.0  \n",
       "\n",
       "[5 rows x 330 columns]"
      ]
     },
     "execution_count": 176,
     "metadata": {},
     "output_type": "execute_result"
    }
   ],
   "source": [
    "# Loading the dataset\n",
    "data_df = pd.read_csv(\"2015.csv\")\n",
    "data_df.head()"
   ]
  },
  {
   "cell_type": "code",
   "execution_count": 177,
   "id": "c99ba8c9-7d37-42b0-938f-96194b0989dc",
   "metadata": {},
   "outputs": [
    {
     "data": {
      "text/plain": [
       "(441456, 330)"
      ]
     },
     "execution_count": 177,
     "metadata": {},
     "output_type": "execute_result"
    }
   ],
   "source": [
    "data_df.shape"
   ]
  },
  {
   "cell_type": "markdown",
   "id": "1032b4ff-9184-4ee4-ac10-57ce5218ba6c",
   "metadata": {},
   "source": [
    "The shape tells us that the dataset has 330 columns and 441456 survey participants in 2015."
   ]
  },
  {
   "cell_type": "code",
   "execution_count": 178,
   "id": "5ef30cf3-1129-45d2-97e0-55a188ccab2a",
   "metadata": {},
   "outputs": [
    {
     "data": {
      "text/plain": [
       "Index(['_STATE', 'FMONTH', 'IDATE', 'IMONTH', 'IDAY', 'IYEAR', 'DISPCODE',\n",
       "       'SEQNO', '_PSU', 'CTELENUM',\n",
       "       ...\n",
       "       '_PAREC1', '_PASTAE1', '_LMTACT1', '_LMTWRK1', '_LMTSCL1', '_RFSEAT2',\n",
       "       '_RFSEAT3', '_FLSHOT6', '_PNEUMO2', '_AIDTST3'],\n",
       "      dtype='object', length=330)"
      ]
     },
     "execution_count": 178,
     "metadata": {},
     "output_type": "execute_result"
    }
   ],
   "source": [
    "data_df.columns"
   ]
  },
  {
   "cell_type": "markdown",
   "id": "d74db2ec-92ae-4615-83fa-8684528bfb0b",
   "metadata": {},
   "source": [
    "The columns names are mainly not understandable without a further explanation - we will change that later."
   ]
  },
  {
   "cell_type": "code",
   "execution_count": 179,
   "id": "04851b3f-c6c7-40c9-89d8-02ecc71a9f95",
   "metadata": {},
   "outputs": [
    {
     "data": {
      "text/plain": [
       "['_STATE',\n",
       " 'FMONTH',\n",
       " 'IDATE',\n",
       " 'IMONTH',\n",
       " 'IDAY',\n",
       " 'IYEAR',\n",
       " 'DISPCODE',\n",
       " 'SEQNO',\n",
       " '_PSU',\n",
       " 'CTELENUM',\n",
       " 'PVTRESD1',\n",
       " 'COLGHOUS',\n",
       " 'STATERES',\n",
       " 'CELLFON3',\n",
       " 'LADULT',\n",
       " 'NUMADULT',\n",
       " 'NUMMEN',\n",
       " 'NUMWOMEN',\n",
       " 'CTELNUM1',\n",
       " 'CELLFON2',\n",
       " 'CADULT',\n",
       " 'PVTRESD2',\n",
       " 'CCLGHOUS',\n",
       " 'CSTATE',\n",
       " 'LANDLINE',\n",
       " 'HHADULT',\n",
       " 'GENHLTH',\n",
       " 'PHYSHLTH',\n",
       " 'MENTHLTH',\n",
       " 'POORHLTH',\n",
       " 'HLTHPLN1',\n",
       " 'PERSDOC2',\n",
       " 'MEDCOST',\n",
       " 'CHECKUP1',\n",
       " 'BPHIGH4',\n",
       " 'BPMEDS',\n",
       " 'BLOODCHO',\n",
       " 'CHOLCHK',\n",
       " 'TOLDHI2',\n",
       " 'CVDINFR4',\n",
       " 'CVDCRHD4',\n",
       " 'CVDSTRK3',\n",
       " 'ASTHMA3',\n",
       " 'ASTHNOW',\n",
       " 'CHCSCNCR',\n",
       " 'CHCOCNCR',\n",
       " 'CHCCOPD1',\n",
       " 'HAVARTH3',\n",
       " 'ADDEPEV2',\n",
       " 'CHCKIDNY',\n",
       " 'DIABETE3',\n",
       " 'DIABAGE2',\n",
       " 'SEX',\n",
       " 'MARITAL',\n",
       " 'EDUCA',\n",
       " 'RENTHOM1',\n",
       " 'NUMHHOL2',\n",
       " 'NUMPHON2',\n",
       " 'CPDEMO1',\n",
       " 'VETERAN3',\n",
       " 'EMPLOY1',\n",
       " 'CHILDREN',\n",
       " 'INCOME2',\n",
       " 'INTERNET',\n",
       " 'WEIGHT2',\n",
       " 'HEIGHT3',\n",
       " 'PREGNANT',\n",
       " 'QLACTLM2',\n",
       " 'USEEQUIP',\n",
       " 'BLIND',\n",
       " 'DECIDE',\n",
       " 'DIFFWALK',\n",
       " 'DIFFDRES',\n",
       " 'DIFFALON',\n",
       " 'SMOKE100',\n",
       " 'SMOKDAY2',\n",
       " 'STOPSMK2',\n",
       " 'LASTSMK2',\n",
       " 'USENOW3',\n",
       " 'ALCDAY5',\n",
       " 'AVEDRNK2',\n",
       " 'DRNK3GE5',\n",
       " 'MAXDRNKS',\n",
       " 'FRUITJU1',\n",
       " 'FRUIT1',\n",
       " 'FVBEANS',\n",
       " 'FVGREEN',\n",
       " 'FVORANG',\n",
       " 'VEGETAB1',\n",
       " 'EXERANY2',\n",
       " 'EXRACT11',\n",
       " 'EXEROFT1',\n",
       " 'EXERHMM1',\n",
       " 'EXRACT21',\n",
       " 'EXEROFT2',\n",
       " 'EXERHMM2',\n",
       " 'STRENGTH',\n",
       " 'LMTJOIN3',\n",
       " 'ARTHDIS2',\n",
       " 'ARTHSOCL',\n",
       " 'JOINPAIN',\n",
       " 'SEATBELT',\n",
       " 'FLUSHOT6',\n",
       " 'FLSHTMY2',\n",
       " 'IMFVPLAC',\n",
       " 'PNEUVAC3',\n",
       " 'HIVTST6',\n",
       " 'HIVTSTD3',\n",
       " 'WHRTST10',\n",
       " 'PDIABTST',\n",
       " 'PREDIAB1',\n",
       " 'INSULIN',\n",
       " 'BLDSUGAR',\n",
       " 'FEETCHK2',\n",
       " 'DOCTDIAB',\n",
       " 'CHKHEMO3',\n",
       " 'FEETCHK',\n",
       " 'EYEEXAM',\n",
       " 'DIABEYE',\n",
       " 'DIABEDU',\n",
       " 'PAINACT2',\n",
       " 'QLMENTL2',\n",
       " 'QLSTRES2',\n",
       " 'QLHLTH2',\n",
       " 'CAREGIV1',\n",
       " 'CRGVREL1',\n",
       " 'CRGVLNG1',\n",
       " 'CRGVHRS1',\n",
       " 'CRGVPRB1',\n",
       " 'CRGVPERS',\n",
       " 'CRGVHOUS',\n",
       " 'CRGVMST2',\n",
       " 'CRGVEXPT',\n",
       " 'VIDFCLT2',\n",
       " 'VIREDIF3',\n",
       " 'VIPRFVS2',\n",
       " 'VINOCRE2',\n",
       " 'VIEYEXM2',\n",
       " 'VIINSUR2',\n",
       " 'VICTRCT4',\n",
       " 'VIGLUMA2',\n",
       " 'VIMACDG2',\n",
       " 'CIMEMLOS',\n",
       " 'CDHOUSE',\n",
       " 'CDASSIST',\n",
       " 'CDHELP',\n",
       " 'CDSOCIAL',\n",
       " 'CDDISCUS',\n",
       " 'WTCHSALT',\n",
       " 'LONGWTCH',\n",
       " 'DRADVISE',\n",
       " 'ASTHMAGE',\n",
       " 'ASATTACK',\n",
       " 'ASERVIST',\n",
       " 'ASDRVIST',\n",
       " 'ASRCHKUP',\n",
       " 'ASACTLIM',\n",
       " 'ASYMPTOM',\n",
       " 'ASNOSLEP',\n",
       " 'ASTHMED3',\n",
       " 'ASINHALR',\n",
       " 'HAREHAB1',\n",
       " 'STREHAB1',\n",
       " 'CVDASPRN',\n",
       " 'ASPUNSAF',\n",
       " 'RLIVPAIN',\n",
       " 'RDUCHART',\n",
       " 'RDUCSTRK',\n",
       " 'ARTTODAY',\n",
       " 'ARTHWGT',\n",
       " 'ARTHEXER',\n",
       " 'ARTHEDU',\n",
       " 'TETANUS',\n",
       " 'HPVADVC2',\n",
       " 'HPVADSHT',\n",
       " 'SHINGLE2',\n",
       " 'HADMAM',\n",
       " 'HOWLONG',\n",
       " 'HADPAP2',\n",
       " 'LASTPAP2',\n",
       " 'HPVTEST',\n",
       " 'HPLSTTST',\n",
       " 'HADHYST2',\n",
       " 'PROFEXAM',\n",
       " 'LENGEXAM',\n",
       " 'BLDSTOOL',\n",
       " 'LSTBLDS3',\n",
       " 'HADSIGM3',\n",
       " 'HADSGCO1',\n",
       " 'LASTSIG3',\n",
       " 'PCPSAAD2',\n",
       " 'PCPSADI1',\n",
       " 'PCPSARE1',\n",
       " 'PSATEST1',\n",
       " 'PSATIME',\n",
       " 'PCPSARS1',\n",
       " 'PCPSADE1',\n",
       " 'PCDMDECN',\n",
       " 'SCNTMNY1',\n",
       " 'SCNTMEL1',\n",
       " 'SCNTPAID',\n",
       " 'SCNTWRK1',\n",
       " 'SCNTLPAD',\n",
       " 'SCNTLWK1',\n",
       " 'SXORIENT',\n",
       " 'TRNSGNDR',\n",
       " 'RCSGENDR',\n",
       " 'RCSRLTN2',\n",
       " 'CASTHDX2',\n",
       " 'CASTHNO2',\n",
       " 'EMTSUPRT',\n",
       " 'LSATISFY',\n",
       " 'ADPLEASR',\n",
       " 'ADDOWN',\n",
       " 'ADSLEEP',\n",
       " 'ADENERGY',\n",
       " 'ADEAT1',\n",
       " 'ADFAIL',\n",
       " 'ADTHINK',\n",
       " 'ADMOVE',\n",
       " 'MISTMNT',\n",
       " 'ADANXEV',\n",
       " 'QSTVER',\n",
       " 'QSTLANG',\n",
       " 'EXACTOT1',\n",
       " 'EXACTOT2',\n",
       " 'MSCODE',\n",
       " '_STSTR',\n",
       " '_STRWT',\n",
       " '_RAWRAKE',\n",
       " '_WT2RAKE',\n",
       " '_CHISPNC',\n",
       " '_CRACE1',\n",
       " '_CPRACE',\n",
       " '_CLLCPWT',\n",
       " '_DUALUSE',\n",
       " '_DUALCOR',\n",
       " '_LLCPWT',\n",
       " '_RFHLTH',\n",
       " '_HCVU651',\n",
       " '_RFHYPE5',\n",
       " '_CHOLCHK',\n",
       " '_RFCHOL',\n",
       " '_MICHD',\n",
       " '_LTASTH1',\n",
       " '_CASTHM1',\n",
       " '_ASTHMS1',\n",
       " '_DRDXAR1',\n",
       " '_PRACE1',\n",
       " '_MRACE1',\n",
       " '_HISPANC',\n",
       " '_RACE',\n",
       " '_RACEG21',\n",
       " '_RACEGR3',\n",
       " '_RACE_G1',\n",
       " '_AGEG5YR',\n",
       " '_AGE65YR',\n",
       " '_AGE80',\n",
       " '_AGE_G',\n",
       " 'HTIN4',\n",
       " 'HTM4',\n",
       " 'WTKG3',\n",
       " '_BMI5',\n",
       " '_BMI5CAT',\n",
       " '_RFBMI5',\n",
       " '_CHLDCNT',\n",
       " '_EDUCAG',\n",
       " '_INCOMG',\n",
       " '_SMOKER3',\n",
       " '_RFSMOK3',\n",
       " 'DRNKANY5',\n",
       " 'DROCDY3_',\n",
       " '_RFBING5',\n",
       " '_DRNKWEK',\n",
       " '_RFDRHV5',\n",
       " 'FTJUDA1_',\n",
       " 'FRUTDA1_',\n",
       " 'BEANDAY_',\n",
       " 'GRENDAY_',\n",
       " 'ORNGDAY_',\n",
       " 'VEGEDA1_',\n",
       " '_MISFRTN',\n",
       " '_MISVEGN',\n",
       " '_FRTRESP',\n",
       " '_VEGRESP',\n",
       " '_FRUTSUM',\n",
       " '_VEGESUM',\n",
       " '_FRTLT1',\n",
       " '_VEGLT1',\n",
       " '_FRT16',\n",
       " '_VEG23',\n",
       " '_FRUITEX',\n",
       " '_VEGETEX',\n",
       " '_TOTINDA',\n",
       " 'METVL11_',\n",
       " 'METVL21_',\n",
       " 'MAXVO2_',\n",
       " 'FC60_',\n",
       " 'ACTIN11_',\n",
       " 'ACTIN21_',\n",
       " 'PADUR1_',\n",
       " 'PADUR2_',\n",
       " 'PAFREQ1_',\n",
       " 'PAFREQ2_',\n",
       " '_MINAC11',\n",
       " '_MINAC21',\n",
       " 'STRFREQ_',\n",
       " 'PAMISS1_',\n",
       " 'PAMIN11_',\n",
       " 'PAMIN21_',\n",
       " 'PA1MIN_',\n",
       " 'PAVIG11_',\n",
       " 'PAVIG21_',\n",
       " 'PA1VIGM_',\n",
       " '_PACAT1',\n",
       " '_PAINDX1',\n",
       " '_PA150R2',\n",
       " '_PA300R2',\n",
       " '_PA30021',\n",
       " '_PASTRNG',\n",
       " '_PAREC1',\n",
       " '_PASTAE1',\n",
       " '_LMTACT1',\n",
       " '_LMTWRK1',\n",
       " '_LMTSCL1',\n",
       " '_RFSEAT2',\n",
       " '_RFSEAT3',\n",
       " '_FLSHOT6',\n",
       " '_PNEUMO2',\n",
       " '_AIDTST3']"
      ]
     },
     "execution_count": 179,
     "metadata": {},
     "output_type": "execute_result"
    }
   ],
   "source": [
    "# Show all column names\n",
    "columns = list(data_df)\n",
    "columns"
   ]
  },
  {
   "cell_type": "code",
   "execution_count": 180,
   "id": "75d0108b-f829-42c2-8aad-aa560329fc7e",
   "metadata": {},
   "outputs": [
    {
     "data": {
      "text/html": [
       "<div>\n",
       "<style scoped>\n",
       "    .dataframe tbody tr th:only-of-type {\n",
       "        vertical-align: middle;\n",
       "    }\n",
       "\n",
       "    .dataframe tbody tr th {\n",
       "        vertical-align: top;\n",
       "    }\n",
       "\n",
       "    .dataframe thead th {\n",
       "        text-align: right;\n",
       "    }\n",
       "</style>\n",
       "<table border=\"1\" class=\"dataframe\">\n",
       "  <thead>\n",
       "    <tr style=\"text-align: right;\">\n",
       "      <th></th>\n",
       "      <th>_STATE</th>\n",
       "      <th>FMONTH</th>\n",
       "      <th>DISPCODE</th>\n",
       "      <th>SEQNO</th>\n",
       "      <th>_PSU</th>\n",
       "      <th>CTELENUM</th>\n",
       "      <th>PVTRESD1</th>\n",
       "      <th>COLGHOUS</th>\n",
       "      <th>STATERES</th>\n",
       "      <th>CELLFON3</th>\n",
       "      <th>...</th>\n",
       "      <th>_PAREC1</th>\n",
       "      <th>_PASTAE1</th>\n",
       "      <th>_LMTACT1</th>\n",
       "      <th>_LMTWRK1</th>\n",
       "      <th>_LMTSCL1</th>\n",
       "      <th>_RFSEAT2</th>\n",
       "      <th>_RFSEAT3</th>\n",
       "      <th>_FLSHOT6</th>\n",
       "      <th>_PNEUMO2</th>\n",
       "      <th>_AIDTST3</th>\n",
       "    </tr>\n",
       "  </thead>\n",
       "  <tbody>\n",
       "    <tr>\n",
       "      <th>count</th>\n",
       "      <td>441456.000000</td>\n",
       "      <td>441456.000000</td>\n",
       "      <td>441456.000000</td>\n",
       "      <td>4.414560e+05</td>\n",
       "      <td>4.414560e+05</td>\n",
       "      <td>254645.0</td>\n",
       "      <td>254645.000000</td>\n",
       "      <td>45.0</td>\n",
       "      <td>254643.0</td>\n",
       "      <td>254646.000000</td>\n",
       "      <td>...</td>\n",
       "      <td>441456.000000</td>\n",
       "      <td>441456.000000</td>\n",
       "      <td>438657.000000</td>\n",
       "      <td>438657.000000</td>\n",
       "      <td>438657.000000</td>\n",
       "      <td>441456.000000</td>\n",
       "      <td>441456.000000</td>\n",
       "      <td>157954.000000</td>\n",
       "      <td>157954.000000</td>\n",
       "      <td>398069.000000</td>\n",
       "    </tr>\n",
       "    <tr>\n",
       "      <th>mean</th>\n",
       "      <td>29.968715</td>\n",
       "      <td>6.359676</td>\n",
       "      <td>1115.040457</td>\n",
       "      <td>2.015005e+09</td>\n",
       "      <td>2.015005e+09</td>\n",
       "      <td>1.0</td>\n",
       "      <td>1.000177</td>\n",
       "      <td>1.0</td>\n",
       "      <td>1.0</td>\n",
       "      <td>1.545133</td>\n",
       "      <td>...</td>\n",
       "      <td>3.494124</td>\n",
       "      <td>2.742695</td>\n",
       "      <td>2.716879</td>\n",
       "      <td>2.815149</td>\n",
       "      <td>3.652717</td>\n",
       "      <td>1.824624</td>\n",
       "      <td>1.887028</td>\n",
       "      <td>2.290705</td>\n",
       "      <td>2.412259</td>\n",
       "      <td>1.970156</td>\n",
       "    </tr>\n",
       "    <tr>\n",
       "      <th>std</th>\n",
       "      <td>16.034710</td>\n",
       "      <td>3.487131</td>\n",
       "      <td>35.746794</td>\n",
       "      <td>4.113443e+03</td>\n",
       "      <td>4.113443e+03</td>\n",
       "      <td>0.0</td>\n",
       "      <td>0.013292</td>\n",
       "      <td>0.0</td>\n",
       "      <td>0.0</td>\n",
       "      <td>0.497960</td>\n",
       "      <td>...</td>\n",
       "      <td>2.398322</td>\n",
       "      <td>2.449676</td>\n",
       "      <td>1.324145</td>\n",
       "      <td>1.356101</td>\n",
       "      <td>1.266730</td>\n",
       "      <td>2.360812</td>\n",
       "      <td>2.351387</td>\n",
       "      <td>2.518086</td>\n",
       "      <td>2.778032</td>\n",
       "      <td>1.441119</td>\n",
       "    </tr>\n",
       "    <tr>\n",
       "      <th>min</th>\n",
       "      <td>1.000000</td>\n",
       "      <td>1.000000</td>\n",
       "      <td>1100.000000</td>\n",
       "      <td>2.015000e+09</td>\n",
       "      <td>2.015000e+09</td>\n",
       "      <td>1.0</td>\n",
       "      <td>1.000000</td>\n",
       "      <td>1.0</td>\n",
       "      <td>1.0</td>\n",
       "      <td>1.000000</td>\n",
       "      <td>...</td>\n",
       "      <td>1.000000</td>\n",
       "      <td>1.000000</td>\n",
       "      <td>1.000000</td>\n",
       "      <td>1.000000</td>\n",
       "      <td>1.000000</td>\n",
       "      <td>1.000000</td>\n",
       "      <td>1.000000</td>\n",
       "      <td>1.000000</td>\n",
       "      <td>1.000000</td>\n",
       "      <td>1.000000</td>\n",
       "    </tr>\n",
       "    <tr>\n",
       "      <th>25%</th>\n",
       "      <td>19.000000</td>\n",
       "      <td>3.000000</td>\n",
       "      <td>1100.000000</td>\n",
       "      <td>2.015002e+09</td>\n",
       "      <td>2.015002e+09</td>\n",
       "      <td>1.0</td>\n",
       "      <td>1.000000</td>\n",
       "      <td>1.0</td>\n",
       "      <td>1.0</td>\n",
       "      <td>1.000000</td>\n",
       "      <td>...</td>\n",
       "      <td>2.000000</td>\n",
       "      <td>2.000000</td>\n",
       "      <td>2.000000</td>\n",
       "      <td>2.000000</td>\n",
       "      <td>3.000000</td>\n",
       "      <td>1.000000</td>\n",
       "      <td>1.000000</td>\n",
       "      <td>1.000000</td>\n",
       "      <td>1.000000</td>\n",
       "      <td>1.000000</td>\n",
       "    </tr>\n",
       "    <tr>\n",
       "      <th>50%</th>\n",
       "      <td>29.000000</td>\n",
       "      <td>6.000000</td>\n",
       "      <td>1100.000000</td>\n",
       "      <td>2.015004e+09</td>\n",
       "      <td>2.015004e+09</td>\n",
       "      <td>1.0</td>\n",
       "      <td>1.000000</td>\n",
       "      <td>1.0</td>\n",
       "      <td>1.0</td>\n",
       "      <td>2.000000</td>\n",
       "      <td>...</td>\n",
       "      <td>3.000000</td>\n",
       "      <td>2.000000</td>\n",
       "      <td>3.000000</td>\n",
       "      <td>3.000000</td>\n",
       "      <td>4.000000</td>\n",
       "      <td>1.000000</td>\n",
       "      <td>1.000000</td>\n",
       "      <td>1.000000</td>\n",
       "      <td>1.000000</td>\n",
       "      <td>2.000000</td>\n",
       "    </tr>\n",
       "    <tr>\n",
       "      <th>75%</th>\n",
       "      <td>44.000000</td>\n",
       "      <td>9.000000</td>\n",
       "      <td>1100.000000</td>\n",
       "      <td>2.015007e+09</td>\n",
       "      <td>2.015007e+09</td>\n",
       "      <td>1.0</td>\n",
       "      <td>1.000000</td>\n",
       "      <td>1.0</td>\n",
       "      <td>1.0</td>\n",
       "      <td>2.000000</td>\n",
       "      <td>...</td>\n",
       "      <td>4.000000</td>\n",
       "      <td>2.000000</td>\n",
       "      <td>3.000000</td>\n",
       "      <td>3.000000</td>\n",
       "      <td>4.000000</td>\n",
       "      <td>1.000000</td>\n",
       "      <td>1.000000</td>\n",
       "      <td>2.000000</td>\n",
       "      <td>2.000000</td>\n",
       "      <td>2.000000</td>\n",
       "    </tr>\n",
       "    <tr>\n",
       "      <th>max</th>\n",
       "      <td>72.000000</td>\n",
       "      <td>12.000000</td>\n",
       "      <td>1200.000000</td>\n",
       "      <td>2.015023e+09</td>\n",
       "      <td>2.015023e+09</td>\n",
       "      <td>1.0</td>\n",
       "      <td>2.000000</td>\n",
       "      <td>1.0</td>\n",
       "      <td>1.0</td>\n",
       "      <td>2.000000</td>\n",
       "      <td>...</td>\n",
       "      <td>9.000000</td>\n",
       "      <td>9.000000</td>\n",
       "      <td>9.000000</td>\n",
       "      <td>9.000000</td>\n",
       "      <td>9.000000</td>\n",
       "      <td>9.000000</td>\n",
       "      <td>9.000000</td>\n",
       "      <td>9.000000</td>\n",
       "      <td>9.000000</td>\n",
       "      <td>9.000000</td>\n",
       "    </tr>\n",
       "  </tbody>\n",
       "</table>\n",
       "<p>8 rows × 323 columns</p>\n",
       "</div>"
      ],
      "text/plain": [
       "              _STATE         FMONTH       DISPCODE         SEQNO  \\\n",
       "count  441456.000000  441456.000000  441456.000000  4.414560e+05   \n",
       "mean       29.968715       6.359676    1115.040457  2.015005e+09   \n",
       "std        16.034710       3.487131      35.746794  4.113443e+03   \n",
       "min         1.000000       1.000000    1100.000000  2.015000e+09   \n",
       "25%        19.000000       3.000000    1100.000000  2.015002e+09   \n",
       "50%        29.000000       6.000000    1100.000000  2.015004e+09   \n",
       "75%        44.000000       9.000000    1100.000000  2.015007e+09   \n",
       "max        72.000000      12.000000    1200.000000  2.015023e+09   \n",
       "\n",
       "               _PSU  CTELENUM       PVTRESD1  COLGHOUS  STATERES  \\\n",
       "count  4.414560e+05  254645.0  254645.000000      45.0  254643.0   \n",
       "mean   2.015005e+09       1.0       1.000177       1.0       1.0   \n",
       "std    4.113443e+03       0.0       0.013292       0.0       0.0   \n",
       "min    2.015000e+09       1.0       1.000000       1.0       1.0   \n",
       "25%    2.015002e+09       1.0       1.000000       1.0       1.0   \n",
       "50%    2.015004e+09       1.0       1.000000       1.0       1.0   \n",
       "75%    2.015007e+09       1.0       1.000000       1.0       1.0   \n",
       "max    2.015023e+09       1.0       2.000000       1.0       1.0   \n",
       "\n",
       "            CELLFON3  ...        _PAREC1       _PASTAE1       _LMTACT1  \\\n",
       "count  254646.000000  ...  441456.000000  441456.000000  438657.000000   \n",
       "mean        1.545133  ...       3.494124       2.742695       2.716879   \n",
       "std         0.497960  ...       2.398322       2.449676       1.324145   \n",
       "min         1.000000  ...       1.000000       1.000000       1.000000   \n",
       "25%         1.000000  ...       2.000000       2.000000       2.000000   \n",
       "50%         2.000000  ...       3.000000       2.000000       3.000000   \n",
       "75%         2.000000  ...       4.000000       2.000000       3.000000   \n",
       "max         2.000000  ...       9.000000       9.000000       9.000000   \n",
       "\n",
       "            _LMTWRK1       _LMTSCL1       _RFSEAT2       _RFSEAT3  \\\n",
       "count  438657.000000  438657.000000  441456.000000  441456.000000   \n",
       "mean        2.815149       3.652717       1.824624       1.887028   \n",
       "std         1.356101       1.266730       2.360812       2.351387   \n",
       "min         1.000000       1.000000       1.000000       1.000000   \n",
       "25%         2.000000       3.000000       1.000000       1.000000   \n",
       "50%         3.000000       4.000000       1.000000       1.000000   \n",
       "75%         3.000000       4.000000       1.000000       1.000000   \n",
       "max         9.000000       9.000000       9.000000       9.000000   \n",
       "\n",
       "            _FLSHOT6       _PNEUMO2       _AIDTST3  \n",
       "count  157954.000000  157954.000000  398069.000000  \n",
       "mean        2.290705       2.412259       1.970156  \n",
       "std         2.518086       2.778032       1.441119  \n",
       "min         1.000000       1.000000       1.000000  \n",
       "25%         1.000000       1.000000       1.000000  \n",
       "50%         1.000000       1.000000       2.000000  \n",
       "75%         2.000000       2.000000       2.000000  \n",
       "max         9.000000       9.000000       9.000000  \n",
       "\n",
       "[8 rows x 323 columns]"
      ]
     },
     "execution_count": 180,
     "metadata": {},
     "output_type": "execute_result"
    }
   ],
   "source": [
    "data_df.describe()"
   ]
  },
  {
   "cell_type": "markdown",
   "id": "ce219537-7543-4e21-aafb-231f9e86999c",
   "metadata": {},
   "source": [
    "Looking at the summary information of the columns we can already observe that there are a lot of columns with categorical but numerical variables."
   ]
  },
  {
   "cell_type": "code",
   "execution_count": 181,
   "id": "ca3f52be-555e-4d93-9273-2d7d0412c1f0",
   "metadata": {},
   "outputs": [
    {
     "name": "stdout",
     "output_type": "stream",
     "text": [
      "QLSTRES2    441456\n",
      "PAINACT2    441456\n",
      "QLHLTH2     441456\n",
      "QLMENTL2    441456\n",
      "LADULT      441411\n",
      "COLGHOUS    441411\n",
      "ASDRVIST    441144\n",
      "ASERVIST    441143\n",
      "ASNOSLEP    440999\n",
      "ASTHMED3    440817\n",
      "ASINHALR    440817\n",
      "ASYMPTOM    440815\n",
      "ASRCHKUP    440812\n",
      "ASACTLIM    440812\n",
      "ASATTACK    440808\n",
      "STREHAB1    440762\n",
      "PCPSADE1    440637\n",
      "HAREHAB1    440445\n",
      "ASTHMAGE    440433\n",
      "VINOCRE2    440388\n",
      "CCLGHOUS    440386\n",
      "HPVADSHT    440008\n",
      "VIEYEXM2    438927\n",
      "VIMACDG2    438281\n",
      "VICTRCT4    438278\n",
      "VIGLUMA2    438278\n",
      "VIINSUR2    438275\n",
      "VIPRFVS2    438268\n",
      "VIREDIF3    438268\n",
      "VIDFCLT2    438257\n",
      "PCPSARS1    437825\n",
      "PSATIME     437822\n",
      "CDHELP      437130\n",
      "LENGEXAM    436523\n",
      "RDUCSTRK    435838\n",
      "RLIVPAIN    435837\n",
      "RDUCHART    435837\n",
      "PROFEXAM    435811\n",
      "CASTHNO2    434953\n",
      "PSATEST1    434841\n",
      "PCPSARE1    434841\n",
      "PCPSADI1    434836\n",
      "PCPSAAD2    434829\n",
      "HPLSTTST    434549\n",
      "HPVADVC2    430533\n",
      "ASPUNSAF    428279\n",
      "CDDISCUS    428255\n",
      "CDSOCIAL    428238\n",
      "CDASSIST    428215\n",
      "NUMPHON2    428206\n",
      "dtype: int64\n",
      "119\n"
     ]
    }
   ],
   "source": [
    "# print missing values\n",
    "missing_values = data_df.isna().sum().sort_values(ascending=False)\n",
    "print(missing_values.head(50))\n",
    "print(missing_values[missing_values > 340000].count())"
   ]
  },
  {
   "cell_type": "markdown",
   "id": "19f1875f-dfcf-43fa-9ad4-c3be7d45fe03",
   "metadata": {},
   "source": [
    "As we already know we have around 440.000 survey respondants. However, not all questions were asked to all respondants. That means that for some columns there are missing values. In order to find out how many and which columns show missing values, we calculate the number of missing values per column. The result shows that there are a lot of columns that have a high number of missing values. Thus, when we choose our features we need to check for the amount of missing values as well."
   ]
  },
  {
   "cell_type": "code",
   "execution_count": 182,
   "id": "86cc5ca6-510e-45a5-8992-ad8f2447056c",
   "metadata": {},
   "outputs": [
    {
     "name": "stdout",
     "output_type": "stream",
     "text": [
      "<class 'pandas.core.frame.DataFrame'>\n",
      "RangeIndex: 441456 entries, 0 to 441455\n",
      "Columns: 330 entries, _STATE to _AIDTST3\n",
      "dtypes: float64(323), object(7)\n",
      "memory usage: 1.1+ GB\n"
     ]
    }
   ],
   "source": [
    "data_df.info()"
   ]
  },
  {
   "cell_type": "code",
   "execution_count": 183,
   "id": "e7e6b7b3-3b2a-41d6-8597-b060183a81f0",
   "metadata": {},
   "outputs": [
    {
     "data": {
      "text/html": [
       "<style type=\"text/css\">\n",
       "#T_c1ae2_row0_col0 {\n",
       "  background-color: #b40426;\n",
       "  color: #f1f1f1;\n",
       "}\n",
       "#T_c1ae2_row1_col0 {\n",
       "  background-color: #f1cdba;\n",
       "  color: #000000;\n",
       "}\n",
       "#T_c1ae2_row2_col0 {\n",
       "  background-color: #a7c5fe;\n",
       "  color: #000000;\n",
       "}\n",
       "#T_c1ae2_row3_col0 {\n",
       "  background-color: #6b8df0;\n",
       "  color: #f1f1f1;\n",
       "}\n",
       "#T_c1ae2_row4_col0 {\n",
       "  background-color: #6687ed;\n",
       "  color: #f1f1f1;\n",
       "}\n",
       "#T_c1ae2_row5_col0 {\n",
       "  background-color: #6384eb;\n",
       "  color: #f1f1f1;\n",
       "}\n",
       "#T_c1ae2_row6_col0 {\n",
       "  background-color: #5673e0;\n",
       "  color: #f1f1f1;\n",
       "}\n",
       "#T_c1ae2_row7_col0 {\n",
       "  background-color: #536edd;\n",
       "  color: #f1f1f1;\n",
       "}\n",
       "#T_c1ae2_row8_col0 {\n",
       "  background-color: #4f69d9;\n",
       "  color: #f1f1f1;\n",
       "}\n",
       "#T_c1ae2_row9_col0, #T_c1ae2_row10_col0 {\n",
       "  background-color: #4a63d3;\n",
       "  color: #f1f1f1;\n",
       "}\n",
       "#T_c1ae2_row11_col0 {\n",
       "  background-color: #485fd1;\n",
       "  color: #f1f1f1;\n",
       "}\n",
       "#T_c1ae2_row12_col0 {\n",
       "  background-color: #465ecf;\n",
       "  color: #f1f1f1;\n",
       "}\n",
       "#T_c1ae2_row13_col0, #T_c1ae2_row14_col0 {\n",
       "  background-color: #445acc;\n",
       "  color: #f1f1f1;\n",
       "}\n",
       "#T_c1ae2_row15_col0 {\n",
       "  background-color: #4358cb;\n",
       "  color: #f1f1f1;\n",
       "}\n",
       "#T_c1ae2_row16_col0 {\n",
       "  background-color: #4257c9;\n",
       "  color: #f1f1f1;\n",
       "}\n",
       "#T_c1ae2_row17_col0, #T_c1ae2_row18_col0 {\n",
       "  background-color: #3f53c6;\n",
       "  color: #f1f1f1;\n",
       "}\n",
       "#T_c1ae2_row19_col0 {\n",
       "  background-color: #3e51c5;\n",
       "  color: #f1f1f1;\n",
       "}\n",
       "#T_c1ae2_row20_col0, #T_c1ae2_row21_col0, #T_c1ae2_row22_col0, #T_c1ae2_row23_col0 {\n",
       "  background-color: #3d50c3;\n",
       "  color: #f1f1f1;\n",
       "}\n",
       "#T_c1ae2_row24_col0, #T_c1ae2_row25_col0, #T_c1ae2_row26_col0 {\n",
       "  background-color: #3c4ec2;\n",
       "  color: #f1f1f1;\n",
       "}\n",
       "#T_c1ae2_row27_col0, #T_c1ae2_row28_col0, #T_c1ae2_row29_col0 {\n",
       "  background-color: #3b4cc0;\n",
       "  color: #f1f1f1;\n",
       "}\n",
       "</style>\n",
       "<table id=\"T_c1ae2\">\n",
       "  <thead>\n",
       "    <tr>\n",
       "      <th class=\"blank level0\" >&nbsp;</th>\n",
       "      <th id=\"T_c1ae2_level0_col0\" class=\"col_heading level0 col0\" >Correlation with _MICHD</th>\n",
       "    </tr>\n",
       "  </thead>\n",
       "  <tbody>\n",
       "    <tr>\n",
       "      <th id=\"T_c1ae2_level0_row0\" class=\"row_heading level0 row0\" >_MICHD</th>\n",
       "      <td id=\"T_c1ae2_row0_col0\" class=\"data row0 col0\" >1.000000</td>\n",
       "    </tr>\n",
       "    <tr>\n",
       "      <th id=\"T_c1ae2_level0_row1\" class=\"row_heading level0 row1\" >CVDINFR4</th>\n",
       "      <td id=\"T_c1ae2_row1_col0\" class=\"data row1 col0\" >0.628853</td>\n",
       "    </tr>\n",
       "    <tr>\n",
       "      <th id=\"T_c1ae2_level0_row2\" class=\"row_heading level0 row2\" >CVDCRHD4</th>\n",
       "      <td id=\"T_c1ae2_row2_col0\" class=\"data row2 col0\" >0.383577</td>\n",
       "    </tr>\n",
       "    <tr>\n",
       "      <th id=\"T_c1ae2_level0_row3\" class=\"row_heading level0 row3\" >CVDASPRN</th>\n",
       "      <td id=\"T_c1ae2_row3_col0\" class=\"data row3 col0\" >0.227222</td>\n",
       "    </tr>\n",
       "    <tr>\n",
       "      <th id=\"T_c1ae2_level0_row4\" class=\"row_heading level0 row4\" >LADULT</th>\n",
       "      <td id=\"T_c1ae2_row4_col0\" class=\"data row4 col0\" >0.213561</td>\n",
       "    </tr>\n",
       "    <tr>\n",
       "      <th id=\"T_c1ae2_level0_row5\" class=\"row_heading level0 row5\" >BPHIGH4</th>\n",
       "      <td id=\"T_c1ae2_row5_col0\" class=\"data row5 col0\" >0.205225</td>\n",
       "    </tr>\n",
       "    <tr>\n",
       "      <th id=\"T_c1ae2_level0_row6\" class=\"row_heading level0 row6\" >_DRDXAR1</th>\n",
       "      <td id=\"T_c1ae2_row6_col0\" class=\"data row6 col0\" >0.169966</td>\n",
       "    </tr>\n",
       "    <tr>\n",
       "      <th id=\"T_c1ae2_level0_row7\" class=\"row_heading level0 row7\" >DIABETE3</th>\n",
       "      <td id=\"T_c1ae2_row7_col0\" class=\"data row7 col0\" >0.161836</td>\n",
       "    </tr>\n",
       "    <tr>\n",
       "      <th id=\"T_c1ae2_level0_row8\" class=\"row_heading level0 row8\" >DRADVISE</th>\n",
       "      <td id=\"T_c1ae2_row8_col0\" class=\"data row8 col0\" >0.149139</td>\n",
       "    </tr>\n",
       "    <tr>\n",
       "      <th id=\"T_c1ae2_level0_row9\" class=\"row_heading level0 row9\" >USEEQUIP</th>\n",
       "      <td id=\"T_c1ae2_row9_col0\" class=\"data row9 col0\" >0.135539</td>\n",
       "    </tr>\n",
       "    <tr>\n",
       "      <th id=\"T_c1ae2_level0_row10\" class=\"row_heading level0 row10\" >DIFFWALK</th>\n",
       "      <td id=\"T_c1ae2_row10_col0\" class=\"data row10 col0\" >0.134928</td>\n",
       "    </tr>\n",
       "    <tr>\n",
       "      <th id=\"T_c1ae2_level0_row11\" class=\"row_heading level0 row11\" >ASERVIST</th>\n",
       "      <td id=\"T_c1ae2_row11_col0\" class=\"data row11 col0\" >0.127937</td>\n",
       "    </tr>\n",
       "    <tr>\n",
       "      <th id=\"T_c1ae2_level0_row12\" class=\"row_heading level0 row12\" >HAVARTH3</th>\n",
       "      <td id=\"T_c1ae2_row12_col0\" class=\"data row12 col0\" >0.122691</td>\n",
       "    </tr>\n",
       "    <tr>\n",
       "      <th id=\"T_c1ae2_level0_row13\" class=\"row_heading level0 row13\" >QLACTLM2</th>\n",
       "      <td id=\"T_c1ae2_row13_col0\" class=\"data row13 col0\" >0.116613</td>\n",
       "    </tr>\n",
       "    <tr>\n",
       "      <th id=\"T_c1ae2_level0_row14\" class=\"row_heading level0 row14\" >TOLDHI2</th>\n",
       "      <td id=\"T_c1ae2_row14_col0\" class=\"data row14 col0\" >0.115541</td>\n",
       "    </tr>\n",
       "    <tr>\n",
       "      <th id=\"T_c1ae2_level0_row15\" class=\"row_heading level0 row15\" >CDASSIST</th>\n",
       "      <td id=\"T_c1ae2_row15_col0\" class=\"data row15 col0\" >0.114933</td>\n",
       "    </tr>\n",
       "    <tr>\n",
       "      <th id=\"T_c1ae2_level0_row16\" class=\"row_heading level0 row16\" >ASPUNSAF</th>\n",
       "      <td id=\"T_c1ae2_row16_col0\" class=\"data row16 col0\" >0.111376</td>\n",
       "    </tr>\n",
       "    <tr>\n",
       "      <th id=\"T_c1ae2_level0_row17\" class=\"row_heading level0 row17\" >PNEUVAC3</th>\n",
       "      <td id=\"T_c1ae2_row17_col0\" class=\"data row17 col0\" >0.102862</td>\n",
       "    </tr>\n",
       "    <tr>\n",
       "      <th id=\"T_c1ae2_level0_row18\" class=\"row_heading level0 row18\" >CVDSTRK3</th>\n",
       "      <td id=\"T_c1ae2_row18_col0\" class=\"data row18 col0\" >0.101249</td>\n",
       "    </tr>\n",
       "    <tr>\n",
       "      <th id=\"T_c1ae2_level0_row19\" class=\"row_heading level0 row19\" >VICTRCT4</th>\n",
       "      <td id=\"T_c1ae2_row19_col0\" class=\"data row19 col0\" >0.099310</td>\n",
       "    </tr>\n",
       "    <tr>\n",
       "      <th id=\"T_c1ae2_level0_row20\" class=\"row_heading level0 row20\" >CDHOUSE</th>\n",
       "      <td id=\"T_c1ae2_row20_col0\" class=\"data row20 col0\" >0.097491</td>\n",
       "    </tr>\n",
       "    <tr>\n",
       "      <th id=\"T_c1ae2_level0_row21\" class=\"row_heading level0 row21\" >PHYSHLTH</th>\n",
       "      <td id=\"T_c1ae2_row21_col0\" class=\"data row21 col0\" >0.097020</td>\n",
       "    </tr>\n",
       "    <tr>\n",
       "      <th id=\"T_c1ae2_level0_row22\" class=\"row_heading level0 row22\" >ADMOVE</th>\n",
       "      <td id=\"T_c1ae2_row22_col0\" class=\"data row22 col0\" >0.095792</td>\n",
       "    </tr>\n",
       "    <tr>\n",
       "      <th id=\"T_c1ae2_level0_row23\" class=\"row_heading level0 row23\" >_CHLDCNT</th>\n",
       "      <td id=\"T_c1ae2_row23_col0\" class=\"data row23 col0\" >0.094976</td>\n",
       "    </tr>\n",
       "    <tr>\n",
       "      <th id=\"T_c1ae2_level0_row24\" class=\"row_heading level0 row24\" >INSULIN</th>\n",
       "      <td id=\"T_c1ae2_row24_col0\" class=\"data row24 col0\" >0.092849</td>\n",
       "    </tr>\n",
       "    <tr>\n",
       "      <th id=\"T_c1ae2_level0_row25\" class=\"row_heading level0 row25\" >ARTHSOCL</th>\n",
       "      <td id=\"T_c1ae2_row25_col0\" class=\"data row25 col0\" >0.091247</td>\n",
       "    </tr>\n",
       "    <tr>\n",
       "      <th id=\"T_c1ae2_level0_row26\" class=\"row_heading level0 row26\" >VETERAN3</th>\n",
       "      <td id=\"T_c1ae2_row26_col0\" class=\"data row26 col0\" >0.091108</td>\n",
       "    </tr>\n",
       "    <tr>\n",
       "      <th id=\"T_c1ae2_level0_row27\" class=\"row_heading level0 row27\" >_LMTSCL1</th>\n",
       "      <td id=\"T_c1ae2_row27_col0\" class=\"data row27 col0\" >0.088946</td>\n",
       "    </tr>\n",
       "    <tr>\n",
       "      <th id=\"T_c1ae2_level0_row28\" class=\"row_heading level0 row28\" >ASINHALR</th>\n",
       "      <td id=\"T_c1ae2_row28_col0\" class=\"data row28 col0\" >0.087304</td>\n",
       "    </tr>\n",
       "    <tr>\n",
       "      <th id=\"T_c1ae2_level0_row29\" class=\"row_heading level0 row29\" >CHCCOPD1</th>\n",
       "      <td id=\"T_c1ae2_row29_col0\" class=\"data row29 col0\" >0.086943</td>\n",
       "    </tr>\n",
       "  </tbody>\n",
       "</table>\n"
      ],
      "text/plain": [
       "<pandas.io.formats.style.Styler at 0x7f93c1d8c340>"
      ]
     },
     "execution_count": 183,
     "metadata": {},
     "output_type": "execute_result"
    }
   ],
   "source": [
    "# Compute correlation of all features with the target feature '_MICHD'\n",
    "corr_all = data_df.corr()['_MICHD']\n",
    "\n",
    "# Sort the correlations in descending order\n",
    "corr_all_sorted = corr_all.sort_values(ascending=False)\n",
    "\n",
    "# Display the top 30 features most positively correlated with '_MICHD'\n",
    "top_30_features = corr_all_sorted.head(30)\n",
    "\n",
    "# Convert the series to a DataFrame\n",
    "top_30_features_df = pd.DataFrame(top_30_features)\n",
    "\n",
    "# Rename the column for clarity\n",
    "top_30_features_df.columns = ['Correlation with _MICHD']\n",
    "\n",
    "# Apply a color gradient to the DataFrame based on correlation values\n",
    "top_30_features_df.style.background_gradient(cmap='coolwarm')"
   ]
  },
  {
   "cell_type": "markdown",
   "id": "6527a986-5a27-4110-ade2-24b3b87c73c6",
   "metadata": {},
   "source": [
    "Here, we wanted to have a look at the top 30 of highest correlated features to the target column. We can see that CVDINFR4 (Did you ever have a heart attack?) has the highest correlation with around 0.63 to our target variable. Then, the second highest correlation shows CVDCRHD4 (Ever told) you had angina or coronary heart disease?) with 0.38. The third best feature (Do you take aspirin daily or every other day?) has then a correlation of 0.23. It is interesting that the first two best related features all had something to do with heart diseases and the third one seems to be rather general. After that the next best correlated featues all show values between 0.16 and 0.08.\n",
    "However, we decided to not incldue these values as we want to find out, which other variables besides the obvious reasons that are either caused by a heart disease or lead to a heart disease."
   ]
  },
  {
   "cell_type": "markdown",
   "id": "06415edd",
   "metadata": {},
   "source": [
    "## Selection of the relevant columns\n",
    "\n",
    "From the 330 variables in the survey, we chose 26 features in the end because most of the 330 variables are not relevant to our main goal (e.g. information about the cell phone, state, number of orange-colored fruits eaten).\n",
    "Research regarding heart disease has identified different important risk factors. We chose these from the dataset and also those where we have thought, there could be a correlation between those values.\n",
    "\n",
    "**Target Value**\n",
    "- **_MICHD:** having coronary heart disease (CHD) or myocardial infarction (MI); 1: yes, 2: no --> this is our target value\n",
    "\n",
    "**Specific Illnesses**\n",
    "- **_RFHYPE5:** Adults who have been told they have high blood pressure by a doctor, nurse, or other health professional; 1: no, 2: yes\n",
    "- **BPHIGH4:** Have you EVER been told by a doctor, nurse or other health professional that you have high blood pressure? (If \"Yes\" and respondent is female, ask \"Was this only when you were pregnant?\".); 1: yes, 2: yes, but female only told high during pregnancy, 3: no, 4: told borderline high or pre-hypertensive, 7: dont know, 9: refused\n",
    "- **CVDSTRK3:** (Ever told) you had a stroke.; 1: yes, 2: no, 7: dont know, 9: refused\n",
    "- **TOLDHI2:** Have you EVER been told by a doctor, nurse or other health professional that your blood cholesterol is high?; 1: yes, 2: no, 7: dont know, 9: refused\n",
    "- **_CHOLCHK:** Cholesterol check within past five years; 1: Had cholesterol checked in past 5 years; 2: Did not have cholesterol checked in past 5 years, 3: never had cholesterol checked, 9: dont know/refused\n",
    "- **DIABETE3:** (Ever told) you have diabetes (If \"Yes\" and respondent is female, ask \"Was this only when you were pregnant?\". If Respondent says pre-diabetes or borderline diabetes, use response code 4.); 1: yes, 2: Yes, but female only told during pregnancy, 3: no, 4: no, pre-diabetes or borderline-diabetes, 7: dont know, 9: refused\n",
    "- **BPMEDS:** Are you currently taking medicine for your high blood pressure?; 1: yes, 2: no, 7: dont know, 9: refused\n",
    "- **FLUSHOT6:** During the past 12 months, have you had either a flu shot or a flu vaccine that was sprayed in your nose? (A new flu shot came out in 2011 that injects vaccine into the skin with a very small needle. It is called Fluzone Intradermal vaccine. This is also considered a flu shot.); 1: yes, 2: no; 7: dont know, 9: refused\n",
    "- **CHCKIDNY:** (Ever told) you have kidney disease? Do NOT include kidney stones, bladder infection or incontinence.(Incontinence is not being able to control urine flow.); 1: yes, 2: no, 7: dont know, 9: refused\n",
    "\n",
    "\n",
    "**General Health Status**\n",
    "- **SMOKE100:** Have you smoked at least 100 cigarettes in your entire life?; 1: yes, 2: no, 7: dont know, 9: refused\n",
    "- **_BMI5:** Body Mass Index (BMI); WTKG3/(HTM4*HTM4)\n",
    "- **_TOTINDA:** Adults who reported doing physical activity or exercise during the past 30 days other than their regular job; 1: yes, 2: no, 9: dont know/refused\n",
    "- **_FRTLT1:** Consume Fruit 1 or more times per day; 1: yes, 2: no, 9: dont know/refused\n",
    "- **_VEGLT1:** Consume Vegetables 1 or more times per day; 1: yes, 2: no, 9: dont know\n",
    "- **_RFDRHV5:** Heavy drinkers (adult men having more than 14 drinks per week and adult women having more than 7 drinks per week); 1: no, 2: yes, 9: dont know/refused\n",
    "- **GENHLTH:** Would you say that in general your health is:; 1: excellent, 2: very good, 3: good, 4: fair, 5: poor, 7: dont know, 9: refused\n",
    "- **MENTHLTH:** Now thinking about your mental health, which includes stress, depression, and problems with emotions, for how many days during the past 30 days was your mental health not good?; nr. of days, 88: none, 77: dont know, 99: refused\n",
    "- **PHYSHLTH:** Now thinking about your physical health, which includes physical illness and injury, for how many days during the past 30 days was your physical health not good?; nr of days, 88: none, 77: dont know, 99: refused\n",
    "- **DIFFWALK:** Do you have serious difficulty walking or climbing stairs?; 1: yes, 2: no, 7: dont know, 9: refused\n",
    "- **SEX:** 1: male, 2: female\n",
    "\n",
    "**General Information**\n",
    "- **HLTHPLN1:** Do you have any kind of health care coverage, including health insurance, prepaid plans such as HMOs, or government plans such as Medicare, or Indian Health Service?; 1: yes, 2: no, 7: dont know, 9: refused\n",
    "- **MEDCOST:** Was there a time in the past 12 months when you needed to see a doctor but could not because of cost?; 1: yes, 2: no, 7: dont know, 9: refused\n",
    "- **_AGEG5YR:** Fourteen-level age category; 1: 18-24, 2: 25-29, 3: 30-34, 4: 35-39, ..., 13: 80 or older, 14: refused\n",
    "- **EDUCA:** What is the highest grade or year of school you completed?; 1: never attended school or only kindergarden, 2: Grades 1 through 8 (Elementary), 3: Grades 9 through 11 (Some high school), 4: Grade 12 or GED (High school graduate), 5: College 1 year to 3 years (Some college or technical school), 6: College 4 years or more (College graduate), 9: refused\n",
    "- **INCOME2:** Is your annual household income from all sources:; 1: Less than $10,000, 2: Less than $15,000 ($10,000 to less than $15,000), 3: Less than $20,000 ($15,000 to less than $20,000), 4: Less than $25,000 ($20,000 to less than $25,000), 5: Less than $35,000 ($25,000 to less than $35,000), 6: Less than $50,000 ($35,000 to less than $50,000), 7: Less than $75,000 ($50,000 to less than $75,000), 8: $75,000 or more, 77: dont know, 99: refused\n",
    "- **EMPLOY1:** Are you currently...?; 1: Employed for wages, 2: Self-employed, 3: Out of work for 1 year or more, 4: Out of work for less than 1 year, 5: A homemaker, 6: A student, 7: Retired , 8: Unable to work, 9: refused\n",
    "\n",
    "\n"
   ]
  },
  {
   "cell_type": "code",
   "execution_count": 184,
   "id": "edf8145f-620e-48db-8deb-fba9eae70ed4",
   "metadata": {},
   "outputs": [],
   "source": [
    "# select specific columns\n",
    "data_df_selected = data_df[['_MICHD', \n",
    "                                         '_RFHYPE5',  \n",
    "                                         'TOLDHI2', '_CHOLCHK', \n",
    "                                         '_BMI5', \n",
    "                                         'SMOKE100', \n",
    "                                         'CVDSTRK3', 'DIABETE3', \n",
    "                                         '_TOTINDA', \n",
    "                                         '_FRTLT1', '_VEGLT1', \n",
    "                                         '_RFDRHV5', \n",
    "                                         'HLTHPLN1', 'MEDCOST', \n",
    "                                         'GENHLTH', 'MENTHLTH', 'PHYSHLTH', 'DIFFWALK', \n",
    "                                         'SEX', '_AGEG5YR', 'EDUCA', 'INCOME2', 'EMPLOY1', \n",
    "                                         'FLUSHOT6', 'CHCKIDNY', 'BPMEDS'\n",
    "                           ]]"
   ]
  },
  {
   "cell_type": "code",
   "execution_count": 185,
   "id": "064a2cfb-e2d4-43ec-9442-aad685e4e2b4",
   "metadata": {},
   "outputs": [
    {
     "data": {
      "text/html": [
       "<div>\n",
       "<style scoped>\n",
       "    .dataframe tbody tr th:only-of-type {\n",
       "        vertical-align: middle;\n",
       "    }\n",
       "\n",
       "    .dataframe tbody tr th {\n",
       "        vertical-align: top;\n",
       "    }\n",
       "\n",
       "    .dataframe thead th {\n",
       "        text-align: right;\n",
       "    }\n",
       "</style>\n",
       "<table border=\"1\" class=\"dataframe\">\n",
       "  <thead>\n",
       "    <tr style=\"text-align: right;\">\n",
       "      <th></th>\n",
       "      <th>_MICHD</th>\n",
       "      <th>_RFHYPE5</th>\n",
       "      <th>TOLDHI2</th>\n",
       "      <th>_CHOLCHK</th>\n",
       "      <th>_BMI5</th>\n",
       "      <th>SMOKE100</th>\n",
       "      <th>CVDSTRK3</th>\n",
       "      <th>DIABETE3</th>\n",
       "      <th>_TOTINDA</th>\n",
       "      <th>_FRTLT1</th>\n",
       "      <th>...</th>\n",
       "      <th>PHYSHLTH</th>\n",
       "      <th>DIFFWALK</th>\n",
       "      <th>SEX</th>\n",
       "      <th>_AGEG5YR</th>\n",
       "      <th>EDUCA</th>\n",
       "      <th>INCOME2</th>\n",
       "      <th>EMPLOY1</th>\n",
       "      <th>FLUSHOT6</th>\n",
       "      <th>CHCKIDNY</th>\n",
       "      <th>BPMEDS</th>\n",
       "    </tr>\n",
       "  </thead>\n",
       "  <tbody>\n",
       "    <tr>\n",
       "      <th>0</th>\n",
       "      <td>2.0</td>\n",
       "      <td>2.0</td>\n",
       "      <td>1.0</td>\n",
       "      <td>1.0</td>\n",
       "      <td>4018.0</td>\n",
       "      <td>1.0</td>\n",
       "      <td>2.0</td>\n",
       "      <td>3.0</td>\n",
       "      <td>2.0</td>\n",
       "      <td>2.0</td>\n",
       "      <td>...</td>\n",
       "      <td>15.0</td>\n",
       "      <td>1.0</td>\n",
       "      <td>2.0</td>\n",
       "      <td>9.0</td>\n",
       "      <td>4.0</td>\n",
       "      <td>3.0</td>\n",
       "      <td>8.0</td>\n",
       "      <td>1.0</td>\n",
       "      <td>2.0</td>\n",
       "      <td>1.0</td>\n",
       "    </tr>\n",
       "    <tr>\n",
       "      <th>1</th>\n",
       "      <td>2.0</td>\n",
       "      <td>1.0</td>\n",
       "      <td>2.0</td>\n",
       "      <td>2.0</td>\n",
       "      <td>2509.0</td>\n",
       "      <td>1.0</td>\n",
       "      <td>2.0</td>\n",
       "      <td>3.0</td>\n",
       "      <td>1.0</td>\n",
       "      <td>2.0</td>\n",
       "      <td>...</td>\n",
       "      <td>88.0</td>\n",
       "      <td>2.0</td>\n",
       "      <td>2.0</td>\n",
       "      <td>7.0</td>\n",
       "      <td>6.0</td>\n",
       "      <td>1.0</td>\n",
       "      <td>3.0</td>\n",
       "      <td>2.0</td>\n",
       "      <td>2.0</td>\n",
       "      <td>NaN</td>\n",
       "    </tr>\n",
       "    <tr>\n",
       "      <th>2</th>\n",
       "      <td>NaN</td>\n",
       "      <td>1.0</td>\n",
       "      <td>1.0</td>\n",
       "      <td>1.0</td>\n",
       "      <td>2204.0</td>\n",
       "      <td>NaN</td>\n",
       "      <td>1.0</td>\n",
       "      <td>3.0</td>\n",
       "      <td>9.0</td>\n",
       "      <td>9.0</td>\n",
       "      <td>...</td>\n",
       "      <td>15.0</td>\n",
       "      <td>NaN</td>\n",
       "      <td>2.0</td>\n",
       "      <td>11.0</td>\n",
       "      <td>4.0</td>\n",
       "      <td>99.0</td>\n",
       "      <td>7.0</td>\n",
       "      <td>NaN</td>\n",
       "      <td>2.0</td>\n",
       "      <td>NaN</td>\n",
       "    </tr>\n",
       "    <tr>\n",
       "      <th>3</th>\n",
       "      <td>2.0</td>\n",
       "      <td>2.0</td>\n",
       "      <td>1.0</td>\n",
       "      <td>1.0</td>\n",
       "      <td>2819.0</td>\n",
       "      <td>2.0</td>\n",
       "      <td>2.0</td>\n",
       "      <td>3.0</td>\n",
       "      <td>2.0</td>\n",
       "      <td>1.0</td>\n",
       "      <td>...</td>\n",
       "      <td>30.0</td>\n",
       "      <td>1.0</td>\n",
       "      <td>2.0</td>\n",
       "      <td>9.0</td>\n",
       "      <td>4.0</td>\n",
       "      <td>8.0</td>\n",
       "      <td>8.0</td>\n",
       "      <td>1.0</td>\n",
       "      <td>2.0</td>\n",
       "      <td>1.0</td>\n",
       "    </tr>\n",
       "    <tr>\n",
       "      <th>4</th>\n",
       "      <td>2.0</td>\n",
       "      <td>1.0</td>\n",
       "      <td>2.0</td>\n",
       "      <td>1.0</td>\n",
       "      <td>2437.0</td>\n",
       "      <td>2.0</td>\n",
       "      <td>2.0</td>\n",
       "      <td>3.0</td>\n",
       "      <td>2.0</td>\n",
       "      <td>9.0</td>\n",
       "      <td>...</td>\n",
       "      <td>20.0</td>\n",
       "      <td>2.0</td>\n",
       "      <td>2.0</td>\n",
       "      <td>9.0</td>\n",
       "      <td>5.0</td>\n",
       "      <td>77.0</td>\n",
       "      <td>8.0</td>\n",
       "      <td>2.0</td>\n",
       "      <td>2.0</td>\n",
       "      <td>NaN</td>\n",
       "    </tr>\n",
       "  </tbody>\n",
       "</table>\n",
       "<p>5 rows × 26 columns</p>\n",
       "</div>"
      ],
      "text/plain": [
       "   _MICHD  _RFHYPE5  TOLDHI2  _CHOLCHK   _BMI5  SMOKE100  CVDSTRK3  DIABETE3  \\\n",
       "0     2.0       2.0      1.0       1.0  4018.0       1.0       2.0       3.0   \n",
       "1     2.0       1.0      2.0       2.0  2509.0       1.0       2.0       3.0   \n",
       "2     NaN       1.0      1.0       1.0  2204.0       NaN       1.0       3.0   \n",
       "3     2.0       2.0      1.0       1.0  2819.0       2.0       2.0       3.0   \n",
       "4     2.0       1.0      2.0       1.0  2437.0       2.0       2.0       3.0   \n",
       "\n",
       "   _TOTINDA  _FRTLT1  ...  PHYSHLTH  DIFFWALK  SEX  _AGEG5YR  EDUCA  INCOME2  \\\n",
       "0       2.0      2.0  ...      15.0       1.0  2.0       9.0    4.0      3.0   \n",
       "1       1.0      2.0  ...      88.0       2.0  2.0       7.0    6.0      1.0   \n",
       "2       9.0      9.0  ...      15.0       NaN  2.0      11.0    4.0     99.0   \n",
       "3       2.0      1.0  ...      30.0       1.0  2.0       9.0    4.0      8.0   \n",
       "4       2.0      9.0  ...      20.0       2.0  2.0       9.0    5.0     77.0   \n",
       "\n",
       "   EMPLOY1  FLUSHOT6  CHCKIDNY  BPMEDS  \n",
       "0      8.0       1.0       2.0     1.0  \n",
       "1      3.0       2.0       2.0     NaN  \n",
       "2      7.0       NaN       2.0     NaN  \n",
       "3      8.0       1.0       2.0     1.0  \n",
       "4      8.0       2.0       2.0     NaN  \n",
       "\n",
       "[5 rows x 26 columns]"
      ]
     },
     "execution_count": 185,
     "metadata": {},
     "output_type": "execute_result"
    }
   ],
   "source": [
    "data_df_selected.head()"
   ]
  },
  {
   "cell_type": "markdown",
   "id": "7dc99e21-46eb-454a-a865-ac0281ba4a5a",
   "metadata": {},
   "source": [
    "As mentioned before we now need to work on the missing values for our selected columns. Although we have considered them when choosing the columns, we need to have a more detailed look now."
   ]
  },
  {
   "cell_type": "code",
   "execution_count": 186,
   "id": "30c95753-c4f6-4a31-84e6-5293c0caf3b1",
   "metadata": {},
   "outputs": [
    {
     "data": {
      "text/plain": [
       "<AxesSubplot:>"
      ]
     },
     "execution_count": 186,
     "metadata": {},
     "output_type": "execute_result"
    },
    {
     "data": {
      "image/png": "[encoded data removed]",
      "text/plain": [
       "<Figure size 432x288 with 1 Axes>"
      ]
     },
     "metadata": {
      "needs_background": "light"
     },
     "output_type": "display_data"
    }
   ],
   "source": [
    "# explore the missing values\n",
    "missing_values = data_df_selected.isna().sum()\n",
    "missing_values\n",
    "sns.heatmap(data_df_selected.isnull(),cbar=False,cmap='viridis')"
   ]
  },
  {
   "cell_type": "markdown",
   "id": "74fe5eaa-eea9-45fe-a833-8f0a3d1e1335",
   "metadata": {},
   "source": [
    "## Handling missing data\n",
    "\n",
    "In the heatmap it can be seen that we have in some columns a lot of missing data entries. Especially the BPMEDS (taking medicine against high blood pressure), TOLDHI2 (High blood cholesterol), _BMI5 (BMI), and the FLUSHOT6 (have received flu shot) columns have a lot of missing values.\n",
    "We have thought about the following strategies to deal with the missing values:\n",
    "\n",
    "- **Delete rows or columns:** This is the simplest approach, where you simply remove any rows or columns that contain missing values. However, this approach can lead to loss of valuable information, especially if a large proportion of the data is missing.\n",
    "- **Imputation:** This approach involves filling in the missing values with estimated values. One common method is mean imputation, where the missing values are replaced with the mean value of the feature. Another method is median imputation, where the missing values are replaced with the median value of the feature. There are also more advanced imputation techniques, such as k-nearest neighbors (KNN) imputation and regression imputation, which take into account the relationships between different features.\n",
    "- **Model-based imputation:** This approach involves building a predictive model to estimate the missing values based on the values of other features in the dataset. This can be more accurate than simple imputation methods, but requires more computational resources.\n",
    "- **Flagging:** This approach involves adding a new binary feature that indicates whether a value is missing or not. This can be useful if the missing values are informative in themselves.\n",
    "- **Domain knowledge:** In some cases, missing values can be explained by the nature of the problem or the data collection process. In these cases, domain knowledge can be used to impute or flag missing values in a more meaningful way.\n",
    "\n",
    "As these values are mostly binary values (either yes or no) it is challenging to replace missing values with estimated values. Furthermore, the missing values do not have any meaning the reason is just that the questions were probably not asked in a certain state. However, the amount of missing values is a lot and because it is just caused by very few columns, that not even have a high correlation with the target variable, we decided to delete the whole columns. "
   ]
  },
  {
   "cell_type": "code",
   "execution_count": 187,
   "id": "760b6cae-d8a3-4dd3-b604-80f0b0aec6fa",
   "metadata": {},
   "outputs": [
    {
     "name": "stdout",
     "output_type": "stream",
     "text": [
      "(441456, 26) (324165, 25)\n",
      "Sum of removed columns with empty values:  117291\n"
     ]
    }
   ],
   "source": [
    "# drop missing values\n",
    "entries_total = data_df_selected.shape\n",
    "data_df_selected = data_df_selected.drop(columns=['BPMEDS'])\n",
    "data_df_selected = data_df_selected.dropna()\n",
    "entries_after_drop = data_df_selected.shape\n",
    "print(entries_total, entries_after_drop)\n",
    "print(\"Sum of removed columns with empty values: \", entries_total[0] - entries_after_drop[0])"
   ]
  },
  {
   "cell_type": "code",
   "execution_count": 188,
   "id": "f2194eca-4f18-4113-b5de-06537b1a8745",
   "metadata": {},
   "outputs": [],
   "source": [
    "# Rename the columns to make them more readable\n",
    "data_df_selected = data_df_selected.rename(columns = {'_MICHD':'HeartDiseaseorAttack', \n",
    "                                         '_RFHYPE5':'HighBP',  \n",
    "                                         'TOLDHI2':'HighChol', '_CHOLCHK':'CholCheck', \n",
    "                                         '_BMI5':'BMI', \n",
    "                                         'SMOKE100':'Smoker', \n",
    "                                         'CVDSTRK3':'Stroke', 'DIABETE3':'Diabetes', \n",
    "                                         '_TOTINDA':'PhysActivity', \n",
    "                                         '_FRTLT1':'Fruits', '_VEGLT1':\"Vegetables\", \n",
    "                                         '_RFDRHV5':'HvyAlcoholConsump', \n",
    "                                         'HLTHPLN1':'AnyHealthcare', 'MEDCOST':'NoDocbcCost', \n",
    "                                         'GENHLTH':'GenHlth', 'MENTHLTH':'MentHlth', 'PHYSHLTH':'PhysHlth', 'DIFFWALK':'DiffWalk', \n",
    "                                         'SEX':'Sex', '_AGEG5YR':'Age', 'EDUCA':'Education', 'INCOME2':'Income',\n",
    "                                         'EMPLOY1':'Employment',\n",
    "                                         'FLUSHOT6':'FluShot', 'CHCKIDNY':'KidneyDisease'})"
   ]
  },
  {
   "cell_type": "markdown",
   "id": "ac900d88",
   "metadata": {},
   "source": [
    "### Process dataset for model application"
   ]
  },
  {
   "cell_type": "markdown",
   "id": "d57ac709-f1b9-412d-82cb-c84f9e754703",
   "metadata": {},
   "source": [
    "Before starting to work with the dataset, we will need to preprocess most columns. First, we needed to transform the values of the \"binary\" columns. With binary columns we mean columns where the answers are e.g. 1 and 2 yes and no and 7 means \"I don't know\" and 9 means \"Refuse to answer\" in the survey. Thus, it was necessary to delete data entries that contain a 7 or a 9. Furthermore, we changed no values to 0 and the yes values to 1. \n",
    "\n",
    "- There were a lot of columns where we needed to delete the 7 and 9 data entries and change 2 to 0 data entries. Therefore, we wrote a function that helps us doing that\n",
    "- The rest where we needed to change different things we did it manually as it was the most efficient way in our opinion"
   ]
  },
  {
   "cell_type": "code",
   "execution_count": 189,
   "id": "8bdd64d1-5a86-4394-a1b5-51ef2809c2d5",
   "metadata": {},
   "outputs": [
    {
     "data": {
      "text/plain": [
       "Index(['HeartDiseaseorAttack', 'HighBP', 'HighChol', 'CholCheck', 'BMI',\n",
       "       'Smoker', 'Stroke', 'Diabetes', 'PhysActivity', 'Fruits', 'Vegetables',\n",
       "       'HvyAlcoholConsump', 'AnyHealthcare', 'NoDocbcCost', 'GenHlth',\n",
       "       'MentHlth', 'PhysHlth', 'DiffWalk', 'Sex', 'Age', 'Education', 'Income',\n",
       "       'Employment', 'FluShot', 'KidneyDisease'],\n",
       "      dtype='object')"
      ]
     },
     "execution_count": 189,
     "metadata": {},
     "output_type": "execute_result"
    }
   ],
   "source": [
    "data_df_selected.columns"
   ]
  },
  {
   "cell_type": "code",
   "execution_count": 190,
   "id": "e90f5401-ce3e-4394-b695-156980ae08f5",
   "metadata": {},
   "outputs": [
    {
     "name": "stdout",
     "output_type": "stream",
     "text": [
      "The unique values for column HeartDiseaseorAttack are:  [0. 1.]\n"
     ]
    },
    {
     "data": {
      "image/png": "[encoded data removed]",
      "text/plain": [
       "<Figure size 432x288 with 1 Axes>"
      ]
     },
     "metadata": {
      "needs_background": "light"
     },
     "output_type": "display_data"
    },
    {
     "name": "stdout",
     "output_type": "stream",
     "text": [
      "The unique values for column HighChol are:  [1. 0.]\n"
     ]
    },
    {
     "data": {
      "image/png": "[encoded data removed]",
      "text/plain": [
       "<Figure size 432x288 with 1 Axes>"
      ]
     },
     "metadata": {
      "needs_background": "light"
     },
     "output_type": "display_data"
    },
    {
     "name": "stdout",
     "output_type": "stream",
     "text": [
      "The unique values for column Smoker are:  [1. 0.]\n"
     ]
    },
    {
     "data": {
      "image/png": "[encoded data removed]",
      "text/plain": [
       "<Figure size 432x288 with 1 Axes>"
      ]
     },
     "metadata": {
      "needs_background": "light"
     },
     "output_type": "display_data"
    },
    {
     "name": "stdout",
     "output_type": "stream",
     "text": [
      "The unique values for column Stroke are:  [0. 1.]\n"
     ]
    },
    {
     "data": {
      "image/png": "[encoded data removed]",
      "text/plain": [
       "<Figure size 432x288 with 1 Axes>"
      ]
     },
     "metadata": {
      "needs_background": "light"
     },
     "output_type": "display_data"
    },
    {
     "name": "stdout",
     "output_type": "stream",
     "text": [
      "The unique values for column PhysActivity are:  [0. 1.]\n"
     ]
    },
    {
     "data": {
      "image/png": "[encoded data removed]",
      "text/plain": [
       "<Figure size 432x288 with 1 Axes>"
      ]
     },
     "metadata": {
      "needs_background": "light"
     },
     "output_type": "display_data"
    },
    {
     "name": "stdout",
     "output_type": "stream",
     "text": [
      "The unique values for column Fruits are:  [0. 1.]\n"
     ]
    },
    {
     "data": {
      "image/png": "[encoded data removed]",
      "text/plain": [
       "<Figure size 432x288 with 1 Axes>"
      ]
     },
     "metadata": {
      "needs_background": "light"
     },
     "output_type": "display_data"
    },
    {
     "name": "stdout",
     "output_type": "stream",
     "text": [
      "The unique values for column Vegetables are:  [1. 0.]\n"
     ]
    },
    {
     "data": {
      "image/png": "[encoded data removed]",
      "text/plain": [
       "<Figure size 432x288 with 1 Axes>"
      ]
     },
     "metadata": {
      "needs_background": "light"
     },
     "output_type": "display_data"
    },
    {
     "name": "stdout",
     "output_type": "stream",
     "text": [
      "The unique values for column AnyHealthcare are:  [1. 0.]\n"
     ]
    },
    {
     "data": {
      "image/png": "[encoded data removed]",
      "text/plain": [
       "<Figure size 432x288 with 1 Axes>"
      ]
     },
     "metadata": {
      "needs_background": "light"
     },
     "output_type": "display_data"
    },
    {
     "name": "stdout",
     "output_type": "stream",
     "text": [
      "The unique values for column NoDocbcCost are:  [0. 1.]\n"
     ]
    },
    {
     "data": {
      "image/png": "[encoded data removed]",
      "text/plain": [
       "<Figure size 432x288 with 1 Axes>"
      ]
     },
     "metadata": {
      "needs_background": "light"
     },
     "output_type": "display_data"
    },
    {
     "name": "stdout",
     "output_type": "stream",
     "text": [
      "The unique values for column DiffWalk are:  [1. 0.]\n"
     ]
    },
    {
     "data": {
      "image/png": "[encoded data removed]",
      "text/plain": [
       "<Figure size 432x288 with 1 Axes>"
      ]
     },
     "metadata": {
      "needs_background": "light"
     },
     "output_type": "display_data"
    },
    {
     "name": "stdout",
     "output_type": "stream",
     "text": [
      "The unique values for column Sex are:  [0. 1.]\n"
     ]
    },
    {
     "data": {
      "image/png": "[encoded data removed]",
      "text/plain": [
       "<Figure size 432x288 with 1 Axes>"
      ]
     },
     "metadata": {
      "needs_background": "light"
     },
     "output_type": "display_data"
    },
    {
     "name": "stdout",
     "output_type": "stream",
     "text": [
      "The unique values for column FluShot are:  [1. 0.]\n"
     ]
    },
    {
     "data": {
      "image/png": "[encoded data removed]",
      "text/plain": [
       "<Figure size 432x288 with 1 Axes>"
      ]
     },
     "metadata": {
      "needs_background": "light"
     },
     "output_type": "display_data"
    },
    {
     "name": "stdout",
     "output_type": "stream",
     "text": [
      "The unique values for column KidneyDisease are:  [0. 1.]\n"
     ]
    },
    {
     "data": {
      "image/png": "[encoded data removed]",
      "text/plain": [
       "<Figure size 432x288 with 1 Axes>"
      ]
     },
     "metadata": {
      "needs_background": "light"
     },
     "output_type": "display_data"
    }
   ],
   "source": [
    "change_2_to_0 = ['HeartDiseaseorAttack', 'HighChol', 'Smoker', 'Stroke', 'PhysActivity', 'Fruits', 'Vegetables', 'AnyHealthcare', 'NoDocbcCost',\n",
    "                     'DiffWalk', 'Sex', 'FluShot', 'KidneyDisease']\n",
    "def preprocessing(df, list_a):\n",
    "    # for the columns where a value of 2 is corresponding to 'no' change them to 0\n",
    "    # delete 7 and 9 columns that represent 'I dont know' and 'Refused to answer' answers\n",
    "    for x in list_a:\n",
    "        # remove 7 and 9 entries and change the 2 entries to 0\n",
    "        df = df[df[x] != 7]\n",
    "        df = df[df[x] != 9]\n",
    "        df[x] = df[x].replace({2: 0})\n",
    "        print(f'The unique values for column {x} are: ', df[x].unique())\n",
    "        \n",
    "        # count the number of entries with and without heart disease\n",
    "        with_disease_counts = df[df['HeartDiseaseorAttack'] == 1][x].value_counts()\n",
    "        without_disease_counts = df[df['HeartDiseaseorAttack'] == 0][x].value_counts()\n",
    "        num_with_disease = with_disease_counts.loc[1] if 1 in with_disease_counts.index else 0\n",
    "        num_without_disease = without_disease_counts.loc[1] if 1 in without_disease_counts.index else 0\n",
    "        \n",
    "        # create a bar plot with heart disease counts\n",
    "        sns.countplot(x=x, hue='HeartDiseaseorAttack', data=df, palette='coolwarm')\n",
    "        \n",
    "        # show the counts in the legend\n",
    "        plt.legend(title='Heart Disease', labels=['Without', 'With'])\n",
    "        plt.show()\n",
    "    return df\n",
    "        \n",
    "data_df_selected = preprocessing(data_df_selected, change_2_to_0)"
   ]
  },
  {
   "cell_type": "code",
   "execution_count": 191,
   "id": "950f083e",
   "metadata": {},
   "outputs": [
    {
     "name": "stdout",
     "output_type": "stream",
     "text": [
      "[1. 0.]\n"
     ]
    },
    {
     "data": {
      "image/png": "[encoded data removed]",
      "text/plain": [
       "<Figure size 432x288 with 1 Axes>"
      ]
     },
     "metadata": {
      "needs_background": "light"
     },
     "output_type": "display_data"
    }
   ],
   "source": [
    "#1 HighBP\n",
    "#Change 1 to 0 so it represents No high blood pressure and 2 to 1 so it represents high blood pressure\n",
    "data_df_selected['HighBP'] = data_df_selected['HighBP'].replace({1:0, 2:1})\n",
    "data_df_selected = data_df_selected[data_df_selected.HighBP != 9]\n",
    "print(data_df_selected.HighBP.unique())\n",
    "\n",
    "\n",
    "# count the number of entries with and without heart disease\n",
    "with_disease_counts = data_df_selected[data_df_selected['HeartDiseaseorAttack'] == 1]['HighBP'].value_counts()\n",
    "without_disease_counts = data_df_selected[data_df_selected['HeartDiseaseorAttack'] == 0]['HighBP'].value_counts()\n",
    "num_with_disease = with_disease_counts.loc[1] if 1 in with_disease_counts.index else 0\n",
    "num_without_disease = without_disease_counts.loc[1] if 1 in without_disease_counts.index else 0\n",
    "# create a bar plot with heart disease counts\n",
    "sns.countplot(x='HighBP', hue='HeartDiseaseorAttack', data=data_df_selected, palette='coolwarm')\n",
    "# show the counts in the legend\n",
    "plt.legend(title='Heart Disease', labels=['Without', 'With'])\n",
    "plt.title(\"Distribution of HighBP values\")\n",
    "plt.show()"
   ]
  },
  {
   "cell_type": "code",
   "execution_count": 192,
   "id": "5aed8998",
   "metadata": {},
   "outputs": [
    {
     "data": {
      "image/png": "[encoded data removed]",
      "text/plain": [
       "<Figure size 432x288 with 1 Axes>"
      ]
     },
     "metadata": {
      "needs_background": "light"
     },
     "output_type": "display_data"
    }
   ],
   "source": [
    "#3 CholCheck\n",
    "# Change 3 to 0 and 2 to 0 for Not checked cholesterol in past 5 years\n",
    "# Remove 9\n",
    "data_df_selected['CholCheck'] = data_df_selected['CholCheck'].replace({3:0,2:0})\n",
    "data_df_selected = data_df_selected[data_df_selected.CholCheck != 9]\n",
    "data_df_selected.CholCheck.unique()\n",
    "\n",
    "# count the number of entries with and without heart disease\n",
    "with_disease_counts = data_df_selected[data_df_selected['HeartDiseaseorAttack'] == 1]['CholCheck'].value_counts()\n",
    "without_disease_counts = data_df_selected[data_df_selected['HeartDiseaseorAttack'] == 0]['CholCheck'].value_counts()\n",
    "num_with_disease = with_disease_counts.loc[1] if 1 in with_disease_counts.index else 0\n",
    "num_without_disease = without_disease_counts.loc[1] if 1 in without_disease_counts.index else 0\n",
    "# create a bar plot with heart disease counts\n",
    "sns.countplot(x='CholCheck', hue='HeartDiseaseorAttack', data=data_df_selected, palette='coolwarm')\n",
    "# show the counts in the legend\n",
    "plt.legend(title='Heart Disease', labels=['Without', 'With'])\n",
    "plt.title(\"Distribution of CholCheck values\")\n",
    "plt.show()"
   ]
  },
  {
   "cell_type": "code",
   "execution_count": 193,
   "id": "707b17cb",
   "metadata": {},
   "outputs": [
    {
     "name": "stdout",
     "output_type": "stream",
     "text": [
      "Unique values of BMI: [40. 25. 28. 27. 24. 30. 26. 34. 23. 33. 21. 22. 31. 38. 32. 37. 36. 19.\n",
      " 29. 20. 35. 45. 39. 47. 18. 43. 55. 49. 42. 17. 16. 41. 48. 44. 50. 59.\n",
      " 46. 15. 52. 54. 53. 57. 14. 51. 58. 63. 61. 56. 74. 62. 64. 66. 73. 65.\n",
      " 68. 85. 60. 67. 70. 82. 79. 92. 13. 72. 88. 96. 81. 12. 77. 71. 75. 69.\n",
      " 76. 87. 89. 84. 95. 83. 98. 91. 86. 80. 90. 78.]\n"
     ]
    },
    {
     "data": {
      "image/png": "[encoded data removed]",
      "text/plain": [
       "<Figure size 432x288 with 1 Axes>"
      ]
     },
     "metadata": {
      "needs_background": "light"
     },
     "output_type": "display_data"
    }
   ],
   "source": [
    "#4 BMI divde by 100 in order to get the correct measurements of the BMI\n",
    "data_df_selected['BMI'] = data_df_selected['BMI'].div(100).round(0)\n",
    "\n",
    "# Display the unique values of BMI\n",
    "print('Unique values of BMI:', data_df_selected['BMI'].unique())\n",
    "\n",
    "# plot the distribution of the values\n",
    "sns.histplot(data=data_df_selected, x='BMI')\n",
    "plt.title(\"Distribution of BMI values\")\n",
    "plt.show()"
   ]
  },
  {
   "cell_type": "markdown",
   "id": "7551fbef-cb7a-4f1d-841c-d0c22e9df1cc",
   "metadata": {},
   "source": [
    "Here, it becomes visible that obesity is one of the main problems in developed countries like the US. Most of the data entries are according to their BMI already overweight. "
   ]
  },
  {
   "cell_type": "code",
   "execution_count": 194,
   "id": "28153f2b",
   "metadata": {},
   "outputs": [
    {
     "name": "stdout",
     "output_type": "stream",
     "text": [
      "Unique values of Diabetes: [0. 2. 1.]\n"
     ]
    },
    {
     "data": {
      "image/png": "[encoded data removed]",
      "text/plain": [
       "<Figure size 432x288 with 1 Axes>"
      ]
     },
     "metadata": {
      "needs_background": "light"
     },
     "output_type": "display_data"
    }
   ],
   "source": [
    "#7 Diabetes\n",
    "# make ordinal, 0 is for no diabetes or only during pregnancy, 1 is for pre-diabetes or borderline diabetes, 2 is for yes diabetes\n",
    "data_df_selected['Diabetes'] = data_df_selected['Diabetes'].replace({2:0, 3:0, 1:2, 4:1})\n",
    "data_df_selected = data_df_selected[data_df_selected.Diabetes != 7]\n",
    "data_df_selected = data_df_selected[data_df_selected.Diabetes != 9]\n",
    "\n",
    "# Display the unique values of Diabetes\n",
    "print('Unique values of Diabetes:', data_df_selected['Diabetes'].unique())\n",
    "\n",
    "# count the number of entries with and without heart disease\n",
    "with_disease_counts = data_df_selected[data_df_selected['HeartDiseaseorAttack'] == 1]['Diabetes'].value_counts()\n",
    "without_disease_counts = data_df_selected[data_df_selected['HeartDiseaseorAttack'] == 0]['Diabetes'].value_counts()\n",
    "num_with_disease = with_disease_counts.loc[1] if 1 in with_disease_counts.index else 0\n",
    "num_without_disease = without_disease_counts.loc[1] if 1 in without_disease_counts.index else 0\n",
    "\n",
    "# create a bar plot with heart disease counts\n",
    "sns.countplot(x='Diabetes', hue='HeartDiseaseorAttack', data=data_df_selected, palette='coolwarm')\n",
    "\n",
    "# show the counts in the legend\n",
    "plt.legend(title='Heart Disease', labels=['Without', 'With'])\n",
    "plt.title(\"Distribution of Diabetes values\")\n",
    "plt.show()"
   ]
  },
  {
   "cell_type": "markdown",
   "id": "8fa432fc-dfee-4096-911b-49693d71dcbe",
   "metadata": {},
   "source": [
    "Here, it is interesting to observe that the 0 values for diabetes a very high and the ones for 2 are very low. However, the can't note the same relation for the with or without heart disease values. There seem to be a lot of people with a heart disease that also have diabetes."
   ]
  },
  {
   "cell_type": "code",
   "execution_count": 195,
   "id": "a08addc5",
   "metadata": {},
   "outputs": [
    {
     "name": "stdout",
     "output_type": "stream",
     "text": [
      "Unique values of HvyAlcoholConsump: [0. 1.]\n"
     ]
    },
    {
     "data": {
      "image/png": "[encoded data removed]",
      "text/plain": [
       "<Figure size 432x288 with 1 Axes>"
      ]
     },
     "metadata": {
      "needs_background": "light"
     },
     "output_type": "display_data"
    }
   ],
   "source": [
    "#11 HvyAlcoholConsump\n",
    "# Change 1 to 0 (1 was no for heavy drinking). change all 2 to 1\n",
    "# remove all dont knows and missing 9\n",
    "data_df_selected['HvyAlcoholConsump'] = data_df_selected['HvyAlcoholConsump'].replace({1:0, 2:1})\n",
    "data_df_selected = data_df_selected[data_df_selected.HvyAlcoholConsump != 9]\n",
    "\n",
    "# Display the unique values of HvyAlcoholConsump\n",
    "print('Unique values of HvyAlcoholConsump:', data_df_selected['HvyAlcoholConsump'].unique())\n",
    "\n",
    "# count the number of entries with and without heart disease\n",
    "with_disease_counts = data_df_selected[data_df_selected['HeartDiseaseorAttack'] == 1]['HvyAlcoholConsump'].value_counts()\n",
    "without_disease_counts = data_df_selected[data_df_selected['HeartDiseaseorAttack'] == 0]['HvyAlcoholConsump'].value_counts()\n",
    "num_with_disease = with_disease_counts.loc[1] if 1 in with_disease_counts.index else 0\n",
    "num_without_disease = without_disease_counts.loc[1] if 1 in without_disease_counts.index else 0\n",
    "\n",
    "# create a bar plot with heart disease counts\n",
    "sns.countplot(x='HvyAlcoholConsump', hue='HeartDiseaseorAttack', data=data_df_selected, palette='coolwarm')\n",
    "\n",
    "# show the counts in the legend\n",
    "plt.legend(title='Heart Disease', labels=['Without', 'With'])\n",
    "plt.title(\"Distribution of HvyAlcoholConsump values\")\n",
    "plt.show()"
   ]
  },
  {
   "cell_type": "code",
   "execution_count": 196,
   "id": "f00c119d",
   "metadata": {},
   "outputs": [
    {
     "name": "stdout",
     "output_type": "stream",
     "text": [
      "Unique values of GenHlth: [5. 3. 2. 4. 1.]\n"
     ]
    },
    {
     "data": {
      "image/png": "[encoded data removed]",
      "text/plain": [
       "<Figure size 432x288 with 1 Axes>"
      ]
     },
     "metadata": {
      "needs_background": "light"
     },
     "output_type": "display_data"
    }
   ],
   "source": [
    "#14 GenHlth\n",
    "# This is an ordinal variable (1 is Excellent -> 5 is Poor)\n",
    "# Remove 7 and 9 for don't know and refused\n",
    "data_df_selected = data_df_selected[data_df_selected.GenHlth != 7]\n",
    "data_df_selected = data_df_selected[data_df_selected.GenHlth != 9]\n",
    "\n",
    "# Display the unique values of GenHlth\n",
    "print('Unique values of GenHlth:', data_df_selected['GenHlth'].unique())\n",
    "\n",
    "# count the number of entries with and without heart disease\n",
    "with_disease_counts = data_df_selected[data_df_selected['HeartDiseaseorAttack'] == 1]['GenHlth'].value_counts()\n",
    "without_disease_counts = data_df_selected[data_df_selected['HeartDiseaseorAttack'] == 0]['GenHlth'].value_counts()\n",
    "num_with_disease = with_disease_counts.loc[1] if 1 in with_disease_counts.index else 0\n",
    "num_without_disease = without_disease_counts.loc[1] if 1 in without_disease_counts.index else 0\n",
    "\n",
    "# create a bar plot with heart disease counts\n",
    "sns.countplot(x='GenHlth', hue='HeartDiseaseorAttack', data=data_df_selected, palette='coolwarm')\n",
    "\n",
    "# show the counts in the legend\n",
    "plt.legend(title='Heart Disease', labels=['Without', 'With'])\n",
    "plt.title(\"Distribution of GenHlth values\")\n",
    "plt.show()"
   ]
  },
  {
   "cell_type": "markdown",
   "id": "b91c302a-3feb-4f6a-a38e-5484941798e5",
   "metadata": {},
   "source": [
    "Here, it is interesting to note that the poorer the general health the higher the number of people with heart disease. Furthermore, the amount of people is decreasing the worse the general health but the number of people with heart disease is increasing."
   ]
  },
  {
   "cell_type": "code",
   "execution_count": 197,
   "id": "ca74aea4",
   "metadata": {},
   "outputs": [
    {
     "name": "stdout",
     "output_type": "stream",
     "text": [
      "Unique values of MentHlth: [18.  0. 30.  3.  5. 15. 10.  6. 20.  2. 25.  1. 29.  4.  7.  8. 21. 14.\n",
      " 26.  9. 16. 28. 11. 12. 24. 17. 13. 23. 27. 19. 22.]\n"
     ]
    },
    {
     "data": {
      "image/png": "[encoded data removed]",
      "text/plain": [
       "<Figure size 432x288 with 1 Axes>"
      ]
     },
     "metadata": {
      "needs_background": "light"
     },
     "output_type": "display_data"
    }
   ],
   "source": [
    "#15 MentHlth\n",
    "# already in days, scale will be 0-30\n",
    "# change 88 to 0 because it means none (no bad mental health days)\n",
    "# remove 77 and 99 for don't know not sure and refused\n",
    "data_df_selected['MentHlth'] = data_df_selected['MentHlth'].replace({88:0})\n",
    "data_df_selected = data_df_selected[data_df_selected.MentHlth != 77]\n",
    "data_df_selected = data_df_selected[data_df_selected.MentHlth != 99]\n",
    "\n",
    "# Display the unique values of MentHlth\n",
    "print('Unique values of MentHlth:', data_df_selected['MentHlth'].unique())\n",
    "\n",
    "plt.hist(data_df_selected['MentHlth'], bins=31, range=(0, 30), edgecolor='black', color='skyblue')\n",
    "plt.xticks(range(0, 31))\n",
    "plt.xlabel('Number of bad mental health days')\n",
    "plt.ylabel('Frequency')\n",
    "plt.title('Distribution of values for MentHlth')\n",
    "plt.show()"
   ]
  },
  {
   "cell_type": "markdown",
   "id": "8b61e760-ac41-4dcf-9a29-13290085991a",
   "metadata": {},
   "source": [
    "It can be noted that most of the respondants have no issues with mental health. However, the second highest values have people that had mental issues for the whole time period asked for."
   ]
  },
  {
   "cell_type": "code",
   "execution_count": 198,
   "id": "a0f135b7",
   "metadata": {},
   "outputs": [
    {
     "name": "stdout",
     "output_type": "stream",
     "text": [
      "Unique values of PhysHlth: [15.  0. 30.  2. 14. 28.  7. 20.  3. 10.  1.  5. 17.  4. 19.  6. 21. 12.\n",
      "  8. 25. 27. 22. 29. 24.  9. 16. 23. 13. 18. 26. 11.]\n"
     ]
    },
    {
     "data": {
      "image/png": "[encoded data removed]",
      "text/plain": [
       "<Figure size 432x288 with 1 Axes>"
      ]
     },
     "metadata": {
      "needs_background": "light"
     },
     "output_type": "display_data"
    }
   ],
   "source": [
    "#16 PhysHlth\n",
    "# already in days, scale will be 0-30\n",
    "# change 88 to 0 because it means none (no bad mental health days)\n",
    "# remove 77 and 99 for don't know not sure and refused\n",
    "data_df_selected['PhysHlth'] = data_df_selected['PhysHlth'].replace({88:0})\n",
    "data_df_selected = data_df_selected[data_df_selected.PhysHlth != 77]\n",
    "data_df_selected = data_df_selected[data_df_selected.PhysHlth != 99]\n",
    "\n",
    "# Display the unique values of PhysHlth\n",
    "print('Unique values of PhysHlth:', data_df_selected['PhysHlth'].unique())\n",
    "\n",
    "plt.hist(data_df_selected['PhysHlth'], bins=31, range=(0, 30), edgecolor='black', color='skyblue')\n",
    "plt.xticks(range(0, 31))\n",
    "plt.xlabel('Number of bad physical health days')\n",
    "plt.ylabel('Frequency')\n",
    "plt.title('Distribution of values for PhysHlth')\n",
    "plt.show()"
   ]
  },
  {
   "cell_type": "code",
   "execution_count": 199,
   "id": "9fc8c1b0",
   "metadata": {},
   "outputs": [
    {
     "name": "stdout",
     "output_type": "stream",
     "text": [
      "Unique values of Age: [ 9.  7. 11. 10. 13.  8.  4.  6.  2. 12.  5.  1.  3.]\n"
     ]
    },
    {
     "data": {
      "image/png": "[encoded data removed]",
      "text/plain": [
       "<Figure size 432x288 with 1 Axes>"
      ]
     },
     "metadata": {
      "needs_background": "light"
     },
     "output_type": "display_data"
    }
   ],
   "source": [
    "#19 Age\n",
    "# already ordinal. 1 is 18-24 all the way up to 13 is 80 and older. 5 year increments.\n",
    "# remove 14 because it is don't know or missing\n",
    "data_df_selected = data_df_selected[data_df_selected.Age != 14]\n",
    "\n",
    "# Display the unique values of Age\n",
    "print('Unique values of Age:', data_df_selected['Age'].unique())\n",
    "\n",
    "# plot histogram to show the distribution of values for age\n",
    "plt.hist(data_df_selected['Age'], bins=14, range=(0, 13), edgecolor='black', color='skyblue')\n",
    "plt.xticks(range(0, 14))\n",
    "plt.xlabel('Age categories')\n",
    "plt.ylabel('Number of data entries')\n",
    "plt.title('Distribution of age values')\n",
    "plt.show()"
   ]
  },
  {
   "cell_type": "code",
   "execution_count": 200,
   "id": "d6780da2",
   "metadata": {},
   "outputs": [
    {
     "name": "stdout",
     "output_type": "stream",
     "text": [
      "Unique values of Education: [4. 6. 3. 5. 2. 1.]\n"
     ]
    },
    {
     "data": {
      "image/png": "[encoded data removed]",
      "text/plain": [
       "<Figure size 432x288 with 1 Axes>"
      ]
     },
     "metadata": {
      "needs_background": "light"
     },
     "output_type": "display_data"
    }
   ],
   "source": [
    "#20 Education\n",
    "# This is already an ordinal variable with 1 being never attended school or kindergarten only up to 6 being college 4 years or more\n",
    "# Scale here is 1-6\n",
    "# Remove 9 for refused:\n",
    "data_df_selected = data_df_selected[data_df_selected.Education != 9]\n",
    "data_df_selected.Education.unique()\n",
    "\n",
    "# Display the unique values of Education\n",
    "print('Unique values of Education:', data_df_selected['Education'].unique())\n",
    "\n",
    "# plot histogram to show the distribution of values for education\n",
    "plt.hist(data_df_selected['Education'], bins=6, range=(0, 6), edgecolor='black', color='skyblue')\n",
    "plt.xticks(range(0, 6))\n",
    "plt.xlabel('Education categories')\n",
    "plt.ylabel('Number of data entries')\n",
    "plt.title('Distribution of education values')\n",
    "plt.show()"
   ]
  },
  {
   "cell_type": "code",
   "execution_count": 201,
   "id": "7e89708c",
   "metadata": {},
   "outputs": [
    {
     "name": "stdout",
     "output_type": "stream",
     "text": [
      "Unique values of Income: [3. 1. 8. 6. 4. 7. 2. 5.]\n"
     ]
    },
    {
     "data": {
      "image/png": "[encoded data removed]",
      "text/plain": [
       "<Figure size 432x288 with 1 Axes>"
      ]
     },
     "metadata": {
      "needs_background": "light"
     },
     "output_type": "display_data"
    }
   ],
   "source": [
    "#21 Income\n",
    "# Variable is already ordinal with 1 being less than $10,000 all the way up to 8 being $75,000 or more\n",
    "# Remove 77 and 99 for don't know and refused\n",
    "data_df_selected = data_df_selected[data_df_selected.Income != 77]\n",
    "data_df_selected = data_df_selected[data_df_selected.Income != 99]\n",
    "\n",
    "# Display the unique values of Income\n",
    "print('Unique values of Income:', data_df_selected['Income'].unique())\n",
    "\n",
    "# plot histogram to show the distribution of values for income\n",
    "plt.hist(data_df_selected['Income'], bins=8, range=(0, 9), edgecolor='black', color='skyblue')\n",
    "plt.xticks(range(0, 9))\n",
    "plt.xlabel('Income categories')\n",
    "plt.ylabel('Number of data entries')\n",
    "plt.title('Distribution of income values')\n",
    "plt.show()"
   ]
  },
  {
   "cell_type": "code",
   "execution_count": 202,
   "id": "1ff88f41-c204-41d1-b924-9c7c1ac1bb8d",
   "metadata": {},
   "outputs": [
    {
     "name": "stdout",
     "output_type": "stream",
     "text": [
      "Unique values of Employment: [8. 3. 2. 7. 5. 1. 6. 4.]\n"
     ]
    },
    {
     "data": {
      "image/png": "[encoded data removed]",
      "text/plain": [
       "<Figure size 432x288 with 1 Axes>"
      ]
     },
     "metadata": {
      "needs_background": "light"
     },
     "output_type": "display_data"
    }
   ],
   "source": [
    "#22 Employment\n",
    "# Categorical Variable \n",
    "# remove 9 for refused\n",
    "data_df_selected = data_df_selected[data_df_selected.Employment != 9]\n",
    "data_df_selected.Employment.unique()\n",
    "\n",
    "# Display the unique values of Employment\n",
    "print('Unique values of Employment:', data_df_selected['Employment'].unique())\n",
    "\n",
    "# plot histogram to show the distribution of values for employment\n",
    "plt.hist(data_df_selected['Employment'], bins=8, range=(0, 9), edgecolor='black', color='skyblue')\n",
    "plt.xticks(range(0, 9))\n",
    "plt.xlabel('Employment categories')\n",
    "plt.ylabel('Number of data entries')\n",
    "plt.title('Distribution of employment values')\n",
    "plt.show()"
   ]
  },
  {
   "cell_type": "markdown",
   "id": "a3565357-c554-4d12-8660-d173751f64ba",
   "metadata": {},
   "source": []
  },
  {
   "cell_type": "markdown",
   "id": "e77f96e8-2329-44ff-8ead-f6e96ccd5f29",
   "metadata": {},
   "source": [
    "After preprocessing the columns and looking on the distribution of each column we can say that most of the time, the amount of with heart disease or without heart disease are equally distributed according the the number of values for the category."
   ]
  },
  {
   "cell_type": "markdown",
   "id": "8f1527c1",
   "metadata": {
    "tags": []
   },
   "source": [
    "### Save dataset to csv"
   ]
  },
  {
   "cell_type": "code",
   "execution_count": 203,
   "id": "3f7d336d",
   "metadata": {},
   "outputs": [
    {
     "data": {
      "text/plain": [
       "(249178, 25)"
      ]
     },
     "execution_count": 203,
     "metadata": {},
     "output_type": "execute_result"
    }
   ],
   "source": [
    "data_df_selected.shape"
   ]
  },
  {
   "cell_type": "code",
   "execution_count": 204,
   "id": "6b2fda57",
   "metadata": {
    "scrolled": true
   },
   "outputs": [
    {
     "data": {
      "text/html": [
       "<div>\n",
       "<style scoped>\n",
       "    .dataframe tbody tr th:only-of-type {\n",
       "        vertical-align: middle;\n",
       "    }\n",
       "\n",
       "    .dataframe tbody tr th {\n",
       "        vertical-align: top;\n",
       "    }\n",
       "\n",
       "    .dataframe thead th {\n",
       "        text-align: right;\n",
       "    }\n",
       "</style>\n",
       "<table border=\"1\" class=\"dataframe\">\n",
       "  <thead>\n",
       "    <tr style=\"text-align: right;\">\n",
       "      <th></th>\n",
       "      <th>HeartDiseaseorAttack</th>\n",
       "      <th>HighBP</th>\n",
       "      <th>HighChol</th>\n",
       "      <th>CholCheck</th>\n",
       "      <th>BMI</th>\n",
       "      <th>Smoker</th>\n",
       "      <th>Stroke</th>\n",
       "      <th>Diabetes</th>\n",
       "      <th>PhysActivity</th>\n",
       "      <th>Fruits</th>\n",
       "      <th>...</th>\n",
       "      <th>MentHlth</th>\n",
       "      <th>PhysHlth</th>\n",
       "      <th>DiffWalk</th>\n",
       "      <th>Sex</th>\n",
       "      <th>Age</th>\n",
       "      <th>Education</th>\n",
       "      <th>Income</th>\n",
       "      <th>Employment</th>\n",
       "      <th>FluShot</th>\n",
       "      <th>KidneyDisease</th>\n",
       "    </tr>\n",
       "  </thead>\n",
       "  <tbody>\n",
       "    <tr>\n",
       "      <th>count</th>\n",
       "      <td>249178.000000</td>\n",
       "      <td>249178.000000</td>\n",
       "      <td>249178.000000</td>\n",
       "      <td>249178.000000</td>\n",
       "      <td>249178.000000</td>\n",
       "      <td>249178.000000</td>\n",
       "      <td>249178.000000</td>\n",
       "      <td>249178.000000</td>\n",
       "      <td>249178.000000</td>\n",
       "      <td>249178.000000</td>\n",
       "      <td>...</td>\n",
       "      <td>249178.000000</td>\n",
       "      <td>249178.000000</td>\n",
       "      <td>249178.000000</td>\n",
       "      <td>249178.000000</td>\n",
       "      <td>249178.000000</td>\n",
       "      <td>249178.000000</td>\n",
       "      <td>249178.000000</td>\n",
       "      <td>249178.000000</td>\n",
       "      <td>249178.000000</td>\n",
       "      <td>249178.000000</td>\n",
       "    </tr>\n",
       "    <tr>\n",
       "      <th>mean</th>\n",
       "      <td>0.093885</td>\n",
       "      <td>0.428694</td>\n",
       "      <td>0.424411</td>\n",
       "      <td>0.962681</td>\n",
       "      <td>28.381069</td>\n",
       "      <td>0.442515</td>\n",
       "      <td>0.040377</td>\n",
       "      <td>0.296110</td>\n",
       "      <td>0.756275</td>\n",
       "      <td>0.634542</td>\n",
       "      <td>...</td>\n",
       "      <td>3.164312</td>\n",
       "      <td>4.219305</td>\n",
       "      <td>0.167234</td>\n",
       "      <td>0.439814</td>\n",
       "      <td>8.037331</td>\n",
       "      <td>5.054186</td>\n",
       "      <td>6.062369</td>\n",
       "      <td>3.777910</td>\n",
       "      <td>0.512441</td>\n",
       "      <td>0.037391</td>\n",
       "    </tr>\n",
       "    <tr>\n",
       "      <th>std</th>\n",
       "      <td>0.291669</td>\n",
       "      <td>0.494890</td>\n",
       "      <td>0.494254</td>\n",
       "      <td>0.189542</td>\n",
       "      <td>6.602894</td>\n",
       "      <td>0.496685</td>\n",
       "      <td>0.196842</td>\n",
       "      <td>0.697361</td>\n",
       "      <td>0.429330</td>\n",
       "      <td>0.481559</td>\n",
       "      <td>...</td>\n",
       "      <td>7.385235</td>\n",
       "      <td>8.694595</td>\n",
       "      <td>0.373185</td>\n",
       "      <td>0.496365</td>\n",
       "      <td>3.049101</td>\n",
       "      <td>0.984047</td>\n",
       "      <td>2.067027</td>\n",
       "      <td>2.863773</td>\n",
       "      <td>0.499846</td>\n",
       "      <td>0.189718</td>\n",
       "    </tr>\n",
       "    <tr>\n",
       "      <th>min</th>\n",
       "      <td>0.000000</td>\n",
       "      <td>0.000000</td>\n",
       "      <td>0.000000</td>\n",
       "      <td>0.000000</td>\n",
       "      <td>12.000000</td>\n",
       "      <td>0.000000</td>\n",
       "      <td>0.000000</td>\n",
       "      <td>0.000000</td>\n",
       "      <td>0.000000</td>\n",
       "      <td>0.000000</td>\n",
       "      <td>...</td>\n",
       "      <td>0.000000</td>\n",
       "      <td>0.000000</td>\n",
       "      <td>0.000000</td>\n",
       "      <td>0.000000</td>\n",
       "      <td>1.000000</td>\n",
       "      <td>1.000000</td>\n",
       "      <td>1.000000</td>\n",
       "      <td>1.000000</td>\n",
       "      <td>0.000000</td>\n",
       "      <td>0.000000</td>\n",
       "    </tr>\n",
       "    <tr>\n",
       "      <th>25%</th>\n",
       "      <td>0.000000</td>\n",
       "      <td>0.000000</td>\n",
       "      <td>0.000000</td>\n",
       "      <td>1.000000</td>\n",
       "      <td>24.000000</td>\n",
       "      <td>0.000000</td>\n",
       "      <td>0.000000</td>\n",
       "      <td>0.000000</td>\n",
       "      <td>1.000000</td>\n",
       "      <td>0.000000</td>\n",
       "      <td>...</td>\n",
       "      <td>0.000000</td>\n",
       "      <td>0.000000</td>\n",
       "      <td>0.000000</td>\n",
       "      <td>0.000000</td>\n",
       "      <td>6.000000</td>\n",
       "      <td>4.000000</td>\n",
       "      <td>5.000000</td>\n",
       "      <td>1.000000</td>\n",
       "      <td>0.000000</td>\n",
       "      <td>0.000000</td>\n",
       "    </tr>\n",
       "    <tr>\n",
       "      <th>50%</th>\n",
       "      <td>0.000000</td>\n",
       "      <td>0.000000</td>\n",
       "      <td>0.000000</td>\n",
       "      <td>1.000000</td>\n",
       "      <td>27.000000</td>\n",
       "      <td>0.000000</td>\n",
       "      <td>0.000000</td>\n",
       "      <td>0.000000</td>\n",
       "      <td>1.000000</td>\n",
       "      <td>1.000000</td>\n",
       "      <td>...</td>\n",
       "      <td>0.000000</td>\n",
       "      <td>0.000000</td>\n",
       "      <td>0.000000</td>\n",
       "      <td>0.000000</td>\n",
       "      <td>8.000000</td>\n",
       "      <td>5.000000</td>\n",
       "      <td>7.000000</td>\n",
       "      <td>2.000000</td>\n",
       "      <td>1.000000</td>\n",
       "      <td>0.000000</td>\n",
       "    </tr>\n",
       "    <tr>\n",
       "      <th>75%</th>\n",
       "      <td>0.000000</td>\n",
       "      <td>1.000000</td>\n",
       "      <td>1.000000</td>\n",
       "      <td>1.000000</td>\n",
       "      <td>31.000000</td>\n",
       "      <td>1.000000</td>\n",
       "      <td>0.000000</td>\n",
       "      <td>0.000000</td>\n",
       "      <td>1.000000</td>\n",
       "      <td>1.000000</td>\n",
       "      <td>...</td>\n",
       "      <td>2.000000</td>\n",
       "      <td>3.000000</td>\n",
       "      <td>0.000000</td>\n",
       "      <td>1.000000</td>\n",
       "      <td>10.000000</td>\n",
       "      <td>6.000000</td>\n",
       "      <td>8.000000</td>\n",
       "      <td>7.000000</td>\n",
       "      <td>1.000000</td>\n",
       "      <td>0.000000</td>\n",
       "    </tr>\n",
       "    <tr>\n",
       "      <th>max</th>\n",
       "      <td>1.000000</td>\n",
       "      <td>1.000000</td>\n",
       "      <td>1.000000</td>\n",
       "      <td>1.000000</td>\n",
       "      <td>98.000000</td>\n",
       "      <td>1.000000</td>\n",
       "      <td>1.000000</td>\n",
       "      <td>2.000000</td>\n",
       "      <td>1.000000</td>\n",
       "      <td>1.000000</td>\n",
       "      <td>...</td>\n",
       "      <td>30.000000</td>\n",
       "      <td>30.000000</td>\n",
       "      <td>1.000000</td>\n",
       "      <td>1.000000</td>\n",
       "      <td>13.000000</td>\n",
       "      <td>6.000000</td>\n",
       "      <td>8.000000</td>\n",
       "      <td>8.000000</td>\n",
       "      <td>1.000000</td>\n",
       "      <td>1.000000</td>\n",
       "    </tr>\n",
       "  </tbody>\n",
       "</table>\n",
       "<p>8 rows × 25 columns</p>\n",
       "</div>"
      ],
      "text/plain": [
       "       HeartDiseaseorAttack         HighBP       HighChol      CholCheck  \\\n",
       "count         249178.000000  249178.000000  249178.000000  249178.000000   \n",
       "mean               0.093885       0.428694       0.424411       0.962681   \n",
       "std                0.291669       0.494890       0.494254       0.189542   \n",
       "min                0.000000       0.000000       0.000000       0.000000   \n",
       "25%                0.000000       0.000000       0.000000       1.000000   \n",
       "50%                0.000000       0.000000       0.000000       1.000000   \n",
       "75%                0.000000       1.000000       1.000000       1.000000   \n",
       "max                1.000000       1.000000       1.000000       1.000000   \n",
       "\n",
       "                 BMI         Smoker         Stroke       Diabetes  \\\n",
       "count  249178.000000  249178.000000  249178.000000  249178.000000   \n",
       "mean       28.381069       0.442515       0.040377       0.296110   \n",
       "std         6.602894       0.496685       0.196842       0.697361   \n",
       "min        12.000000       0.000000       0.000000       0.000000   \n",
       "25%        24.000000       0.000000       0.000000       0.000000   \n",
       "50%        27.000000       0.000000       0.000000       0.000000   \n",
       "75%        31.000000       1.000000       0.000000       0.000000   \n",
       "max        98.000000       1.000000       1.000000       2.000000   \n",
       "\n",
       "        PhysActivity         Fruits  ...       MentHlth       PhysHlth  \\\n",
       "count  249178.000000  249178.000000  ...  249178.000000  249178.000000   \n",
       "mean        0.756275       0.634542  ...       3.164312       4.219305   \n",
       "std         0.429330       0.481559  ...       7.385235       8.694595   \n",
       "min         0.000000       0.000000  ...       0.000000       0.000000   \n",
       "25%         1.000000       0.000000  ...       0.000000       0.000000   \n",
       "50%         1.000000       1.000000  ...       0.000000       0.000000   \n",
       "75%         1.000000       1.000000  ...       2.000000       3.000000   \n",
       "max         1.000000       1.000000  ...      30.000000      30.000000   \n",
       "\n",
       "            DiffWalk            Sex            Age      Education  \\\n",
       "count  249178.000000  249178.000000  249178.000000  249178.000000   \n",
       "mean        0.167234       0.439814       8.037331       5.054186   \n",
       "std         0.373185       0.496365       3.049101       0.984047   \n",
       "min         0.000000       0.000000       1.000000       1.000000   \n",
       "25%         0.000000       0.000000       6.000000       4.000000   \n",
       "50%         0.000000       0.000000       8.000000       5.000000   \n",
       "75%         0.000000       1.000000      10.000000       6.000000   \n",
       "max         1.000000       1.000000      13.000000       6.000000   \n",
       "\n",
       "              Income     Employment        FluShot  KidneyDisease  \n",
       "count  249178.000000  249178.000000  249178.000000  249178.000000  \n",
       "mean        6.062369       3.777910       0.512441       0.037391  \n",
       "std         2.067027       2.863773       0.499846       0.189718  \n",
       "min         1.000000       1.000000       0.000000       0.000000  \n",
       "25%         5.000000       1.000000       0.000000       0.000000  \n",
       "50%         7.000000       2.000000       1.000000       0.000000  \n",
       "75%         8.000000       7.000000       1.000000       0.000000  \n",
       "max         8.000000       8.000000       1.000000       1.000000  \n",
       "\n",
       "[8 rows x 25 columns]"
      ]
     },
     "execution_count": 204,
     "metadata": {},
     "output_type": "execute_result"
    }
   ],
   "source": [
    "data_df_selected.describe()"
   ]
  },
  {
   "cell_type": "code",
   "execution_count": 205,
   "id": "eaa505c9",
   "metadata": {},
   "outputs": [],
   "source": [
    "# save to csv\n",
    "data_df_selected.to_csv('heart_disease_health_features.csv', sep=\",\", index=False)"
   ]
  },
  {
   "cell_type": "markdown",
   "id": "6aab561d-f3fc-4938-87ac-8be747240736",
   "metadata": {},
   "source": [
    "This is the dataframe that we use to build our models on."
   ]
  },
  {
   "cell_type": "markdown",
   "id": "d6718406-fbcd-404f-a9e2-204287faf71e",
   "metadata": {},
   "source": [
    "# Building models"
   ]
  },
  {
   "cell_type": "code",
   "execution_count": 51,
   "id": "a7a82a79",
   "metadata": {},
   "outputs": [
    {
     "data": {
      "text/html": [
       "<div>\n",
       "<style scoped>\n",
       "    .dataframe tbody tr th:only-of-type {\n",
       "        vertical-align: middle;\n",
       "    }\n",
       "\n",
       "    .dataframe tbody tr th {\n",
       "        vertical-align: top;\n",
       "    }\n",
       "\n",
       "    .dataframe thead th {\n",
       "        text-align: right;\n",
       "    }\n",
       "</style>\n",
       "<table border=\"1\" class=\"dataframe\">\n",
       "  <thead>\n",
       "    <tr style=\"text-align: right;\">\n",
       "      <th></th>\n",
       "      <th>HeartDiseaseorAttack</th>\n",
       "      <th>HighBP</th>\n",
       "      <th>HighChol</th>\n",
       "      <th>CholCheck</th>\n",
       "      <th>BMI</th>\n",
       "      <th>Smoker</th>\n",
       "      <th>Stroke</th>\n",
       "      <th>Diabetes</th>\n",
       "      <th>PhysActivity</th>\n",
       "      <th>Fruits</th>\n",
       "      <th>...</th>\n",
       "      <th>PhysHlth</th>\n",
       "      <th>DiffWalk</th>\n",
       "      <th>Sex</th>\n",
       "      <th>Age</th>\n",
       "      <th>Education</th>\n",
       "      <th>Income</th>\n",
       "      <th>Employment</th>\n",
       "      <th>FluShot</th>\n",
       "      <th>KidneyDisease</th>\n",
       "      <th>MedHighBP</th>\n",
       "    </tr>\n",
       "  </thead>\n",
       "  <tbody>\n",
       "    <tr>\n",
       "      <th>0</th>\n",
       "      <td>2.0</td>\n",
       "      <td>1.0</td>\n",
       "      <td>1.0</td>\n",
       "      <td>1.0</td>\n",
       "      <td>40.0</td>\n",
       "      <td>1.0</td>\n",
       "      <td>2.0</td>\n",
       "      <td>0.0</td>\n",
       "      <td>2.0</td>\n",
       "      <td>2.0</td>\n",
       "      <td>...</td>\n",
       "      <td>15.0</td>\n",
       "      <td>1.0</td>\n",
       "      <td>2.0</td>\n",
       "      <td>9.0</td>\n",
       "      <td>4.0</td>\n",
       "      <td>3.0</td>\n",
       "      <td>8.0</td>\n",
       "      <td>1.0</td>\n",
       "      <td>2.0</td>\n",
       "      <td>1.0</td>\n",
       "    </tr>\n",
       "    <tr>\n",
       "      <th>1</th>\n",
       "      <td>2.0</td>\n",
       "      <td>1.0</td>\n",
       "      <td>1.0</td>\n",
       "      <td>1.0</td>\n",
       "      <td>28.0</td>\n",
       "      <td>2.0</td>\n",
       "      <td>2.0</td>\n",
       "      <td>0.0</td>\n",
       "      <td>2.0</td>\n",
       "      <td>1.0</td>\n",
       "      <td>...</td>\n",
       "      <td>30.0</td>\n",
       "      <td>1.0</td>\n",
       "      <td>2.0</td>\n",
       "      <td>9.0</td>\n",
       "      <td>4.0</td>\n",
       "      <td>8.0</td>\n",
       "      <td>8.0</td>\n",
       "      <td>1.0</td>\n",
       "      <td>2.0</td>\n",
       "      <td>1.0</td>\n",
       "    </tr>\n",
       "    <tr>\n",
       "      <th>2</th>\n",
       "      <td>2.0</td>\n",
       "      <td>1.0</td>\n",
       "      <td>2.0</td>\n",
       "      <td>1.0</td>\n",
       "      <td>27.0</td>\n",
       "      <td>2.0</td>\n",
       "      <td>2.0</td>\n",
       "      <td>0.0</td>\n",
       "      <td>1.0</td>\n",
       "      <td>1.0</td>\n",
       "      <td>...</td>\n",
       "      <td>0.0</td>\n",
       "      <td>2.0</td>\n",
       "      <td>2.0</td>\n",
       "      <td>11.0</td>\n",
       "      <td>3.0</td>\n",
       "      <td>6.0</td>\n",
       "      <td>2.0</td>\n",
       "      <td>1.0</td>\n",
       "      <td>2.0</td>\n",
       "      <td>1.0</td>\n",
       "    </tr>\n",
       "    <tr>\n",
       "      <th>3</th>\n",
       "      <td>2.0</td>\n",
       "      <td>1.0</td>\n",
       "      <td>1.0</td>\n",
       "      <td>1.0</td>\n",
       "      <td>24.0</td>\n",
       "      <td>2.0</td>\n",
       "      <td>2.0</td>\n",
       "      <td>0.0</td>\n",
       "      <td>1.0</td>\n",
       "      <td>1.0</td>\n",
       "      <td>...</td>\n",
       "      <td>0.0</td>\n",
       "      <td>2.0</td>\n",
       "      <td>2.0</td>\n",
       "      <td>11.0</td>\n",
       "      <td>5.0</td>\n",
       "      <td>4.0</td>\n",
       "      <td>7.0</td>\n",
       "      <td>2.0</td>\n",
       "      <td>2.0</td>\n",
       "      <td>1.0</td>\n",
       "    </tr>\n",
       "    <tr>\n",
       "      <th>4</th>\n",
       "      <td>2.0</td>\n",
       "      <td>1.0</td>\n",
       "      <td>1.0</td>\n",
       "      <td>1.0</td>\n",
       "      <td>25.0</td>\n",
       "      <td>1.0</td>\n",
       "      <td>2.0</td>\n",
       "      <td>0.0</td>\n",
       "      <td>1.0</td>\n",
       "      <td>1.0</td>\n",
       "      <td>...</td>\n",
       "      <td>2.0</td>\n",
       "      <td>2.0</td>\n",
       "      <td>1.0</td>\n",
       "      <td>10.0</td>\n",
       "      <td>6.0</td>\n",
       "      <td>8.0</td>\n",
       "      <td>7.0</td>\n",
       "      <td>2.0</td>\n",
       "      <td>2.0</td>\n",
       "      <td>1.0</td>\n",
       "    </tr>\n",
       "    <tr>\n",
       "      <th>...</th>\n",
       "      <td>...</td>\n",
       "      <td>...</td>\n",
       "      <td>...</td>\n",
       "      <td>...</td>\n",
       "      <td>...</td>\n",
       "      <td>...</td>\n",
       "      <td>...</td>\n",
       "      <td>...</td>\n",
       "      <td>...</td>\n",
       "      <td>...</td>\n",
       "      <td>...</td>\n",
       "      <td>...</td>\n",
       "      <td>...</td>\n",
       "      <td>...</td>\n",
       "      <td>...</td>\n",
       "      <td>...</td>\n",
       "      <td>...</td>\n",
       "      <td>...</td>\n",
       "      <td>...</td>\n",
       "      <td>...</td>\n",
       "      <td>...</td>\n",
       "    </tr>\n",
       "    <tr>\n",
       "      <th>114152</th>\n",
       "      <td>2.0</td>\n",
       "      <td>1.0</td>\n",
       "      <td>2.0</td>\n",
       "      <td>1.0</td>\n",
       "      <td>42.0</td>\n",
       "      <td>2.0</td>\n",
       "      <td>2.0</td>\n",
       "      <td>0.0</td>\n",
       "      <td>1.0</td>\n",
       "      <td>1.0</td>\n",
       "      <td>...</td>\n",
       "      <td>4.0</td>\n",
       "      <td>2.0</td>\n",
       "      <td>1.0</td>\n",
       "      <td>3.0</td>\n",
       "      <td>6.0</td>\n",
       "      <td>8.0</td>\n",
       "      <td>1.0</td>\n",
       "      <td>2.0</td>\n",
       "      <td>2.0</td>\n",
       "      <td>1.0</td>\n",
       "    </tr>\n",
       "    <tr>\n",
       "      <th>114153</th>\n",
       "      <td>2.0</td>\n",
       "      <td>1.0</td>\n",
       "      <td>1.0</td>\n",
       "      <td>1.0</td>\n",
       "      <td>45.0</td>\n",
       "      <td>2.0</td>\n",
       "      <td>2.0</td>\n",
       "      <td>0.0</td>\n",
       "      <td>2.0</td>\n",
       "      <td>1.0</td>\n",
       "      <td>...</td>\n",
       "      <td>5.0</td>\n",
       "      <td>2.0</td>\n",
       "      <td>1.0</td>\n",
       "      <td>5.0</td>\n",
       "      <td>6.0</td>\n",
       "      <td>7.0</td>\n",
       "      <td>1.0</td>\n",
       "      <td>2.0</td>\n",
       "      <td>2.0</td>\n",
       "      <td>1.0</td>\n",
       "    </tr>\n",
       "    <tr>\n",
       "      <th>114154</th>\n",
       "      <td>2.0</td>\n",
       "      <td>1.0</td>\n",
       "      <td>1.0</td>\n",
       "      <td>1.0</td>\n",
       "      <td>18.0</td>\n",
       "      <td>2.0</td>\n",
       "      <td>2.0</td>\n",
       "      <td>2.0</td>\n",
       "      <td>2.0</td>\n",
       "      <td>2.0</td>\n",
       "      <td>...</td>\n",
       "      <td>0.0</td>\n",
       "      <td>1.0</td>\n",
       "      <td>2.0</td>\n",
       "      <td>11.0</td>\n",
       "      <td>2.0</td>\n",
       "      <td>4.0</td>\n",
       "      <td>7.0</td>\n",
       "      <td>2.0</td>\n",
       "      <td>2.0</td>\n",
       "      <td>1.0</td>\n",
       "    </tr>\n",
       "    <tr>\n",
       "      <th>114155</th>\n",
       "      <td>2.0</td>\n",
       "      <td>1.0</td>\n",
       "      <td>2.0</td>\n",
       "      <td>1.0</td>\n",
       "      <td>23.0</td>\n",
       "      <td>2.0</td>\n",
       "      <td>2.0</td>\n",
       "      <td>0.0</td>\n",
       "      <td>2.0</td>\n",
       "      <td>1.0</td>\n",
       "      <td>...</td>\n",
       "      <td>0.0</td>\n",
       "      <td>2.0</td>\n",
       "      <td>1.0</td>\n",
       "      <td>7.0</td>\n",
       "      <td>5.0</td>\n",
       "      <td>1.0</td>\n",
       "      <td>3.0</td>\n",
       "      <td>2.0</td>\n",
       "      <td>2.0</td>\n",
       "      <td>1.0</td>\n",
       "    </tr>\n",
       "    <tr>\n",
       "      <th>114156</th>\n",
       "      <td>1.0</td>\n",
       "      <td>1.0</td>\n",
       "      <td>1.0</td>\n",
       "      <td>1.0</td>\n",
       "      <td>25.0</td>\n",
       "      <td>2.0</td>\n",
       "      <td>2.0</td>\n",
       "      <td>2.0</td>\n",
       "      <td>1.0</td>\n",
       "      <td>1.0</td>\n",
       "      <td>...</td>\n",
       "      <td>0.0</td>\n",
       "      <td>2.0</td>\n",
       "      <td>2.0</td>\n",
       "      <td>9.0</td>\n",
       "      <td>6.0</td>\n",
       "      <td>2.0</td>\n",
       "      <td>7.0</td>\n",
       "      <td>2.0</td>\n",
       "      <td>2.0</td>\n",
       "      <td>1.0</td>\n",
       "    </tr>\n",
       "  </tbody>\n",
       "</table>\n",
       "<p>114157 rows × 26 columns</p>\n",
       "</div>"
      ],
      "text/plain": [
       "        HeartDiseaseorAttack  HighBP  HighChol  CholCheck   BMI  Smoker  \\\n",
       "0                        2.0     1.0       1.0        1.0  40.0     1.0   \n",
       "1                        2.0     1.0       1.0        1.0  28.0     2.0   \n",
       "2                        2.0     1.0       2.0        1.0  27.0     2.0   \n",
       "3                        2.0     1.0       1.0        1.0  24.0     2.0   \n",
       "4                        2.0     1.0       1.0        1.0  25.0     1.0   \n",
       "...                      ...     ...       ...        ...   ...     ...   \n",
       "114152                   2.0     1.0       2.0        1.0  42.0     2.0   \n",
       "114153                   2.0     1.0       1.0        1.0  45.0     2.0   \n",
       "114154                   2.0     1.0       1.0        1.0  18.0     2.0   \n",
       "114155                   2.0     1.0       2.0        1.0  23.0     2.0   \n",
       "114156                   1.0     1.0       1.0        1.0  25.0     2.0   \n",
       "\n",
       "        Stroke  Diabetes  PhysActivity  Fruits  ...  PhysHlth  DiffWalk  Sex  \\\n",
       "0          2.0       0.0           2.0     2.0  ...      15.0       1.0  2.0   \n",
       "1          2.0       0.0           2.0     1.0  ...      30.0       1.0  2.0   \n",
       "2          2.0       0.0           1.0     1.0  ...       0.0       2.0  2.0   \n",
       "3          2.0       0.0           1.0     1.0  ...       0.0       2.0  2.0   \n",
       "4          2.0       0.0           1.0     1.0  ...       2.0       2.0  1.0   \n",
       "...        ...       ...           ...     ...  ...       ...       ...  ...   \n",
       "114152     2.0       0.0           1.0     1.0  ...       4.0       2.0  1.0   \n",
       "114153     2.0       0.0           2.0     1.0  ...       5.0       2.0  1.0   \n",
       "114154     2.0       2.0           2.0     2.0  ...       0.0       1.0  2.0   \n",
       "114155     2.0       0.0           2.0     1.0  ...       0.0       2.0  1.0   \n",
       "114156     2.0       2.0           1.0     1.0  ...       0.0       2.0  2.0   \n",
       "\n",
       "         Age  Education  Income  Employment  FluShot  KidneyDisease  MedHighBP  \n",
       "0        9.0        4.0     3.0         8.0      1.0            2.0        1.0  \n",
       "1        9.0        4.0     8.0         8.0      1.0            2.0        1.0  \n",
       "2       11.0        3.0     6.0         2.0      1.0            2.0        1.0  \n",
       "3       11.0        5.0     4.0         7.0      2.0            2.0        1.0  \n",
       "4       10.0        6.0     8.0         7.0      2.0            2.0        1.0  \n",
       "...      ...        ...     ...         ...      ...            ...        ...  \n",
       "114152   3.0        6.0     8.0         1.0      2.0            2.0        1.0  \n",
       "114153   5.0        6.0     7.0         1.0      2.0            2.0        1.0  \n",
       "114154  11.0        2.0     4.0         7.0      2.0            2.0        1.0  \n",
       "114155   7.0        5.0     1.0         3.0      2.0            2.0        1.0  \n",
       "114156   9.0        6.0     2.0         7.0      2.0            2.0        1.0  \n",
       "\n",
       "[114157 rows x 26 columns]"
      ]
     },
     "execution_count": 51,
     "metadata": {},
     "output_type": "execute_result"
    }
   ],
   "source": [
    "heart_df = pd.read_csv(\"heart_disease_health_features.csv\")\n",
    "heart_df"
   ]
  },
  {
   "cell_type": "code",
   "execution_count": 52,
   "id": "5a4f5313",
   "metadata": {},
   "outputs": [
    {
     "name": "stdout",
     "output_type": "stream",
     "text": [
      "The number of columns in the DataFrame is: 26\n"
     ]
    }
   ],
   "source": [
    "num_cols = heart_df.shape[1]\n",
    "print(\"The number of columns in the DataFrame is:\", num_cols)"
   ]
  },
  {
   "cell_type": "markdown",
   "id": "67eda116-4ac0-4007-87a6-9e4011d9a765",
   "metadata": {},
   "source": [
    "### Pre-processing pipeline"
   ]
  },
  {
   "cell_type": "code",
   "execution_count": 53,
   "id": "1a478983-c941-4a2f-aa18-937834e797dd",
   "metadata": {},
   "outputs": [],
   "source": [
    "# Create a class to select numerical or categorical columns \n",
    "class DataFrameSelector(BaseEstimator, TransformerMixin):\n",
    "    def __init__(self, attribute_names):\n",
    "        self.attribute_names = attribute_names\n",
    "    def fit(self, X, y=None):\n",
    "        return self\n",
    "    def transform(self, X):\n",
    "        return X[self.attribute_names].values"
   ]
  },
  {
   "cell_type": "code",
   "execution_count": 54,
   "id": "0667103b-fff6-4e38-b519-160211c196ae",
   "metadata": {},
   "outputs": [
    {
     "data": {
      "text/plain": [
       "array([[ 1.45974263,  1.76876997,  0.89912353, ...,  1.        ,\n",
       "         2.        ,  1.        ],\n",
       "       [-0.28704588,  3.24920466,  2.38211707, ...,  1.        ,\n",
       "         2.        ,  1.        ],\n",
       "       [-0.43261159, -0.45188206, -0.58387   , ...,  1.        ,\n",
       "         2.        ,  1.        ],\n",
       "       ...,\n",
       "       [-1.74270297, -0.45188206, -0.58387   , ...,  2.        ,\n",
       "         2.        ,  1.        ],\n",
       "       [-1.01487443, -0.45188206, -0.58387   , ...,  2.        ,\n",
       "         2.        ,  1.        ],\n",
       "       [-0.72374301, -0.45188206, -0.58387   , ...,  2.        ,\n",
       "         2.        ,  1.        ]])"
      ]
     },
     "execution_count": 54,
     "metadata": {},
     "output_type": "execute_result"
    }
   ],
   "source": [
    "# Create a copy of the original dataframe\n",
    "preprocessed_df = heart_df.copy()\n",
    "\n",
    "seed = 42\n",
    "\n",
    "# define attributes\n",
    "num_attribs = ['BMI', 'MentHlth', 'PhysHlth']\n",
    "ordinal_attribs = ['Diabetes', 'GenHlth', 'Age', 'Education', 'Income']\n",
    "cat_attribs = ['Employment']\n",
    "binary_attribs = [col for col in preprocessed_df.columns if col not in num_attribs + cat_attribs + ordinal_attribs]\n",
    "\n",
    "# define pipeline to apply feature scaling to numerical features\n",
    "num_pipeline = Pipeline([\n",
    "        ('selector', DataFrameSelector(num_attribs)),\n",
    "        ('std_scaler', StandardScaler())\n",
    "])\n",
    "\n",
    "# define pipeline to apply feature scaling to ordinal features\n",
    "ordinal_pipeline = Pipeline([\n",
    "        ('selector', DataFrameSelector(ordinal_attribs)),\n",
    "        ('ordinal_encoder', OrdinalEncoder()),\n",
    "])\n",
    "\n",
    "# define pipeline to apply one-hot encoding to categorical values\n",
    "cat_pipeline = Pipeline([\n",
    "        ('selector', DataFrameSelector(cat_attribs)),\n",
    "        ('cat_encoder', OneHotEncoder(sparse=False, handle_unknown='ignore')),\n",
    "    ])\n",
    "\n",
    "# define pipeline to keep other columns unchanged\n",
    "binary_pipeline = Pipeline([\n",
    "        ('selector', DataFrameSelector(binary_attribs)),\n",
    "    ])\n",
    "\n",
    "\n",
    "# apply different operations on num, ordinal and cat by combining pipelines with ColumnTransformer\n",
    "preprocessing = ColumnTransformer([\n",
    "        (\"num\", num_pipeline, num_attribs),\n",
    "        (\"ordinal\", ordinal_pipeline, ordinal_attribs),\n",
    "        (\"cat\", cat_pipeline, cat_attribs),\n",
    "        (\"binary\", binary_pipeline, binary_attribs)\n",
    "    ])\n",
    "\n",
    "processed_arr = preprocessing.fit_transform(preprocessed_df)\n",
    "processed_arr"
   ]
  },
  {
   "cell_type": "code",
   "execution_count": 55,
   "id": "52bac0d8-28c3-43b8-b32b-2dee60d068f4",
   "metadata": {},
   "outputs": [
    {
     "data": {
      "text/html": [
       "<style>#sk-container-id-1 {color: black;background-color: white;}#sk-container-id-1 pre{padding: 0;}#sk-container-id-1 div.sk-toggleable {background-color: white;}#sk-container-id-1 label.sk-toggleable__label {cursor: pointer;display: block;width: 100%;margin-bottom: 0;padding: 0.3em;box-sizing: border-box;text-align: center;}#sk-container-id-1 label.sk-toggleable__label-arrow:before {content: \"▸\";float: left;margin-right: 0.25em;color: #696969;}#sk-container-id-1 label.sk-toggleable__label-arrow:hover:before {color: black;}#sk-container-id-1 div.sk-estimator:hover label.sk-toggleable__label-arrow:before {color: black;}#sk-container-id-1 div.sk-toggleable__content {max-height: 0;max-width: 0;overflow: hidden;text-align: left;background-color: #f0f8ff;}#sk-container-id-1 div.sk-toggleable__content pre {margin: 0.2em;color: black;border-radius: 0.25em;background-color: #f0f8ff;}#sk-container-id-1 input.sk-toggleable__control:checked~div.sk-toggleable__content {max-height: 200px;max-width: 100%;overflow: auto;}#sk-container-id-1 input.sk-toggleable__control:checked~label.sk-toggleable__label-arrow:before {content: \"▾\";}#sk-container-id-1 div.sk-estimator input.sk-toggleable__control:checked~label.sk-toggleable__label {background-color: #d4ebff;}#sk-container-id-1 div.sk-label input.sk-toggleable__control:checked~label.sk-toggleable__label {background-color: #d4ebff;}#sk-container-id-1 input.sk-hidden--visually {border: 0;clip: rect(1px 1px 1px 1px);clip: rect(1px, 1px, 1px, 1px);height: 1px;margin: -1px;overflow: hidden;padding: 0;position: absolute;width: 1px;}#sk-container-id-1 div.sk-estimator {font-family: monospace;background-color: #f0f8ff;border: 1px dotted black;border-radius: 0.25em;box-sizing: border-box;margin-bottom: 0.5em;}#sk-container-id-1 div.sk-estimator:hover {background-color: #d4ebff;}#sk-container-id-1 div.sk-parallel-item::after {content: \"\";width: 100%;border-bottom: 1px solid gray;flex-grow: 1;}#sk-container-id-1 div.sk-label:hover label.sk-toggleable__label {background-color: #d4ebff;}#sk-container-id-1 div.sk-serial::before {content: \"\";position: absolute;border-left: 1px solid gray;box-sizing: border-box;top: 0;bottom: 0;left: 50%;z-index: 0;}#sk-container-id-1 div.sk-serial {display: flex;flex-direction: column;align-items: center;background-color: white;padding-right: 0.2em;padding-left: 0.2em;position: relative;}#sk-container-id-1 div.sk-item {position: relative;z-index: 1;}#sk-container-id-1 div.sk-parallel {display: flex;align-items: stretch;justify-content: center;background-color: white;position: relative;}#sk-container-id-1 div.sk-item::before, #sk-container-id-1 div.sk-parallel-item::before {content: \"\";position: absolute;border-left: 1px solid gray;box-sizing: border-box;top: 0;bottom: 0;left: 50%;z-index: -1;}#sk-container-id-1 div.sk-parallel-item {display: flex;flex-direction: column;z-index: 1;position: relative;background-color: white;}#sk-container-id-1 div.sk-parallel-item:first-child::after {align-self: flex-end;width: 50%;}#sk-container-id-1 div.sk-parallel-item:last-child::after {align-self: flex-start;width: 50%;}#sk-container-id-1 div.sk-parallel-item:only-child::after {width: 0;}#sk-container-id-1 div.sk-dashed-wrapped {border: 1px dashed gray;margin: 0 0.4em 0.5em 0.4em;box-sizing: border-box;padding-bottom: 0.4em;background-color: white;}#sk-container-id-1 div.sk-label label {font-family: monospace;font-weight: bold;display: inline-block;line-height: 1.2em;}#sk-container-id-1 div.sk-label-container {text-align: center;}#sk-container-id-1 div.sk-container {/* jupyter's `normalize.less` sets `[hidden] { display: none; }` but bootstrap.min.css set `[hidden] { display: none !important; }` so we also need the `!important` here to be able to override the default hidden behavior on the sphinx rendered scikit-learn.org. See: https://github.com/scikit-learn/scikit-learn/issues/21755 */display: inline-block !important;position: relative;}#sk-container-id-1 div.sk-text-repr-fallback {display: none;}</style><div id=\"sk-container-id-1\" class=\"sk-top-container\"><div class=\"sk-text-repr-fallback\"><pre>ColumnTransformer(transformers=[(&#x27;num&#x27;,\n",
       "                                 Pipeline(steps=[(&#x27;selector&#x27;,\n",
       "                                                  DataFrameSelector(attribute_names=[&#x27;BMI&#x27;,\n",
       "                                                                                     &#x27;MentHlth&#x27;,\n",
       "                                                                                     &#x27;PhysHlth&#x27;])),\n",
       "                                                 (&#x27;std_scaler&#x27;,\n",
       "                                                  StandardScaler())]),\n",
       "                                 [&#x27;BMI&#x27;, &#x27;MentHlth&#x27;, &#x27;PhysHlth&#x27;]),\n",
       "                                (&#x27;ordinal&#x27;,\n",
       "                                 Pipeline(steps=[(&#x27;selector&#x27;,\n",
       "                                                  DataFrameSelector(attribute_names=[&#x27;Diabetes&#x27;,\n",
       "                                                                                     &#x27;GenHlth&#x27;,\n",
       "                                                                                     &#x27;Age&#x27;,\n",
       "                                                                                     &#x27;Education&#x27;,\n",
       "                                                                                     &#x27;Income&#x27;])),\n",
       "                                                 (&#x27;ordinal_encoder&#x27;,\n",
       "                                                  OrdinalE...\n",
       "                                                                                     &#x27;Fruits&#x27;,\n",
       "                                                                                     &#x27;Vegetables&#x27;,\n",
       "                                                                                     &#x27;HvyAlcoholConsump&#x27;,\n",
       "                                                                                     &#x27;AnyHealthcare&#x27;,\n",
       "                                                                                     &#x27;NoDocbcCost&#x27;,\n",
       "                                                                                     &#x27;DiffWalk&#x27;,\n",
       "                                                                                     &#x27;Sex&#x27;,\n",
       "                                                                                     &#x27;FluShot&#x27;,\n",
       "                                                                                     &#x27;KidneyDisease&#x27;,\n",
       "                                                                                     &#x27;MedHighBP&#x27;]))]),\n",
       "                                 [&#x27;HeartDiseaseorAttack&#x27;, &#x27;HighBP&#x27;, &#x27;HighChol&#x27;,\n",
       "                                  &#x27;CholCheck&#x27;, &#x27;Smoker&#x27;, &#x27;Stroke&#x27;,\n",
       "                                  &#x27;PhysActivity&#x27;, &#x27;Fruits&#x27;, &#x27;Vegetables&#x27;,\n",
       "                                  &#x27;HvyAlcoholConsump&#x27;, &#x27;AnyHealthcare&#x27;,\n",
       "                                  &#x27;NoDocbcCost&#x27;, &#x27;DiffWalk&#x27;, &#x27;Sex&#x27;, &#x27;FluShot&#x27;,\n",
       "                                  &#x27;KidneyDisease&#x27;, &#x27;MedHighBP&#x27;])])</pre><b>In a Jupyter environment, please rerun this cell to show the HTML representation or trust the notebook. <br />On GitHub, the HTML representation is unable to render, please try loading this page with nbviewer.org.</b></div><div class=\"sk-container\" hidden><div class=\"sk-item sk-dashed-wrapped\"><div class=\"sk-label-container\"><div class=\"sk-label sk-toggleable\"><input class=\"sk-toggleable__control sk-hidden--visually\" id=\"sk-estimator-id-1\" type=\"checkbox\" ><label for=\"sk-estimator-id-1\" class=\"sk-toggleable__label sk-toggleable__label-arrow\">ColumnTransformer</label><div class=\"sk-toggleable__content\"><pre>ColumnTransformer(transformers=[(&#x27;num&#x27;,\n",
       "                                 Pipeline(steps=[(&#x27;selector&#x27;,\n",
       "                                                  DataFrameSelector(attribute_names=[&#x27;BMI&#x27;,\n",
       "                                                                                     &#x27;MentHlth&#x27;,\n",
       "                                                                                     &#x27;PhysHlth&#x27;])),\n",
       "                                                 (&#x27;std_scaler&#x27;,\n",
       "                                                  StandardScaler())]),\n",
       "                                 [&#x27;BMI&#x27;, &#x27;MentHlth&#x27;, &#x27;PhysHlth&#x27;]),\n",
       "                                (&#x27;ordinal&#x27;,\n",
       "                                 Pipeline(steps=[(&#x27;selector&#x27;,\n",
       "                                                  DataFrameSelector(attribute_names=[&#x27;Diabetes&#x27;,\n",
       "                                                                                     &#x27;GenHlth&#x27;,\n",
       "                                                                                     &#x27;Age&#x27;,\n",
       "                                                                                     &#x27;Education&#x27;,\n",
       "                                                                                     &#x27;Income&#x27;])),\n",
       "                                                 (&#x27;ordinal_encoder&#x27;,\n",
       "                                                  OrdinalE...\n",
       "                                                                                     &#x27;Fruits&#x27;,\n",
       "                                                                                     &#x27;Vegetables&#x27;,\n",
       "                                                                                     &#x27;HvyAlcoholConsump&#x27;,\n",
       "                                                                                     &#x27;AnyHealthcare&#x27;,\n",
       "                                                                                     &#x27;NoDocbcCost&#x27;,\n",
       "                                                                                     &#x27;DiffWalk&#x27;,\n",
       "                                                                                     &#x27;Sex&#x27;,\n",
       "                                                                                     &#x27;FluShot&#x27;,\n",
       "                                                                                     &#x27;KidneyDisease&#x27;,\n",
       "                                                                                     &#x27;MedHighBP&#x27;]))]),\n",
       "                                 [&#x27;HeartDiseaseorAttack&#x27;, &#x27;HighBP&#x27;, &#x27;HighChol&#x27;,\n",
       "                                  &#x27;CholCheck&#x27;, &#x27;Smoker&#x27;, &#x27;Stroke&#x27;,\n",
       "                                  &#x27;PhysActivity&#x27;, &#x27;Fruits&#x27;, &#x27;Vegetables&#x27;,\n",
       "                                  &#x27;HvyAlcoholConsump&#x27;, &#x27;AnyHealthcare&#x27;,\n",
       "                                  &#x27;NoDocbcCost&#x27;, &#x27;DiffWalk&#x27;, &#x27;Sex&#x27;, &#x27;FluShot&#x27;,\n",
       "                                  &#x27;KidneyDisease&#x27;, &#x27;MedHighBP&#x27;])])</pre></div></div></div><div class=\"sk-parallel\"><div class=\"sk-parallel-item\"><div class=\"sk-item\"><div class=\"sk-label-container\"><div class=\"sk-label sk-toggleable\"><input class=\"sk-toggleable__control sk-hidden--visually\" id=\"sk-estimator-id-2\" type=\"checkbox\" ><label for=\"sk-estimator-id-2\" class=\"sk-toggleable__label sk-toggleable__label-arrow\">num</label><div class=\"sk-toggleable__content\"><pre>[&#x27;BMI&#x27;, &#x27;MentHlth&#x27;, &#x27;PhysHlth&#x27;]</pre></div></div></div><div class=\"sk-serial\"><div class=\"sk-item\"><div class=\"sk-serial\"><div class=\"sk-item\"><div class=\"sk-estimator sk-toggleable\"><input class=\"sk-toggleable__control sk-hidden--visually\" id=\"sk-estimator-id-3\" type=\"checkbox\" ><label for=\"sk-estimator-id-3\" class=\"sk-toggleable__label sk-toggleable__label-arrow\">DataFrameSelector</label><div class=\"sk-toggleable__content\"><pre>DataFrameSelector(attribute_names=[&#x27;BMI&#x27;, &#x27;MentHlth&#x27;, &#x27;PhysHlth&#x27;])</pre></div></div></div><div class=\"sk-item\"><div class=\"sk-estimator sk-toggleable\"><input class=\"sk-toggleable__control sk-hidden--visually\" id=\"sk-estimator-id-4\" type=\"checkbox\" ><label for=\"sk-estimator-id-4\" class=\"sk-toggleable__label sk-toggleable__label-arrow\">StandardScaler</label><div class=\"sk-toggleable__content\"><pre>StandardScaler()</pre></div></div></div></div></div></div></div></div><div class=\"sk-parallel-item\"><div class=\"sk-item\"><div class=\"sk-label-container\"><div class=\"sk-label sk-toggleable\"><input class=\"sk-toggleable__control sk-hidden--visually\" id=\"sk-estimator-id-5\" type=\"checkbox\" ><label for=\"sk-estimator-id-5\" class=\"sk-toggleable__label sk-toggleable__label-arrow\">ordinal</label><div class=\"sk-toggleable__content\"><pre>[&#x27;Diabetes&#x27;, &#x27;GenHlth&#x27;, &#x27;Age&#x27;, &#x27;Education&#x27;, &#x27;Income&#x27;]</pre></div></div></div><div class=\"sk-serial\"><div class=\"sk-item\"><div class=\"sk-serial\"><div class=\"sk-item\"><div class=\"sk-estimator sk-toggleable\"><input class=\"sk-toggleable__control sk-hidden--visually\" id=\"sk-estimator-id-6\" type=\"checkbox\" ><label for=\"sk-estimator-id-6\" class=\"sk-toggleable__label sk-toggleable__label-arrow\">DataFrameSelector</label><div class=\"sk-toggleable__content\"><pre>DataFrameSelector(attribute_names=[&#x27;Diabetes&#x27;, &#x27;GenHlth&#x27;, &#x27;Age&#x27;, &#x27;Education&#x27;,\n",
       "                                   &#x27;Income&#x27;])</pre></div></div></div><div class=\"sk-item\"><div class=\"sk-estimator sk-toggleable\"><input class=\"sk-toggleable__control sk-hidden--visually\" id=\"sk-estimator-id-7\" type=\"checkbox\" ><label for=\"sk-estimator-id-7\" class=\"sk-toggleable__label sk-toggleable__label-arrow\">OrdinalEncoder</label><div class=\"sk-toggleable__content\"><pre>OrdinalEncoder()</pre></div></div></div></div></div></div></div></div><div class=\"sk-parallel-item\"><div class=\"sk-item\"><div class=\"sk-label-container\"><div class=\"sk-label sk-toggleable\"><input class=\"sk-toggleable__control sk-hidden--visually\" id=\"sk-estimator-id-8\" type=\"checkbox\" ><label for=\"sk-estimator-id-8\" class=\"sk-toggleable__label sk-toggleable__label-arrow\">cat</label><div class=\"sk-toggleable__content\"><pre>[&#x27;Employment&#x27;]</pre></div></div></div><div class=\"sk-serial\"><div class=\"sk-item\"><div class=\"sk-serial\"><div class=\"sk-item\"><div class=\"sk-estimator sk-toggleable\"><input class=\"sk-toggleable__control sk-hidden--visually\" id=\"sk-estimator-id-9\" type=\"checkbox\" ><label for=\"sk-estimator-id-9\" class=\"sk-toggleable__label sk-toggleable__label-arrow\">DataFrameSelector</label><div class=\"sk-toggleable__content\"><pre>DataFrameSelector(attribute_names=[&#x27;Employment&#x27;])</pre></div></div></div><div class=\"sk-item\"><div class=\"sk-estimator sk-toggleable\"><input class=\"sk-toggleable__control sk-hidden--visually\" id=\"sk-estimator-id-10\" type=\"checkbox\" ><label for=\"sk-estimator-id-10\" class=\"sk-toggleable__label sk-toggleable__label-arrow\">OneHotEncoder</label><div class=\"sk-toggleable__content\"><pre>OneHotEncoder(handle_unknown=&#x27;ignore&#x27;, sparse=False)</pre></div></div></div></div></div></div></div></div><div class=\"sk-parallel-item\"><div class=\"sk-item\"><div class=\"sk-label-container\"><div class=\"sk-label sk-toggleable\"><input class=\"sk-toggleable__control sk-hidden--visually\" id=\"sk-estimator-id-11\" type=\"checkbox\" ><label for=\"sk-estimator-id-11\" class=\"sk-toggleable__label sk-toggleable__label-arrow\">binary</label><div class=\"sk-toggleable__content\"><pre>[&#x27;HeartDiseaseorAttack&#x27;, &#x27;HighBP&#x27;, &#x27;HighChol&#x27;, &#x27;CholCheck&#x27;, &#x27;Smoker&#x27;, &#x27;Stroke&#x27;, &#x27;PhysActivity&#x27;, &#x27;Fruits&#x27;, &#x27;Vegetables&#x27;, &#x27;HvyAlcoholConsump&#x27;, &#x27;AnyHealthcare&#x27;, &#x27;NoDocbcCost&#x27;, &#x27;DiffWalk&#x27;, &#x27;Sex&#x27;, &#x27;FluShot&#x27;, &#x27;KidneyDisease&#x27;, &#x27;MedHighBP&#x27;]</pre></div></div></div><div class=\"sk-serial\"><div class=\"sk-item\"><div class=\"sk-serial\"><div class=\"sk-item\"><div class=\"sk-estimator sk-toggleable\"><input class=\"sk-toggleable__control sk-hidden--visually\" id=\"sk-estimator-id-12\" type=\"checkbox\" ><label for=\"sk-estimator-id-12\" class=\"sk-toggleable__label sk-toggleable__label-arrow\">DataFrameSelector</label><div class=\"sk-toggleable__content\"><pre>DataFrameSelector(attribute_names=[&#x27;HeartDiseaseorAttack&#x27;, &#x27;HighBP&#x27;, &#x27;HighChol&#x27;,\n",
       "                                   &#x27;CholCheck&#x27;, &#x27;Smoker&#x27;, &#x27;Stroke&#x27;,\n",
       "                                   &#x27;PhysActivity&#x27;, &#x27;Fruits&#x27;, &#x27;Vegetables&#x27;,\n",
       "                                   &#x27;HvyAlcoholConsump&#x27;, &#x27;AnyHealthcare&#x27;,\n",
       "                                   &#x27;NoDocbcCost&#x27;, &#x27;DiffWalk&#x27;, &#x27;Sex&#x27;, &#x27;FluShot&#x27;,\n",
       "                                   &#x27;KidneyDisease&#x27;, &#x27;MedHighBP&#x27;])</pre></div></div></div></div></div></div></div></div></div></div></div></div>"
      ],
      "text/plain": [
       "ColumnTransformer(transformers=[('num',\n",
       "                                 Pipeline(steps=[('selector',\n",
       "                                                  DataFrameSelector(attribute_names=['BMI',\n",
       "                                                                                     'MentHlth',\n",
       "                                                                                     'PhysHlth'])),\n",
       "                                                 ('std_scaler',\n",
       "                                                  StandardScaler())]),\n",
       "                                 ['BMI', 'MentHlth', 'PhysHlth']),\n",
       "                                ('ordinal',\n",
       "                                 Pipeline(steps=[('selector',\n",
       "                                                  DataFrameSelector(attribute_names=['Diabetes',\n",
       "                                                                                     'GenHlth',\n",
       "                                                                                     'Age',\n",
       "                                                                                     'Education',\n",
       "                                                                                     'Income'])),\n",
       "                                                 ('ordinal_encoder',\n",
       "                                                  OrdinalE...\n",
       "                                                                                     'Fruits',\n",
       "                                                                                     'Vegetables',\n",
       "                                                                                     'HvyAlcoholConsump',\n",
       "                                                                                     'AnyHealthcare',\n",
       "                                                                                     'NoDocbcCost',\n",
       "                                                                                     'DiffWalk',\n",
       "                                                                                     'Sex',\n",
       "                                                                                     'FluShot',\n",
       "                                                                                     'KidneyDisease',\n",
       "                                                                                     'MedHighBP']))]),\n",
       "                                 ['HeartDiseaseorAttack', 'HighBP', 'HighChol',\n",
       "                                  'CholCheck', 'Smoker', 'Stroke',\n",
       "                                  'PhysActivity', 'Fruits', 'Vegetables',\n",
       "                                  'HvyAlcoholConsump', 'AnyHealthcare',\n",
       "                                  'NoDocbcCost', 'DiffWalk', 'Sex', 'FluShot',\n",
       "                                  'KidneyDisease', 'MedHighBP'])])"
      ]
     },
     "execution_count": 55,
     "metadata": {},
     "output_type": "execute_result"
    }
   ],
   "source": [
    "preprocessing"
   ]
  },
  {
   "cell_type": "code",
   "execution_count": 56,
   "id": "721a3e4b-bd44-495d-8366-52638be287af",
   "metadata": {},
   "outputs": [
    {
     "data": {
      "text/plain": [
       "array(['BMI', 'MentHlth', 'PhysHlth', 'Diabetes', 'GenHlth', 'Age',\n",
       "       'Education', 'Income', 'Employment_1.0', 'Employment_2.0',\n",
       "       'Employment_3.0', 'Employment_4.0', 'Employment_5.0',\n",
       "       'Employment_6.0', 'Employment_7.0', 'Employment_8.0',\n",
       "       'HeartDiseaseorAttack', 'HighBP', 'HighChol', 'CholCheck',\n",
       "       'Smoker', 'Stroke', 'PhysActivity', 'Fruits', 'Vegetables',\n",
       "       'HvyAlcoholConsump', 'AnyHealthcare', 'NoDocbcCost', 'DiffWalk',\n",
       "       'Sex', 'FluShot', 'KidneyDisease', 'MedHighBP'], dtype=object)"
      ]
     },
     "execution_count": 56,
     "metadata": {},
     "output_type": "execute_result"
    }
   ],
   "source": [
    "# get feature names for numerical attributes\n",
    "num_features = np.array(num_attribs)\n",
    "\n",
    "# get feature names for ordinal attributes\n",
    "ordinal_features = np.array(ordinal_attribs)\n",
    "\n",
    "# get feature names for categorical attributes\n",
    "cat_encoder = preprocessing.named_transformers_['cat'].named_steps['cat_encoder']\n",
    "cat_features = cat_encoder.get_feature_names_out(cat_attribs)\n",
    "\n",
    "# get feature names for other attributes\n",
    "binary_features = np.array(binary_attribs)\n",
    "\n",
    "# concatenate all feature names\n",
    "feature_names = np.concatenate((num_features, ordinal_features, cat_features, binary_features), axis=0)\n",
    "feature_names"
   ]
  },
  {
   "cell_type": "code",
   "execution_count": 57,
   "id": "1f2cd9e3-b8b4-4ac4-856b-8158e482d1fc",
   "metadata": {},
   "outputs": [
    {
     "data": {
      "text/html": [
       "<div>\n",
       "<style scoped>\n",
       "    .dataframe tbody tr th:only-of-type {\n",
       "        vertical-align: middle;\n",
       "    }\n",
       "\n",
       "    .dataframe tbody tr th {\n",
       "        vertical-align: top;\n",
       "    }\n",
       "\n",
       "    .dataframe thead th {\n",
       "        text-align: right;\n",
       "    }\n",
       "</style>\n",
       "<table border=\"1\" class=\"dataframe\">\n",
       "  <thead>\n",
       "    <tr style=\"text-align: right;\">\n",
       "      <th></th>\n",
       "      <th>BMI</th>\n",
       "      <th>MentHlth</th>\n",
       "      <th>PhysHlth</th>\n",
       "      <th>Diabetes</th>\n",
       "      <th>GenHlth</th>\n",
       "      <th>Age</th>\n",
       "      <th>Education</th>\n",
       "      <th>Income</th>\n",
       "      <th>Employment_1.0</th>\n",
       "      <th>Employment_2.0</th>\n",
       "      <th>...</th>\n",
       "      <th>Fruits</th>\n",
       "      <th>Vegetables</th>\n",
       "      <th>HvyAlcoholConsump</th>\n",
       "      <th>AnyHealthcare</th>\n",
       "      <th>NoDocbcCost</th>\n",
       "      <th>DiffWalk</th>\n",
       "      <th>Sex</th>\n",
       "      <th>FluShot</th>\n",
       "      <th>KidneyDisease</th>\n",
       "      <th>MedHighBP</th>\n",
       "    </tr>\n",
       "  </thead>\n",
       "  <tbody>\n",
       "    <tr>\n",
       "      <th>0</th>\n",
       "      <td>1.459743</td>\n",
       "      <td>1.768770</td>\n",
       "      <td>0.899124</td>\n",
       "      <td>0.0</td>\n",
       "      <td>4.0</td>\n",
       "      <td>8.0</td>\n",
       "      <td>3.0</td>\n",
       "      <td>2.0</td>\n",
       "      <td>0.0</td>\n",
       "      <td>0.0</td>\n",
       "      <td>...</td>\n",
       "      <td>2.0</td>\n",
       "      <td>1.0</td>\n",
       "      <td>0.0</td>\n",
       "      <td>1.0</td>\n",
       "      <td>2.0</td>\n",
       "      <td>1.0</td>\n",
       "      <td>2.0</td>\n",
       "      <td>1.0</td>\n",
       "      <td>2.0</td>\n",
       "      <td>1.0</td>\n",
       "    </tr>\n",
       "    <tr>\n",
       "      <th>1</th>\n",
       "      <td>-0.287046</td>\n",
       "      <td>3.249205</td>\n",
       "      <td>2.382117</td>\n",
       "      <td>0.0</td>\n",
       "      <td>4.0</td>\n",
       "      <td>8.0</td>\n",
       "      <td>3.0</td>\n",
       "      <td>7.0</td>\n",
       "      <td>0.0</td>\n",
       "      <td>0.0</td>\n",
       "      <td>...</td>\n",
       "      <td>1.0</td>\n",
       "      <td>2.0</td>\n",
       "      <td>0.0</td>\n",
       "      <td>1.0</td>\n",
       "      <td>1.0</td>\n",
       "      <td>1.0</td>\n",
       "      <td>2.0</td>\n",
       "      <td>1.0</td>\n",
       "      <td>2.0</td>\n",
       "      <td>1.0</td>\n",
       "    </tr>\n",
       "    <tr>\n",
       "      <th>2</th>\n",
       "      <td>-0.432612</td>\n",
       "      <td>-0.451882</td>\n",
       "      <td>-0.583870</td>\n",
       "      <td>0.0</td>\n",
       "      <td>1.0</td>\n",
       "      <td>10.0</td>\n",
       "      <td>2.0</td>\n",
       "      <td>5.0</td>\n",
       "      <td>0.0</td>\n",
       "      <td>1.0</td>\n",
       "      <td>...</td>\n",
       "      <td>1.0</td>\n",
       "      <td>1.0</td>\n",
       "      <td>0.0</td>\n",
       "      <td>1.0</td>\n",
       "      <td>2.0</td>\n",
       "      <td>2.0</td>\n",
       "      <td>2.0</td>\n",
       "      <td>1.0</td>\n",
       "      <td>2.0</td>\n",
       "      <td>1.0</td>\n",
       "    </tr>\n",
       "    <tr>\n",
       "      <th>3</th>\n",
       "      <td>-0.869309</td>\n",
       "      <td>-0.081773</td>\n",
       "      <td>-0.583870</td>\n",
       "      <td>0.0</td>\n",
       "      <td>1.0</td>\n",
       "      <td>10.0</td>\n",
       "      <td>4.0</td>\n",
       "      <td>3.0</td>\n",
       "      <td>0.0</td>\n",
       "      <td>0.0</td>\n",
       "      <td>...</td>\n",
       "      <td>1.0</td>\n",
       "      <td>1.0</td>\n",
       "      <td>0.0</td>\n",
       "      <td>1.0</td>\n",
       "      <td>2.0</td>\n",
       "      <td>2.0</td>\n",
       "      <td>2.0</td>\n",
       "      <td>2.0</td>\n",
       "      <td>2.0</td>\n",
       "      <td>1.0</td>\n",
       "    </tr>\n",
       "    <tr>\n",
       "      <th>4</th>\n",
       "      <td>-0.723743</td>\n",
       "      <td>-0.451882</td>\n",
       "      <td>-0.386138</td>\n",
       "      <td>0.0</td>\n",
       "      <td>1.0</td>\n",
       "      <td>9.0</td>\n",
       "      <td>5.0</td>\n",
       "      <td>7.0</td>\n",
       "      <td>0.0</td>\n",
       "      <td>0.0</td>\n",
       "      <td>...</td>\n",
       "      <td>1.0</td>\n",
       "      <td>1.0</td>\n",
       "      <td>0.0</td>\n",
       "      <td>1.0</td>\n",
       "      <td>2.0</td>\n",
       "      <td>2.0</td>\n",
       "      <td>1.0</td>\n",
       "      <td>2.0</td>\n",
       "      <td>2.0</td>\n",
       "      <td>1.0</td>\n",
       "    </tr>\n",
       "    <tr>\n",
       "      <th>...</th>\n",
       "      <td>...</td>\n",
       "      <td>...</td>\n",
       "      <td>...</td>\n",
       "      <td>...</td>\n",
       "      <td>...</td>\n",
       "      <td>...</td>\n",
       "      <td>...</td>\n",
       "      <td>...</td>\n",
       "      <td>...</td>\n",
       "      <td>...</td>\n",
       "      <td>...</td>\n",
       "      <td>...</td>\n",
       "      <td>...</td>\n",
       "      <td>...</td>\n",
       "      <td>...</td>\n",
       "      <td>...</td>\n",
       "      <td>...</td>\n",
       "      <td>...</td>\n",
       "      <td>...</td>\n",
       "      <td>...</td>\n",
       "      <td>...</td>\n",
       "    </tr>\n",
       "    <tr>\n",
       "      <th>114152</th>\n",
       "      <td>1.750874</td>\n",
       "      <td>1.275292</td>\n",
       "      <td>-0.188405</td>\n",
       "      <td>0.0</td>\n",
       "      <td>2.0</td>\n",
       "      <td>2.0</td>\n",
       "      <td>5.0</td>\n",
       "      <td>7.0</td>\n",
       "      <td>1.0</td>\n",
       "      <td>0.0</td>\n",
       "      <td>...</td>\n",
       "      <td>1.0</td>\n",
       "      <td>1.0</td>\n",
       "      <td>0.0</td>\n",
       "      <td>1.0</td>\n",
       "      <td>2.0</td>\n",
       "      <td>2.0</td>\n",
       "      <td>1.0</td>\n",
       "      <td>2.0</td>\n",
       "      <td>2.0</td>\n",
       "      <td>1.0</td>\n",
       "    </tr>\n",
       "    <tr>\n",
       "      <th>114153</th>\n",
       "      <td>2.187571</td>\n",
       "      <td>-0.451882</td>\n",
       "      <td>-0.089539</td>\n",
       "      <td>0.0</td>\n",
       "      <td>2.0</td>\n",
       "      <td>4.0</td>\n",
       "      <td>5.0</td>\n",
       "      <td>6.0</td>\n",
       "      <td>1.0</td>\n",
       "      <td>0.0</td>\n",
       "      <td>...</td>\n",
       "      <td>1.0</td>\n",
       "      <td>1.0</td>\n",
       "      <td>0.0</td>\n",
       "      <td>1.0</td>\n",
       "      <td>2.0</td>\n",
       "      <td>2.0</td>\n",
       "      <td>1.0</td>\n",
       "      <td>2.0</td>\n",
       "      <td>2.0</td>\n",
       "      <td>1.0</td>\n",
       "    </tr>\n",
       "    <tr>\n",
       "      <th>114154</th>\n",
       "      <td>-1.742703</td>\n",
       "      <td>-0.451882</td>\n",
       "      <td>-0.583870</td>\n",
       "      <td>2.0</td>\n",
       "      <td>3.0</td>\n",
       "      <td>10.0</td>\n",
       "      <td>1.0</td>\n",
       "      <td>3.0</td>\n",
       "      <td>0.0</td>\n",
       "      <td>0.0</td>\n",
       "      <td>...</td>\n",
       "      <td>2.0</td>\n",
       "      <td>2.0</td>\n",
       "      <td>0.0</td>\n",
       "      <td>1.0</td>\n",
       "      <td>2.0</td>\n",
       "      <td>1.0</td>\n",
       "      <td>2.0</td>\n",
       "      <td>2.0</td>\n",
       "      <td>2.0</td>\n",
       "      <td>1.0</td>\n",
       "    </tr>\n",
       "    <tr>\n",
       "      <th>114155</th>\n",
       "      <td>-1.014874</td>\n",
       "      <td>-0.451882</td>\n",
       "      <td>-0.583870</td>\n",
       "      <td>0.0</td>\n",
       "      <td>2.0</td>\n",
       "      <td>6.0</td>\n",
       "      <td>4.0</td>\n",
       "      <td>0.0</td>\n",
       "      <td>0.0</td>\n",
       "      <td>0.0</td>\n",
       "      <td>...</td>\n",
       "      <td>1.0</td>\n",
       "      <td>1.0</td>\n",
       "      <td>0.0</td>\n",
       "      <td>1.0</td>\n",
       "      <td>2.0</td>\n",
       "      <td>2.0</td>\n",
       "      <td>1.0</td>\n",
       "      <td>2.0</td>\n",
       "      <td>2.0</td>\n",
       "      <td>1.0</td>\n",
       "    </tr>\n",
       "    <tr>\n",
       "      <th>114156</th>\n",
       "      <td>-0.723743</td>\n",
       "      <td>-0.451882</td>\n",
       "      <td>-0.583870</td>\n",
       "      <td>2.0</td>\n",
       "      <td>1.0</td>\n",
       "      <td>8.0</td>\n",
       "      <td>5.0</td>\n",
       "      <td>1.0</td>\n",
       "      <td>0.0</td>\n",
       "      <td>0.0</td>\n",
       "      <td>...</td>\n",
       "      <td>1.0</td>\n",
       "      <td>2.0</td>\n",
       "      <td>0.0</td>\n",
       "      <td>1.0</td>\n",
       "      <td>2.0</td>\n",
       "      <td>2.0</td>\n",
       "      <td>2.0</td>\n",
       "      <td>2.0</td>\n",
       "      <td>2.0</td>\n",
       "      <td>1.0</td>\n",
       "    </tr>\n",
       "  </tbody>\n",
       "</table>\n",
       "<p>114157 rows × 33 columns</p>\n",
       "</div>"
      ],
      "text/plain": [
       "             BMI  MentHlth  PhysHlth  Diabetes  GenHlth   Age  Education  \\\n",
       "0       1.459743  1.768770  0.899124       0.0      4.0   8.0        3.0   \n",
       "1      -0.287046  3.249205  2.382117       0.0      4.0   8.0        3.0   \n",
       "2      -0.432612 -0.451882 -0.583870       0.0      1.0  10.0        2.0   \n",
       "3      -0.869309 -0.081773 -0.583870       0.0      1.0  10.0        4.0   \n",
       "4      -0.723743 -0.451882 -0.386138       0.0      1.0   9.0        5.0   \n",
       "...          ...       ...       ...       ...      ...   ...        ...   \n",
       "114152  1.750874  1.275292 -0.188405       0.0      2.0   2.0        5.0   \n",
       "114153  2.187571 -0.451882 -0.089539       0.0      2.0   4.0        5.0   \n",
       "114154 -1.742703 -0.451882 -0.583870       2.0      3.0  10.0        1.0   \n",
       "114155 -1.014874 -0.451882 -0.583870       0.0      2.0   6.0        4.0   \n",
       "114156 -0.723743 -0.451882 -0.583870       2.0      1.0   8.0        5.0   \n",
       "\n",
       "        Income  Employment_1.0  Employment_2.0  ...  Fruits  Vegetables  \\\n",
       "0          2.0             0.0             0.0  ...     2.0         1.0   \n",
       "1          7.0             0.0             0.0  ...     1.0         2.0   \n",
       "2          5.0             0.0             1.0  ...     1.0         1.0   \n",
       "3          3.0             0.0             0.0  ...     1.0         1.0   \n",
       "4          7.0             0.0             0.0  ...     1.0         1.0   \n",
       "...        ...             ...             ...  ...     ...         ...   \n",
       "114152     7.0             1.0             0.0  ...     1.0         1.0   \n",
       "114153     6.0             1.0             0.0  ...     1.0         1.0   \n",
       "114154     3.0             0.0             0.0  ...     2.0         2.0   \n",
       "114155     0.0             0.0             0.0  ...     1.0         1.0   \n",
       "114156     1.0             0.0             0.0  ...     1.0         2.0   \n",
       "\n",
       "        HvyAlcoholConsump  AnyHealthcare  NoDocbcCost  DiffWalk  Sex  FluShot  \\\n",
       "0                     0.0            1.0          2.0       1.0  2.0      1.0   \n",
       "1                     0.0            1.0          1.0       1.0  2.0      1.0   \n",
       "2                     0.0            1.0          2.0       2.0  2.0      1.0   \n",
       "3                     0.0            1.0          2.0       2.0  2.0      2.0   \n",
       "4                     0.0            1.0          2.0       2.0  1.0      2.0   \n",
       "...                   ...            ...          ...       ...  ...      ...   \n",
       "114152                0.0            1.0          2.0       2.0  1.0      2.0   \n",
       "114153                0.0            1.0          2.0       2.0  1.0      2.0   \n",
       "114154                0.0            1.0          2.0       1.0  2.0      2.0   \n",
       "114155                0.0            1.0          2.0       2.0  1.0      2.0   \n",
       "114156                0.0            1.0          2.0       2.0  2.0      2.0   \n",
       "\n",
       "        KidneyDisease  MedHighBP  \n",
       "0                 2.0        1.0  \n",
       "1                 2.0        1.0  \n",
       "2                 2.0        1.0  \n",
       "3                 2.0        1.0  \n",
       "4                 2.0        1.0  \n",
       "...               ...        ...  \n",
       "114152            2.0        1.0  \n",
       "114153            2.0        1.0  \n",
       "114154            2.0        1.0  \n",
       "114155            2.0        1.0  \n",
       "114156            2.0        1.0  \n",
       "\n",
       "[114157 rows x 33 columns]"
      ]
     },
     "execution_count": 57,
     "metadata": {},
     "output_type": "execute_result"
    }
   ],
   "source": [
    "preprocessed_df = pd.DataFrame(processed_arr, columns = feature_names)\n",
    "preprocessed_df"
   ]
  },
  {
   "cell_type": "code",
   "execution_count": 58,
   "id": "80129a2e-1b87-44d1-b778-f86455a8e61e",
   "metadata": {},
   "outputs": [],
   "source": [
    "X_processed = preprocessed_df.drop('HeartDiseaseorAttack', axis=1)\n",
    "y = preprocessed_df['HeartDiseaseorAttack']"
   ]
  },
  {
   "cell_type": "markdown",
   "id": "d44d7be7",
   "metadata": {},
   "source": [
    "### Feature selection"
   ]
  },
  {
   "cell_type": "code",
   "execution_count": 59,
   "id": "0c3a1565",
   "metadata": {},
   "outputs": [
    {
     "data": {
      "text/plain": [
       "Index(['BMI', 'MentHlth', 'PhysHlth', 'GenHlth', 'Age', 'Education', 'Income',\n",
       "       'Fruits', 'Vegetables'],\n",
       "      dtype='object')"
      ]
     },
     "execution_count": 59,
     "metadata": {},
     "output_type": "execute_result"
    }
   ],
   "source": [
    "rf = RandomForestClassifier()\n",
    "selector = SelectFromModel(rf, threshold='mean')\n",
    "selector.fit(X_processed, y)\n",
    "\n",
    "X_new = selector.transform(X_processed)\n",
    "selected_features = X_processed.columns[selector.get_support()]\n",
    "selected_features"
   ]
  },
  {
   "cell_type": "code",
   "execution_count": 60,
   "id": "a2a2a3d3-c7cb-48c5-8fc2-97263cc6a510",
   "metadata": {},
   "outputs": [
    {
     "data": {
      "image/png": "[encoded data removed]",
      "text/plain": [
       "<Figure size 864x720 with 2 Axes>"
      ]
     },
     "metadata": {
      "needs_background": "light"
     },
     "output_type": "display_data"
    }
   ],
   "source": [
    "selected_columns = selected_features.tolist() + ['HeartDiseaseorAttack']\n",
    "\n",
    "# define the mask to set the values in the upper triangle to True\n",
    "mask = np.triu(np.ones_like(preprocessed_df[selected_columns].corr()))\n",
    "plt.figure(figsize=(12, 10))\n",
    "heatmap = sns.heatmap(preprocessed_df[selected_columns].corr(), mask=mask, vmin=-1, vmax=1, annot=True, cmap='BrBG')\n",
    "heatmap.set_title('Triangle Correlation Heatmap', fontdict={'fontsize':18}, pad=16);"
   ]
  },
  {
   "cell_type": "markdown",
   "id": "c6349827-b7e1-40ce-8436-0e00a779fedb",
   "metadata": {},
   "source": [
    "The selected_features variable contains a pandas Index object that represents the column labels of the selected features after applying feature selection with the Random Forest Classifier model.\n",
    "\n",
    "In this case, the selected features are 'BMI', 'MentHlth', 'PhysHlth', 'GenHlth', 'Age', 'Education', 'Income', 'Fruits' and 'Vegetables'. These are the columns that had importance scores greater than or equal to the mean importance score of all features.\n",
    "\n",
    "The importance score is a metric that measures the relative importance of each feature in a machine learning model. The score indicates how much a feature contributes to the prediction of the target variable. In other words, it helps to identify which features are most relevant or informative for making accurate predictions."
   ]
  },
  {
   "cell_type": "markdown",
   "id": "6d02a9c0",
   "metadata": {},
   "source": [
    "### Inspect the balance of the dataset"
   ]
  },
  {
   "cell_type": "code",
   "execution_count": 61,
   "id": "834f9346-d14c-481d-8185-bac220d9c54f",
   "metadata": {},
   "outputs": [
    {
     "name": "stdout",
     "output_type": "stream",
     "text": [
      "2.0    95100\n",
      "1.0    19057\n",
      "Name: HeartDiseaseorAttack, dtype: int64\n"
     ]
    }
   ],
   "source": [
    "print(preprocessed_df['HeartDiseaseorAttack'].value_counts())"
   ]
  },
  {
   "cell_type": "code",
   "execution_count": 62,
   "id": "f684c85e-3440-4def-8400-0d6012d43246",
   "metadata": {},
   "outputs": [
    {
     "data": {
      "text/plain": [
       "<AxesSubplot:xlabel='HeartDiseaseorAttack', ylabel='count'>"
      ]
     },
     "execution_count": 62,
     "metadata": {},
     "output_type": "execute_result"
    },
    {
     "data": {
      "image/png": "[encoded data removed]",
      "text/plain": [
       "<Figure size 432x288 with 1 Axes>"
      ]
     },
     "metadata": {
      "needs_background": "light"
     },
     "output_type": "display_data"
    }
   ],
   "source": [
    "sns.countplot(x='HeartDiseaseorAttack', data=preprocessed_df)"
   ]
  },
  {
   "cell_type": "markdown",
   "id": "97c334c8-3b42-4456-bd34-7725e3b82fbc",
   "metadata": {},
   "source": [
    "**Implications of an unbalanced dataset**\n",
    "\n",
    "An unbalanced dataset refers to a situation where the distribution of classes in the dataset is not equal or nearly equal. The dataset at hand is unbalanced, as it contains significantly more cases with people without a heart disease: the target-variable ‘HeartDiseaseorAttack‘ contains 229.787 entries without (0) and only 23.893 people with a heart disease (1). \n",
    "\n",
    "This causes several challenges:\n",
    "1.\t**Bias:** The model may be biased towards the majority class. This is because the model is optimized to minimize the overall error rate, which means it will focus more on the majority class (people without heart disease) at the expense of the minority class (people with heart disease).\n",
    "2.\t**Poor generalization:** The model may not generalize well to new data. This is because the model has not learned enough about the minority class (people with heart disease) to make accurate predictions.\n",
    "3.\t**Scoring metrics:** Some scoring metrics may not be a good choice for evaluating the classification of the unbalanced dataset. For example, precision can be high even when a model performs poorly on the minority class. This is because precision only takes into account the positive predictions made by the model, regardless of whether they belong to the majority or minority class. Additionally, accuracy is not a reliable metric to evaluate the performance of a classifier on unbalanced datasets. For example, a classifier that always predicts ‘no heart disease’ would have a high accurary but fail to identify the minority class. \n",
    "\n",
    "We address these issues the following way:\n",
    "1.\tWe use the scoring metric recall because it takes into account the performance of the model on the minority class and because is particularly useful when the minority class (people with heart disease) is of greater importance than the majority class, as it reflects the ability of the model to correctly identify positive examples, regardless of their frequency. However, recall alone may not be sufficient to evaluate the performance of a model on an unbalanced dataset. The recall might be very low because the model is biased towards the majority class. Thus, we will also use the F1 score (harmonic mean of precision and recall) as it is also a frequently used metric to evaluate models trained on unbalanced datasets to provide a more complete evaluation of the model’s performance. \n",
    "\n",
    "2.\tWe will use class weighting to rebalance the dataset to give more importance to the minority class (people with heart disease) in the dataset set. The goal of the class weighting is to improve the performance of the model on the minority class for people with a heart disease. \n"
   ]
  },
  {
   "cell_type": "markdown",
   "id": "0bbe962d-42b6-43f6-b4be-435e387f13f0",
   "metadata": {},
   "source": [
    "# Setting up the different train and test sets to be used"
   ]
  },
  {
   "cell_type": "code",
   "execution_count": 63,
   "id": "da3438fe-01b6-49aa-acb5-6de88400f4d9",
   "metadata": {},
   "outputs": [],
   "source": [
    "# split data into training and testing data sets, use processed X\n",
    "# use all of the features\n",
    "X_train_all, X_test_all, y_train_all, y_test_all = train_test_split(X_processed, y, test_size = 0.2, random_state=seed)\n",
    "\n",
    "# use the features identified by feature selection\n",
    "X_train_sel, X_test_sel, y_train_sel, y_test_sel = train_test_split(X_processed[selected_features], y, test_size = 0.2, random_state=seed)\n",
    "\n",
    "# set different class weights\n",
    "wt1 = {0:1, 1:2}\n",
    "wt2 = {0:1, 1:5}\n",
    "wt3 = {0:1, 1:10}"
   ]
  },
  {
   "cell_type": "markdown",
   "id": "0644d3f8",
   "metadata": {},
   "source": [
    "# Testing different models on the various datasets\n",
    "To compare the performance of the tested models we define a dataframe. This dataframe contains the scores of the models with each dataset. The scores are added to the dataframe by the scoring function defined below."
   ]
  },
  {
   "cell_type": "code",
   "execution_count": 196,
   "id": "d6af8b52",
   "metadata": {},
   "outputs": [],
   "source": [
    "scoring_df = pd.DataFrame(columns = [\"Model\", \"Dataset\", \"Accuracy\", \"Precision\", \"Recall\", \"ROC AUC\"])"
   ]
  },
  {
   "cell_type": "code",
   "execution_count": 197,
   "id": "8a1771d6",
   "metadata": {},
   "outputs": [],
   "source": [
    "def scoring(model, dataset, test, pred):\n",
    "    global scoring_df\n",
    "    accuracy = accuracy_score(test, pred)\n",
    "    precision = precision_score(test, pred)\n",
    "    recall = recall_score(test, pred)\n",
    "    roc_auc = roc_auc_score(test, pred)\n",
    "\n",
    "    print('Accuracy:', accuracy)\n",
    "    print('Precision:', precision)\n",
    "    print('Recall:', recall)\n",
    "    print('ROC AUC:', roc_auc)\n",
    "    \n",
    "    scoring_df = scoring_df.append({\"Model\" : model, \"Dataset\" : dataset, \"Accuracy\" : accuracy, \"Precision\": precision,\n",
    "                                    \"Recall\" : recall, \"ROC AUC\" : roc_auc}, ignore_index = True)"
   ]
  },
  {
   "cell_type": "markdown",
   "id": "87f682a8-8181-488e-89c8-2e3bc1cdc113",
   "metadata": {
    "jp-MarkdownHeadingCollapsed": true,
    "tags": []
   },
   "source": [
    "# Logistic Regression"
   ]
  },
  {
   "cell_type": "code",
   "execution_count": 198,
   "id": "52f3536f-e5bf-41db-b210-124e820bfe4e",
   "metadata": {},
   "outputs": [
    {
     "name": "stdout",
     "output_type": "stream",
     "text": [
      "Accuracy: 0.9546651617757712\n",
      "Precision: 0.9971876255524307\n",
      "Recall: 0.7217214306484443\n",
      "ROC AUC: 0.8606643618880371\n"
     ]
    }
   ],
   "source": [
    "# Logistic Regression using all features and no class weights\n",
    "logreg = LogisticRegression(max_iter=10000)\n",
    "logreg.fit(X_train_all, y_train_all)\n",
    "y_pred_all = logreg.predict(X_test_all)\n",
    "\n",
    "scoring(\"Logistic Regression\", \"All Features, no weights\", y_test_all, y_pred_all)"
   ]
  },
  {
   "cell_type": "code",
   "execution_count": 199,
   "id": "cc63e82f-90f7-4cba-b823-40dee500d9c7",
   "metadata": {},
   "outputs": [
    {
     "name": "stdout",
     "output_type": "stream",
     "text": [
      "Accuracy: 0.9478461249059443\n",
      "Precision: 0.9379699248120301\n",
      "Recall: 0.7255015993021227\n",
      "ROC AUC: 0.8581224686552689\n"
     ]
    }
   ],
   "source": [
    "# Logistic Regression with all features and 2:1 class weights\n",
    "logreg_wt1 = LogisticRegressionCV(class_weight=wt1, cv=10, max_iter=10000)\n",
    "logreg_wt1.fit(X_train_all, y_train_all)\n",
    "y_pred_wt1 = logreg_wt1.predict(X_test_all)\n",
    "\n",
    "scoring(\"Logistic Regression\", \"All Features, 2:1 weights\", y_test_all, y_pred_all_wt1)"
   ]
  },
  {
   "cell_type": "code",
   "execution_count": 200,
   "id": "2dbb11bd-32b3-48a8-a9eb-4d2df1edf040",
   "metadata": {},
   "outputs": [
    {
     "name": "stdout",
     "output_type": "stream",
     "text": [
      "Accuracy: 0.9469525959367946\n",
      "Precision: 0.9306746179649646\n",
      "Recall: 0.726083163710381\n",
      "ROC AUC: 0.8578241905508426\n"
     ]
    }
   ],
   "source": [
    "# Logistic Regression with all features and 5:1 class weights\n",
    "logreg_wt2 = LogisticRegressionCV(class_weight=wt2, cv=10, max_iter=10000)\n",
    "logreg_wt2.fit(X_train_all, y_train_all)\n",
    "y_pred_wt2 = logreg_wt2.predict(X_test_all)\n",
    "\n",
    "scoring(\"Logistic Regression\", \"All Features, 5:1 weights\", y_test_all, y_pred_all_wt2)"
   ]
  },
  {
   "cell_type": "code",
   "execution_count": 201,
   "id": "345ef7aa-4fcd-4199-b358-5de89183b417",
   "metadata": {},
   "outputs": [
    {
     "name": "stdout",
     "output_type": "stream",
     "text": [
      "Accuracy: 0.9468115124153499\n",
      "Precision: 0.9296351451973194\n",
      "Recall: 0.726083163710381\n",
      "ROC AUC: 0.8577400390781919\n"
     ]
    }
   ],
   "source": [
    "# Logistic Regression with all features and 10:1 class weights\n",
    "logreg_wt3 = LogisticRegressionCV(class_weight=wt3, cv=10, max_iter=10000)\n",
    "logreg_wt3.fit(X_train_all, y_train_all)\n",
    "y_pred_wt3 = logreg_wt3.predict(X_test_all)\n",
    "\n",
    "scoring(\"Logistic Regression\", \"All Features, 10:1 weights\", y_test_all, y_pred_all_wt3)"
   ]
  },
  {
   "cell_type": "code",
   "execution_count": 202,
   "id": "6f788cce-bbfe-4a8b-8014-a363a183e6a8",
   "metadata": {},
   "outputs": [
    {
     "name": "stdout",
     "output_type": "stream",
     "text": [
      "Accuracy: 0.9549473288186606\n",
      "Precision: 1.0\n",
      "Recall: 0.7214306484443153\n",
      "ROC AUC: 0.8607153242221577\n"
     ]
    }
   ],
   "source": [
    "# Logistic Regression with all features and no class weights\n",
    "logreg_sel = LogisticRegression(max_iter=10000)\n",
    "logreg_sel.fit(X_train_sel, y_train_sel)\n",
    "y_pred_sel = logreg_sel.predict(X_test_sel)\n",
    "\n",
    "scoring(\"Logistic Regression\", \"Selected Features, no weights\", y_test_sel, y_pred_sel)"
   ]
  },
  {
   "cell_type": "code",
   "execution_count": 203,
   "id": "c72eca4f-b804-4088-b853-9210bdd981e2",
   "metadata": {},
   "outputs": [
    {
     "name": "stdout",
     "output_type": "stream",
     "text": [
      "Accuracy: 0.9549473288186606\n",
      "Precision: 1.0\n",
      "Recall: 0.7214306484443153\n",
      "ROC AUC: 0.8607153242221577\n"
     ]
    }
   ],
   "source": [
    "# Logistic Regression with all features and 2:1 class weights\n",
    "logreg_sel_wt1 = LogisticRegressionCV(class_weight=wt1, cv=10, max_iter=10000)\n",
    "logreg_sel_wt1.fit(X_train_sel, y_train_sel)\n",
    "y_pred_sel_wt1 = logreg_sel_wt1.predict(X_test_sel)\n",
    "\n",
    "scoring(\"Logistic Regression\", \"Selected Features, 2:1 weights\", y_test_sel, y_pred_sel_wt1)"
   ]
  },
  {
   "cell_type": "code",
   "execution_count": 204,
   "id": "2960bf55-0307-4f68-8a9a-ec1eed5f5c7d",
   "metadata": {},
   "outputs": [
    {
     "name": "stdout",
     "output_type": "stream",
     "text": [
      "Accuracy: 0.941826561324304\n",
      "Precision: 0.8820263705759889\n",
      "Recall: 0.7391683628961907\n",
      "ROC AUC: 0.8600470145476746\n"
     ]
    }
   ],
   "source": [
    "# Logistic Regression with all features and 5:1 class weights\n",
    "logreg_sel_wt2 = LogisticRegressionCV(class_weight=wt2, cv=10, max_iter=10000)\n",
    "logreg_sel_wt2.fit(X_train_sel, y_train_sel)\n",
    "y_pred_sel_wt2 = logreg_sel_wt2.predict(X_test_sel)\n",
    "\n",
    "scoring(\"Logistic Regression\", \"Selected Features, 5:1 weights\", y_test_sel, y_pred_sel_wt2)"
   ]
  },
  {
   "cell_type": "code",
   "execution_count": 205,
   "id": "d4a8feaf-2c8f-425b-9ca8-44662c33ae93",
   "metadata": {},
   "outputs": [
    {
     "name": "stdout",
     "output_type": "stream",
     "text": [
      "Accuracy: 0.856612114371708\n",
      "Precision: 0.5377030162412993\n",
      "Recall: 0.8086653096830474\n",
      "ROC AUC: 0.8372639311388589\n"
     ]
    }
   ],
   "source": [
    "# Logistic Regression with all features and 10:1 class weights\n",
    "logreg_sel_wt3 = LogisticRegressionCV(class_weight=wt3, cv=10, max_iter=10000)\n",
    "logreg_sel_wt3.fit(X_train_sel, y_train_sel)\n",
    "y_pred_sel_wt3 = logreg_sel_wt3.predict(X_test_sel)\n",
    "\n",
    "scoring(\"Logistic Regression\", \"Selected Features, 10:1 weights\", y_test_sel, y_pred_sel_wt3)"
   ]
  },
  {
   "cell_type": "markdown",
   "id": "03ad78a3-aaab-45f3-84c5-08927dac573a",
   "metadata": {},
   "source": [
    "Accuracy measures the number of correct predictions made by the model compared to all predictions. However, the high accuracy score can be misleading in imbalanced datasets where one class is much more frequent than the others. This is the case in this dataset (229,787 no heart-disease, 23,893 heart-disease). If the model would always predict the majority class (no heart-disease) can have a high accuracy but still fail to capture the minority class (heart-disease).\n",
    "\n",
    "Precision measures how well a model can predict positive examples. It is a useful metric when the cost of false positives is high.\n",
    "\n",
    "The recall measures how well a model can identify positive examples. It is a useful metric when the cost of false negatives is high.\n",
    "\n",
    "AUC is a metric suited for imbalanced datasets. AUC measures the overall performance of a binary classifier by computing the area under the ROC curve, which plots the true positive rate against the false positive rate for different classification thresholds. A high AUC score indicates that the classifier is able to distinguish between the positive and negative classes effectively, regardless of the class distribution. This makes the AUC an important mectric in this case. Measuring the AUC, the model is performing very badly. It has a AUC score of 0.5, which is the same as it would be randomly guessing."
   ]
  },
  {
   "cell_type": "markdown",
   "id": "2c274d8c-61bc-49c8-9d94-95d698799b00",
   "metadata": {},
   "source": [
    "The ROC AUC is still very low, even after altering the weight. Therefore, we will continue building the model including all features."
   ]
  },
  {
   "cell_type": "markdown",
   "id": "53025ee1-c00e-4720-8b75-76d68ae52f47",
   "metadata": {
    "jp-MarkdownHeadingCollapsed": true,
    "tags": []
   },
   "source": [
    "# Clustering"
   ]
  },
  {
   "cell_type": "markdown",
   "id": "ce1acbe1-7b7d-44b8-a198-4ccb7a4ad928",
   "metadata": {},
   "source": [
    "Using all features"
   ]
  },
  {
   "cell_type": "code",
   "execution_count": null,
   "id": "e5c0899a-0464-4068-90d4-248c8d7b2609",
   "metadata": {},
   "outputs": [],
   "source": [
    "# Create k-mean object\n",
    "clt = KMeans(n_clusters=3, random_state=0) #, n_jobs=-1)\n",
    "\n",
    "# Train model\n",
    "model = clt.fit(X_processed)\n",
    "labels = model.predict(X_processed)"
   ]
  },
  {
   "cell_type": "code",
   "execution_count": null,
   "id": "ffe2a0dd-5eaa-4506-aa3e-c03a5bf3f691",
   "metadata": {},
   "outputs": [],
   "source": [
    "silhouette = silhouette_score(X_processed, labels)\n",
    "silhouette"
   ]
  },
  {
   "cell_type": "code",
   "execution_count": null,
   "id": "a1a47f7d-6fd3-491f-b0b4-3776d5e1b3c0",
   "metadata": {},
   "outputs": [],
   "source": [
    "# Define a range of possible number of clusters\n",
    "range_n_clusters = [2, 3, 4, 5, 6, 7, 8]\n",
    "\n",
    "# Initialize the silhouette scores list\n",
    "silhouette_scores = []\n",
    "\n",
    "# Loop over the range of possible number of clusters\n",
    "for n_clusters in range_n_clusters:\n",
    "    # Initialize the KMeans model\n",
    "    model = KMeans(n_clusters=n_clusters, random_state=0)\n",
    "    \n",
    "    # Fit the model to the data\n",
    "    model.fit(X_processed)\n",
    "    \n",
    "    # Predict the cluster labels for each data point\n",
    "    labels = model.predict(X_processed)\n",
    "    \n",
    "    # Calculate the silhouette score\n",
    "    silhouette_score_ = silhouette_score(X_processed, labels)\n",
    "    \n",
    "    # Append the silhouette score to the list\n",
    "    silhouette_scores.append(silhouette_score_)\n",
    "\n",
    "# Find the number of clusters with the highest silhouette score\n",
    "best_n_clusters = range_n_clusters[np.argmax(silhouette_scores)]\n",
    "\n",
    "print(\"The optimal number of clusters is:\", best_n_clusters)"
   ]
  },
  {
   "cell_type": "code",
   "execution_count": null,
   "id": "8b0cb8ae-9eaf-4654-95d0-7323e2af0130",
   "metadata": {},
   "outputs": [],
   "source": [
    "# Initialize the KMeans model with best number of clusters\n",
    "model = KMeans(n_clusters=best_n_clusters, random_state=0)\n",
    "\n",
    "# Fit the model to the data\n",
    "model.fit(X_processed)\n",
    "\n",
    "# Predict the cluster labels for each data point\n",
    "labels = model.predict(X_processed)\n",
    "\n",
    "# Plot the data points with different colors representing different clusters\n",
    "for label in np.unique(labels):\n",
    "    data = X_processed[labels == label]\n",
    "    plt.scatter(data[:, 0], data[:, 1], label=f\"Cluster {label}\")\n",
    "\n",
    "plt.legend()\n",
    "plt.show()"
   ]
  },
  {
   "cell_type": "markdown",
   "id": "708453e1-7ebc-4b89-a6bc-0f1e9a61ff64",
   "metadata": {
    "jp-MarkdownHeadingCollapsed": true,
    "tags": []
   },
   "source": [
    "# Decision Tree Using All Features"
   ]
  },
  {
   "cell_type": "code",
   "execution_count": null,
   "id": "4be6010d-6558-4d39-9c55-662f5a896f43",
   "metadata": {},
   "outputs": [],
   "source": [
    "X = heart_df.drop('HeartDiseaseorAttack', axis=1) # features\n",
    "y = heart_df['HeartDiseaseorAttack'] # target variable\n",
    "\n",
    "# splitting data to understand model performance\n",
    "X_train, X_test, y_train, y_test = train_test_split(X, y, test_size=0.3, random_state=1) # 70% training and 30% test\n",
    "\n",
    "# create decision tree classifier object\n",
    "tree_clf = DecisionTreeClassifier(max_depth=10, random_state=42)\n",
    "\n",
    "# train decision tree with training data\n",
    "tree_clf.fit(X_train, y_train)\n",
    "\n",
    "# predict y for test set\n",
    "y_pred = tree_clf.predict(X_test)"
   ]
  },
  {
   "cell_type": "markdown",
   "id": "a45604f7-363a-4b2f-ba1e-2c21474f26ea",
   "metadata": {},
   "source": [
    "evaluating the model performance"
   ]
  },
  {
   "cell_type": "code",
   "execution_count": null,
   "id": "d6a0f2ed-6b6a-4166-98fd-4ed2ef25173e",
   "metadata": {},
   "outputs": [],
   "source": [
    "# Model Accuracy, how often is the classifier correct?\n",
    "print(\"Accuracy:\", accuracy_score(y_test, y_pred))\n",
    "print('Precision:', precision_score(y_test, y_pred))\n",
    "print('Recall:', recall_score(y_test, y_pred))\n",
    "print('ROC AUC:', roc_auc_score(y_test, y_pred))"
   ]
  },
  {
   "cell_type": "code",
   "execution_count": null,
   "id": "0c8b669c-b8e4-4a1c-9885-7f066787dd64",
   "metadata": {},
   "outputs": [],
   "source": [
    "fig = plt.figure(figsize=(25,20))\n",
    "_ = tree.plot_tree(tree_clf, \n",
    "                   feature_names=list(X.columns),  \n",
    "                   class_names=['0','1'],\n",
    "                   filled=True)"
   ]
  },
  {
   "cell_type": "code",
   "execution_count": null,
   "id": "93a480c5-770f-4205-a9f7-17bf5815e492",
   "metadata": {},
   "outputs": [],
   "source": [
    "cf_matrix = confusion_matrix(y_test, y_pred)\n",
    "\n",
    "group_names = [\"True Neg\",\"False Pos\",\"False Neg\",\"True Pos\"]\n",
    "group_counts = [\"{0:0.0f}\".format(value) for value in cf_matrix.flatten()]\n",
    "group_percentages = [\"{0:.2%}\".format(value) for value in cf_matrix.flatten()/np.sum(cf_matrix)]\n",
    "labels = [f\"{v1}\\n{v2}\\n{v3}\" for v1, v2, v3 in\n",
    "          zip(group_names,group_counts,group_percentages)]\n",
    "labels = np.asarray(labels).reshape(2,2)\n",
    "\n",
    "sns.heatmap(cf_matrix, annot=labels, fmt=\"\", cmap='Blues')\n",
    "plt.xlabel('Predicted Labels')\n",
    "plt.ylabel('Actual Labels')\n",
    "plt.show()"
   ]
  },
  {
   "cell_type": "markdown",
   "id": "db20d1ee-a6d6-4e92-b95c-0379871a1655",
   "metadata": {
    "jp-MarkdownHeadingCollapsed": true,
    "tags": []
   },
   "source": [
    "# Decision Tree using selected features"
   ]
  },
  {
   "cell_type": "code",
   "execution_count": null,
   "id": "448a18da-f599-4f10-add5-af4b7f751f7b",
   "metadata": {},
   "outputs": [],
   "source": [
    "X = heart_df.drop('HeartDiseaseorAttack', axis=1)\n",
    "X_sel = selected_df = X[selected_features].copy()\n",
    "\n",
    "y = heart_df['HeartDiseaseorAttack']\n",
    "\n",
    "# splitting data to understand model performance\n",
    "X_train, X_test, y_train, y_test = train_test_split(X_sel, y, test_size=0.3, random_state=1) # 70% training and 30% test\n",
    "\n",
    "# create decision tree classifier object\n",
    "tree_clf_sel = DecisionTreeClassifier(max_depth=10, min_samples_split=5, random_state=42)\n",
    "\n",
    "# train decision tree with training data\n",
    "tree_clf_sel.fit(X_train, y_train)\n",
    "\n",
    "# predict y for test set\n",
    "y_pred = tree_clf_sel.predict(X_test)"
   ]
  },
  {
   "cell_type": "code",
   "execution_count": null,
   "id": "458f9bc0-cfee-4eaa-a561-429cbbafd673",
   "metadata": {},
   "outputs": [],
   "source": [
    "# Model Accuracy, how often is the classifier correct?\n",
    "print(\"Accuracy:\", accuracy_score(y_test, y_pred))\n",
    "print('Precision:', precision_score(y_test, y_pred))\n",
    "print('Recall:', recall_score(y_test, y_pred))\n",
    "print('ROC AUC:', roc_auc_score(y_test, y_pred))"
   ]
  },
  {
   "cell_type": "code",
   "execution_count": null,
   "id": "2c29e1b6-bcf6-4aa5-aef7-6d5c5dfe49f0",
   "metadata": {},
   "outputs": [],
   "source": [
    "fig = plt.figure(figsize=(25,20))\n",
    "_ = tree.plot_tree(tree_clf_sel, \n",
    "                   feature_names=list(X.columns),  \n",
    "                   class_names=['0','1'],\n",
    "                   filled=True)"
   ]
  },
  {
   "cell_type": "code",
   "execution_count": null,
   "id": "e83d59b0-5642-4fe7-8de2-29e775ac58d3",
   "metadata": {},
   "outputs": [],
   "source": [
    "cf_matrix = confusion_matrix(y_test, y_pred)\n",
    "\n",
    "group_names = [\"True Neg\",\"False Pos\",\"False Neg\",\"True Pos\"]\n",
    "group_counts = [\"{0:0.0f}\".format(value) for value in cf_matrix.flatten()]\n",
    "group_percentages = [\"{0:.2%}\".format(value) for value in cf_matrix.flatten()/np.sum(cf_matrix)]\n",
    "labels = [f\"{v1}\\n{v2}\\n{v3}\" for v1, v2, v3 in\n",
    "          zip(group_names,group_counts,group_percentages)]\n",
    "labels = np.asarray(labels).reshape(2,2)\n",
    "\n",
    "sns.heatmap(cf_matrix, annot=labels, fmt=\"\", cmap='Blues')\n",
    "plt.xlabel('Predicted Labels')\n",
    "plt.ylabel('Actual Labels')\n",
    "plt.show()"
   ]
  },
  {
   "cell_type": "code",
   "execution_count": null,
   "id": "84ff0f40-2c45-425e-ab0e-7cb9c534d6b2",
   "metadata": {},
   "outputs": [],
   "source": [
    "# Split the data into training and testing sets\n",
    "X_train, X_test, y_train, y_test = train_test_split(X, y, test_size=0.3)\n",
    "\n",
    "# Apply SMOTE to oversample the minority class\n",
    "smote = SMOTE(random_state=42)\n",
    "X_train_resampled, y_train_resampled = smote.fit_resample(X_train, y_train)\n",
    "\n",
    "# Train a decision tree classifier with tuned hyperparameters\n",
    "tree_clf = DecisionTreeClassifier(max_depth=5, min_samples_split=5, random_state=42)\n",
    "tree_clf.fit(X_train_resampled, y_train_resampled)\n",
    "\n",
    "# Evaluate the model on the testing set\n",
    "y_pred = tree_clf.predict(X_test)\n",
    "print(classification_report(y_test, y_pred))"
   ]
  },
  {
   "cell_type": "markdown",
   "id": "d6b2a7fa-d5dc-4896-9cd6-82dd7433bf60",
   "metadata": {},
   "source": [
    "# Neural Network"
   ]
  },
  {
   "cell_type": "code",
   "execution_count": null,
   "id": "773aa71a-e660-43c5-b71e-329e6a3223fa",
   "metadata": {},
   "outputs": [],
   "source": [
    "from keras.models import Sequential\n",
    "from keras.layers import Dense, Dropout\n",
    "from sklearn.model_selection import train_test_split\n",
    "\n",
    "# Load preprocessed data\n",
    "X = np.load('preprocessed_features.npy')\n",
    "y = np.load('labels.npy')\n",
    "\n",
    "# Split data into training and testing sets\n",
    "X_train, X_test, y_train, y_test = train_test_split(X, y, test_size=0.2, stratify=y)\n",
    "\n",
    "# Define model architecture\n",
    "model = Sequential()\n",
    "model.add(Dense(16, input_dim=X_train.shape[1], activation='relu'))\n",
    "model.add(Dense(8, activation='relu'))\n",
    "model.add(Dense(1, activation='sigmoid'))\n",
    "\n",
    "# Compile the model\n",
    "model.compile(loss='binary_crossentropy', optimizer='adam', metrics=['accuracy'])\n",
    "\n",
    "# Train the model\n",
    "model.fit(X_train, y_train, epochs=100, batch_size=32, validation_split=0.2)\n",
    "\n",
    "# Evaluate the model on the test set\n",
    "loss, accuracy = model.evaluate(X_test, y_test)\n",
    "print('Test accuracy:', accuracy)\n"
   ]
  },
  {
   "cell_type": "markdown",
   "id": "d0d4ae0c",
   "metadata": {},
   "source": [
    "# The random forest model\n",
    "Random forest builds multiple decision trees and merges them together to get a more accurate and stable prediction which is why we decided to focus on building a random forest model rather than a decision tree."
   ]
  },
  {
   "cell_type": "code",
   "execution_count": 206,
   "id": "7472f48a",
   "metadata": {},
   "outputs": [
    {
     "name": "stdout",
     "output_type": "stream",
     "text": [
      "Accuracy: 0.9521256583897667\n",
      "Precision: 0.9737769080234834\n",
      "Recall: 0.723466123873219\n",
      "ROC AUC: 0.859853679047409\n"
     ]
    }
   ],
   "source": [
    "# Random Forest Model using all features and no weights\n",
    "rf_clf = RandomForestClassifier(random_state=42)\n",
    "rf_clf.fit(X_train_all, y_train_all)\n",
    "y_pred_all = rf_clf.predict(X_test_all)\n",
    "\n",
    "scoring(\"Random Forest\", \"All Features, no weights\", y_test_all, y_pred_all)"
   ]
  },
  {
   "cell_type": "code",
   "execution_count": 207,
   "id": "e8559cf8",
   "metadata": {},
   "outputs": [
    {
     "name": "stdout",
     "output_type": "stream",
     "text": [
      "Accuracy: 0.951232129420617\n",
      "Precision: 0.9662267080745341\n",
      "Recall: 0.7237569060773481\n",
      "ROC AUC: 0.8594380603318018\n"
     ]
    }
   ],
   "source": [
    "# Random Forest Model with all features and 2:1 class weights\n",
    "rf_clf_wt1 = RandomForestClassifier(class_weight=wt1, random_state=42)\n",
    "rf_clf_wt1.fit(X_train_all, y_train_all)\n",
    "y_pred_all_wt1 = rf_clf_wt1.predict(X_test_all)\n",
    "\n",
    "scoring(\"Random Forest\", \"All Features, 2:1 weights\", y_test_all, y_pred_all_wt1)"
   ]
  },
  {
   "cell_type": "code",
   "execution_count": 208,
   "id": "6c9e8701",
   "metadata": {},
   "outputs": [
    {
     "name": "stdout",
     "output_type": "stream",
     "text": [
      "Accuracy: 0.9502445447705041\n",
      "Precision: 0.9573568958893585\n",
      "Recall: 0.7246292526897354\n",
      "ROC AUC: 0.8592010218567893\n"
     ]
    }
   ],
   "source": [
    "# Random Forest Model with all features and 5:1 class weights\n",
    "rf_clf_wt2 = RandomForestClassifier(class_weight=wt2, random_state=42)\n",
    "rf_clf_wt2.fit(X_train_all, y_train_all)\n",
    "y_pred_all_wt2 = rf_clf_wt2.predict(X_test_all)\n",
    "\n",
    "scoring(\"Random Forest\", \"All Features, 5:1 weights\", y_test_all, y_pred_all_wt2)"
   ]
  },
  {
   "cell_type": "code",
   "execution_count": 209,
   "id": "3be53679",
   "metadata": {},
   "outputs": [
    {
     "name": "stdout",
     "output_type": "stream",
     "text": [
      "Accuracy: 0.949398043641836\n",
      "Precision: 0.950438429279451\n",
      "Recall: 0.7249200348938645\n",
      "ROC AUC: 0.8588134536320655\n"
     ]
    }
   ],
   "source": [
    "# Random Forest Model with all features and 10:1 class weights\n",
    "rf_clf_wt3 = RandomForestClassifier(class_weight=wt3, random_state=42)\n",
    "rf_clf_wt3.fit(X_train_all, y_train_all)\n",
    "y_pred_all_wt3 = rf_clf_wt3.predict(X_test_all)\n",
    "\n",
    "scoring(\"Random Forest\", \"All Features, 10:1 weights\", y_test_all, y_pred_all_wt3)"
   ]
  },
  {
   "cell_type": "code",
   "execution_count": 210,
   "id": "3ad48de0",
   "metadata": {},
   "outputs": [
    {
     "name": "stdout",
     "output_type": "stream",
     "text": [
      "Accuracy: 0.9509499623777277\n",
      "Precision: 0.9629057187017002\n",
      "Recall: 0.7246292526897354\n",
      "ROC AUC: 0.8596217792200431\n"
     ]
    }
   ],
   "source": [
    "# Random Forest Model with selected features and no class weights\n",
    "rf_clf_sel = RandomForestClassifier(random_state=42)\n",
    "rf_clf_sel.fit(X_train_sel, y_train_sel)\n",
    "y_pred_sel = rf_clf_sel.predict(X_test_sel)\n",
    "\n",
    "scoring(\"Random Forest\", \"Selected Features, no weights\", y_test_sel, y_pred_sel)"
   ]
  },
  {
   "cell_type": "code",
   "execution_count": 211,
   "id": "20648402",
   "metadata": {},
   "outputs": [
    {
     "name": "stdout",
     "output_type": "stream",
     "text": [
      "Accuracy: 0.9466234010534236\n",
      "Precision: 0.9269829503335805\n",
      "Recall: 0.7272462925268973\n",
      "ROC AUC: 0.8580971995593815\n"
     ]
    }
   ],
   "source": [
    "# Random Forest Model with selected features and 2:1 class weights\n",
    "rf_clf_sel_wt1 = RandomForestClassifier(class_weight=wt1, random_state=42)\n",
    "rf_clf_sel_wt1.fit(X_train_sel, y_train_sel)\n",
    "y_pred_sel_wt1 = rf_clf_sel_wt1.predict(X_test_sel)\n",
    "\n",
    "scoring(\"Random Forest\", \"Selected Features, 2:1 weights\", y_test_sel, y_pred_sel_wt1)"
   ]
  },
  {
   "cell_type": "code",
   "execution_count": 212,
   "id": "ce58c551",
   "metadata": {},
   "outputs": [
    {
     "name": "stdout",
     "output_type": "stream",
     "text": [
      "Accuracy: 0.929505267118134\n",
      "Precision: 0.8085241730279898\n",
      "Recall: 0.7391683628961907\n",
      "ROC AUC: 0.8526977859361738\n"
     ]
    }
   ],
   "source": [
    "# Random Forest Model with selected features and 5:1 class weights\n",
    "rf_clf_sel_wt2 = RandomForestClassifier(class_weight=wt2, random_state=42)\n",
    "rf_clf_sel_wt2.fit(X_train_sel, y_train_sel)\n",
    "y_pred_sel_wt2 = rf_clf_sel_wt2.predict(X_test_sel)\n",
    "\n",
    "scoring(\"Random Forest\", \"Selected Features, 5:1 weights\", y_test_sel, y_pred_sel_wt2)"
   ]
  },
  {
   "cell_type": "code",
   "execution_count": 213,
   "id": "6c0910a0",
   "metadata": {},
   "outputs": [
    {
     "name": "stdout",
     "output_type": "stream",
     "text": [
      "Accuracy: 0.8893434913468774\n",
      "Precision: 0.6310960888459681\n",
      "Recall: 0.7601046815934864\n",
      "ROC AUC: 0.837191190726617\n"
     ]
    }
   ],
   "source": [
    "# Random Forest Model with selected features and 10:1 class weights\n",
    "rf_clf_sel_wt3 = RandomForestClassifier(class_weight=wt3, random_state=42)\n",
    "rf_clf_sel_wt3.fit(X_train_sel, y_train_sel)\n",
    "y_pred_sel_wt3 = rf_clf_sel_wt3.predict(X_test_sel)\n",
    "\n",
    "scoring(\"Random Forest\", \"Selected Features, 10:1 weights\", y_test_sel, y_pred_sel_wt3)"
   ]
  },
  {
   "cell_type": "markdown",
   "id": "b578ae82",
   "metadata": {},
   "source": [
    "# Naive Bayes Classifier\n",
    "- easy but fast and sometimes even better outcomes than more advanced classifier"
   ]
  },
  {
   "cell_type": "code",
   "execution_count": 214,
   "id": "d0cc7f5e",
   "metadata": {},
   "outputs": [
    {
     "name": "stdout",
     "output_type": "stream",
     "text": [
      "Accuracy: 0.9414503386004515\n",
      "Precision: 0.8736376021798365\n",
      "Recall: 0.7458563535911602\n",
      "ROC AUC: 0.862521444677768\n"
     ]
    }
   ],
   "source": [
    "# Naive Bayes Classifier using all features and no weights\n",
    "gnb_clf = GaussianNB()\n",
    "gnb_clf.fit(X_train_all, y_train_all)\n",
    "y_pred_all = gnb_clf.predict(X_test_all)\n",
    "\n",
    "scoring(\"Naive Bayes Classifier\", \"All Features\", y_test_all, y_pred_all)"
   ]
  },
  {
   "cell_type": "code",
   "execution_count": 215,
   "id": "f2142028",
   "metadata": {},
   "outputs": [
    {
     "name": "stdout",
     "output_type": "stream",
     "text": [
      "Accuracy: 0.9280474040632054\n",
      "Precision: 0.7853512705530643\n",
      "Recall: 0.7638848502471649\n",
      "ROC AUC: 0.8618021726691645\n"
     ]
    }
   ],
   "source": [
    "# Calculate the class priors based on the class weights\n",
    "class_counts = [len(y_train_all[y_train_all==c]) for c in np.unique(y_train_all)]\n",
    "class_priors_wt1 = [wt1[c]/sum(wt1.values()) for c in np.unique(y_train_all)]\n",
    "\n",
    "# Naive Bayes Classifier using all features and 2:1 weights\n",
    "gnb_clf_wt1 = GaussianNB(priors=class_priors_wt1)\n",
    "gnb_clf_wt1.fit(X_train_all, y_train_all)\n",
    "y_pred_all_wt1 = gnb_clf_wt1.predict(X_test_all)\n",
    "\n",
    "scoring(\"Naive Bayes Classifier\", \"All Features, 2:1 weights\", y_test_all, y_pred_all_wt1)"
   ]
  },
  {
   "cell_type": "code",
   "execution_count": 216,
   "id": "55fd2a95",
   "metadata": {},
   "outputs": [
    {
     "name": "stdout",
     "output_type": "stream",
     "text": [
      "Accuracy: 0.9201467268623025\n",
      "Precision: 0.7432243643475831\n",
      "Recall: 0.7734806629834254\n",
      "ROC AUC: 0.8609619303696932\n"
     ]
    }
   ],
   "source": [
    "# Calculate the class priors based on the class weights\n",
    "class_counts = [len(y_train_all[y_train_all==c]) for c in np.unique(y_train_all)]\n",
    "class_priors_wt2 = [wt2[c]/sum(wt2.values()) for c in np.unique(y_train_all)]\n",
    "\n",
    "# Naive Bayes Classifier using all features and 5:1 weights\n",
    "gnb_clf_wt2 = GaussianNB(priors=class_priors_wt2)\n",
    "gnb_clf_wt2.fit(X_train_all, y_train_all)\n",
    "y_pred_all_wt2 = gnb_clf_wt2.predict(X_test_all)\n",
    "\n",
    "scoring(\"Naive Bayes Classifier\", \"All Features, 5:1 weights\", y_test_all, y_pred_all_wt2)"
   ]
  },
  {
   "cell_type": "code",
   "execution_count": 217,
   "id": "fda7ee0f",
   "metadata": {},
   "outputs": [
    {
     "name": "stdout",
     "output_type": "stream",
     "text": [
      "Accuracy: 0.9114465763732129\n",
      "Precision: 0.7043067226890757\n",
      "Recall: 0.7798778714742658\n",
      "ROC AUC: 0.85835408300221\n"
     ]
    }
   ],
   "source": [
    "# Calculate the class priors based on the class weights\n",
    "class_counts = [len(y_train_all[y_train_all==c]) for c in np.unique(y_train_all)]\n",
    "class_priors_wt3 = [wt3[c]/sum(wt3.values()) for c in np.unique(y_train_all)]\n",
    "\n",
    "# Naive Bayes Classifier using all features and 10:1 weights\n",
    "gnb_clf_wt3 = GaussianNB(priors=class_priors_wt3)\n",
    "gnb_clf_wt3.fit(X_train_all, y_train_all)\n",
    "y_pred_all_wt3 = gnb_clf_wt3.predict(X_test_all)\n",
    "\n",
    "scoring(\"Naive Bayes Classifier\", \"All Features, 10:1 weights\", y_test_all, y_pred_all_wt3)"
   ]
  },
  {
   "cell_type": "code",
   "execution_count": 218,
   "id": "86f412ab",
   "metadata": {},
   "outputs": [
    {
     "name": "stdout",
     "output_type": "stream",
     "text": [
      "Accuracy: 0.9549473288186606\n",
      "Precision: 1.0\n",
      "Recall: 0.7214306484443153\n",
      "ROC AUC: 0.8607153242221577\n"
     ]
    }
   ],
   "source": [
    "# Naive Bayes Classifier using all features and no weights\n",
    "gnb_clf_sel = GaussianNB()\n",
    "gnb_clf_sel.fit(X_train_sel, y_train_sel)\n",
    "y_pred_sel = gnb_clf_sel.predict(X_test_sel)\n",
    "\n",
    "scoring(\"Naive Bayes Classifier\", \"All Features\", y_test_sel, y_pred_sel)"
   ]
  },
  {
   "cell_type": "code",
   "execution_count": 219,
   "id": "b75e2e02",
   "metadata": {},
   "outputs": [
    {
     "name": "stdout",
     "output_type": "stream",
     "text": [
      "Accuracy: 0.9549473288186606\n",
      "Precision: 1.0\n",
      "Recall: 0.7214306484443153\n",
      "ROC AUC: 0.8607153242221577\n"
     ]
    }
   ],
   "source": [
    "# Calculate the class priors based on the class weights\n",
    "class_counts = [len(y_train_sel[y_train_sel==c]) for c in np.unique(y_train_sel)]\n",
    "class_priors_wt1 = [wt1[c]/sum(wt1.values()) for c in np.unique(y_train_sel)]\n",
    "\n",
    "# Naive Bayes Classifier using all features and 2:1 weights\n",
    "gnb_clf_sel_wt1 = GaussianNB(priors=class_priors_wt1)\n",
    "gnb_clf_sel_wt1.fit(X_train_sel, y_train_sel)\n",
    "y_pred_sel_wt1 = gnb_clf_sel_wt1.predict(X_test_sel)\n",
    "\n",
    "scoring(\"Naive Bayes Classifier\", \"Selected Features, 2:1 weights\", y_test_sel, y_pred_sel_wt1)"
   ]
  },
  {
   "cell_type": "code",
   "execution_count": 220,
   "id": "98630036",
   "metadata": {},
   "outputs": [
    {
     "name": "stdout",
     "output_type": "stream",
     "text": [
      "Accuracy: 0.9549473288186606\n",
      "Precision: 1.0\n",
      "Recall: 0.7214306484443153\n",
      "ROC AUC: 0.8607153242221577\n"
     ]
    }
   ],
   "source": [
    "# Calculate the class priors based on the class weights\n",
    "class_counts = [len(y_train_sel[y_train_sel==c]) for c in np.unique(y_train_sel)]\n",
    "class_priors_wt2 = [wt2[c]/sum(wt2.values()) for c in np.unique(y_train_sel)]\n",
    "\n",
    "# Naive Bayes Classifier using all features and 5:1 weights\n",
    "gnb_clf_sel_wt2 = GaussianNB(priors=class_priors_wt2)\n",
    "gnb_clf_sel_wt2.fit(X_train_sel, y_train_sel)\n",
    "y_pred_sel_wt2 = gnb_clf_sel_wt2.predict(X_test_sel)\n",
    "\n",
    "scoring(\"Naive Bayes Classifier\", \"Selected Features, 5:1 weights\", y_test_sel, y_pred_sel_wt2)"
   ]
  },
  {
   "cell_type": "code",
   "execution_count": 221,
   "id": "8c938a97",
   "metadata": {},
   "outputs": [
    {
     "name": "stdout",
     "output_type": "stream",
     "text": [
      "Accuracy: 0.9549473288186606\n",
      "Precision: 1.0\n",
      "Recall: 0.7214306484443153\n",
      "ROC AUC: 0.8607153242221577\n"
     ]
    }
   ],
   "source": [
    "# Calculate the class priors based on the class weights\n",
    "class_counts = [len(y_train_sel[y_train_sel==c]) for c in np.unique(y_train_sel)]\n",
    "class_priors_wt3 = [wt3[c]/sum(wt3.values()) for c in np.unique(y_train_sel)]\n",
    "\n",
    "# Naive Bayes Classifier using all features and 10:1 weights\n",
    "gnb_clf_sel_wt3 = GaussianNB(priors=class_priors_wt3)\n",
    "gnb_clf_sel_wt3.fit(X_train_sel, y_train_sel)\n",
    "y_pred_sel_wt3 = gnb_clf_sel_wt3.predict(X_test_sel)\n",
    "\n",
    "scoring(\"Naive Bayes Classifier\", \"Selected Features, 10:1 weights\", y_test_sel, y_pred_sel_wt3)"
   ]
  },
  {
   "cell_type": "markdown",
   "id": "787c7a3a",
   "metadata": {},
   "source": [
    "# Bagging Classifier\n"
   ]
  },
  {
   "cell_type": "code",
   "execution_count": 222,
   "id": "481e4447",
   "metadata": {},
   "outputs": [
    {
     "name": "stdout",
     "output_type": "stream",
     "text": [
      "Accuracy: 0.9471407072987208\n",
      "Precision: 0.931420052180395\n",
      "Recall: 0.7266647281186391\n",
      "ROC AUC: 0.8581710737367388\n"
     ]
    }
   ],
   "source": [
    "# Bagging Classifier with all parameters and no class weights\n",
    "bag_clf = BaggingClassifier(\n",
    "    DecisionTreeClassifier(random_state=42), random_state=42)\n",
    "bag_clf.fit(X_train_all, y_train_all)\n",
    "y_pred_all = bag_clf.predict(X_test_all)\n",
    "\n",
    "scoring(\"Bagging Classifier\", \"All Parameters, no weigth\", y_test_all, y_pred_all)"
   ]
  },
  {
   "cell_type": "code",
   "execution_count": 223,
   "id": "fcabde78",
   "metadata": {},
   "outputs": [
    {
     "name": "stdout",
     "output_type": "stream",
     "text": [
      "Accuracy: 0.9478461249059443\n",
      "Precision: 0.9379699248120301\n",
      "Recall: 0.7255015993021227\n",
      "ROC AUC: 0.8581224686552689\n"
     ]
    }
   ],
   "source": [
    "# Bagging Classifier with all parameters and 2:1 class weights\n",
    "bag_clf_wt1 = BaggingClassifier(\n",
    "    DecisionTreeClassifier(class_weight=wt1, random_state=42), random_state=42)\n",
    "bag_clf_wt1.fit(X_train_all, y_train_all)\n",
    "y_pred_all_wt1 = bag_clf_wt1.predict(X_test_all)\n",
    "\n",
    "scoring(\"Bagging Classifier\", \"All Parameters, 2:1 weigth\", y_test_all, y_pred_all_wt1)"
   ]
  },
  {
   "cell_type": "code",
   "execution_count": 224,
   "id": "11a787c0",
   "metadata": {},
   "outputs": [
    {
     "name": "stdout",
     "output_type": "stream",
     "text": [
      "Accuracy: 0.9469525959367946\n",
      "Precision: 0.9306746179649646\n",
      "Recall: 0.726083163710381\n",
      "ROC AUC: 0.8578241905508426\n"
     ]
    }
   ],
   "source": [
    "# Bagging Classifier with all parameters and 5:1 class weights\n",
    "bag_clf_wt2 = BaggingClassifier(\n",
    "    DecisionTreeClassifier(class_weight=wt2, random_state=42), random_state=42)\n",
    "bag_clf_wt2.fit(X_train_all, y_train_all)\n",
    "y_pred_all_wt2 = bag_clf_wt2.predict(X_test_all)\n",
    "\n",
    "scoring(\"Bagging Classifier\", \"All Parameters, 5:1 weigth\", y_test_all, y_pred_all_wt2)"
   ]
  },
  {
   "cell_type": "code",
   "execution_count": 225,
   "id": "479c6b42",
   "metadata": {},
   "outputs": [
    {
     "name": "stdout",
     "output_type": "stream",
     "text": [
      "Accuracy: 0.9468115124153499\n",
      "Precision: 0.9296351451973194\n",
      "Recall: 0.726083163710381\n",
      "ROC AUC: 0.8577400390781919\n"
     ]
    }
   ],
   "source": [
    "# Bagging Classifier with all parameters and 10:1 class weights\n",
    "bag_clf_wt3 = BaggingClassifier(\n",
    "    DecisionTreeClassifier(class_weight=wt3, random_state=42), random_state=42)\n",
    "bag_clf_wt3.fit(X_train_all, y_train_all)\n",
    "y_pred_all_wt3 = bag_clf_wt3.predict(X_test_all)\n",
    "\n",
    "scoring(\"Bagging Classifier\", \"All Parameters, 10:1 weigth\", y_test_all, y_pred_all_wt3)"
   ]
  },
  {
   "cell_type": "code",
   "execution_count": 226,
   "id": "17b475a7",
   "metadata": {},
   "outputs": [
    {
     "name": "stdout",
     "output_type": "stream",
     "text": [
      "Accuracy: 0.9488807373965388\n",
      "Precision: 0.94579226686884\n",
      "Recall: 0.7255015993021227\n",
      "ROC AUC: 0.8587395794547078\n"
     ]
    }
   ],
   "source": [
    "# Bagging Classifier with selected parameters and no class weights\n",
    "bag_clf_sel = BaggingClassifier(\n",
    "    DecisionTreeClassifier(random_state=42), random_state=42)\n",
    "bag_clf_sel.fit(X_train_sel, y_train_sel)\n",
    "y_pred_sel = bag_clf_sel.predict(X_test_sel)\n",
    "\n",
    "scoring(\"Bagging Classifier\", \"Selected Parameters, no weigth\", y_test_sel, y_pred_sel)"
   ]
  },
  {
   "cell_type": "code",
   "execution_count": 227,
   "id": "35f02745",
   "metadata": {},
   "outputs": [
    {
     "name": "stdout",
     "output_type": "stream",
     "text": [
      "Accuracy: 0.9448833709556057\n",
      "Precision: 0.9147457006952068\n",
      "Recall: 0.7269555103227683\n",
      "ROC AUC: 0.8569419907855076\n"
     ]
    }
   ],
   "source": [
    "# Bagging Classifier with selected features and 2:1 class weights\n",
    "bag_clf_sel_wt1 = BaggingClassifier(\n",
    "    DecisionTreeClassifier(class_weight=wt1, random_state=42), random_state=42)\n",
    "bag_clf_sel_wt1.fit(X_train_sel, y_train_sel)\n",
    "y_pred_sel_wt1 = bag_clf_sel_wt1.predict(X_test_sel)\n",
    "\n",
    "scoring(\"Bagging Classifier\", \"Selected Features, 2:1 weigth\", y_test_sel, y_pred_sel_wt1)"
   ]
  },
  {
   "cell_type": "code",
   "execution_count": 228,
   "id": "f9e1276e",
   "metadata": {},
   "outputs": [
    {
     "name": "stdout",
     "output_type": "stream",
     "text": [
      "Accuracy: 0.9259781790820165\n",
      "Precision: 0.7877198395556927\n",
      "Recall: 0.7423669671416109\n",
      "ROC AUC: 0.8518847458428952\n"
     ]
    }
   ],
   "source": [
    "# Bagging Classifier with selected features and 5:1 class weights\n",
    "bag_clf_sel_wt2 = BaggingClassifier(\n",
    "    DecisionTreeClassifier(class_weight=wt2, random_state=42), random_state=42)\n",
    "bag_clf_sel_wt2.fit(X_train_sel, y_train_sel)\n",
    "y_pred_sel_wt2 = bag_clf_sel_wt2.predict(X_test_sel)\n",
    "\n",
    "scoring(\"Bagging Classifier\", \"Selected Features, 5:1 weigth\", y_test_sel, y_pred_sel_wt2)"
   ]
  },
  {
   "cell_type": "code",
   "execution_count": 229,
   "id": "c79fb314",
   "metadata": {},
   "outputs": [
    {
     "name": "stdout",
     "output_type": "stream",
     "text": [
      "Accuracy: 0.8856282919488337\n",
      "Precision: 0.618946373730215\n",
      "Recall: 0.7618493748182611\n",
      "ROC AUC: 0.8356792456138992\n"
     ]
    }
   ],
   "source": [
    "# Bagging Classifier with selected features and 10:1 class weights\n",
    "bag_clf_sel_wt3 = BaggingClassifier(\n",
    "    DecisionTreeClassifier(class_weight=wt3, random_state=42), random_state=42)\n",
    "bag_clf_sel_wt3.fit(X_train_sel, y_train_sel)\n",
    "y_pred_sel_wt3 = bag_clf_sel_wt3.predict(X_test_sel)\n",
    "\n",
    "scoring(\"Bagging Classifier\", \"Selected Features, 10:1 weigth\", y_test_sel, y_pred_sel_wt3)"
   ]
  },
  {
   "cell_type": "markdown",
   "id": "f764342a",
   "metadata": {},
   "source": [
    "# XGBoost\n",
    "XGBoost is an implementation of gradient boosted decision trees designed for speed and performance. Working With Unbalanced Data – The XGBoost model performs better than RF when we have a class imbalance."
   ]
  },
  {
   "cell_type": "code",
   "execution_count": 232,
   "id": "f3a78e4a",
   "metadata": {},
   "outputs": [
    {
     "name": "stdout",
     "output_type": "stream",
     "text": [
      "Accuracy: 0.9543829947328819\n",
      "Precision: 0.9939975990396158\n",
      "Recall: 0.7223029950567025\n",
      "ROC AUC: 0.8607307401650973\n"
     ]
    }
   ],
   "source": [
    "# XGBoost Classifier with all features and no class weights\n",
    "xgbc_clf = XGBClassifier()\n",
    "xgbc_clf.fit(X_train_all, y_train_all)\n",
    "y_pred_all = xgbc_clf.predict(X_test_all)\n",
    "\n",
    "scoring(\"XGBoost\", \"All Features, no weights\", y_test_all, y_pred_all)"
   ]
  },
  {
   "cell_type": "code",
   "execution_count": 233,
   "id": "8e0257a6",
   "metadata": {},
   "outputs": [
    {
     "name": "stdout",
     "output_type": "stream",
     "text": [
      "5.218764623303697\n"
     ]
    }
   ],
   "source": [
    "# Calculate the correct class weight\n",
    "weighting = preprocessed_df['HeartDiseaseorAttack'].value_counts()\n",
    "estimate = weighting[0]/weighting[1]\n",
    "print(estimate)"
   ]
  },
  {
   "cell_type": "code",
   "execution_count": 234,
   "id": "fc3ad707",
   "metadata": {},
   "outputs": [
    {
     "name": "stdout",
     "output_type": "stream",
     "text": [
      "Accuracy: 0.9278122648607976\n",
      "Precision: 0.7836710369487485\n",
      "Recall: 0.7647571968595522\n",
      "ROC AUC: 0.8620139420482894\n"
     ]
    }
   ],
   "source": [
    "# XGBoost Classifier with all features and estimated class weights\n",
    "xgbc_clf_est = XGBClassifier(scale_pos_weight=estimate)\n",
    "xgbc_clf_est.fit(X_train_all, y_train_all)\n",
    "y_pred_all = xgbc_clf_est.predict(X_test_all)\n",
    "\n",
    "scoring(\"XGBoost\", \"All Features, estimated weights\", y_test_all, y_pred_all)"
   ]
  },
  {
   "cell_type": "code",
   "execution_count": 235,
   "id": "619e5842",
   "metadata": {},
   "outputs": [
    {
     "name": "stdout",
     "output_type": "stream",
     "text": [
      "Accuracy: 0.9549003009781791\n",
      "Precision: 0.999597099113618\n",
      "Recall: 0.7214306484443153\n",
      "ROC AUC: 0.8606872737312741\n"
     ]
    }
   ],
   "source": [
    "# XGBoost Classifier with selected features and no class weights\n",
    "xgbc_clf_sel = XGBClassifier()\n",
    "xgbc_clf_sel.fit(X_train_sel, y_train_sel)\n",
    "y_pred_sel = xgbc_clf_sel.predict(X_test_sel)\n",
    "\n",
    "scoring(\"XGBoost\", \"Selected Features, no weights\", y_test_sel, y_pred_sel)"
   ]
  },
  {
   "cell_type": "code",
   "execution_count": 236,
   "id": "e869981b",
   "metadata": {},
   "outputs": [
    {
     "name": "stdout",
     "output_type": "stream",
     "text": [
      "Accuracy: 0.9378762227238525\n",
      "Precision: 0.8548927613941019\n",
      "Recall: 0.7417854027333527\n",
      "ROC AUC: 0.8587468388140816\n"
     ]
    }
   ],
   "source": [
    "# XGBoost Classifier with selected features and estimated class weights\n",
    "xgbc_clf_sel_est = XGBClassifier(scale_pos_weight=estimate)\n",
    "xgbc_clf_sel_est.fit(X_train_sel, y_train_sel)\n",
    "y_pred_sel = xgbc_clf_sel_est.predict(X_test_sel)\n",
    "\n",
    "scoring(\"XGBoost\", \"Selected Features, estimated weights\", y_test_sel, y_pred_sel)"
   ]
  },
  {
   "cell_type": "markdown",
   "id": "78df2375",
   "metadata": {},
   "source": [
    "# SVM"
   ]
  },
  {
   "cell_type": "code",
   "execution_count": null,
   "id": "34fa414c",
   "metadata": {},
   "outputs": [],
   "source": [
    "# Train an SVM with a linear kernel with all features and no weights\n",
    "#svm_linear = SVC(kernel='linear', C=1, random_state=42)\n",
    "#svm_linear.fit(X_train_all, y_train_all)\n",
    "\n",
    "# Train an SVM with a non-linear kernel (RBF) with all features and no weights\n",
    "#svm_rbf = SVC(kernel='rbf', C=1, gamma='scale', random_state=42)\n",
    "#svm_rbf.fit(X_train_all, y_train_all)\n",
    "\n",
    "# Make predictions\n",
    "#y_pred_linear = svm_linear.predict(X_test_all)\n",
    "#y_pred_rbf = svm_rbf.predict(X_test_all)\n",
    "\n",
    "#scoring(\"SVM\", \"linear, all features\", y_test_all, y_pred_linear)\n",
    "#scoring(\"SVM\", \"non-linear, all features\", y_test_all, y_pred_rbf)"
   ]
  },
  {
   "cell_type": "markdown",
   "id": "6bb09efd",
   "metadata": {},
   "source": [
    "# Neural Network"
   ]
  },
  {
   "cell_type": "code",
   "execution_count": null,
   "id": "b5c86958",
   "metadata": {},
   "outputs": [],
   "source": [
    "# Neural network with all features and no class weigths\n",
    "# Define model architecture\n",
    "model = Sequential()\n",
    "model.add(Dense(16, input_dim=X_train_all.shape[1], activation='relu'))\n",
    "model.add(Dense(8, activation='relu'))\n",
    "model.add(Dense(1, activation='sigmoid'))\n",
    "\n",
    "# Compile the model\n",
    "model.compile(loss='binary_crossentropy', optimizer='adam', metrics=['accuracy'])\n",
    "\n",
    "# Train the model\n",
    "start_time = time.time()\n",
    "model.fit(X_train_all, y_train_all, epochs=10, batch_size=32, validation_split=0.2)\n",
    "end_time = time.time()\n",
    "time_taken = end_time - start_time\n",
    "\n",
    "# Make predictions on the test set\n",
    "y_pred_all_probs = model.predict(X_test_all)\n",
    "y_pred_all = np.round(y_pred_all_probs).astype(int)\n",
    "\n",
    "# Evaluate the model on the test set\n",
    "loss, accuracy = model.evaluate(X_test_all, y_test_all)\n",
    "print('Test accuracy:', accuracy)\n",
    "\n",
    "scoring(\"Neural Network\", \"All features, no weights\", y_test_all, y_pred_all)\n",
    "\n",
    "print('Time taken:', time_taken, 'seconds')"
   ]
  },
  {
   "cell_type": "code",
   "execution_count": null,
   "id": "a65da091",
   "metadata": {},
   "outputs": [],
   "source": [
    "# Neural network with selected features and no class weigths\n",
    "# Define model architecture\n",
    "model = Sequential()\n",
    "model.add(Dense(16, input_dim=X_train_sel.shape[1], activation='relu'))\n",
    "model.add(Dense(8, activation='relu'))\n",
    "model.add(Dense(1, activation='sigmoid'))\n",
    "\n",
    "# Compile the model\n",
    "model.compile(loss='binary_crossentropy', optimizer='adam', metrics=['accuracy'])\n",
    "\n",
    "# Train the model\n",
    "start_time = time.time()\n",
    "model.fit(X_train_sel, y_train_sel, epochs=10, batch_size=32, validation_split=0.2)\n",
    "end_time = time.time()\n",
    "time_taken = end_time - start_time\n",
    "\n",
    "# Make predictions on the test set\n",
    "y_pred_sel_probs = model.predict(X_test_sel)\n",
    "y_pred_sel = np.round(y_pred_sel_probs).astype(int)\n",
    "\n",
    "# Evaluate the model on the test set\n",
    "loss, accuracy = model.evaluate(X_test_sel, y_test_sel)\n",
    "print('Test accuracy:', accuracy)\n",
    "\n",
    "scoring(\"Neural Network\", \"Selected features, no weights\", y_test_sel, y_pred_sel)\n",
    "\n",
    "print('Time taken:', time_taken, 'seconds')"
   ]
  },
  {
   "cell_type": "code",
   "execution_count": 237,
   "id": "013f4d68",
   "metadata": {},
   "outputs": [
    {
     "data": {
      "text/html": [
       "<div>\n",
       "<style scoped>\n",
       "    .dataframe tbody tr th:only-of-type {\n",
       "        vertical-align: middle;\n",
       "    }\n",
       "\n",
       "    .dataframe tbody tr th {\n",
       "        vertical-align: top;\n",
       "    }\n",
       "\n",
       "    .dataframe thead th {\n",
       "        text-align: right;\n",
       "    }\n",
       "</style>\n",
       "<table border=\"1\" class=\"dataframe\">\n",
       "  <thead>\n",
       "    <tr style=\"text-align: right;\">\n",
       "      <th></th>\n",
       "      <th>Model</th>\n",
       "      <th>Dataset</th>\n",
       "      <th>Accuracy</th>\n",
       "      <th>Precision</th>\n",
       "      <th>Recall</th>\n",
       "      <th>ROC AUC</th>\n",
       "    </tr>\n",
       "  </thead>\n",
       "  <tbody>\n",
       "    <tr>\n",
       "      <th>7</th>\n",
       "      <td>Logistic Regression</td>\n",
       "      <td>Selected Features, 10:1 weights</td>\n",
       "      <td>0.856612</td>\n",
       "      <td>0.537703</td>\n",
       "      <td>0.808665</td>\n",
       "      <td>0.837264</td>\n",
       "    </tr>\n",
       "    <tr>\n",
       "      <th>19</th>\n",
       "      <td>Naive Bayes Classifier</td>\n",
       "      <td>All Features, 10:1 weights</td>\n",
       "      <td>0.911447</td>\n",
       "      <td>0.704307</td>\n",
       "      <td>0.779878</td>\n",
       "      <td>0.858354</td>\n",
       "    </tr>\n",
       "    <tr>\n",
       "      <th>18</th>\n",
       "      <td>Naive Bayes Classifier</td>\n",
       "      <td>All Features, 5:1 weights</td>\n",
       "      <td>0.920147</td>\n",
       "      <td>0.743224</td>\n",
       "      <td>0.773481</td>\n",
       "      <td>0.860962</td>\n",
       "    </tr>\n",
       "    <tr>\n",
       "      <th>35</th>\n",
       "      <td>XGBoost</td>\n",
       "      <td>All Features, estimated weights</td>\n",
       "      <td>0.927812</td>\n",
       "      <td>0.783671</td>\n",
       "      <td>0.764757</td>\n",
       "      <td>0.862014</td>\n",
       "    </tr>\n",
       "    <tr>\n",
       "      <th>17</th>\n",
       "      <td>Naive Bayes Classifier</td>\n",
       "      <td>All Features, 2:1 weights</td>\n",
       "      <td>0.928047</td>\n",
       "      <td>0.785351</td>\n",
       "      <td>0.763885</td>\n",
       "      <td>0.861802</td>\n",
       "    </tr>\n",
       "    <tr>\n",
       "      <th>31</th>\n",
       "      <td>Bagging Classifier</td>\n",
       "      <td>Selected Features, 10:1 weigth</td>\n",
       "      <td>0.885628</td>\n",
       "      <td>0.618946</td>\n",
       "      <td>0.761849</td>\n",
       "      <td>0.835679</td>\n",
       "    </tr>\n",
       "    <tr>\n",
       "      <th>15</th>\n",
       "      <td>Random Forest</td>\n",
       "      <td>Selected Features, 10:1 weights</td>\n",
       "      <td>0.889343</td>\n",
       "      <td>0.631096</td>\n",
       "      <td>0.760105</td>\n",
       "      <td>0.837191</td>\n",
       "    </tr>\n",
       "    <tr>\n",
       "      <th>16</th>\n",
       "      <td>Naive Bayes Classifier</td>\n",
       "      <td>All Features</td>\n",
       "      <td>0.941450</td>\n",
       "      <td>0.873638</td>\n",
       "      <td>0.745856</td>\n",
       "      <td>0.862521</td>\n",
       "    </tr>\n",
       "    <tr>\n",
       "      <th>30</th>\n",
       "      <td>Bagging Classifier</td>\n",
       "      <td>Selected Features, 5:1 weigth</td>\n",
       "      <td>0.925978</td>\n",
       "      <td>0.787720</td>\n",
       "      <td>0.742367</td>\n",
       "      <td>0.851885</td>\n",
       "    </tr>\n",
       "    <tr>\n",
       "      <th>37</th>\n",
       "      <td>XGBoost</td>\n",
       "      <td>Selected Features, estimated weights</td>\n",
       "      <td>0.937876</td>\n",
       "      <td>0.854893</td>\n",
       "      <td>0.741785</td>\n",
       "      <td>0.858747</td>\n",
       "    </tr>\n",
       "    <tr>\n",
       "      <th>14</th>\n",
       "      <td>Random Forest</td>\n",
       "      <td>Selected Features, 5:1 weights</td>\n",
       "      <td>0.929505</td>\n",
       "      <td>0.808524</td>\n",
       "      <td>0.739168</td>\n",
       "      <td>0.852698</td>\n",
       "    </tr>\n",
       "    <tr>\n",
       "      <th>6</th>\n",
       "      <td>Logistic Regression</td>\n",
       "      <td>Selected Features, 5:1 weights</td>\n",
       "      <td>0.941827</td>\n",
       "      <td>0.882026</td>\n",
       "      <td>0.739168</td>\n",
       "      <td>0.860047</td>\n",
       "    </tr>\n",
       "    <tr>\n",
       "      <th>13</th>\n",
       "      <td>Random Forest</td>\n",
       "      <td>Selected Features, 2:1 weights</td>\n",
       "      <td>0.946623</td>\n",
       "      <td>0.926983</td>\n",
       "      <td>0.727246</td>\n",
       "      <td>0.858097</td>\n",
       "    </tr>\n",
       "    <tr>\n",
       "      <th>29</th>\n",
       "      <td>Bagging Classifier</td>\n",
       "      <td>Selected Features, 2:1 weigth</td>\n",
       "      <td>0.944883</td>\n",
       "      <td>0.914746</td>\n",
       "      <td>0.726956</td>\n",
       "      <td>0.856942</td>\n",
       "    </tr>\n",
       "    <tr>\n",
       "      <th>24</th>\n",
       "      <td>Bagging Classifier</td>\n",
       "      <td>All Parameters, no weigth</td>\n",
       "      <td>0.947141</td>\n",
       "      <td>0.931420</td>\n",
       "      <td>0.726665</td>\n",
       "      <td>0.858171</td>\n",
       "    </tr>\n",
       "    <tr>\n",
       "      <th>2</th>\n",
       "      <td>Logistic Regression</td>\n",
       "      <td>All Features, 5:1 weights</td>\n",
       "      <td>0.946953</td>\n",
       "      <td>0.930675</td>\n",
       "      <td>0.726083</td>\n",
       "      <td>0.857824</td>\n",
       "    </tr>\n",
       "    <tr>\n",
       "      <th>3</th>\n",
       "      <td>Logistic Regression</td>\n",
       "      <td>All Features, 10:1 weights</td>\n",
       "      <td>0.946812</td>\n",
       "      <td>0.929635</td>\n",
       "      <td>0.726083</td>\n",
       "      <td>0.857740</td>\n",
       "    </tr>\n",
       "    <tr>\n",
       "      <th>27</th>\n",
       "      <td>Bagging Classifier</td>\n",
       "      <td>All Parameters, 10:1 weigth</td>\n",
       "      <td>0.946812</td>\n",
       "      <td>0.929635</td>\n",
       "      <td>0.726083</td>\n",
       "      <td>0.857740</td>\n",
       "    </tr>\n",
       "    <tr>\n",
       "      <th>26</th>\n",
       "      <td>Bagging Classifier</td>\n",
       "      <td>All Parameters, 5:1 weigth</td>\n",
       "      <td>0.946953</td>\n",
       "      <td>0.930675</td>\n",
       "      <td>0.726083</td>\n",
       "      <td>0.857824</td>\n",
       "    </tr>\n",
       "    <tr>\n",
       "      <th>28</th>\n",
       "      <td>Bagging Classifier</td>\n",
       "      <td>Selected Parameters, no weigth</td>\n",
       "      <td>0.948881</td>\n",
       "      <td>0.945792</td>\n",
       "      <td>0.725502</td>\n",
       "      <td>0.858740</td>\n",
       "    </tr>\n",
       "    <tr>\n",
       "      <th>1</th>\n",
       "      <td>Logistic Regression</td>\n",
       "      <td>All Features, 2:1 weights</td>\n",
       "      <td>0.947846</td>\n",
       "      <td>0.937970</td>\n",
       "      <td>0.725502</td>\n",
       "      <td>0.858122</td>\n",
       "    </tr>\n",
       "    <tr>\n",
       "      <th>25</th>\n",
       "      <td>Bagging Classifier</td>\n",
       "      <td>All Parameters, 2:1 weigth</td>\n",
       "      <td>0.947846</td>\n",
       "      <td>0.937970</td>\n",
       "      <td>0.725502</td>\n",
       "      <td>0.858122</td>\n",
       "    </tr>\n",
       "    <tr>\n",
       "      <th>11</th>\n",
       "      <td>Random Forest</td>\n",
       "      <td>All Features, 10:1 weights</td>\n",
       "      <td>0.949398</td>\n",
       "      <td>0.950438</td>\n",
       "      <td>0.724920</td>\n",
       "      <td>0.858813</td>\n",
       "    </tr>\n",
       "    <tr>\n",
       "      <th>10</th>\n",
       "      <td>Random Forest</td>\n",
       "      <td>All Features, 5:1 weights</td>\n",
       "      <td>0.950245</td>\n",
       "      <td>0.957357</td>\n",
       "      <td>0.724629</td>\n",
       "      <td>0.859201</td>\n",
       "    </tr>\n",
       "    <tr>\n",
       "      <th>12</th>\n",
       "      <td>Random Forest</td>\n",
       "      <td>Selected Features, no weights</td>\n",
       "      <td>0.950950</td>\n",
       "      <td>0.962906</td>\n",
       "      <td>0.724629</td>\n",
       "      <td>0.859622</td>\n",
       "    </tr>\n",
       "    <tr>\n",
       "      <th>9</th>\n",
       "      <td>Random Forest</td>\n",
       "      <td>All Features, 2:1 weights</td>\n",
       "      <td>0.951232</td>\n",
       "      <td>0.966227</td>\n",
       "      <td>0.723757</td>\n",
       "      <td>0.859438</td>\n",
       "    </tr>\n",
       "    <tr>\n",
       "      <th>8</th>\n",
       "      <td>Random Forest</td>\n",
       "      <td>All Features, no weights</td>\n",
       "      <td>0.952126</td>\n",
       "      <td>0.973777</td>\n",
       "      <td>0.723466</td>\n",
       "      <td>0.859854</td>\n",
       "    </tr>\n",
       "    <tr>\n",
       "      <th>34</th>\n",
       "      <td>XGBoost</td>\n",
       "      <td>All Features, no weights</td>\n",
       "      <td>0.954383</td>\n",
       "      <td>0.993998</td>\n",
       "      <td>0.722303</td>\n",
       "      <td>0.860731</td>\n",
       "    </tr>\n",
       "    <tr>\n",
       "      <th>32</th>\n",
       "      <td>Gradient Boosting Machines</td>\n",
       "      <td>All Features</td>\n",
       "      <td>0.954806</td>\n",
       "      <td>0.998391</td>\n",
       "      <td>0.721721</td>\n",
       "      <td>0.860749</td>\n",
       "    </tr>\n",
       "    <tr>\n",
       "      <th>0</th>\n",
       "      <td>Logistic Regression</td>\n",
       "      <td>All Features, no weights</td>\n",
       "      <td>0.954665</td>\n",
       "      <td>0.997188</td>\n",
       "      <td>0.721721</td>\n",
       "      <td>0.860664</td>\n",
       "    </tr>\n",
       "    <tr>\n",
       "      <th>23</th>\n",
       "      <td>Naive Bayes Classifier</td>\n",
       "      <td>Selected Features, 10:1 weights</td>\n",
       "      <td>0.954947</td>\n",
       "      <td>1.000000</td>\n",
       "      <td>0.721431</td>\n",
       "      <td>0.860715</td>\n",
       "    </tr>\n",
       "    <tr>\n",
       "      <th>22</th>\n",
       "      <td>Naive Bayes Classifier</td>\n",
       "      <td>Selected Features, 5:1 weights</td>\n",
       "      <td>0.954947</td>\n",
       "      <td>1.000000</td>\n",
       "      <td>0.721431</td>\n",
       "      <td>0.860715</td>\n",
       "    </tr>\n",
       "    <tr>\n",
       "      <th>21</th>\n",
       "      <td>Naive Bayes Classifier</td>\n",
       "      <td>Selected Features, 2:1 weights</td>\n",
       "      <td>0.954947</td>\n",
       "      <td>1.000000</td>\n",
       "      <td>0.721431</td>\n",
       "      <td>0.860715</td>\n",
       "    </tr>\n",
       "    <tr>\n",
       "      <th>20</th>\n",
       "      <td>Naive Bayes Classifier</td>\n",
       "      <td>All Features</td>\n",
       "      <td>0.954947</td>\n",
       "      <td>1.000000</td>\n",
       "      <td>0.721431</td>\n",
       "      <td>0.860715</td>\n",
       "    </tr>\n",
       "    <tr>\n",
       "      <th>5</th>\n",
       "      <td>Logistic Regression</td>\n",
       "      <td>Selected Features, 2:1 weights</td>\n",
       "      <td>0.954947</td>\n",
       "      <td>1.000000</td>\n",
       "      <td>0.721431</td>\n",
       "      <td>0.860715</td>\n",
       "    </tr>\n",
       "    <tr>\n",
       "      <th>4</th>\n",
       "      <td>Logistic Regression</td>\n",
       "      <td>Selected Features, no weights</td>\n",
       "      <td>0.954947</td>\n",
       "      <td>1.000000</td>\n",
       "      <td>0.721431</td>\n",
       "      <td>0.860715</td>\n",
       "    </tr>\n",
       "    <tr>\n",
       "      <th>33</th>\n",
       "      <td>Gradient Boosting Machines</td>\n",
       "      <td>Selected Features</td>\n",
       "      <td>0.954947</td>\n",
       "      <td>1.000000</td>\n",
       "      <td>0.721431</td>\n",
       "      <td>0.860715</td>\n",
       "    </tr>\n",
       "    <tr>\n",
       "      <th>36</th>\n",
       "      <td>XGBoost</td>\n",
       "      <td>Selected Features, no weights</td>\n",
       "      <td>0.954900</td>\n",
       "      <td>0.999597</td>\n",
       "      <td>0.721431</td>\n",
       "      <td>0.860687</td>\n",
       "    </tr>\n",
       "  </tbody>\n",
       "</table>\n",
       "</div>"
      ],
      "text/plain": [
       "                         Model                               Dataset  \\\n",
       "7          Logistic Regression       Selected Features, 10:1 weights   \n",
       "19      Naive Bayes Classifier            All Features, 10:1 weights   \n",
       "18      Naive Bayes Classifier             All Features, 5:1 weights   \n",
       "35                     XGBoost       All Features, estimated weights   \n",
       "17      Naive Bayes Classifier             All Features, 2:1 weights   \n",
       "31          Bagging Classifier        Selected Features, 10:1 weigth   \n",
       "15               Random Forest       Selected Features, 10:1 weights   \n",
       "16      Naive Bayes Classifier                          All Features   \n",
       "30          Bagging Classifier         Selected Features, 5:1 weigth   \n",
       "37                     XGBoost  Selected Features, estimated weights   \n",
       "14               Random Forest        Selected Features, 5:1 weights   \n",
       "6          Logistic Regression        Selected Features, 5:1 weights   \n",
       "13               Random Forest        Selected Features, 2:1 weights   \n",
       "29          Bagging Classifier         Selected Features, 2:1 weigth   \n",
       "24          Bagging Classifier             All Parameters, no weigth   \n",
       "2          Logistic Regression             All Features, 5:1 weights   \n",
       "3          Logistic Regression            All Features, 10:1 weights   \n",
       "27          Bagging Classifier           All Parameters, 10:1 weigth   \n",
       "26          Bagging Classifier            All Parameters, 5:1 weigth   \n",
       "28          Bagging Classifier        Selected Parameters, no weigth   \n",
       "1          Logistic Regression             All Features, 2:1 weights   \n",
       "25          Bagging Classifier            All Parameters, 2:1 weigth   \n",
       "11               Random Forest            All Features, 10:1 weights   \n",
       "10               Random Forest             All Features, 5:1 weights   \n",
       "12               Random Forest         Selected Features, no weights   \n",
       "9                Random Forest             All Features, 2:1 weights   \n",
       "8                Random Forest              All Features, no weights   \n",
       "34                     XGBoost              All Features, no weights   \n",
       "32  Gradient Boosting Machines                          All Features   \n",
       "0          Logistic Regression              All Features, no weights   \n",
       "23      Naive Bayes Classifier       Selected Features, 10:1 weights   \n",
       "22      Naive Bayes Classifier        Selected Features, 5:1 weights   \n",
       "21      Naive Bayes Classifier        Selected Features, 2:1 weights   \n",
       "20      Naive Bayes Classifier                          All Features   \n",
       "5          Logistic Regression        Selected Features, 2:1 weights   \n",
       "4          Logistic Regression         Selected Features, no weights   \n",
       "33  Gradient Boosting Machines                     Selected Features   \n",
       "36                     XGBoost         Selected Features, no weights   \n",
       "\n",
       "    Accuracy  Precision    Recall   ROC AUC  \n",
       "7   0.856612   0.537703  0.808665  0.837264  \n",
       "19  0.911447   0.704307  0.779878  0.858354  \n",
       "18  0.920147   0.743224  0.773481  0.860962  \n",
       "35  0.927812   0.783671  0.764757  0.862014  \n",
       "17  0.928047   0.785351  0.763885  0.861802  \n",
       "31  0.885628   0.618946  0.761849  0.835679  \n",
       "15  0.889343   0.631096  0.760105  0.837191  \n",
       "16  0.941450   0.873638  0.745856  0.862521  \n",
       "30  0.925978   0.787720  0.742367  0.851885  \n",
       "37  0.937876   0.854893  0.741785  0.858747  \n",
       "14  0.929505   0.808524  0.739168  0.852698  \n",
       "6   0.941827   0.882026  0.739168  0.860047  \n",
       "13  0.946623   0.926983  0.727246  0.858097  \n",
       "29  0.944883   0.914746  0.726956  0.856942  \n",
       "24  0.947141   0.931420  0.726665  0.858171  \n",
       "2   0.946953   0.930675  0.726083  0.857824  \n",
       "3   0.946812   0.929635  0.726083  0.857740  \n",
       "27  0.946812   0.929635  0.726083  0.857740  \n",
       "26  0.946953   0.930675  0.726083  0.857824  \n",
       "28  0.948881   0.945792  0.725502  0.858740  \n",
       "1   0.947846   0.937970  0.725502  0.858122  \n",
       "25  0.947846   0.937970  0.725502  0.858122  \n",
       "11  0.949398   0.950438  0.724920  0.858813  \n",
       "10  0.950245   0.957357  0.724629  0.859201  \n",
       "12  0.950950   0.962906  0.724629  0.859622  \n",
       "9   0.951232   0.966227  0.723757  0.859438  \n",
       "8   0.952126   0.973777  0.723466  0.859854  \n",
       "34  0.954383   0.993998  0.722303  0.860731  \n",
       "32  0.954806   0.998391  0.721721  0.860749  \n",
       "0   0.954665   0.997188  0.721721  0.860664  \n",
       "23  0.954947   1.000000  0.721431  0.860715  \n",
       "22  0.954947   1.000000  0.721431  0.860715  \n",
       "21  0.954947   1.000000  0.721431  0.860715  \n",
       "20  0.954947   1.000000  0.721431  0.860715  \n",
       "5   0.954947   1.000000  0.721431  0.860715  \n",
       "4   0.954947   1.000000  0.721431  0.860715  \n",
       "33  0.954947   1.000000  0.721431  0.860715  \n",
       "36  0.954900   0.999597  0.721431  0.860687  "
      ]
     },
     "metadata": {},
     "output_type": "display_data"
    }
   ],
   "source": [
    "display(scoring_df.sort_values([\"Recall\"], ascending = False))"
   ]
  }
 ],
 "metadata": {
  "kernelspec": {
   "display_name": "Python 3 (ipykernel)",
   "language": "python",
   "name": "python3"
  },
  "language_info": {
   "codemirror_mode": {
    "name": "ipython",
    "version": 3
   },
   "file_extension": ".py",
   "mimetype": "text/x-python",
   "name": "python",
   "nbconvert_exporter": "python",
   "pygments_lexer": "ipython3",
   "version": "3.9.12"
  }
 },
 "nbformat": 4,
 "nbformat_minor": 5
}
