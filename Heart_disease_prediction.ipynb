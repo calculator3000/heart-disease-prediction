{
 "cells": [
  {
   "cell_type": "markdown",
   "id": "9a5f1e3c-ca63-455f-9dc3-4153e7d3d3ff",
   "metadata": {},
   "source": [
    "# Heart Disease Prediction\n",
    "\n",
    "- Hannah Dickescheid (50178)\n",
    "- Julia Stieler (56040)\n",
    "- Eva Zinser (53100)\n",
    "- Carlos Ferrufino (53276)\n",
    "- Celina Kollwitz (53676)\n",
    "\n",
    "Heart disease is one of the leading causes of death worldwide, and early detection can be critical for successful treatment. Machine learning has emerged as a powerful tool for predicting the risk of heart disease by analyzing various features such as age, gender, blood pressure, cholesterol level, and smoking habits. In this notebook, we will explore a heart disease dataset and build a machine learning model to predict the likelihood of heart disease based on various patient features."
   ]
  },
  {
   "cell_type": "code",
   "execution_count": 1,
   "id": "345a104d-af25-489f-98e6-0c8a1affad6c",
   "metadata": {},
   "outputs": [],
   "source": [
    "import os\n",
    "import pandas as pd"
   ]
  },
  {
   "cell_type": "code",
   "execution_count": 2,
   "id": "be926d40-4e90-4912-9a13-1fbeedf632cc",
   "metadata": {
    "tags": []
   },
   "outputs": [
    {
     "data": {
      "text/html": [
       "<div>\n",
       "<style scoped>\n",
       "    .dataframe tbody tr th:only-of-type {\n",
       "        vertical-align: middle;\n",
       "    }\n",
       "\n",
       "    .dataframe tbody tr th {\n",
       "        vertical-align: top;\n",
       "    }\n",
       "\n",
       "    .dataframe thead th {\n",
       "        text-align: right;\n",
       "    }\n",
       "</style>\n",
       "<table border=\"1\" class=\"dataframe\">\n",
       "  <thead>\n",
       "    <tr style=\"text-align: right;\">\n",
       "      <th></th>\n",
       "      <th>_STATE</th>\n",
       "      <th>FMONTH</th>\n",
       "      <th>IDATE</th>\n",
       "      <th>IMONTH</th>\n",
       "      <th>IDAY</th>\n",
       "      <th>IYEAR</th>\n",
       "      <th>DISPCODE</th>\n",
       "      <th>SEQNO</th>\n",
       "      <th>_PSU</th>\n",
       "      <th>CTELENUM</th>\n",
       "      <th>...</th>\n",
       "      <th>_PAREC1</th>\n",
       "      <th>_PASTAE1</th>\n",
       "      <th>_LMTACT1</th>\n",
       "      <th>_LMTWRK1</th>\n",
       "      <th>_LMTSCL1</th>\n",
       "      <th>_RFSEAT2</th>\n",
       "      <th>_RFSEAT3</th>\n",
       "      <th>_FLSHOT6</th>\n",
       "      <th>_PNEUMO2</th>\n",
       "      <th>_AIDTST3</th>\n",
       "    </tr>\n",
       "  </thead>\n",
       "  <tbody>\n",
       "    <tr>\n",
       "      <th>0</th>\n",
       "      <td>1.0</td>\n",
       "      <td>1.0</td>\n",
       "      <td>b'01292015'</td>\n",
       "      <td>b'01'</td>\n",
       "      <td>b'29'</td>\n",
       "      <td>b'2015'</td>\n",
       "      <td>1200.0</td>\n",
       "      <td>2.015000e+09</td>\n",
       "      <td>2.015000e+09</td>\n",
       "      <td>1.0</td>\n",
       "      <td>...</td>\n",
       "      <td>4.0</td>\n",
       "      <td>2.0</td>\n",
       "      <td>1.0</td>\n",
       "      <td>1.0</td>\n",
       "      <td>1.0</td>\n",
       "      <td>1.0</td>\n",
       "      <td>1.0</td>\n",
       "      <td>NaN</td>\n",
       "      <td>NaN</td>\n",
       "      <td>1.0</td>\n",
       "    </tr>\n",
       "    <tr>\n",
       "      <th>1</th>\n",
       "      <td>1.0</td>\n",
       "      <td>1.0</td>\n",
       "      <td>b'01202015'</td>\n",
       "      <td>b'01'</td>\n",
       "      <td>b'20'</td>\n",
       "      <td>b'2015'</td>\n",
       "      <td>1100.0</td>\n",
       "      <td>2.015000e+09</td>\n",
       "      <td>2.015000e+09</td>\n",
       "      <td>1.0</td>\n",
       "      <td>...</td>\n",
       "      <td>2.0</td>\n",
       "      <td>2.0</td>\n",
       "      <td>3.0</td>\n",
       "      <td>3.0</td>\n",
       "      <td>4.0</td>\n",
       "      <td>2.0</td>\n",
       "      <td>2.0</td>\n",
       "      <td>NaN</td>\n",
       "      <td>NaN</td>\n",
       "      <td>2.0</td>\n",
       "    </tr>\n",
       "    <tr>\n",
       "      <th>2</th>\n",
       "      <td>1.0</td>\n",
       "      <td>1.0</td>\n",
       "      <td>b'02012015'</td>\n",
       "      <td>b'02'</td>\n",
       "      <td>b'01'</td>\n",
       "      <td>b'2015'</td>\n",
       "      <td>1200.0</td>\n",
       "      <td>2.015000e+09</td>\n",
       "      <td>2.015000e+09</td>\n",
       "      <td>1.0</td>\n",
       "      <td>...</td>\n",
       "      <td>9.0</td>\n",
       "      <td>9.0</td>\n",
       "      <td>9.0</td>\n",
       "      <td>9.0</td>\n",
       "      <td>9.0</td>\n",
       "      <td>9.0</td>\n",
       "      <td>9.0</td>\n",
       "      <td>9.0</td>\n",
       "      <td>9.0</td>\n",
       "      <td>NaN</td>\n",
       "    </tr>\n",
       "    <tr>\n",
       "      <th>3</th>\n",
       "      <td>1.0</td>\n",
       "      <td>1.0</td>\n",
       "      <td>b'01142015'</td>\n",
       "      <td>b'01'</td>\n",
       "      <td>b'14'</td>\n",
       "      <td>b'2015'</td>\n",
       "      <td>1100.0</td>\n",
       "      <td>2.015000e+09</td>\n",
       "      <td>2.015000e+09</td>\n",
       "      <td>1.0</td>\n",
       "      <td>...</td>\n",
       "      <td>4.0</td>\n",
       "      <td>2.0</td>\n",
       "      <td>1.0</td>\n",
       "      <td>1.0</td>\n",
       "      <td>1.0</td>\n",
       "      <td>1.0</td>\n",
       "      <td>1.0</td>\n",
       "      <td>NaN</td>\n",
       "      <td>NaN</td>\n",
       "      <td>9.0</td>\n",
       "    </tr>\n",
       "    <tr>\n",
       "      <th>4</th>\n",
       "      <td>1.0</td>\n",
       "      <td>1.0</td>\n",
       "      <td>b'01142015'</td>\n",
       "      <td>b'01'</td>\n",
       "      <td>b'14'</td>\n",
       "      <td>b'2015'</td>\n",
       "      <td>1100.0</td>\n",
       "      <td>2.015000e+09</td>\n",
       "      <td>2.015000e+09</td>\n",
       "      <td>1.0</td>\n",
       "      <td>...</td>\n",
       "      <td>4.0</td>\n",
       "      <td>2.0</td>\n",
       "      <td>1.0</td>\n",
       "      <td>1.0</td>\n",
       "      <td>1.0</td>\n",
       "      <td>1.0</td>\n",
       "      <td>1.0</td>\n",
       "      <td>NaN</td>\n",
       "      <td>NaN</td>\n",
       "      <td>1.0</td>\n",
       "    </tr>\n",
       "  </tbody>\n",
       "</table>\n",
       "<p>5 rows × 330 columns</p>\n",
       "</div>"
      ],
      "text/plain": [
       "   _STATE  FMONTH        IDATE IMONTH   IDAY    IYEAR  DISPCODE         SEQNO  \\\n",
       "0     1.0     1.0  b'01292015'  b'01'  b'29'  b'2015'    1200.0  2.015000e+09   \n",
       "1     1.0     1.0  b'01202015'  b'01'  b'20'  b'2015'    1100.0  2.015000e+09   \n",
       "2     1.0     1.0  b'02012015'  b'02'  b'01'  b'2015'    1200.0  2.015000e+09   \n",
       "3     1.0     1.0  b'01142015'  b'01'  b'14'  b'2015'    1100.0  2.015000e+09   \n",
       "4     1.0     1.0  b'01142015'  b'01'  b'14'  b'2015'    1100.0  2.015000e+09   \n",
       "\n",
       "           _PSU  CTELENUM  ...  _PAREC1  _PASTAE1  _LMTACT1  _LMTWRK1  \\\n",
       "0  2.015000e+09       1.0  ...      4.0       2.0       1.0       1.0   \n",
       "1  2.015000e+09       1.0  ...      2.0       2.0       3.0       3.0   \n",
       "2  2.015000e+09       1.0  ...      9.0       9.0       9.0       9.0   \n",
       "3  2.015000e+09       1.0  ...      4.0       2.0       1.0       1.0   \n",
       "4  2.015000e+09       1.0  ...      4.0       2.0       1.0       1.0   \n",
       "\n",
       "   _LMTSCL1  _RFSEAT2  _RFSEAT3  _FLSHOT6  _PNEUMO2  _AIDTST3  \n",
       "0       1.0       1.0       1.0       NaN       NaN       1.0  \n",
       "1       4.0       2.0       2.0       NaN       NaN       2.0  \n",
       "2       9.0       9.0       9.0       9.0       9.0       NaN  \n",
       "3       1.0       1.0       1.0       NaN       NaN       9.0  \n",
       "4       1.0       1.0       1.0       NaN       NaN       1.0  \n",
       "\n",
       "[5 rows x 330 columns]"
      ]
     },
     "execution_count": 2,
     "metadata": {},
     "output_type": "execute_result"
    }
   ],
   "source": [
    "data_df = pd.read_csv(\"data/2015.csv\")\n",
    "data_df.head()"
   ]
  },
  {
   "cell_type": "code",
   "execution_count": 3,
   "id": "c99ba8c9-7d37-42b0-938f-96194b0989dc",
   "metadata": {},
   "outputs": [
    {
     "data": {
      "text/plain": [
       "(441456, 330)"
      ]
     },
     "execution_count": 3,
     "metadata": {},
     "output_type": "execute_result"
    }
   ],
   "source": [
    "data_df.shape"
   ]
  },
  {
   "cell_type": "code",
   "execution_count": 4,
   "id": "5ef30cf3-1129-45d2-97e0-55a188ccab2a",
   "metadata": {},
   "outputs": [
    {
     "data": {
      "text/plain": [
       "Index(['_STATE', 'FMONTH', 'IDATE', 'IMONTH', 'IDAY', 'IYEAR', 'DISPCODE',\n",
       "       'SEQNO', '_PSU', 'CTELENUM',\n",
       "       ...\n",
       "       '_PAREC1', '_PASTAE1', '_LMTACT1', '_LMTWRK1', '_LMTSCL1', '_RFSEAT2',\n",
       "       '_RFSEAT3', '_FLSHOT6', '_PNEUMO2', '_AIDTST3'],\n",
       "      dtype='object', length=330)"
      ]
     },
     "execution_count": 4,
     "metadata": {},
     "output_type": "execute_result"
    }
   ],
   "source": [
    "data_df.columns"
   ]
  },
  {
   "cell_type": "code",
   "execution_count": 5,
   "id": "fe8a9e33-70ea-4793-b188-6fd4ed74a8b6",
   "metadata": {},
   "outputs": [
    {
     "data": {
      "text/plain": [
       "['_STATE',\n",
       " 'FMONTH',\n",
       " 'IDATE',\n",
       " 'IMONTH',\n",
       " 'IDAY',\n",
       " 'IYEAR',\n",
       " 'DISPCODE',\n",
       " 'SEQNO',\n",
       " '_PSU',\n",
       " 'CTELENUM',\n",
       " 'PVTRESD1',\n",
       " 'COLGHOUS',\n",
       " 'STATERES',\n",
       " 'CELLFON3',\n",
       " 'LADULT',\n",
       " 'NUMADULT',\n",
       " 'NUMMEN',\n",
       " 'NUMWOMEN',\n",
       " 'CTELNUM1',\n",
       " 'CELLFON2',\n",
       " 'CADULT',\n",
       " 'PVTRESD2',\n",
       " 'CCLGHOUS',\n",
       " 'CSTATE',\n",
       " 'LANDLINE',\n",
       " 'HHADULT',\n",
       " 'GENHLTH',\n",
       " 'PHYSHLTH',\n",
       " 'MENTHLTH',\n",
       " 'POORHLTH',\n",
       " 'HLTHPLN1',\n",
       " 'PERSDOC2',\n",
       " 'MEDCOST',\n",
       " 'CHECKUP1',\n",
       " 'BPHIGH4',\n",
       " 'BPMEDS',\n",
       " 'BLOODCHO',\n",
       " 'CHOLCHK',\n",
       " 'TOLDHI2',\n",
       " 'CVDINFR4',\n",
       " 'CVDCRHD4',\n",
       " 'CVDSTRK3',\n",
       " 'ASTHMA3',\n",
       " 'ASTHNOW',\n",
       " 'CHCSCNCR',\n",
       " 'CHCOCNCR',\n",
       " 'CHCCOPD1',\n",
       " 'HAVARTH3',\n",
       " 'ADDEPEV2',\n",
       " 'CHCKIDNY',\n",
       " 'DIABETE3',\n",
       " 'DIABAGE2',\n",
       " 'SEX',\n",
       " 'MARITAL',\n",
       " 'EDUCA',\n",
       " 'RENTHOM1',\n",
       " 'NUMHHOL2',\n",
       " 'NUMPHON2',\n",
       " 'CPDEMO1',\n",
       " 'VETERAN3',\n",
       " 'EMPLOY1',\n",
       " 'CHILDREN',\n",
       " 'INCOME2',\n",
       " 'INTERNET',\n",
       " 'WEIGHT2',\n",
       " 'HEIGHT3',\n",
       " 'PREGNANT',\n",
       " 'QLACTLM2',\n",
       " 'USEEQUIP',\n",
       " 'BLIND',\n",
       " 'DECIDE',\n",
       " 'DIFFWALK',\n",
       " 'DIFFDRES',\n",
       " 'DIFFALON',\n",
       " 'SMOKE100',\n",
       " 'SMOKDAY2',\n",
       " 'STOPSMK2',\n",
       " 'LASTSMK2',\n",
       " 'USENOW3',\n",
       " 'ALCDAY5',\n",
       " 'AVEDRNK2',\n",
       " 'DRNK3GE5',\n",
       " 'MAXDRNKS',\n",
       " 'FRUITJU1',\n",
       " 'FRUIT1',\n",
       " 'FVBEANS',\n",
       " 'FVGREEN',\n",
       " 'FVORANG',\n",
       " 'VEGETAB1',\n",
       " 'EXERANY2',\n",
       " 'EXRACT11',\n",
       " 'EXEROFT1',\n",
       " 'EXERHMM1',\n",
       " 'EXRACT21',\n",
       " 'EXEROFT2',\n",
       " 'EXERHMM2',\n",
       " 'STRENGTH',\n",
       " 'LMTJOIN3',\n",
       " 'ARTHDIS2',\n",
       " 'ARTHSOCL',\n",
       " 'JOINPAIN',\n",
       " 'SEATBELT',\n",
       " 'FLUSHOT6',\n",
       " 'FLSHTMY2',\n",
       " 'IMFVPLAC',\n",
       " 'PNEUVAC3',\n",
       " 'HIVTST6',\n",
       " 'HIVTSTD3',\n",
       " 'WHRTST10',\n",
       " 'PDIABTST',\n",
       " 'PREDIAB1',\n",
       " 'INSULIN',\n",
       " 'BLDSUGAR',\n",
       " 'FEETCHK2',\n",
       " 'DOCTDIAB',\n",
       " 'CHKHEMO3',\n",
       " 'FEETCHK',\n",
       " 'EYEEXAM',\n",
       " 'DIABEYE',\n",
       " 'DIABEDU',\n",
       " 'PAINACT2',\n",
       " 'QLMENTL2',\n",
       " 'QLSTRES2',\n",
       " 'QLHLTH2',\n",
       " 'CAREGIV1',\n",
       " 'CRGVREL1',\n",
       " 'CRGVLNG1',\n",
       " 'CRGVHRS1',\n",
       " 'CRGVPRB1',\n",
       " 'CRGVPERS',\n",
       " 'CRGVHOUS',\n",
       " 'CRGVMST2',\n",
       " 'CRGVEXPT',\n",
       " 'VIDFCLT2',\n",
       " 'VIREDIF3',\n",
       " 'VIPRFVS2',\n",
       " 'VINOCRE2',\n",
       " 'VIEYEXM2',\n",
       " 'VIINSUR2',\n",
       " 'VICTRCT4',\n",
       " 'VIGLUMA2',\n",
       " 'VIMACDG2',\n",
       " 'CIMEMLOS',\n",
       " 'CDHOUSE',\n",
       " 'CDASSIST',\n",
       " 'CDHELP',\n",
       " 'CDSOCIAL',\n",
       " 'CDDISCUS',\n",
       " 'WTCHSALT',\n",
       " 'LONGWTCH',\n",
       " 'DRADVISE',\n",
       " 'ASTHMAGE',\n",
       " 'ASATTACK',\n",
       " 'ASERVIST',\n",
       " 'ASDRVIST',\n",
       " 'ASRCHKUP',\n",
       " 'ASACTLIM',\n",
       " 'ASYMPTOM',\n",
       " 'ASNOSLEP',\n",
       " 'ASTHMED3',\n",
       " 'ASINHALR',\n",
       " 'HAREHAB1',\n",
       " 'STREHAB1',\n",
       " 'CVDASPRN',\n",
       " 'ASPUNSAF',\n",
       " 'RLIVPAIN',\n",
       " 'RDUCHART',\n",
       " 'RDUCSTRK',\n",
       " 'ARTTODAY',\n",
       " 'ARTHWGT',\n",
       " 'ARTHEXER',\n",
       " 'ARTHEDU',\n",
       " 'TETANUS',\n",
       " 'HPVADVC2',\n",
       " 'HPVADSHT',\n",
       " 'SHINGLE2',\n",
       " 'HADMAM',\n",
       " 'HOWLONG',\n",
       " 'HADPAP2',\n",
       " 'LASTPAP2',\n",
       " 'HPVTEST',\n",
       " 'HPLSTTST',\n",
       " 'HADHYST2',\n",
       " 'PROFEXAM',\n",
       " 'LENGEXAM',\n",
       " 'BLDSTOOL',\n",
       " 'LSTBLDS3',\n",
       " 'HADSIGM3',\n",
       " 'HADSGCO1',\n",
       " 'LASTSIG3',\n",
       " 'PCPSAAD2',\n",
       " 'PCPSADI1',\n",
       " 'PCPSARE1',\n",
       " 'PSATEST1',\n",
       " 'PSATIME',\n",
       " 'PCPSARS1',\n",
       " 'PCPSADE1',\n",
       " 'PCDMDECN',\n",
       " 'SCNTMNY1',\n",
       " 'SCNTMEL1',\n",
       " 'SCNTPAID',\n",
       " 'SCNTWRK1',\n",
       " 'SCNTLPAD',\n",
       " 'SCNTLWK1',\n",
       " 'SXORIENT',\n",
       " 'TRNSGNDR',\n",
       " 'RCSGENDR',\n",
       " 'RCSRLTN2',\n",
       " 'CASTHDX2',\n",
       " 'CASTHNO2',\n",
       " 'EMTSUPRT',\n",
       " 'LSATISFY',\n",
       " 'ADPLEASR',\n",
       " 'ADDOWN',\n",
       " 'ADSLEEP',\n",
       " 'ADENERGY',\n",
       " 'ADEAT1',\n",
       " 'ADFAIL',\n",
       " 'ADTHINK',\n",
       " 'ADMOVE',\n",
       " 'MISTMNT',\n",
       " 'ADANXEV',\n",
       " 'QSTVER',\n",
       " 'QSTLANG',\n",
       " 'EXACTOT1',\n",
       " 'EXACTOT2',\n",
       " 'MSCODE',\n",
       " '_STSTR',\n",
       " '_STRWT',\n",
       " '_RAWRAKE',\n",
       " '_WT2RAKE',\n",
       " '_CHISPNC',\n",
       " '_CRACE1',\n",
       " '_CPRACE',\n",
       " '_CLLCPWT',\n",
       " '_DUALUSE',\n",
       " '_DUALCOR',\n",
       " '_LLCPWT',\n",
       " '_RFHLTH',\n",
       " '_HCVU651',\n",
       " '_RFHYPE5',\n",
       " '_CHOLCHK',\n",
       " '_RFCHOL',\n",
       " '_MICHD',\n",
       " '_LTASTH1',\n",
       " '_CASTHM1',\n",
       " '_ASTHMS1',\n",
       " '_DRDXAR1',\n",
       " '_PRACE1',\n",
       " '_MRACE1',\n",
       " '_HISPANC',\n",
       " '_RACE',\n",
       " '_RACEG21',\n",
       " '_RACEGR3',\n",
       " '_RACE_G1',\n",
       " '_AGEG5YR',\n",
       " '_AGE65YR',\n",
       " '_AGE80',\n",
       " '_AGE_G',\n",
       " 'HTIN4',\n",
       " 'HTM4',\n",
       " 'WTKG3',\n",
       " '_BMI5',\n",
       " '_BMI5CAT',\n",
       " '_RFBMI5',\n",
       " '_CHLDCNT',\n",
       " '_EDUCAG',\n",
       " '_INCOMG',\n",
       " '_SMOKER3',\n",
       " '_RFSMOK3',\n",
       " 'DRNKANY5',\n",
       " 'DROCDY3_',\n",
       " '_RFBING5',\n",
       " '_DRNKWEK',\n",
       " '_RFDRHV5',\n",
       " 'FTJUDA1_',\n",
       " 'FRUTDA1_',\n",
       " 'BEANDAY_',\n",
       " 'GRENDAY_',\n",
       " 'ORNGDAY_',\n",
       " 'VEGEDA1_',\n",
       " '_MISFRTN',\n",
       " '_MISVEGN',\n",
       " '_FRTRESP',\n",
       " '_VEGRESP',\n",
       " '_FRUTSUM',\n",
       " '_VEGESUM',\n",
       " '_FRTLT1',\n",
       " '_VEGLT1',\n",
       " '_FRT16',\n",
       " '_VEG23',\n",
       " '_FRUITEX',\n",
       " '_VEGETEX',\n",
       " '_TOTINDA',\n",
       " 'METVL11_',\n",
       " 'METVL21_',\n",
       " 'MAXVO2_',\n",
       " 'FC60_',\n",
       " 'ACTIN11_',\n",
       " 'ACTIN21_',\n",
       " 'PADUR1_',\n",
       " 'PADUR2_',\n",
       " 'PAFREQ1_',\n",
       " 'PAFREQ2_',\n",
       " '_MINAC11',\n",
       " '_MINAC21',\n",
       " 'STRFREQ_',\n",
       " 'PAMISS1_',\n",
       " 'PAMIN11_',\n",
       " 'PAMIN21_',\n",
       " 'PA1MIN_',\n",
       " 'PAVIG11_',\n",
       " 'PAVIG21_',\n",
       " 'PA1VIGM_',\n",
       " '_PACAT1',\n",
       " '_PAINDX1',\n",
       " '_PA150R2',\n",
       " '_PA300R2',\n",
       " '_PA30021',\n",
       " '_PASTRNG',\n",
       " '_PAREC1',\n",
       " '_PASTAE1',\n",
       " '_LMTACT1',\n",
       " '_LMTWRK1',\n",
       " '_LMTSCL1',\n",
       " '_RFSEAT2',\n",
       " '_RFSEAT3',\n",
       " '_FLSHOT6',\n",
       " '_PNEUMO2',\n",
       " '_AIDTST3']"
      ]
     },
     "execution_count": 5,
     "metadata": {},
     "output_type": "execute_result"
    }
   ],
   "source": [
    "columns = list(data_df)\n",
    "columns"
   ]
  },
  {
   "cell_type": "code",
   "execution_count": 6,
   "id": "ca3f52be-555e-4d93-9273-2d7d0412c1f0",
   "metadata": {},
   "outputs": [
    {
     "data": {
      "text/plain": [
       "_STATE           0\n",
       "FMONTH           0\n",
       "IDATE            0\n",
       "IMONTH           0\n",
       "IDAY             0\n",
       "             ...  \n",
       "_RFSEAT2         0\n",
       "_RFSEAT3         0\n",
       "_FLSHOT6    283502\n",
       "_PNEUMO2    283502\n",
       "_AIDTST3     43387\n",
       "Length: 330, dtype: int64"
      ]
     },
     "execution_count": 6,
     "metadata": {},
     "output_type": "execute_result"
    }
   ],
   "source": [
    "missing_values = data_df.isna().sum()\n",
    "missing_values"
   ]
  },
  {
   "cell_type": "code",
   "execution_count": 7,
   "id": "86cc5ca6-510e-45a5-8992-ad8f2447056c",
   "metadata": {},
   "outputs": [
    {
     "name": "stdout",
     "output_type": "stream",
     "text": [
      "<class 'pandas.core.frame.DataFrame'>\n",
      "RangeIndex: 441456 entries, 0 to 441455\n",
      "Columns: 330 entries, _STATE to _AIDTST3\n",
      "dtypes: float64(323), object(7)\n",
      "memory usage: 1.1+ GB\n"
     ]
    }
   ],
   "source": [
    "data_df.info()"
   ]
  },
  {
   "cell_type": "markdown",
   "id": "06415edd",
   "metadata": {},
   "source": [
    "### Selection of the relevant columns\n",
    "Research regarding heart disease has identified different important risk factors. We chose these from the dataset. \n"
   ]
  },
  {
   "cell_type": "code",
   "execution_count": 8,
   "id": "edf8145f-620e-48db-8deb-fba9eae70ed4",
   "metadata": {},
   "outputs": [],
   "source": [
    "# select specific columns\n",
    "data_df_selected = data_df[['IDATE',\n",
    "                                         '_MICHD', \n",
    "                                         '_RFHYPE5',  \n",
    "                                         'TOLDHI2', '_CHOLCHK', \n",
    "                                         '_BMI5', \n",
    "                                         'SMOKE100', \n",
    "                                         'CVDSTRK3', 'DIABETE3', \n",
    "                                         '_TOTINDA', \n",
    "                                         '_FRTLT1', '_VEGLT1', \n",
    "                                         '_RFDRHV5', \n",
    "                                         'HLTHPLN1', 'MEDCOST', \n",
    "                                         'GENHLTH', 'MENTHLTH', 'PHYSHLTH', 'DIFFWALK', \n",
    "                                         'SEX', '_AGEG5YR', 'EDUCA', 'INCOME2' \n",
    "                           ]]"
   ]
  },
  {
   "cell_type": "code",
   "execution_count": 9,
   "id": "064a2cfb-e2d4-43ec-9442-aad685e4e2b4",
   "metadata": {},
   "outputs": [
    {
     "data": {
      "text/html": [
       "<div>\n",
       "<style scoped>\n",
       "    .dataframe tbody tr th:only-of-type {\n",
       "        vertical-align: middle;\n",
       "    }\n",
       "\n",
       "    .dataframe tbody tr th {\n",
       "        vertical-align: top;\n",
       "    }\n",
       "\n",
       "    .dataframe thead th {\n",
       "        text-align: right;\n",
       "    }\n",
       "</style>\n",
       "<table border=\"1\" class=\"dataframe\">\n",
       "  <thead>\n",
       "    <tr style=\"text-align: right;\">\n",
       "      <th></th>\n",
       "      <th>IDATE</th>\n",
       "      <th>_MICHD</th>\n",
       "      <th>_RFHYPE5</th>\n",
       "      <th>TOLDHI2</th>\n",
       "      <th>_CHOLCHK</th>\n",
       "      <th>_BMI5</th>\n",
       "      <th>SMOKE100</th>\n",
       "      <th>CVDSTRK3</th>\n",
       "      <th>DIABETE3</th>\n",
       "      <th>_TOTINDA</th>\n",
       "      <th>...</th>\n",
       "      <th>HLTHPLN1</th>\n",
       "      <th>MEDCOST</th>\n",
       "      <th>GENHLTH</th>\n",
       "      <th>MENTHLTH</th>\n",
       "      <th>PHYSHLTH</th>\n",
       "      <th>DIFFWALK</th>\n",
       "      <th>SEX</th>\n",
       "      <th>_AGEG5YR</th>\n",
       "      <th>EDUCA</th>\n",
       "      <th>INCOME2</th>\n",
       "    </tr>\n",
       "  </thead>\n",
       "  <tbody>\n",
       "    <tr>\n",
       "      <th>0</th>\n",
       "      <td>b'01292015'</td>\n",
       "      <td>2.0</td>\n",
       "      <td>2.0</td>\n",
       "      <td>1.0</td>\n",
       "      <td>1.0</td>\n",
       "      <td>4018.0</td>\n",
       "      <td>1.0</td>\n",
       "      <td>2.0</td>\n",
       "      <td>3.0</td>\n",
       "      <td>2.0</td>\n",
       "      <td>...</td>\n",
       "      <td>1.0</td>\n",
       "      <td>2.0</td>\n",
       "      <td>5.0</td>\n",
       "      <td>18.0</td>\n",
       "      <td>15.0</td>\n",
       "      <td>1.0</td>\n",
       "      <td>2.0</td>\n",
       "      <td>9.0</td>\n",
       "      <td>4.0</td>\n",
       "      <td>3.0</td>\n",
       "    </tr>\n",
       "    <tr>\n",
       "      <th>1</th>\n",
       "      <td>b'01202015'</td>\n",
       "      <td>2.0</td>\n",
       "      <td>1.0</td>\n",
       "      <td>2.0</td>\n",
       "      <td>2.0</td>\n",
       "      <td>2509.0</td>\n",
       "      <td>1.0</td>\n",
       "      <td>2.0</td>\n",
       "      <td>3.0</td>\n",
       "      <td>1.0</td>\n",
       "      <td>...</td>\n",
       "      <td>2.0</td>\n",
       "      <td>1.0</td>\n",
       "      <td>3.0</td>\n",
       "      <td>88.0</td>\n",
       "      <td>88.0</td>\n",
       "      <td>2.0</td>\n",
       "      <td>2.0</td>\n",
       "      <td>7.0</td>\n",
       "      <td>6.0</td>\n",
       "      <td>1.0</td>\n",
       "    </tr>\n",
       "    <tr>\n",
       "      <th>2</th>\n",
       "      <td>b'02012015'</td>\n",
       "      <td>NaN</td>\n",
       "      <td>1.0</td>\n",
       "      <td>1.0</td>\n",
       "      <td>1.0</td>\n",
       "      <td>2204.0</td>\n",
       "      <td>NaN</td>\n",
       "      <td>1.0</td>\n",
       "      <td>3.0</td>\n",
       "      <td>9.0</td>\n",
       "      <td>...</td>\n",
       "      <td>1.0</td>\n",
       "      <td>2.0</td>\n",
       "      <td>4.0</td>\n",
       "      <td>88.0</td>\n",
       "      <td>15.0</td>\n",
       "      <td>NaN</td>\n",
       "      <td>2.0</td>\n",
       "      <td>11.0</td>\n",
       "      <td>4.0</td>\n",
       "      <td>99.0</td>\n",
       "    </tr>\n",
       "    <tr>\n",
       "      <th>3</th>\n",
       "      <td>b'01142015'</td>\n",
       "      <td>2.0</td>\n",
       "      <td>2.0</td>\n",
       "      <td>1.0</td>\n",
       "      <td>1.0</td>\n",
       "      <td>2819.0</td>\n",
       "      <td>2.0</td>\n",
       "      <td>2.0</td>\n",
       "      <td>3.0</td>\n",
       "      <td>2.0</td>\n",
       "      <td>...</td>\n",
       "      <td>1.0</td>\n",
       "      <td>1.0</td>\n",
       "      <td>5.0</td>\n",
       "      <td>30.0</td>\n",
       "      <td>30.0</td>\n",
       "      <td>1.0</td>\n",
       "      <td>2.0</td>\n",
       "      <td>9.0</td>\n",
       "      <td>4.0</td>\n",
       "      <td>8.0</td>\n",
       "    </tr>\n",
       "    <tr>\n",
       "      <th>4</th>\n",
       "      <td>b'01142015'</td>\n",
       "      <td>2.0</td>\n",
       "      <td>1.0</td>\n",
       "      <td>2.0</td>\n",
       "      <td>1.0</td>\n",
       "      <td>2437.0</td>\n",
       "      <td>2.0</td>\n",
       "      <td>2.0</td>\n",
       "      <td>3.0</td>\n",
       "      <td>2.0</td>\n",
       "      <td>...</td>\n",
       "      <td>1.0</td>\n",
       "      <td>2.0</td>\n",
       "      <td>5.0</td>\n",
       "      <td>88.0</td>\n",
       "      <td>20.0</td>\n",
       "      <td>2.0</td>\n",
       "      <td>2.0</td>\n",
       "      <td>9.0</td>\n",
       "      <td>5.0</td>\n",
       "      <td>77.0</td>\n",
       "    </tr>\n",
       "  </tbody>\n",
       "</table>\n",
       "<p>5 rows × 23 columns</p>\n",
       "</div>"
      ],
      "text/plain": [
       "         IDATE  _MICHD  _RFHYPE5  TOLDHI2  _CHOLCHK   _BMI5  SMOKE100  \\\n",
       "0  b'01292015'     2.0       2.0      1.0       1.0  4018.0       1.0   \n",
       "1  b'01202015'     2.0       1.0      2.0       2.0  2509.0       1.0   \n",
       "2  b'02012015'     NaN       1.0      1.0       1.0  2204.0       NaN   \n",
       "3  b'01142015'     2.0       2.0      1.0       1.0  2819.0       2.0   \n",
       "4  b'01142015'     2.0       1.0      2.0       1.0  2437.0       2.0   \n",
       "\n",
       "   CVDSTRK3  DIABETE3  _TOTINDA  ...  HLTHPLN1  MEDCOST  GENHLTH  MENTHLTH  \\\n",
       "0       2.0       3.0       2.0  ...       1.0      2.0      5.0      18.0   \n",
       "1       2.0       3.0       1.0  ...       2.0      1.0      3.0      88.0   \n",
       "2       1.0       3.0       9.0  ...       1.0      2.0      4.0      88.0   \n",
       "3       2.0       3.0       2.0  ...       1.0      1.0      5.0      30.0   \n",
       "4       2.0       3.0       2.0  ...       1.0      2.0      5.0      88.0   \n",
       "\n",
       "   PHYSHLTH  DIFFWALK  SEX  _AGEG5YR  EDUCA  INCOME2  \n",
       "0      15.0       1.0  2.0       9.0    4.0      3.0  \n",
       "1      88.0       2.0  2.0       7.0    6.0      1.0  \n",
       "2      15.0       NaN  2.0      11.0    4.0     99.0  \n",
       "3      30.0       1.0  2.0       9.0    4.0      8.0  \n",
       "4      20.0       2.0  2.0       9.0    5.0     77.0  \n",
       "\n",
       "[5 rows x 23 columns]"
      ]
     },
     "execution_count": 9,
     "metadata": {},
     "output_type": "execute_result"
    }
   ],
   "source": [
    "data_df_selected.head()"
   ]
  },
  {
   "cell_type": "code",
   "execution_count": 10,
   "id": "760b6cae-d8a3-4dd3-b604-80f0b0aec6fa",
   "metadata": {},
   "outputs": [
    {
     "data": {
      "text/plain": [
       "(343606, 23)"
      ]
     },
     "execution_count": 10,
     "metadata": {},
     "output_type": "execute_result"
    }
   ],
   "source": [
    "# drop missing values\n",
    "data_df_selected = data_df_selected.dropna()\n",
    "data_df_selected.shape"
   ]
  },
  {
   "cell_type": "code",
   "execution_count": 11,
   "id": "f2194eca-4f18-4113-b5de-06537b1a8745",
   "metadata": {},
   "outputs": [],
   "source": [
    "#Rename the columns to make them more readable\n",
    "data_df_selected = data_df_selected.rename(columns = {'_MICHD':'HeartDiseaseorAttack', \n",
    "                                         '_RFHYPE5':'HighBP',  \n",
    "                                         'TOLDHI2':'HighChol', '_CHOLCHK':'CholCheck', \n",
    "                                         '_BMI5':'BMI', \n",
    "                                         'SMOKE100':'Smoker', \n",
    "                                         'CVDSTRK3':'Stroke', 'DIABETE3':'Diabetes', \n",
    "                                         '_TOTINDA':'PhysActivity', \n",
    "                                         '_FRTLT1':'Fruits', '_VEGLT1':\"Vegetables\", \n",
    "                                         '_RFDRHV5':'HvyAlcoholConsump', \n",
    "                                         'HLTHPLN1':'AnyHealthcare', 'MEDCOST':'NoDocbcCost', \n",
    "                                         'GENHLTH':'GenHlth', 'MENTHLTH':'MentHlth', 'PHYSHLTH':'PhysHlth', 'DIFFWALK':'DiffWalk', \n",
    "                                         'SEX':'Sex', '_AGEG5YR':'Age', 'EDUCA':'Education', 'INCOME2':'Income' })"
   ]
  },
  {
   "cell_type": "markdown",
   "id": "ac900d88",
   "metadata": {},
   "source": [
    "### Process dataset for a machine learning approach"
   ]
  },
  {
   "cell_type": "code",
   "execution_count": 12,
   "id": "1da2ad67",
   "metadata": {},
   "outputs": [
    {
     "data": {
      "text/plain": [
       "array([0., 1.])"
      ]
     },
     "execution_count": 12,
     "metadata": {},
     "output_type": "execute_result"
    }
   ],
   "source": [
    "# HeartDiseaseorAttack\n",
    "#Change 2 to 0 because this means did not have MI or CHD\n",
    "data_df_selected['HeartDiseaseorAttack'] = data_df_selected['HeartDiseaseorAttack'].replace({2: 0})\n",
    "data_df_selected.HeartDiseaseorAttack.unique()"
   ]
  },
  {
   "cell_type": "code",
   "execution_count": 13,
   "id": "950f083e",
   "metadata": {},
   "outputs": [
    {
     "data": {
      "text/plain": [
       "array([1., 0.])"
      ]
     },
     "execution_count": 13,
     "metadata": {},
     "output_type": "execute_result"
    }
   ],
   "source": [
    "#1 HighBP\n",
    "#Change 1 to 0 so it represetnts No high blood pressure and 2 to 1 so it represents high blood pressure\n",
    "data_df_selected['HighBP'] = data_df_selected['HighBP'].replace({1:0, 2:1})\n",
    "data_df_selected = data_df_selected[data_df_selected.HighBP != 9]\n",
    "data_df_selected.HighBP.unique()"
   ]
  },
  {
   "cell_type": "code",
   "execution_count": 14,
   "id": "24cd96b8",
   "metadata": {},
   "outputs": [
    {
     "data": {
      "text/plain": [
       "array([1., 0.])"
      ]
     },
     "execution_count": 14,
     "metadata": {},
     "output_type": "execute_result"
    }
   ],
   "source": [
    "#2 HighChol\n",
    "# Change 2 to 0 because it is No\n",
    "# Remove all 7 (dont knows)\n",
    "# Remove all 9 (refused)\n",
    "data_df_selected['HighChol'] = data_df_selected['HighChol'].replace({2:0})\n",
    "data_df_selected = data_df_selected[data_df_selected.HighChol != 7]\n",
    "data_df_selected = data_df_selected[data_df_selected.HighChol != 9]\n",
    "data_df_selected.HighChol.unique()"
   ]
  },
  {
   "cell_type": "code",
   "execution_count": 15,
   "id": "5aed8998",
   "metadata": {},
   "outputs": [
    {
     "data": {
      "text/plain": [
       "array([1., 0.])"
      ]
     },
     "execution_count": 15,
     "metadata": {},
     "output_type": "execute_result"
    }
   ],
   "source": [
    "#3 CholCheck\n",
    "# Change 3 to 0 and 2 to 0 for Not checked cholesterol in past 5 years\n",
    "# Remove 9\n",
    "data_df_selected['CholCheck'] = data_df_selected['CholCheck'].replace({3:0,2:0})\n",
    "data_df_selected = data_df_selected[data_df_selected.CholCheck != 9]\n",
    "data_df_selected.CholCheck.unique()"
   ]
  },
  {
   "cell_type": "code",
   "execution_count": 16,
   "id": "707b17cb",
   "metadata": {},
   "outputs": [
    {
     "data": {
      "text/plain": [
       "array([40., 25., 28., 24., 27., 30., 26., 23., 34., 33., 21., 22., 31.,\n",
       "       38., 20., 19., 32., 46., 41., 37., 36., 29., 35., 18., 54., 45.,\n",
       "       39., 47., 43., 55., 49., 42., 17., 16., 48., 44., 50., 59., 15.,\n",
       "       52., 53., 57., 51., 14., 58., 63., 61., 56., 60., 74., 62., 64.,\n",
       "       13., 66., 73., 65., 68., 85., 71., 84., 67., 70., 82., 79., 92.,\n",
       "       72., 88., 96., 81., 12., 77., 95., 75., 91., 69., 76., 87., 89.,\n",
       "       83., 98., 86., 80., 90., 78., 97.])"
      ]
     },
     "execution_count": 16,
     "metadata": {},
     "output_type": "execute_result"
    }
   ],
   "source": [
    "#4 BMI (no changes, just note that these are BMI * 100. So for example a BMI of 4018 is really 40.18)\n",
    "data_df_selected['BMI'] = data_df_selected['BMI'].div(100).round(0)\n",
    "data_df_selected.BMI.unique()"
   ]
  },
  {
   "cell_type": "code",
   "execution_count": 17,
   "id": "7d50a501",
   "metadata": {},
   "outputs": [
    {
     "data": {
      "text/plain": [
       "array([1., 0.])"
      ]
     },
     "execution_count": 17,
     "metadata": {},
     "output_type": "execute_result"
    }
   ],
   "source": [
    "#5 Smoker\n",
    "# Change 2 to 0 because it is No\n",
    "# Remove all 7 (dont knows)\n",
    "# Remove all 9 (refused)\n",
    "data_df_selected['Smoker'] = data_df_selected['Smoker'].replace({2:0})\n",
    "data_df_selected = data_df_selected[data_df_selected.Smoker != 7]\n",
    "data_df_selected = data_df_selected[data_df_selected.Smoker != 9]\n",
    "data_df_selected.Smoker.unique()"
   ]
  },
  {
   "cell_type": "code",
   "execution_count": 18,
   "id": "c55ec271",
   "metadata": {},
   "outputs": [
    {
     "data": {
      "text/plain": [
       "array([0., 1.])"
      ]
     },
     "execution_count": 18,
     "metadata": {},
     "output_type": "execute_result"
    }
   ],
   "source": [
    "#6 Stroke\n",
    "# Change 2 to 0 because it is No\n",
    "# Remove all 7 (dont knows)\n",
    "# Remove all 9 (refused)\n",
    "data_df_selected['Stroke'] = data_df_selected['Stroke'].replace({2:0})\n",
    "data_df_selected = data_df_selected[data_df_selected.Stroke != 7]\n",
    "data_df_selected = data_df_selected[data_df_selected.Stroke != 9]\n",
    "data_df_selected.Stroke.unique()"
   ]
  },
  {
   "cell_type": "code",
   "execution_count": 19,
   "id": "28153f2b",
   "metadata": {},
   "outputs": [
    {
     "data": {
      "text/plain": [
       "array([0., 2., 1.])"
      ]
     },
     "execution_count": 19,
     "metadata": {},
     "output_type": "execute_result"
    }
   ],
   "source": [
    "#7 Diabetes\n",
    "# going to make this ordinal. 0 is for no diabetes or only during pregnancy, 1 is for pre-diabetes or borderline diabetes, 2 is for yes diabetes\n",
    "# Remove all 7 (dont knows)\n",
    "# Remove all 9 (refused)\n",
    "data_df_selected['Diabetes'] = data_df_selected['Diabetes'].replace({2:0, 3:0, 1:2, 4:1})\n",
    "data_df_selected = data_df_selected[data_df_selected.Diabetes != 7]\n",
    "data_df_selected = data_df_selected[data_df_selected.Diabetes != 9]\n",
    "data_df_selected.Diabetes.unique()"
   ]
  },
  {
   "cell_type": "code",
   "execution_count": 20,
   "id": "bc876b1a",
   "metadata": {},
   "outputs": [
    {
     "data": {
      "text/plain": [
       "array([0., 1.])"
      ]
     },
     "execution_count": 20,
     "metadata": {},
     "output_type": "execute_result"
    }
   ],
   "source": [
    "#8 PhysActivity\n",
    "# 1 for physical activity\n",
    "# change 2 to 0 for no physical activity\n",
    "# Remove all 9 (don't know/refused)\n",
    "data_df_selected['PhysActivity'] = data_df_selected['PhysActivity'].replace({2:0})\n",
    "data_df_selected = data_df_selected[data_df_selected.PhysActivity != 9]\n",
    "data_df_selected.PhysActivity.unique()"
   ]
  },
  {
   "cell_type": "code",
   "execution_count": 21,
   "id": "17a36657",
   "metadata": {},
   "outputs": [
    {
     "data": {
      "text/plain": [
       "array([0., 1.])"
      ]
     },
     "execution_count": 21,
     "metadata": {},
     "output_type": "execute_result"
    }
   ],
   "source": [
    "#9 Fruits\n",
    "# Change 2 to 0. this means no fruit consumed per day. 1 will mean consumed 1 or more pieces of fruit per day \n",
    "# remove all dont knows and missing 9\n",
    "data_df_selected['Fruits'] = data_df_selected['Fruits'].replace({2:0})\n",
    "data_df_selected = data_df_selected[data_df_selected.Fruits != 9]\n",
    "data_df_selected.Fruits.unique()"
   ]
  },
  {
   "cell_type": "code",
   "execution_count": 22,
   "id": "b1efc118",
   "metadata": {},
   "outputs": [
    {
     "data": {
      "text/plain": [
       "array([1., 0.])"
      ]
     },
     "execution_count": 22,
     "metadata": {},
     "output_type": "execute_result"
    }
   ],
   "source": [
    "#10 Vegetables\n",
    "# Change 2 to 0. this means no vegetables consumed per day. 1 will mean consumed 1 or more pieces of vegetable per day \n",
    "# remove all dont knows and missing 9\n",
    "data_df_selected['Vegetables'] = data_df_selected['Vegetables'].replace({2:0})\n",
    "data_df_selected = data_df_selected[data_df_selected.Vegetables != 9]\n",
    "data_df_selected.Vegetables.unique()"
   ]
  },
  {
   "cell_type": "code",
   "execution_count": 23,
   "id": "a08addc5",
   "metadata": {},
   "outputs": [
    {
     "data": {
      "text/plain": [
       "array([0., 1.])"
      ]
     },
     "execution_count": 23,
     "metadata": {},
     "output_type": "execute_result"
    }
   ],
   "source": [
    "#11 HvyAlcoholConsump\n",
    "# Change 1 to 0 (1 was no for heavy drinking). change all 2 to 1 (2 was yes for heavy drinking)\n",
    "# remove all dont knows and missing 9\n",
    "data_df_selected['HvyAlcoholConsump'] = data_df_selected['HvyAlcoholConsump'].replace({1:0, 2:1})\n",
    "data_df_selected = data_df_selected[data_df_selected.HvyAlcoholConsump != 9]\n",
    "data_df_selected.HvyAlcoholConsump.unique()"
   ]
  },
  {
   "cell_type": "code",
   "execution_count": 24,
   "id": "456f8020",
   "metadata": {},
   "outputs": [
    {
     "data": {
      "text/plain": [
       "array([1., 0.])"
      ]
     },
     "execution_count": 24,
     "metadata": {},
     "output_type": "execute_result"
    }
   ],
   "source": [
    "#12 AnyHealthcare\n",
    "# 1 is yes, change 2 to 0 because it is No health care access\n",
    "# remove 7 and 9 for don't know or refused\n",
    "data_df_selected['AnyHealthcare'] = data_df_selected['AnyHealthcare'].replace({2:0})\n",
    "data_df_selected = data_df_selected[data_df_selected.AnyHealthcare != 7]\n",
    "data_df_selected = data_df_selected[data_df_selected.AnyHealthcare != 9]\n",
    "data_df_selected.AnyHealthcare.unique()"
   ]
  },
  {
   "cell_type": "code",
   "execution_count": 25,
   "id": "3f664ae5",
   "metadata": {},
   "outputs": [
    {
     "data": {
      "text/plain": [
       "array([0., 1.])"
      ]
     },
     "execution_count": 25,
     "metadata": {},
     "output_type": "execute_result"
    }
   ],
   "source": [
    "#13 NoDocbcCost\n",
    "# Change 2 to 0 for no, 1 is already yes\n",
    "# remove 7 for don/t know and 9 for refused\n",
    "data_df_selected['NoDocbcCost'] = data_df_selected['NoDocbcCost'].replace({2:0})\n",
    "data_df_selected = data_df_selected[data_df_selected.NoDocbcCost != 7]\n",
    "data_df_selected = data_df_selected[data_df_selected.NoDocbcCost != 9]\n",
    "data_df_selected.NoDocbcCost.unique()"
   ]
  },
  {
   "cell_type": "code",
   "execution_count": 26,
   "id": "f00c119d",
   "metadata": {},
   "outputs": [
    {
     "data": {
      "text/plain": [
       "array([5., 3., 2., 4., 1.])"
      ]
     },
     "execution_count": 26,
     "metadata": {},
     "output_type": "execute_result"
    }
   ],
   "source": [
    "#14 GenHlth\n",
    "# This is an ordinal variable that I want to keep (1 is Excellent -> 5 is Poor)\n",
    "# Remove 7 and 9 for don't know and refused\n",
    "data_df_selected = data_df_selected[data_df_selected.GenHlth != 7]\n",
    "data_df_selected = data_df_selected[data_df_selected.GenHlth != 9]\n",
    "data_df_selected.GenHlth.unique()"
   ]
  },
  {
   "cell_type": "code",
   "execution_count": 27,
   "id": "ca74aea4",
   "metadata": {},
   "outputs": [
    {
     "data": {
      "text/plain": [
       "array([18.,  0., 30.,  3.,  5., 15., 10.,  6., 20.,  2., 25.,  1., 29.,\n",
       "        4.,  7.,  8., 21., 14., 26.,  9., 16., 28., 11., 12., 24., 17.,\n",
       "       13., 23., 27., 19., 22.])"
      ]
     },
     "execution_count": 27,
     "metadata": {},
     "output_type": "execute_result"
    }
   ],
   "source": [
    "#15 MentHlth\n",
    "# already in days so keep that, scale will be 0-30\n",
    "# change 88 to 0 because it means none (no bad mental health days)\n",
    "# remove 77 and 99 for don't know not sure and refused\n",
    "data_df_selected['MentHlth'] = data_df_selected['MentHlth'].replace({88:0})\n",
    "data_df_selected = data_df_selected[data_df_selected.MentHlth != 77]\n",
    "data_df_selected = data_df_selected[data_df_selected.MentHlth != 99]\n",
    "data_df_selected.MentHlth.unique()"
   ]
  },
  {
   "cell_type": "code",
   "execution_count": 28,
   "id": "a0f135b7",
   "metadata": {},
   "outputs": [
    {
     "data": {
      "text/plain": [
       "array([15.,  0., 30.,  2., 14., 28.,  7., 20.,  3., 10.,  1.,  5., 17.,\n",
       "        4., 19.,  6., 21., 12.,  8., 25., 27., 22., 29., 24.,  9., 16.,\n",
       "       18., 23., 13., 26., 11.])"
      ]
     },
     "execution_count": 28,
     "metadata": {},
     "output_type": "execute_result"
    }
   ],
   "source": [
    "#16 PhysHlth\n",
    "# already in days so keep that, scale will be 0-30\n",
    "# change 88 to 0 because it means none (no bad mental health days)\n",
    "# remove 77 and 99 for don't know not sure and refused\n",
    "data_df_selected['PhysHlth'] = data_df_selected['PhysHlth'].replace({88:0})\n",
    "data_df_selected = data_df_selected[data_df_selected.PhysHlth != 77]\n",
    "data_df_selected = data_df_selected[data_df_selected.PhysHlth != 99]\n",
    "data_df_selected.PhysHlth.unique()"
   ]
  },
  {
   "cell_type": "code",
   "execution_count": 29,
   "id": "cee086b3",
   "metadata": {},
   "outputs": [
    {
     "data": {
      "text/plain": [
       "array([1., 0.])"
      ]
     },
     "execution_count": 29,
     "metadata": {},
     "output_type": "execute_result"
    }
   ],
   "source": [
    "#17 DiffWalk\n",
    "# change 2 to 0 for no. 1 is already yes\n",
    "# remove 7 and 9 for don't know not sure and refused\n",
    "data_df_selected['DiffWalk'] = data_df_selected['DiffWalk'].replace({2:0})\n",
    "data_df_selected = data_df_selected[data_df_selected.DiffWalk != 7]\n",
    "data_df_selected = data_df_selected[data_df_selected.DiffWalk != 9]\n",
    "data_df_selected.DiffWalk.unique()"
   ]
  },
  {
   "cell_type": "code",
   "execution_count": 30,
   "id": "796530f3",
   "metadata": {},
   "outputs": [
    {
     "data": {
      "text/plain": [
       "array([0., 1.])"
      ]
     },
     "execution_count": 30,
     "metadata": {},
     "output_type": "execute_result"
    }
   ],
   "source": [
    "#18 Sex\n",
    "# in other words - is respondent male (somewhat arbitrarily chose this change because men are at higher risk for heart disease)\n",
    "# change 2 to 0 (female as 0). Male is 1\n",
    "data_df_selected['Sex'] = data_df_selected['Sex'].replace({2:0})\n",
    "data_df_selected.Sex.unique()"
   ]
  },
  {
   "cell_type": "code",
   "execution_count": 31,
   "id": "9fc8c1b0",
   "metadata": {},
   "outputs": [
    {
     "data": {
      "text/plain": [
       "array([ 9.,  7., 11., 10., 13.,  8.,  4.,  6.,  2., 12.,  5.,  1.,  3.])"
      ]
     },
     "execution_count": 31,
     "metadata": {},
     "output_type": "execute_result"
    }
   ],
   "source": [
    "#19 Age\n",
    "# already ordinal. 1 is 18-24 all the way up to 13 wis 80 and older. 5 year increments.\n",
    "# remove 14 because it is don't know or missing\n",
    "data_df_selected = data_df_selected[data_df_selected.Age != 14]\n",
    "data_df_selected.Age.unique()"
   ]
  },
  {
   "cell_type": "code",
   "execution_count": 32,
   "id": "d6780da2",
   "metadata": {},
   "outputs": [
    {
     "data": {
      "text/plain": [
       "array([4., 6., 3., 5., 2., 1.])"
      ]
     },
     "execution_count": 32,
     "metadata": {},
     "output_type": "execute_result"
    }
   ],
   "source": [
    "#20 Education\n",
    "# This is already an ordinal variable with 1 being never attended school or kindergarten only up to 6 being college 4 years or more\n",
    "# Scale here is 1-6\n",
    "# Remove 9 for refused:\n",
    "data_df_selected = data_df_selected[data_df_selected.Education != 9]\n",
    "data_df_selected.Education.unique()"
   ]
  },
  {
   "cell_type": "code",
   "execution_count": 33,
   "id": "7e89708c",
   "metadata": {},
   "outputs": [
    {
     "data": {
      "text/plain": [
       "array([3., 1., 8., 6., 4., 7., 2., 5.])"
      ]
     },
     "execution_count": 33,
     "metadata": {},
     "output_type": "execute_result"
    }
   ],
   "source": [
    "#21 Income\n",
    "# Variable is already ordinal with 1 being less than $10,000 all the way up to 8 being $75,000 or more\n",
    "# Remove 77 and 99 for don't know and refused\n",
    "data_df_selected = data_df_selected[data_df_selected.Income != 77]\n",
    "data_df_selected = data_df_selected[data_df_selected.Income != 99]\n",
    "data_df_selected.Income.unique()"
   ]
  },
  {
   "cell_type": "code",
   "execution_count": 34,
   "id": "742acd7d",
   "metadata": {},
   "outputs": [
    {
     "data": {
      "text/plain": [
       "HeartDiseaseorAttack\n",
       "0.0    229787\n",
       "1.0     23893\n",
       "dtype: int64"
      ]
     },
     "execution_count": 34,
     "metadata": {},
     "output_type": "execute_result"
    }
   ],
   "source": [
    "#Notice the imbalance in the two classes\n",
    "data_df_selected.groupby(['HeartDiseaseorAttack']).size()"
   ]
  },
  {
   "cell_type": "markdown",
   "id": "8f1527c1",
   "metadata": {},
   "source": [
    "### Having a closer look on the selected dataset:"
   ]
  },
  {
   "cell_type": "code",
   "execution_count": 35,
   "id": "3f7d336d",
   "metadata": {},
   "outputs": [
    {
     "data": {
      "text/plain": [
       "(253680, 23)"
      ]
     },
     "execution_count": 35,
     "metadata": {},
     "output_type": "execute_result"
    }
   ],
   "source": [
    "data_df_selected.shape"
   ]
  },
  {
   "cell_type": "code",
   "execution_count": 36,
   "id": "6b2fda57",
   "metadata": {
    "scrolled": true
   },
   "outputs": [
    {
     "data": {
      "text/html": [
       "<div>\n",
       "<style scoped>\n",
       "    .dataframe tbody tr th:only-of-type {\n",
       "        vertical-align: middle;\n",
       "    }\n",
       "\n",
       "    .dataframe tbody tr th {\n",
       "        vertical-align: top;\n",
       "    }\n",
       "\n",
       "    .dataframe thead th {\n",
       "        text-align: right;\n",
       "    }\n",
       "</style>\n",
       "<table border=\"1\" class=\"dataframe\">\n",
       "  <thead>\n",
       "    <tr style=\"text-align: right;\">\n",
       "      <th></th>\n",
       "      <th>HeartDiseaseorAttack</th>\n",
       "      <th>HighBP</th>\n",
       "      <th>HighChol</th>\n",
       "      <th>CholCheck</th>\n",
       "      <th>BMI</th>\n",
       "      <th>Smoker</th>\n",
       "      <th>Stroke</th>\n",
       "      <th>Diabetes</th>\n",
       "      <th>PhysActivity</th>\n",
       "      <th>Fruits</th>\n",
       "      <th>...</th>\n",
       "      <th>AnyHealthcare</th>\n",
       "      <th>NoDocbcCost</th>\n",
       "      <th>GenHlth</th>\n",
       "      <th>MentHlth</th>\n",
       "      <th>PhysHlth</th>\n",
       "      <th>DiffWalk</th>\n",
       "      <th>Sex</th>\n",
       "      <th>Age</th>\n",
       "      <th>Education</th>\n",
       "      <th>Income</th>\n",
       "    </tr>\n",
       "  </thead>\n",
       "  <tbody>\n",
       "    <tr>\n",
       "      <th>count</th>\n",
       "      <td>253680.000000</td>\n",
       "      <td>253680.000000</td>\n",
       "      <td>253680.000000</td>\n",
       "      <td>253680.000000</td>\n",
       "      <td>253680.000000</td>\n",
       "      <td>253680.000000</td>\n",
       "      <td>253680.000000</td>\n",
       "      <td>253680.000000</td>\n",
       "      <td>253680.000000</td>\n",
       "      <td>253680.000000</td>\n",
       "      <td>...</td>\n",
       "      <td>253680.000000</td>\n",
       "      <td>253680.000000</td>\n",
       "      <td>253680.000000</td>\n",
       "      <td>253680.000000</td>\n",
       "      <td>253680.000000</td>\n",
       "      <td>253680.000000</td>\n",
       "      <td>253680.000000</td>\n",
       "      <td>253680.000000</td>\n",
       "      <td>253680.000000</td>\n",
       "      <td>253680.000000</td>\n",
       "    </tr>\n",
       "    <tr>\n",
       "      <th>mean</th>\n",
       "      <td>0.094186</td>\n",
       "      <td>0.429001</td>\n",
       "      <td>0.424121</td>\n",
       "      <td>0.962670</td>\n",
       "      <td>28.382364</td>\n",
       "      <td>0.443169</td>\n",
       "      <td>0.040571</td>\n",
       "      <td>0.296921</td>\n",
       "      <td>0.756544</td>\n",
       "      <td>0.634256</td>\n",
       "      <td>...</td>\n",
       "      <td>0.951053</td>\n",
       "      <td>0.084177</td>\n",
       "      <td>2.511392</td>\n",
       "      <td>3.184772</td>\n",
       "      <td>4.242081</td>\n",
       "      <td>0.168224</td>\n",
       "      <td>0.440342</td>\n",
       "      <td>8.032119</td>\n",
       "      <td>5.050434</td>\n",
       "      <td>6.053875</td>\n",
       "    </tr>\n",
       "    <tr>\n",
       "      <th>std</th>\n",
       "      <td>0.292087</td>\n",
       "      <td>0.494934</td>\n",
       "      <td>0.494210</td>\n",
       "      <td>0.189571</td>\n",
       "      <td>6.608694</td>\n",
       "      <td>0.496761</td>\n",
       "      <td>0.197294</td>\n",
       "      <td>0.698160</td>\n",
       "      <td>0.429169</td>\n",
       "      <td>0.481639</td>\n",
       "      <td>...</td>\n",
       "      <td>0.215759</td>\n",
       "      <td>0.277654</td>\n",
       "      <td>1.068477</td>\n",
       "      <td>7.412847</td>\n",
       "      <td>8.717951</td>\n",
       "      <td>0.374066</td>\n",
       "      <td>0.496429</td>\n",
       "      <td>3.054220</td>\n",
       "      <td>0.985774</td>\n",
       "      <td>2.071148</td>\n",
       "    </tr>\n",
       "    <tr>\n",
       "      <th>min</th>\n",
       "      <td>0.000000</td>\n",
       "      <td>0.000000</td>\n",
       "      <td>0.000000</td>\n",
       "      <td>0.000000</td>\n",
       "      <td>12.000000</td>\n",
       "      <td>0.000000</td>\n",
       "      <td>0.000000</td>\n",
       "      <td>0.000000</td>\n",
       "      <td>0.000000</td>\n",
       "      <td>0.000000</td>\n",
       "      <td>...</td>\n",
       "      <td>0.000000</td>\n",
       "      <td>0.000000</td>\n",
       "      <td>1.000000</td>\n",
       "      <td>0.000000</td>\n",
       "      <td>0.000000</td>\n",
       "      <td>0.000000</td>\n",
       "      <td>0.000000</td>\n",
       "      <td>1.000000</td>\n",
       "      <td>1.000000</td>\n",
       "      <td>1.000000</td>\n",
       "    </tr>\n",
       "    <tr>\n",
       "      <th>25%</th>\n",
       "      <td>0.000000</td>\n",
       "      <td>0.000000</td>\n",
       "      <td>0.000000</td>\n",
       "      <td>1.000000</td>\n",
       "      <td>24.000000</td>\n",
       "      <td>0.000000</td>\n",
       "      <td>0.000000</td>\n",
       "      <td>0.000000</td>\n",
       "      <td>1.000000</td>\n",
       "      <td>0.000000</td>\n",
       "      <td>...</td>\n",
       "      <td>1.000000</td>\n",
       "      <td>0.000000</td>\n",
       "      <td>2.000000</td>\n",
       "      <td>0.000000</td>\n",
       "      <td>0.000000</td>\n",
       "      <td>0.000000</td>\n",
       "      <td>0.000000</td>\n",
       "      <td>6.000000</td>\n",
       "      <td>4.000000</td>\n",
       "      <td>5.000000</td>\n",
       "    </tr>\n",
       "    <tr>\n",
       "      <th>50%</th>\n",
       "      <td>0.000000</td>\n",
       "      <td>0.000000</td>\n",
       "      <td>0.000000</td>\n",
       "      <td>1.000000</td>\n",
       "      <td>27.000000</td>\n",
       "      <td>0.000000</td>\n",
       "      <td>0.000000</td>\n",
       "      <td>0.000000</td>\n",
       "      <td>1.000000</td>\n",
       "      <td>1.000000</td>\n",
       "      <td>...</td>\n",
       "      <td>1.000000</td>\n",
       "      <td>0.000000</td>\n",
       "      <td>2.000000</td>\n",
       "      <td>0.000000</td>\n",
       "      <td>0.000000</td>\n",
       "      <td>0.000000</td>\n",
       "      <td>0.000000</td>\n",
       "      <td>8.000000</td>\n",
       "      <td>5.000000</td>\n",
       "      <td>7.000000</td>\n",
       "    </tr>\n",
       "    <tr>\n",
       "      <th>75%</th>\n",
       "      <td>0.000000</td>\n",
       "      <td>1.000000</td>\n",
       "      <td>1.000000</td>\n",
       "      <td>1.000000</td>\n",
       "      <td>31.000000</td>\n",
       "      <td>1.000000</td>\n",
       "      <td>0.000000</td>\n",
       "      <td>0.000000</td>\n",
       "      <td>1.000000</td>\n",
       "      <td>1.000000</td>\n",
       "      <td>...</td>\n",
       "      <td>1.000000</td>\n",
       "      <td>0.000000</td>\n",
       "      <td>3.000000</td>\n",
       "      <td>2.000000</td>\n",
       "      <td>3.000000</td>\n",
       "      <td>0.000000</td>\n",
       "      <td>1.000000</td>\n",
       "      <td>10.000000</td>\n",
       "      <td>6.000000</td>\n",
       "      <td>8.000000</td>\n",
       "    </tr>\n",
       "    <tr>\n",
       "      <th>max</th>\n",
       "      <td>1.000000</td>\n",
       "      <td>1.000000</td>\n",
       "      <td>1.000000</td>\n",
       "      <td>1.000000</td>\n",
       "      <td>98.000000</td>\n",
       "      <td>1.000000</td>\n",
       "      <td>1.000000</td>\n",
       "      <td>2.000000</td>\n",
       "      <td>1.000000</td>\n",
       "      <td>1.000000</td>\n",
       "      <td>...</td>\n",
       "      <td>1.000000</td>\n",
       "      <td>1.000000</td>\n",
       "      <td>5.000000</td>\n",
       "      <td>30.000000</td>\n",
       "      <td>30.000000</td>\n",
       "      <td>1.000000</td>\n",
       "      <td>1.000000</td>\n",
       "      <td>13.000000</td>\n",
       "      <td>6.000000</td>\n",
       "      <td>8.000000</td>\n",
       "    </tr>\n",
       "  </tbody>\n",
       "</table>\n",
       "<p>8 rows × 22 columns</p>\n",
       "</div>"
      ],
      "text/plain": [
       "       HeartDiseaseorAttack         HighBP       HighChol      CholCheck  \\\n",
       "count         253680.000000  253680.000000  253680.000000  253680.000000   \n",
       "mean               0.094186       0.429001       0.424121       0.962670   \n",
       "std                0.292087       0.494934       0.494210       0.189571   \n",
       "min                0.000000       0.000000       0.000000       0.000000   \n",
       "25%                0.000000       0.000000       0.000000       1.000000   \n",
       "50%                0.000000       0.000000       0.000000       1.000000   \n",
       "75%                0.000000       1.000000       1.000000       1.000000   \n",
       "max                1.000000       1.000000       1.000000       1.000000   \n",
       "\n",
       "                 BMI         Smoker         Stroke       Diabetes  \\\n",
       "count  253680.000000  253680.000000  253680.000000  253680.000000   \n",
       "mean       28.382364       0.443169       0.040571       0.296921   \n",
       "std         6.608694       0.496761       0.197294       0.698160   \n",
       "min        12.000000       0.000000       0.000000       0.000000   \n",
       "25%        24.000000       0.000000       0.000000       0.000000   \n",
       "50%        27.000000       0.000000       0.000000       0.000000   \n",
       "75%        31.000000       1.000000       0.000000       0.000000   \n",
       "max        98.000000       1.000000       1.000000       2.000000   \n",
       "\n",
       "        PhysActivity         Fruits  ...  AnyHealthcare    NoDocbcCost  \\\n",
       "count  253680.000000  253680.000000  ...  253680.000000  253680.000000   \n",
       "mean        0.756544       0.634256  ...       0.951053       0.084177   \n",
       "std         0.429169       0.481639  ...       0.215759       0.277654   \n",
       "min         0.000000       0.000000  ...       0.000000       0.000000   \n",
       "25%         1.000000       0.000000  ...       1.000000       0.000000   \n",
       "50%         1.000000       1.000000  ...       1.000000       0.000000   \n",
       "75%         1.000000       1.000000  ...       1.000000       0.000000   \n",
       "max         1.000000       1.000000  ...       1.000000       1.000000   \n",
       "\n",
       "             GenHlth       MentHlth       PhysHlth       DiffWalk  \\\n",
       "count  253680.000000  253680.000000  253680.000000  253680.000000   \n",
       "mean        2.511392       3.184772       4.242081       0.168224   \n",
       "std         1.068477       7.412847       8.717951       0.374066   \n",
       "min         1.000000       0.000000       0.000000       0.000000   \n",
       "25%         2.000000       0.000000       0.000000       0.000000   \n",
       "50%         2.000000       0.000000       0.000000       0.000000   \n",
       "75%         3.000000       2.000000       3.000000       0.000000   \n",
       "max         5.000000      30.000000      30.000000       1.000000   \n",
       "\n",
       "                 Sex            Age      Education         Income  \n",
       "count  253680.000000  253680.000000  253680.000000  253680.000000  \n",
       "mean        0.440342       8.032119       5.050434       6.053875  \n",
       "std         0.496429       3.054220       0.985774       2.071148  \n",
       "min         0.000000       1.000000       1.000000       1.000000  \n",
       "25%         0.000000       6.000000       4.000000       5.000000  \n",
       "50%         0.000000       8.000000       5.000000       7.000000  \n",
       "75%         1.000000      10.000000       6.000000       8.000000  \n",
       "max         1.000000      13.000000       6.000000       8.000000  \n",
       "\n",
       "[8 rows x 22 columns]"
      ]
     },
     "execution_count": 36,
     "metadata": {},
     "output_type": "execute_result"
    }
   ],
   "source": [
    "data_df_selected.describe()"
   ]
  },
  {
   "cell_type": "code",
   "execution_count": 37,
   "id": "eaa505c9",
   "metadata": {},
   "outputs": [],
   "source": [
    "# save to csv\n",
    "#data_df_selected.to_csv('heart_disease_health_features.csv', sep=\",\", index=False)"
   ]
  },
  {
   "cell_type": "code",
   "execution_count": null,
   "id": "a7a82a79",
   "metadata": {},
   "outputs": [],
   "source": []
  }
 ],
 "metadata": {
  "kernelspec": {
   "display_name": "Python 3 (ipykernel)",
   "language": "python",
   "name": "python3"
  },
  "language_info": {
   "codemirror_mode": {
    "name": "ipython",
    "version": 3
   },
   "file_extension": ".py",
   "mimetype": "text/x-python",
   "name": "python",
   "nbconvert_exporter": "python",
   "pygments_lexer": "ipython3",
   "version": "3.9.12"
  }
 },
 "nbformat": 4,
 "nbformat_minor": 5
}
